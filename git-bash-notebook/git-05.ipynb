{
 "cells": [
  {
   "cell_type": "markdown",
   "id": "65340e16-7e6a-4bc7-b1c7-b972e46a5851",
   "metadata": {
    "slideshow": {
     "slide_type": "slide"
    },
    "tags": []
   },
   "source": [
    "# Git 05 Exploring History"
   ]
  },
  {
   "cell_type": "markdown",
   "id": "1e375169-df9f-4a31-a306-b8073721d6f3",
   "metadata": {
    "slideshow": {
     "slide_type": "fragment"
    },
    "tags": []
   },
   "source": [
    "[course link](https://swcarpentry.github.io/git-novice/index.html)\n",
    "\n",
    "- duration: 25 mins\n",
    "- create a local `Git` repository"
   ]
  },
  {
   "cell_type": "markdown",
   "id": "f8d4e039-5d17-400b-9a9c-cd0dd63aba06",
   "metadata": {
    "slideshow": {
     "slide_type": "slide"
    },
    "tags": []
   },
   "source": [
    "### commands overview"
   ]
  },
  {
   "cell_type": "code",
   "execution_count": 1,
   "id": "b69cde3f-0e0a-4395-a22c-6f9b6cf7f099",
   "metadata": {
    "slideshow": {
     "slide_type": "skip"
    },
    "tags": []
   },
   "outputs": [
    {
     "name": "stdout",
     "output_type": "stream",
     "text": [
      "git02.sh  git03.sh  git04.sh  git05.sh  git06.sh  git07.sh  git08.sh  git09.sh\n"
     ]
    }
   ],
   "source": [
    "ls 'git'"
   ]
  },
  {
   "cell_type": "code",
   "execution_count": 2,
   "id": "119c89d3-ae0c-4bca-8126-482e1d263feb",
   "metadata": {
    "slideshow": {
     "slide_type": "subslide"
    },
    "tags": []
   },
   "outputs": [
    {
     "name": "stdout",
     "output_type": "stream",
     "text": [
      "#!/bin/sh\n",
      "git diff HEAD mars.txt\n",
      "git diff HEAD~1 mars.txt\n",
      "git diff HEAD~2 mars.txt\n",
      "git diff HEAD~3 mars.txt\n",
      "git diff <commit label> mars.txt\n",
      "git checkout HEAD mars.txt # roll back\n",
      "git checkout <commit label> mars.txt # roll back\n",
      "git checkout <commit label> # roll back\n",
      "git checkout main # reattach"
     ]
    }
   ],
   "source": [
    "cat git/git05.sh"
   ]
  },
  {
   "cell_type": "markdown",
   "id": "f2802f26-1fbf-42af-bd54-9af92a117cbb",
   "metadata": {
    "slideshow": {
     "slide_type": "slide"
    },
    "tags": []
   },
   "source": [
    "### add new changes"
   ]
  },
  {
   "cell_type": "code",
   "execution_count": 3,
   "id": "03cdbd82-5d5b-482c-b0ce-3a72b2a27f8a",
   "metadata": {
    "slideshow": {
     "slide_type": "subslide"
    },
    "tags": []
   },
   "outputs": [],
   "source": [
    "# relocate working directory\n",
    "cd ~/workshop/planets"
   ]
  },
  {
   "cell_type": "code",
   "execution_count": 4,
   "id": "7acc12c9-1f7e-4281-8b2e-cf633dc19107",
   "metadata": {
    "slideshow": {
     "slide_type": "subslide"
    },
    "tags": []
   },
   "outputs": [
    {
     "name": "stdout",
     "output_type": "stream",
     "text": [
      "/home/pi/workshop/planets\n"
     ]
    }
   ],
   "source": [
    "pwd"
   ]
  },
  {
   "cell_type": "code",
   "execution_count": 5,
   "id": "7441662c-d0a6-4794-b660-c1c900c83b1a",
   "metadata": {
    "slideshow": {
     "slide_type": "subslide"
    },
    "tags": []
   },
   "outputs": [],
   "source": [
    "echo \"An ill-considered change\" >> mars.txt"
   ]
  },
  {
   "cell_type": "code",
   "execution_count": 6,
   "id": "f2e3b07f-6efb-478d-89b0-00788ddd5dfd",
   "metadata": {
    "slideshow": {
     "slide_type": "subslide"
    },
    "tags": []
   },
   "outputs": [
    {
     "name": "stdout",
     "output_type": "stream",
     "text": [
      "Cold and dry, but everything is my favorite color\n",
      "The two moons may be a problem for Wolfman\n",
      "But the Mummy will appreciate the lack of humidity\n",
      "An ill-considered change\n"
     ]
    }
   ],
   "source": [
    "cat mars.txt"
   ]
  },
  {
   "cell_type": "code",
   "execution_count": 7,
   "id": "6a6bf4d7-9a40-4fbb-94e3-64871de89d72",
   "metadata": {
    "slideshow": {
     "slide_type": "subslide"
    },
    "tags": []
   },
   "outputs": [
    {
     "name": "stdout",
     "output_type": "stream",
     "text": [
      "On branch main\n",
      "Changes not staged for commit:\n",
      "  (use \"git add <file>...\" to update what will be committed)\n",
      "  (use \"git restore <file>...\" to discard changes in working directory)\n",
      "\tmodified:   mars.txt\n",
      "\n",
      "no changes added to commit (use \"git add\" and/or \"git commit -a\")\n"
     ]
    }
   ],
   "source": [
    "git status"
   ]
  },
  {
   "cell_type": "code",
   "execution_count": 8,
   "id": "a110fa7e-4f5d-47de-9f81-c7f24886c78a",
   "metadata": {
    "slideshow": {
     "slide_type": "subslide"
    },
    "tags": []
   },
   "outputs": [
    {
     "name": "stdout",
     "output_type": "stream",
     "text": [
      "commit a30f41960fed7c09f3a658ab3d1a2a6a85802e42 (HEAD -> main)\n",
      "Author: Zongru (Doris) Shao <zdshao.teach@gmail.com>\n",
      "Date:   Wed May 11 16:43:21 2022 +0200\n",
      "\n",
      "    Discuss concerns about Mars' climate for Mummy\n",
      "\n",
      "commit 394753defd77fff7f04501bdb9084263fb55b96b\n",
      "Author: Zongru (Doris) Shao <zdshao.teach@gmail.com>\n",
      "Date:   Wed May 11 16:43:05 2022 +0200\n",
      "\n",
      "    Add concerns about effects of Mars' moons on Wolfman\n",
      "\n",
      "commit 99266bf61361abb1fe9e38eaad75e0090dc2f240\n",
      "Author: Zongru (Doris) Shao <zdshao.teach@gmail.com>\n",
      "Date:   Wed May 11 16:42:25 2022 +0200\n",
      "\n",
      "    Start notes on Mars as a base\n"
     ]
    }
   ],
   "source": [
    "git log"
   ]
  },
  {
   "cell_type": "code",
   "execution_count": 9,
   "id": "72fd13b4-131d-43ac-8b9c-b6d48248ad5c",
   "metadata": {
    "slideshow": {
     "slide_type": "subslide"
    },
    "tags": []
   },
   "outputs": [
    {
     "name": "stdout",
     "output_type": "stream",
     "text": [
      "a30f419 (HEAD -> main) Discuss concerns about Mars' climate for Mummy\n",
      "394753d Add concerns about effects of Mars' moons on Wolfman\n",
      "99266bf Start notes on Mars as a base\n"
     ]
    }
   ],
   "source": [
    "git log --oneline"
   ]
  },
  {
   "cell_type": "code",
   "execution_count": 10,
   "id": "3aa73241-7f5e-400b-963b-db2b66143ac8",
   "metadata": {
    "slideshow": {
     "slide_type": "subslide"
    },
    "tags": []
   },
   "outputs": [
    {
     "name": "stdout",
     "output_type": "stream",
     "text": [
      "* a30f419 (HEAD -> main) Discuss concerns about Mars' climate for Mummy\n",
      "* 394753d Add concerns about effects of Mars' moons on Wolfman\n",
      "* 99266bf Start notes on Mars as a base\n"
     ]
    }
   ],
   "source": [
    "git log --oneline --graph"
   ]
  },
  {
   "cell_type": "markdown",
   "id": "c1bb2a03-9404-4f33-8c93-0a97ed27370e",
   "metadata": {
    "slideshow": {
     "slide_type": "slide"
    },
    "tags": []
   },
   "source": [
    "### check differences from last commit"
   ]
  },
  {
   "cell_type": "code",
   "execution_count": 11,
   "id": "30e78c95-8c73-4c60-9bd5-434ed1045ffa",
   "metadata": {
    "slideshow": {
     "slide_type": "subslide"
    },
    "tags": []
   },
   "outputs": [
    {
     "name": "stdout",
     "output_type": "stream",
     "text": [
      "diff --git a/mars.txt b/mars.txt\n",
      "index b36abfd..93a3e13 100644\n",
      "--- a/mars.txt\n",
      "+++ b/mars.txt\n",
      "@@ -1,3 +1,4 @@\n",
      " Cold and dry, but everything is my favorite color\n",
      " The two moons may be a problem for Wolfman\n",
      " But the Mummy will appreciate the lack of humidity\n",
      "+An ill-considered change\n"
     ]
    }
   ],
   "source": [
    "git diff HEAD mars.txt"
   ]
  },
  {
   "cell_type": "code",
   "execution_count": 12,
   "id": "3614eed4-022b-467d-b27e-026d4bcf217b",
   "metadata": {
    "slideshow": {
     "slide_type": "subslide"
    },
    "tags": []
   },
   "outputs": [
    {
     "name": "stdout",
     "output_type": "stream",
     "text": [
      "diff --git a/mars.txt b/mars.txt\n",
      "index 315bf3a..93a3e13 100644\n",
      "--- a/mars.txt\n",
      "+++ b/mars.txt\n",
      "@@ -1,2 +1,4 @@\n",
      " Cold and dry, but everything is my favorite color\n",
      " The two moons may be a problem for Wolfman\n",
      "+But the Mummy will appreciate the lack of humidity\n",
      "+An ill-considered change\n"
     ]
    }
   ],
   "source": [
    "git diff HEAD~1 mars.txt"
   ]
  },
  {
   "cell_type": "code",
   "execution_count": 13,
   "id": "fffd93ce-01cc-43cb-a37e-f975dbdd7f17",
   "metadata": {
    "slideshow": {
     "slide_type": "subslide"
    },
    "tags": []
   },
   "outputs": [
    {
     "name": "stdout",
     "output_type": "stream",
     "text": [
      "diff --git a/mars.txt b/mars.txt\n",
      "index df0654a..93a3e13 100644\n",
      "--- a/mars.txt\n",
      "+++ b/mars.txt\n",
      "@@ -1 +1,4 @@\n",
      " Cold and dry, but everything is my favorite color\n",
      "+The two moons may be a problem for Wolfman\n",
      "+But the Mummy will appreciate the lack of humidity\n",
      "+An ill-considered change\n"
     ]
    }
   ],
   "source": [
    "git diff HEAD~2 mars.txt"
   ]
  },
  {
   "cell_type": "code",
   "execution_count": 14,
   "id": "6e15712e-2c5e-424d-a8bf-b54e994a1cf5",
   "metadata": {
    "slideshow": {
     "slide_type": "subslide"
    },
    "tags": []
   },
   "outputs": [
    {
     "name": "stdout",
     "output_type": "stream",
     "text": [
      "fatal: ambiguous argument 'HEAD~3': unknown revision or path not in the working tree.\n",
      "Use '--' to separate paths from revisions, like this:\n",
      "'git <command> [<revision>...] -- [<file>...]'\n"
     ]
    },
    {
     "ename": "",
     "evalue": "128",
     "output_type": "error",
     "traceback": []
    }
   ],
   "source": [
    "git diff HEAD~3 mars.txt"
   ]
  },
  {
   "cell_type": "code",
   "execution_count": 15,
   "id": "1feec2be-80ab-4523-a0b5-be5417bb67e8",
   "metadata": {
    "slideshow": {
     "slide_type": "subslide"
    },
    "tags": []
   },
   "outputs": [
    {
     "name": "stdout",
     "output_type": "stream",
     "text": [
      "commit 99266bf61361abb1fe9e38eaad75e0090dc2f240\n",
      "Author: Zongru (Doris) Shao <zdshao.teach@gmail.com>\n",
      "Date:   Wed May 11 16:42:25 2022 +0200\n",
      "\n",
      "    Start notes on Mars as a base\n",
      "\n",
      "diff --git a/mars.txt b/mars.txt\n",
      "new file mode 100644\n",
      "index 0000000..df0654a\n",
      "--- /dev/null\n",
      "+++ b/mars.txt\n",
      "@@ -0,0 +1 @@\n",
      "+Cold and dry, but everything is my favorite color\n"
     ]
    }
   ],
   "source": [
    "git show HEAD~2 mars.txt"
   ]
  },
  {
   "cell_type": "markdown",
   "id": "4437183f-5971-4510-a5c7-38164931d42c",
   "metadata": {
    "slideshow": {
     "slide_type": "subslide"
    },
    "tags": []
   },
   "source": [
    "`HEAD` explained\n",
    "\n",
    "[](https://swcarpentry.github.io/git-novice/fig/git-checkout.svg)"
   ]
  },
  {
   "cell_type": "markdown",
   "id": "96310590-6c1a-409d-9e6c-567dc00a4b7a",
   "metadata": {
    "slideshow": {
     "slide_type": "subslide"
    },
    "tags": []
   },
   "source": [
    "the versioning system in `Git`\n",
    "\n",
    "[](https://swcarpentry.github.io/git-novice/fig/git_staging.svg)"
   ]
  },
  {
   "cell_type": "code",
   "execution_count": 16,
   "id": "1e1f4f68-bf22-4791-8184-508082f2587c",
   "metadata": {
    "slideshow": {
     "slide_type": "subslide"
    },
    "tags": []
   },
   "outputs": [
    {
     "name": "stdout",
     "output_type": "stream",
     "text": [
      "commit a30f41960fed7c09f3a658ab3d1a2a6a85802e42 (HEAD -> main)\n",
      "Author: Zongru (Doris) Shao <zdshao.teach@gmail.com>\n",
      "Date:   Wed May 11 16:43:21 2022 +0200\n",
      "\n",
      "    Discuss concerns about Mars' climate for Mummy\n",
      "\n",
      "commit 394753defd77fff7f04501bdb9084263fb55b96b\n",
      "Author: Zongru (Doris) Shao <zdshao.teach@gmail.com>\n",
      "Date:   Wed May 11 16:43:05 2022 +0200\n",
      "\n",
      "    Add concerns about effects of Mars' moons on Wolfman\n",
      "\n",
      "commit 99266bf61361abb1fe9e38eaad75e0090dc2f240\n",
      "Author: Zongru (Doris) Shao <zdshao.teach@gmail.com>\n",
      "Date:   Wed May 11 16:42:25 2022 +0200\n",
      "\n",
      "    Start notes on Mars as a base\n"
     ]
    }
   ],
   "source": [
    "git log"
   ]
  },
  {
   "cell_type": "code",
   "execution_count": 17,
   "id": "ac4d8fdc-dcaa-4199-a306-917aaa9fd4f3",
   "metadata": {
    "slideshow": {
     "slide_type": "subslide"
    },
    "tags": []
   },
   "outputs": [
    {
     "name": "stdout",
     "output_type": "stream",
     "text": [
      "fatal: bad object efba9783de5522bd295808662190805826f0a110\n"
     ]
    },
    {
     "ename": "",
     "evalue": "128",
     "output_type": "error",
     "traceback": []
    }
   ],
   "source": [
    "git diff efba9783de5522bd295808662190805826f0a110 mars.txt"
   ]
  },
  {
   "cell_type": "code",
   "execution_count": 18,
   "id": "51461542-ed3a-4d08-83f9-2cc0bfd17b93",
   "metadata": {
    "slideshow": {
     "slide_type": "subslide"
    },
    "tags": []
   },
   "outputs": [
    {
     "name": "stdout",
     "output_type": "stream",
     "text": [
      "fatal: ambiguous argument 'efba978': unknown revision or path not in the working tree.\n",
      "Use '--' to separate paths from revisions, like this:\n",
      "'git <command> [<revision>...] -- [<file>...]'\n"
     ]
    },
    {
     "ename": "",
     "evalue": "128",
     "output_type": "error",
     "traceback": []
    }
   ],
   "source": [
    "git diff efba978 mars.txt"
   ]
  },
  {
   "cell_type": "code",
   "execution_count": 19,
   "id": "1a9db9b2-df34-401b-846e-cd7ec1d37c1f",
   "metadata": {
    "slideshow": {
     "slide_type": "subslide"
    },
    "tags": []
   },
   "outputs": [
    {
     "name": "stdout",
     "output_type": "stream",
     "text": [
      "fatal: ambiguous argument '2473024': unknown revision or path not in the working tree.\n",
      "Use '--' to separate paths from revisions, like this:\n",
      "'git <command> [<revision>...] -- [<file>...]'\n"
     ]
    },
    {
     "ename": "",
     "evalue": "128",
     "output_type": "error",
     "traceback": []
    }
   ],
   "source": [
    "git diff 2473024 mars.txt"
   ]
  },
  {
   "cell_type": "markdown",
   "id": "4386b4bd-a1ac-4435-940b-4afd3934e6cd",
   "metadata": {
    "slideshow": {
     "slide_type": "slide"
    },
    "tags": []
   },
   "source": [
    "### roll back changes: checkout past `HEAD` / return to `main`"
   ]
  },
  {
   "cell_type": "code",
   "execution_count": 20,
   "id": "e572d05a-365e-4744-9d36-258c87ab6970",
   "metadata": {
    "slideshow": {
     "slide_type": "subslide"
    },
    "tags": []
   },
   "outputs": [
    {
     "name": "stdout",
     "output_type": "stream",
     "text": [
      "On branch main\n",
      "Changes not staged for commit:\n",
      "  (use \"git add <file>...\" to update what will be committed)\n",
      "  (use \"git restore <file>...\" to discard changes in working directory)\n",
      "\tmodified:   mars.txt\n",
      "\n",
      "no changes added to commit (use \"git add\" and/or \"git commit -a\")\n"
     ]
    }
   ],
   "source": [
    "git status"
   ]
  },
  {
   "cell_type": "code",
   "execution_count": 21,
   "id": "35256c76-4d7e-4d9a-bff1-f2fa873e0b4e",
   "metadata": {
    "slideshow": {
     "slide_type": "subslide"
    },
    "tags": []
   },
   "outputs": [
    {
     "name": "stdout",
     "output_type": "stream",
     "text": [
      "commit a30f41960fed7c09f3a658ab3d1a2a6a85802e42 (HEAD -> main)\n",
      "Author: Zongru (Doris) Shao <zdshao.teach@gmail.com>\n",
      "Date:   Wed May 11 16:43:21 2022 +0200\n",
      "\n",
      "    Discuss concerns about Mars' climate for Mummy\n",
      "\n",
      "commit 394753defd77fff7f04501bdb9084263fb55b96b\n",
      "Author: Zongru (Doris) Shao <zdshao.teach@gmail.com>\n",
      "Date:   Wed May 11 16:43:05 2022 +0200\n",
      "\n",
      "    Add concerns about effects of Mars' moons on Wolfman\n",
      "\n",
      "commit 99266bf61361abb1fe9e38eaad75e0090dc2f240\n",
      "Author: Zongru (Doris) Shao <zdshao.teach@gmail.com>\n",
      "Date:   Wed May 11 16:42:25 2022 +0200\n",
      "\n",
      "    Start notes on Mars as a base\n"
     ]
    }
   ],
   "source": [
    "git log"
   ]
  },
  {
   "cell_type": "code",
   "execution_count": 22,
   "id": "84b8c38e-d43d-4504-b939-2850e3521028",
   "metadata": {
    "slideshow": {
     "slide_type": "subslide"
    },
    "tags": []
   },
   "outputs": [
    {
     "name": "stdout",
     "output_type": "stream",
     "text": [
      "error: pathspec 'efba978' did not match any file(s) known to git\n"
     ]
    },
    {
     "ename": "",
     "evalue": "1",
     "output_type": "error",
     "traceback": []
    }
   ],
   "source": [
    "git checkout efba978 mars.txt"
   ]
  },
  {
   "cell_type": "code",
   "execution_count": 23,
   "id": "117f32e0-f4ad-44d2-bc98-cf671bf3e436",
   "metadata": {
    "slideshow": {
     "slide_type": "subslide"
    },
    "tags": []
   },
   "outputs": [
    {
     "name": "stdout",
     "output_type": "stream",
     "text": [
      "Cold and dry, but everything is my favorite color\n",
      "The two moons may be a problem for Wolfman\n",
      "But the Mummy will appreciate the lack of humidity\n",
      "An ill-considered change\n"
     ]
    }
   ],
   "source": [
    "cat mars.txt"
   ]
  },
  {
   "cell_type": "code",
   "execution_count": 24,
   "id": "1601f919-0e06-4042-a2c7-0b4604e0bfb0",
   "metadata": {
    "slideshow": {
     "slide_type": "subslide"
    },
    "tags": []
   },
   "outputs": [
    {
     "name": "stdout",
     "output_type": "stream",
     "text": [
      "Updated 1 path from 6573bcb\n"
     ]
    }
   ],
   "source": [
    "git checkout HEAD mars.txt"
   ]
  },
  {
   "cell_type": "code",
   "execution_count": 25,
   "id": "37235f9a-048f-445f-af7f-ea4a62933e38",
   "metadata": {
    "slideshow": {
     "slide_type": "subslide"
    },
    "tags": []
   },
   "outputs": [
    {
     "name": "stdout",
     "output_type": "stream",
     "text": [
      "Cold and dry, but everything is my favorite color\n",
      "The two moons may be a problem for Wolfman\n",
      "But the Mummy will appreciate the lack of humidity\n"
     ]
    }
   ],
   "source": [
    "cat mars.txt"
   ]
  },
  {
   "cell_type": "code",
   "execution_count": 26,
   "id": "14fb0072-b560-4810-af15-d211887bb8f4",
   "metadata": {
    "slideshow": {
     "slide_type": "subslide"
    },
    "tags": []
   },
   "outputs": [
    {
     "name": "stdout",
     "output_type": "stream",
     "text": [
      "Updated 1 path from 5ed8d08\n"
     ]
    }
   ],
   "source": [
    "git checkout HEAD~1 mars.txt"
   ]
  },
  {
   "cell_type": "code",
   "execution_count": 27,
   "id": "65763f46-2421-495d-9ef7-80e7cc1adf0c",
   "metadata": {
    "slideshow": {
     "slide_type": "subslide"
    },
    "tags": []
   },
   "outputs": [
    {
     "name": "stdout",
     "output_type": "stream",
     "text": [
      "Cold and dry, but everything is my favorite color\n",
      "The two moons may be a problem for Wolfman\n"
     ]
    }
   ],
   "source": [
    "cat mars.txt"
   ]
  },
  {
   "cell_type": "code",
   "execution_count": 28,
   "id": "8417746f-b136-4827-8aca-20f89d05b519",
   "metadata": {
    "slideshow": {
     "slide_type": "subslide"
    },
    "tags": []
   },
   "outputs": [
    {
     "name": "stdout",
     "output_type": "stream",
     "text": [
      "Updated 1 path from 6573bcb\n"
     ]
    }
   ],
   "source": [
    "git checkout HEAD mars.txt"
   ]
  },
  {
   "cell_type": "code",
   "execution_count": 29,
   "id": "3c33e2bb-a8fc-4f45-8acb-7b4f25c6153d",
   "metadata": {
    "slideshow": {
     "slide_type": "subslide"
    },
    "tags": []
   },
   "outputs": [
    {
     "name": "stdout",
     "output_type": "stream",
     "text": [
      "Cold and dry, but everything is my favorite color\n",
      "The two moons may be a problem for Wolfman\n",
      "But the Mummy will appreciate the lack of humidity\n"
     ]
    }
   ],
   "source": [
    "cat mars.txt"
   ]
  },
  {
   "cell_type": "code",
   "execution_count": 30,
   "id": "e18f5187-f557-40be-972f-63ba1c2d7e05",
   "metadata": {
    "slideshow": {
     "slide_type": "subslide"
    },
    "tags": []
   },
   "outputs": [],
   "source": [
    "git checkout HEAD"
   ]
  },
  {
   "cell_type": "code",
   "execution_count": 31,
   "id": "5f902ec2-81f4-40fa-b0a1-0a010139d615",
   "metadata": {
    "slideshow": {
     "slide_type": "subslide"
    },
    "tags": []
   },
   "outputs": [
    {
     "name": "stdout",
     "output_type": "stream",
     "text": [
      "Note: switching to 'HEAD~1'.\n",
      "\n",
      "You are in 'detached HEAD' state. You can look around, make experimental\n",
      "changes and commit them, and you can discard any commits you make in this\n",
      "state without impacting any branches by switching back to a branch.\n",
      "\n",
      "If you want to create a new branch to retain commits you create, you may\n",
      "do so (now or later) by using -c with the switch command. Example:\n",
      "\n",
      "  git switch -c <new-branch-name>\n",
      "\n",
      "Or undo this operation with:\n",
      "\n",
      "  git switch -\n",
      "\n",
      "Turn off this advice by setting config variable advice.detachedHead to false\n",
      "\n",
      "HEAD is now at 394753d Add concerns about effects of Mars' moons on Wolfman\n"
     ]
    }
   ],
   "source": [
    "git checkout HEAD~1"
   ]
  },
  {
   "cell_type": "code",
   "execution_count": 32,
   "id": "3a3bb815-f6d8-4f39-b696-9b09e4f1a2c6",
   "metadata": {
    "slideshow": {
     "slide_type": "subslide"
    },
    "tags": []
   },
   "outputs": [
    {
     "name": "stdout",
     "output_type": "stream",
     "text": [
      "commit 394753defd77fff7f04501bdb9084263fb55b96b (HEAD)\n",
      "Author: Zongru (Doris) Shao <zdshao.teach@gmail.com>\n",
      "Date:   Wed May 11 16:43:05 2022 +0200\n",
      "\n",
      "    Add concerns about effects of Mars' moons on Wolfman\n",
      "\n",
      "commit 99266bf61361abb1fe9e38eaad75e0090dc2f240\n",
      "Author: Zongru (Doris) Shao <zdshao.teach@gmail.com>\n",
      "Date:   Wed May 11 16:42:25 2022 +0200\n",
      "\n",
      "    Start notes on Mars as a base\n"
     ]
    }
   ],
   "source": [
    "git log"
   ]
  },
  {
   "cell_type": "code",
   "execution_count": 33,
   "id": "f43df40e-87f4-4ac5-acf3-edab67c17f78",
   "metadata": {
    "slideshow": {
     "slide_type": "subslide"
    },
    "tags": []
   },
   "outputs": [],
   "source": [
    "git checkout HEAD"
   ]
  },
  {
   "cell_type": "code",
   "execution_count": 34,
   "id": "92d04b30-b293-4e81-91b4-5fe6ce3521b4",
   "metadata": {
    "slideshow": {
     "slide_type": "subslide"
    },
    "tags": []
   },
   "outputs": [
    {
     "name": "stdout",
     "output_type": "stream",
     "text": [
      "commit 394753defd77fff7f04501bdb9084263fb55b96b (HEAD)\n",
      "Author: Zongru (Doris) Shao <zdshao.teach@gmail.com>\n",
      "Date:   Wed May 11 16:43:05 2022 +0200\n",
      "\n",
      "    Add concerns about effects of Mars' moons on Wolfman\n",
      "\n",
      "commit 99266bf61361abb1fe9e38eaad75e0090dc2f240\n",
      "Author: Zongru (Doris) Shao <zdshao.teach@gmail.com>\n",
      "Date:   Wed May 11 16:42:25 2022 +0200\n",
      "\n",
      "    Start notes on Mars as a base\n"
     ]
    }
   ],
   "source": [
    "git log"
   ]
  },
  {
   "cell_type": "code",
   "execution_count": 35,
   "id": "79658b08-5ec6-405b-8618-09db028d3d5e",
   "metadata": {
    "slideshow": {
     "slide_type": "subslide"
    },
    "tags": []
   },
   "outputs": [
    {
     "name": "stdout",
     "output_type": "stream",
     "text": [
      "Previous HEAD position was 394753d Add concerns about effects of Mars' moons on Wolfman\n",
      "HEAD is now at 99266bf Start notes on Mars as a base\n"
     ]
    }
   ],
   "source": [
    "git checkout HEAD~1"
   ]
  },
  {
   "cell_type": "code",
   "execution_count": 36,
   "id": "608f1898-b7b1-4d8c-87fa-681e962b3429",
   "metadata": {
    "slideshow": {
     "slide_type": "subslide"
    },
    "tags": []
   },
   "outputs": [
    {
     "name": "stdout",
     "output_type": "stream",
     "text": [
      "commit 99266bf61361abb1fe9e38eaad75e0090dc2f240 (HEAD)\n",
      "Author: Zongru (Doris) Shao <zdshao.teach@gmail.com>\n",
      "Date:   Wed May 11 16:42:25 2022 +0200\n",
      "\n",
      "    Start notes on Mars as a base\n"
     ]
    }
   ],
   "source": [
    "git log"
   ]
  },
  {
   "cell_type": "code",
   "execution_count": 37,
   "id": "27107e9b-c581-42a4-9bd6-4a412c8d2e4a",
   "metadata": {
    "slideshow": {
     "slide_type": "subslide"
    },
    "tags": []
   },
   "outputs": [
    {
     "name": "stdout",
     "output_type": "stream",
     "text": [
      "Cold and dry, but everything is my favorite color\n"
     ]
    }
   ],
   "source": [
    "cat mars.txt"
   ]
  },
  {
   "cell_type": "markdown",
   "id": "94bf53a9-a428-447e-922f-d8a3ddc0e58c",
   "metadata": {
    "slideshow": {
     "slide_type": "subslide"
    },
    "tags": []
   },
   "source": [
    "> return to the most recent changed commit"
   ]
  },
  {
   "cell_type": "code",
   "execution_count": 38,
   "id": "84231a0c-ffe8-429a-bd5b-298e2cba46d9",
   "metadata": {
    "slideshow": {
     "slide_type": "subslide"
    },
    "tags": []
   },
   "outputs": [
    {
     "name": "stdout",
     "output_type": "stream",
     "text": [
      "Previous HEAD position was 99266bf Start notes on Mars as a base\n",
      "Switched to branch 'main'\n"
     ]
    }
   ],
   "source": [
    "git checkout main"
   ]
  },
  {
   "cell_type": "code",
   "execution_count": 39,
   "id": "1a9c58c1-0853-4b50-bd45-db4d2d852152",
   "metadata": {
    "slideshow": {
     "slide_type": "subslide"
    },
    "tags": []
   },
   "outputs": [
    {
     "name": "stdout",
     "output_type": "stream",
     "text": [
      "Cold and dry, but everything is my favorite color\n",
      "The two moons may be a problem for Wolfman\n",
      "But the Mummy will appreciate the lack of humidity\n"
     ]
    }
   ],
   "source": [
    "cat mars.txt"
   ]
  },
  {
   "cell_type": "code",
   "execution_count": 40,
   "id": "f7681266-4009-411f-bb84-6174001d3e52",
   "metadata": {
    "slideshow": {
     "slide_type": "subslide"
    },
    "tags": []
   },
   "outputs": [
    {
     "name": "stdout",
     "output_type": "stream",
     "text": [
      "commit a30f41960fed7c09f3a658ab3d1a2a6a85802e42 (HEAD -> main)\n",
      "Author: Zongru (Doris) Shao <zdshao.teach@gmail.com>\n",
      "Date:   Wed May 11 16:43:21 2022 +0200\n",
      "\n",
      "    Discuss concerns about Mars' climate for Mummy\n",
      "\n",
      "commit 394753defd77fff7f04501bdb9084263fb55b96b\n",
      "Author: Zongru (Doris) Shao <zdshao.teach@gmail.com>\n",
      "Date:   Wed May 11 16:43:05 2022 +0200\n",
      "\n",
      "    Add concerns about effects of Mars' moons on Wolfman\n",
      "\n",
      "commit 99266bf61361abb1fe9e38eaad75e0090dc2f240\n",
      "Author: Zongru (Doris) Shao <zdshao.teach@gmail.com>\n",
      "Date:   Wed May 11 16:42:25 2022 +0200\n",
      "\n",
      "    Start notes on Mars as a base\n"
     ]
    }
   ],
   "source": [
    "git log"
   ]
  }
 ],
 "metadata": {
  "kernelspec": {
   "display_name": "Bash",
   "language": "bash",
   "name": "bash"
  },
  "language_info": {
   "codemirror_mode": "shell",
   "file_extension": ".sh",
   "mimetype": "text/x-sh",
   "name": "bash"
  }
 },
 "nbformat": 4,
 "nbformat_minor": 5
}
