{
 "cells": [
  {
   "cell_type": "markdown",
   "id": "65340e16-7e6a-4bc7-b1c7-b972e46a5851",
   "metadata": {
    "slideshow": {
     "slide_type": "slide"
    },
    "tags": []
   },
   "source": [
    "# Git 08 Collaborating"
   ]
  },
  {
   "cell_type": "markdown",
   "id": "1e375169-df9f-4a31-a306-b8073721d6f3",
   "metadata": {
    "slideshow": {
     "slide_type": "fragment"
    },
    "tags": []
   },
   "source": [
    "[course link](https://swcarpentry.github.io/git-novice/index.html)\n",
    "\n",
    "- duration: 25 mins\n",
    "- create a local `Git` repository"
   ]
  },
  {
   "cell_type": "markdown",
   "id": "f8d4e039-5d17-400b-9a9c-cd0dd63aba06",
   "metadata": {
    "slideshow": {
     "slide_type": "skip"
    },
    "tags": []
   },
   "source": [
    "### commands overview"
   ]
  },
  {
   "cell_type": "code",
   "execution_count": null,
   "id": "b69cde3f-0e0a-4395-a22c-6f9b6cf7f099",
   "metadata": {
    "slideshow": {
     "slide_type": "skip"
    },
    "tags": []
   },
   "outputs": [],
   "source": [
    "ls 'git'"
   ]
  },
  {
   "cell_type": "code",
   "execution_count": 1,
   "id": "119c89d3-ae0c-4bca-8126-482e1d263feb",
   "metadata": {
    "slideshow": {
     "slide_type": "skip"
    },
    "tags": []
   },
   "outputs": [
    {
     "name": "stdout",
     "output_type": "stream",
     "text": [
      "#!/bin/sh\n",
      "# collaborate on Github\n",
      "git push origin main\n",
      "git pull origin main\n",
      "git log --oneline\n",
      "git log --oneline --graph"
     ]
    }
   ],
   "source": [
    "cat git/git08.sh"
   ]
  },
  {
   "cell_type": "markdown",
   "id": "50fab241-5973-483a-b529-df6d02edce59",
   "metadata": {
    "slideshow": {
     "slide_type": "slide"
    },
    "tags": []
   },
   "source": [
    "### Setup\n",
    "\n",
    "- pair with a collaborator\n",
    "- add your collaborator on `Github`\n",
    "- clone your collaborator's repository"
   ]
  },
  {
   "cell_type": "markdown",
   "id": "f2802f26-1fbf-42af-bd54-9af92a117cbb",
   "metadata": {
    "slideshow": {
     "slide_type": "slide"
    },
    "tags": []
   },
   "source": [
    "### clone a remote `Git` repository"
   ]
  },
  {
   "cell_type": "code",
   "execution_count": 2,
   "id": "03cdbd82-5d5b-482c-b0ce-3a72b2a27f8a",
   "metadata": {
    "slideshow": {
     "slide_type": "subslide"
    },
    "tags": []
   },
   "outputs": [],
   "source": [
    "# relocate directory \n",
    "# works under jupyter, \n",
    "# replace this block with bash in terminal\n",
    "import os, os.path, shutil\n",
    "target_folder = os.path.join(\n",
    "    os.path.expanduser('~'), \n",
    "    'workshop/planets'\n",
    ")\n",
    "if os.path.exists(target_folder):\n",
    "    shutil.rmtree(target_folder)\n",
    "os.makedirs(target_folder, exist_ok=True)\n",
    "os.chdir(os.path.dirname(target_folder))"
   ]
  },
  {
   "cell_type": "code",
   "execution_count": 3,
   "id": "7acc12c9-1f7e-4281-8b2e-cf633dc19107",
   "metadata": {
    "slideshow": {
     "slide_type": "subslide"
    },
    "tags": []
   },
   "outputs": [
    {
     "name": "stdout",
     "output_type": "stream",
     "text": [
      "/Users/doris/workshop\n"
     ]
    }
   ],
   "source": [
    "pwd"
   ]
  },
  {
   "cell_type": "code",
   "execution_count": 4,
   "id": "7441662c-d0a6-4794-b660-c1c900c83b1a",
   "metadata": {
    "slideshow": {
     "slide_type": "subslide"
    },
    "tags": []
   },
   "outputs": [
    {
     "name": "stdout",
     "output_type": "stream",
     "text": [
      "Cloning into 'planets'...\n",
      "remote: Enumerating objects: 3, done.\u001b[K\n",
      "remote: Counting objects: 100% (3/3), done.\u001b[K\n",
      "remote: Compressing objects: 100% (2/2), done.\u001b[K\n",
      "remote: Total 3 (delta 0), reused 3 (delta 0), pack-reused 0\u001b[K\n",
      "Receiving objects: 100% (3/3), done.\n"
     ]
    }
   ],
   "source": [
    "git clone https://github.com/zdshaoteach/test.git planets"
   ]
  },
  {
   "cell_type": "code",
   "execution_count": 5,
   "id": "f2e3b07f-6efb-478d-89b0-00788ddd5dfd",
   "metadata": {
    "slideshow": {
     "slide_type": "subslide"
    },
    "tags": []
   },
   "outputs": [],
   "source": [
    "os.chdir(target_folder)"
   ]
  },
  {
   "cell_type": "code",
   "execution_count": 6,
   "id": "6a6bf4d7-9a40-4fbb-94e3-64871de89d72",
   "metadata": {
    "slideshow": {
     "slide_type": "subslide"
    },
    "tags": []
   },
   "outputs": [
    {
     "name": "stdout",
     "output_type": "stream",
     "text": [
      "/Users/doris/workshop/planets\n"
     ]
    }
   ],
   "source": [
    "pwd"
   ]
  },
  {
   "cell_type": "code",
   "execution_count": 7,
   "id": "d3f499a6-3ac2-4725-afd7-31c79e97a666",
   "metadata": {
    "slideshow": {
     "slide_type": "subslide"
    },
    "tags": []
   },
   "outputs": [
    {
     "name": "stdout",
     "output_type": "stream",
     "text": [
      "\u001b[34m.\u001b[m\u001b[m        \u001b[34m..\u001b[m\u001b[m       \u001b[34m.git\u001b[m\u001b[m     mars.txt\n"
     ]
    }
   ],
   "source": [
    "ls -a"
   ]
  },
  {
   "cell_type": "code",
   "execution_count": 8,
   "id": "d23adc65-be79-4d29-ad51-039870bf9219",
   "metadata": {
    "slideshow": {
     "slide_type": "subslide"
    },
    "tags": []
   },
   "outputs": [
    {
     "name": "stdout",
     "output_type": "stream",
     "text": [
      "On branch main\n",
      "Your branch is up to date with 'origin/main'.\n",
      "\n",
      "nothing to commit, working tree clean\n"
     ]
    }
   ],
   "source": [
    "git status"
   ]
  },
  {
   "cell_type": "markdown",
   "id": "c1bb2a03-9404-4f33-8c93-0a97ed27370e",
   "metadata": {
    "slideshow": {
     "slide_type": "slide"
    },
    "tags": []
   },
   "source": [
    "### create a new file under the repository"
   ]
  },
  {
   "cell_type": "code",
   "execution_count": 9,
   "id": "30e78c95-8c73-4c60-9bd5-434ed1045ffa",
   "metadata": {
    "slideshow": {
     "slide_type": "subslide"
    },
    "tags": []
   },
   "outputs": [],
   "source": [
    "echo \"It is so a planet\" > pluto.txt"
   ]
  },
  {
   "cell_type": "code",
   "execution_count": 10,
   "id": "bf23d4c2-ddc3-40f1-b4eb-0002bc57be4e",
   "metadata": {
    "slideshow": {
     "slide_type": "subslide"
    },
    "tags": []
   },
   "outputs": [
    {
     "name": "stdout",
     "output_type": "stream",
     "text": [
      "It is so a planet!\n"
     ]
    }
   ],
   "source": [
    "cat pluto.txt"
   ]
  },
  {
   "cell_type": "code",
   "execution_count": 11,
   "id": "b2deeec9-0f26-4a0e-a0a1-1755992180d7",
   "metadata": {
    "slideshow": {
     "slide_type": "subslide"
    },
    "tags": []
   },
   "outputs": [
    {
     "name": "stdout",
     "output_type": "stream",
     "text": [
      "\u001b[34m.\u001b[m\u001b[m         \u001b[34m..\u001b[m\u001b[m        \u001b[34m.git\u001b[m\u001b[m      mars.txt  pluto.txt\n"
     ]
    }
   ],
   "source": [
    "ls -a"
   ]
  },
  {
   "cell_type": "code",
   "execution_count": 12,
   "id": "a6c2877d-e19f-48e2-b9d4-f8620a985aff",
   "metadata": {
    "slideshow": {
     "slide_type": "subslide"
    },
    "tags": []
   },
   "outputs": [
    {
     "name": "stdout",
     "output_type": "stream",
     "text": [
      "[main 38bd5b3] Add notes about Pluto\n",
      " 1 file changed, 1 insertion(+)\n",
      " create mode 100644 pluto.txt\n"
     ]
    }
   ],
   "source": [
    "git add pluto.txt\n",
    "git commit -m \"Add notes about Pluto\""
   ]
  },
  {
   "cell_type": "code",
   "execution_count": 13,
   "id": "a16d58de-cbb3-4582-a930-481b28e98031",
   "metadata": {
    "slideshow": {
     "slide_type": "subslide"
    },
    "tags": []
   },
   "outputs": [
    {
     "name": "stdout",
     "output_type": "stream",
     "text": [
      "Enumerating objects: 4, done.\n",
      "Counting objects: 100% (4/4), done.\n",
      "Delta compression using up to 8 threads\n",
      "Compressing objects: 100% (2/2), done.\n",
      "Writing objects: 100% (3/3), 316 bytes | 316.00 KiB/s, done.\n",
      "Total 3 (delta 0), reused 0 (delta 0), pack-reused 0\n",
      "To https://github.com/zdshaoteach/test.git\n",
      "   1871851..38bd5b3  main -> main\n"
     ]
    }
   ],
   "source": [
    "git push origin main"
   ]
  },
  {
   "cell_type": "markdown",
   "id": "4386b4bd-a1ac-4435-940b-4afd3934e6cd",
   "metadata": {
    "slideshow": {
     "slide_type": "slide"
    },
    "tags": []
   },
   "source": [
    "### exercise: Switch Roles and Repeat *editing* the repository"
   ]
  },
  {
   "cell_type": "markdown",
   "id": "d5226c5b-c416-4b6a-83a4-e88ad5e1c0fb",
   "metadata": {
    "slideshow": {
     "slide_type": "slide"
    },
    "tags": []
   },
   "source": [
    "### exercise: review the changes"
   ]
  },
  {
   "cell_type": "code",
   "execution_count": 14,
   "id": "14fb0072-b560-4810-af15-d211887bb8f4",
   "metadata": {
    "slideshow": {
     "slide_type": "subslide"
    },
    "tags": []
   },
   "outputs": [
    {
     "name": "stdout",
     "output_type": "stream",
     "text": [
      "\u001b[33mcommit 38bd5b385bdb246ad4d82ba0393e625841c37202\u001b[m\u001b[33m (\u001b[m\u001b[1;36mHEAD -> \u001b[m\u001b[1;32mmain\u001b[m\u001b[33m, \u001b[m\u001b[1;31morigin/main\u001b[m\u001b[33m, \u001b[m\u001b[1;31morigin/HEAD\u001b[m\u001b[33m)\u001b[m\n",
      "Author: Zongru (Doris) Shao <zdshao.teach@gmail.com>\n",
      "Date:   Tue Apr 26 11:10:45 2022 +0200\n",
      "\n",
      "    Add notes about Pluto\n",
      "\n",
      "\u001b[33mcommit 1871851f97124a6416434e580c04ec3cb1696417\u001b[m\n",
      "Author: Zongru (Doris) Shao <zdshao.teach@gmail.com>\n",
      "Date:   Tue Apr 26 11:01:24 2022 +0200\n",
      "\n",
      "    first commit\n"
     ]
    }
   ],
   "source": [
    "git log"
   ]
  }
 ],
 "metadata": {
  "kernelspec": {
   "display_name": "Python 3 (ipykernel)",
   "language": "python",
   "name": "python3"
  },
  "language_info": {
   "codemirror_mode": {
    "name": "ipython",
    "version": 3
   },
   "file_extension": ".py",
   "mimetype": "text/x-python",
   "name": "python",
   "nbconvert_exporter": "python",
   "pygments_lexer": "ipython3",
   "version": "3.9.12"
  }
 },
 "nbformat": 4,
 "nbformat_minor": 5
}
