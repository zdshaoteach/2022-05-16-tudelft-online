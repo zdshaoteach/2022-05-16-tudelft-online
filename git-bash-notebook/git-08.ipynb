{
 "cells": [
  {
   "cell_type": "markdown",
   "id": "65340e16-7e6a-4bc7-b1c7-b972e46a5851",
   "metadata": {
    "slideshow": {
     "slide_type": "slide"
    },
    "tags": []
   },
   "source": [
    "# Git 08 Collaborating"
   ]
  },
  {
   "cell_type": "markdown",
   "id": "1e375169-df9f-4a31-a306-b8073721d6f3",
   "metadata": {
    "slideshow": {
     "slide_type": "fragment"
    },
    "tags": []
   },
   "source": [
    "[course link](https://swcarpentry.github.io/git-novice/index.html)\n",
    "\n",
    "- duration: 25 mins\n",
    "- create a local `Git` repository"
   ]
  },
  {
   "cell_type": "markdown",
   "id": "f8d4e039-5d17-400b-9a9c-cd0dd63aba06",
   "metadata": {
    "slideshow": {
     "slide_type": "skip"
    },
    "tags": []
   },
   "source": [
    "### commands overview"
   ]
  },
  {
   "cell_type": "code",
   "execution_count": 1,
   "id": "b69cde3f-0e0a-4395-a22c-6f9b6cf7f099",
   "metadata": {
    "slideshow": {
     "slide_type": "skip"
    },
    "tags": []
   },
   "outputs": [
    {
     "name": "stdout",
     "output_type": "stream",
     "text": [
      "git02.sh  git03.sh  git04.sh  git05.sh  git06.sh  git07.sh  git08.sh  git09.sh\n"
     ]
    }
   ],
   "source": [
    "ls 'git'"
   ]
  },
  {
   "cell_type": "code",
   "execution_count": 1,
   "id": "119c89d3-ae0c-4bca-8126-482e1d263feb",
   "metadata": {
    "slideshow": {
     "slide_type": "skip"
    },
    "tags": []
   },
   "outputs": [
    {
     "name": "stdout",
     "output_type": "stream",
     "text": [
      "#!/bin/sh\n",
      "# collaborate on Github\n",
      "git push origin main\n",
      "git pull origin main\n",
      "git log --oneline\n",
      "git log --oneline --graph"
     ]
    }
   ],
   "source": [
    "cat git/git08.sh"
   ]
  },
  {
   "cell_type": "markdown",
   "id": "50fab241-5973-483a-b529-df6d02edce59",
   "metadata": {
    "slideshow": {
     "slide_type": "slide"
    },
    "tags": []
   },
   "source": [
    "### Setup\n",
    "\n",
    "- pair with a collaborator\n",
    "- add your collaborator on `Github`\n",
    "- clone your collaborator's repository"
   ]
  },
  {
   "cell_type": "markdown",
   "id": "f2802f26-1fbf-42af-bd54-9af92a117cbb",
   "metadata": {
    "slideshow": {
     "slide_type": "slide"
    },
    "tags": []
   },
   "source": [
    "### clone a remote `Git` repository"
   ]
  },
  {
   "cell_type": "code",
   "execution_count": 1,
   "id": "03cdbd82-5d5b-482c-b0ce-3a72b2a27f8a",
   "metadata": {
    "slideshow": {
     "slide_type": "subslide"
    },
    "tags": []
   },
   "outputs": [
    {
     "name": "stdout",
     "output_type": "stream",
     "text": [
      "folder exists, remove folder\n"
     ]
    }
   ],
   "source": [
    "if [ -d ~/workshop ] \n",
    "then\n",
    "    echo 'folder exists, remove folder'\n",
    "    rm -rf ~/workshop\n",
    "fi\n",
    "\n",
    "mkdir ~/workshop\n",
    "cd ~/workshop"
   ]
  },
  {
   "cell_type": "code",
   "execution_count": 2,
   "id": "7acc12c9-1f7e-4281-8b2e-cf633dc19107",
   "metadata": {
    "slideshow": {
     "slide_type": "subslide"
    },
    "tags": []
   },
   "outputs": [
    {
     "name": "stdout",
     "output_type": "stream",
     "text": [
      "/home/pi/workshop\n"
     ]
    }
   ],
   "source": [
    "pwd"
   ]
  },
  {
   "cell_type": "code",
   "execution_count": 4,
   "id": "7441662c-d0a6-4794-b660-c1c900c83b1a",
   "metadata": {
    "slideshow": {
     "slide_type": "subslide"
    },
    "tags": []
   },
   "outputs": [
    {
     "name": "stdout",
     "output_type": "stream",
     "text": [
      "Cloning into 'planets'...\n",
      "remote: Enumerating objects: 3, done.        \n",
      "remote: Counting objects: 100% (3/3), done.        \n",
      "remote: Compressing objects: 100% (2/2), done.        \n",
      "remote: Total 3 (delta 0), reused 3 (delta 0), pack-reused 0        \n",
      "Receiving objects: 100% (3/3), done.\n"
     ]
    }
   ],
   "source": [
    "git clone git@github.com:zdshaoteach/test.git planets"
   ]
  },
  {
   "cell_type": "code",
   "execution_count": 5,
   "id": "f2e3b07f-6efb-478d-89b0-00788ddd5dfd",
   "metadata": {
    "slideshow": {
     "slide_type": "subslide"
    },
    "tags": []
   },
   "outputs": [],
   "source": [
    "cd ~/workshop/planets"
   ]
  },
  {
   "cell_type": "code",
   "execution_count": 6,
   "id": "6a6bf4d7-9a40-4fbb-94e3-64871de89d72",
   "metadata": {
    "slideshow": {
     "slide_type": "subslide"
    },
    "tags": []
   },
   "outputs": [
    {
     "name": "stdout",
     "output_type": "stream",
     "text": [
      "/home/pi/workshop/planets\n"
     ]
    }
   ],
   "source": [
    "pwd"
   ]
  },
  {
   "cell_type": "code",
   "execution_count": 7,
   "id": "d3f499a6-3ac2-4725-afd7-31c79e97a666",
   "metadata": {
    "slideshow": {
     "slide_type": "subslide"
    },
    "tags": []
   },
   "outputs": [
    {
     "name": "stdout",
     "output_type": "stream",
     "text": [
      ".  ..  .git  mars.txt\n"
     ]
    }
   ],
   "source": [
    "ls -a"
   ]
  },
  {
   "cell_type": "code",
   "execution_count": 8,
   "id": "d23adc65-be79-4d29-ad51-039870bf9219",
   "metadata": {
    "slideshow": {
     "slide_type": "subslide"
    },
    "tags": []
   },
   "outputs": [
    {
     "name": "stdout",
     "output_type": "stream",
     "text": [
      "On branch main\n",
      "Your branch is up to date with 'origin/main'.\n",
      "\n",
      "nothing to commit, working tree clean\n"
     ]
    }
   ],
   "source": [
    "git status"
   ]
  },
  {
   "cell_type": "markdown",
   "id": "c1bb2a03-9404-4f33-8c93-0a97ed27370e",
   "metadata": {
    "slideshow": {
     "slide_type": "slide"
    },
    "tags": []
   },
   "source": [
    "### create a new file under the repository"
   ]
  },
  {
   "cell_type": "code",
   "execution_count": 9,
   "id": "30e78c95-8c73-4c60-9bd5-434ed1045ffa",
   "metadata": {
    "slideshow": {
     "slide_type": "subslide"
    },
    "tags": []
   },
   "outputs": [],
   "source": [
    "echo \"It is so a planet\" > pluto.txt"
   ]
  },
  {
   "cell_type": "code",
   "execution_count": 10,
   "id": "bf23d4c2-ddc3-40f1-b4eb-0002bc57be4e",
   "metadata": {
    "slideshow": {
     "slide_type": "subslide"
    },
    "tags": []
   },
   "outputs": [
    {
     "name": "stdout",
     "output_type": "stream",
     "text": [
      "It is so a planet\n"
     ]
    }
   ],
   "source": [
    "cat pluto.txt"
   ]
  },
  {
   "cell_type": "code",
   "execution_count": 11,
   "id": "b2deeec9-0f26-4a0e-a0a1-1755992180d7",
   "metadata": {
    "slideshow": {
     "slide_type": "subslide"
    },
    "tags": []
   },
   "outputs": [
    {
     "name": "stdout",
     "output_type": "stream",
     "text": [
      ".  ..  .git  mars.txt  pluto.txt\n"
     ]
    }
   ],
   "source": [
    "ls -a"
   ]
  },
  {
   "cell_type": "code",
   "execution_count": 12,
   "id": "a6c2877d-e19f-48e2-b9d4-f8620a985aff",
   "metadata": {
    "slideshow": {
     "slide_type": "subslide"
    },
    "tags": []
   },
   "outputs": [
    {
     "name": "stdout",
     "output_type": "stream",
     "text": [
      "[main 11fc4fa] Add notes about Pluto\n",
      " 1 file changed, 1 insertion(+)\n",
      " create mode 100644 pluto.txt\n"
     ]
    }
   ],
   "source": [
    "git add pluto.txt\n",
    "git commit -m \"Add notes about Pluto\""
   ]
  },
  {
   "cell_type": "markdown",
   "id": "0966a9db-a6b9-48e0-a925-5b71f698db10",
   "metadata": {
    "slideshow": {
     "slide_type": "subslide"
    },
    "tags": []
   },
   "source": [
    "check repo info"
   ]
  },
  {
   "cell_type": "code",
   "execution_count": 15,
   "id": "2ef2ac73-f415-482e-b950-4ae60d30ca35",
   "metadata": {
    "slideshow": {
     "slide_type": "fragment"
    },
    "tags": []
   },
   "outputs": [
    {
     "name": "stdout",
     "output_type": "stream",
     "text": [
      "user.name=zdshaoteach\n",
      "user.email=zdshao.teach@gmail.com\n",
      "core.autocrlf=input\n",
      "init.defaultbranch=main\n",
      "core.repositoryformatversion=0\n",
      "core.filemode=true\n",
      "core.bare=false\n",
      "core.logallrefupdates=true\n",
      "remote.origin.url=git@github.com:zdshaoteach/test.git\n",
      "remote.origin.fetch=+refs/heads/*:refs/remotes/origin/*\n",
      "branch.main.remote=origin\n",
      "branch.main.merge=refs/heads/main\n"
     ]
    }
   ],
   "source": [
    "git config --list"
   ]
  },
  {
   "cell_type": "code",
   "execution_count": 14,
   "id": "a16d58de-cbb3-4582-a930-481b28e98031",
   "metadata": {
    "slideshow": {
     "slide_type": "subslide"
    },
    "tags": []
   },
   "outputs": [
    {
     "name": "stdout",
     "output_type": "stream",
     "text": [
      "Enumerating objects: 4, done.\n",
      "Counting objects: 100% (4/4), done.\n",
      "Delta compression using up to 4 threads\n",
      "Compressing objects: 100% (2/2), done.\n",
      "Writing objects: 100% (3/3), 298 bytes | 99.00 KiB/s, done.\n",
      "Total 3 (delta 0), reused 0 (delta 0), pack-reused 0\n",
      "To github.com:zdshaoteach/test.git\n",
      "   fcce3db..11fc4fa  main -> main\n"
     ]
    }
   ],
   "source": [
    "git push origin main"
   ]
  },
  {
   "cell_type": "markdown",
   "id": "4386b4bd-a1ac-4435-940b-4afd3934e6cd",
   "metadata": {
    "slideshow": {
     "slide_type": "slide"
    },
    "tags": []
   },
   "source": [
    "### exercise: Switch Roles and Repeat *editing* the repository"
   ]
  },
  {
   "cell_type": "markdown",
   "id": "d5226c5b-c416-4b6a-83a4-e88ad5e1c0fb",
   "metadata": {
    "slideshow": {
     "slide_type": "slide"
    },
    "tags": []
   },
   "source": [
    "### exercise: review the changes"
   ]
  },
  {
   "cell_type": "code",
   "execution_count": 16,
   "id": "14fb0072-b560-4810-af15-d211887bb8f4",
   "metadata": {
    "slideshow": {
     "slide_type": "subslide"
    },
    "tags": []
   },
   "outputs": [
    {
     "name": "stdout",
     "output_type": "stream",
     "text": [
      "commit 11fc4facdead9cca65884bad058e2f24260426bd (HEAD -> main, origin/main, origin/HEAD)\n",
      "Author: zdshaoteach <zdshao.teach@gmail.com>\n",
      "Date:   Wed May 11 18:41:38 2022 +0200\n",
      "\n",
      "    Add notes about Pluto\n",
      "\n",
      "commit fcce3db60590ff4e0cf9e8a15c66c2575d8605d3\n",
      "Author: zdshaoteach <zdshao.teach@gmail.com>\n",
      "Date:   Wed May 11 17:59:31 2022 +0200\n",
      "\n",
      "    first commit\n"
     ]
    }
   ],
   "source": [
    "git log"
   ]
  },
  {
   "cell_type": "code",
   "execution_count": null,
   "id": "7757c5cf-1396-402a-ae83-4cdad5e87e07",
   "metadata": {},
   "outputs": [],
   "source": []
  }
 ],
 "metadata": {
  "kernelspec": {
   "display_name": "Bash",
   "language": "bash",
   "name": "bash"
  },
  "language_info": {
   "codemirror_mode": "shell",
   "file_extension": ".sh",
   "mimetype": "text/x-sh",
   "name": "bash"
  }
 },
 "nbformat": 4,
 "nbformat_minor": 5
}
