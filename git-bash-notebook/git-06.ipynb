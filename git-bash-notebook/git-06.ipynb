{
 "cells": [
  {
   "cell_type": "markdown",
   "id": "65340e16-7e6a-4bc7-b1c7-b972e46a5851",
   "metadata": {
    "slideshow": {
     "slide_type": "slide"
    },
    "tags": []
   },
   "source": [
    "# Git 06 Ignoring Things"
   ]
  },
  {
   "cell_type": "markdown",
   "id": "1e375169-df9f-4a31-a306-b8073721d6f3",
   "metadata": {
    "slideshow": {
     "slide_type": "fragment"
    },
    "tags": []
   },
   "source": [
    "[course link](https://swcarpentry.github.io/git-novice/index.html)\n",
    "\n",
    "- duration: 5 mins\n",
    "- tell `Git` not to track certain files"
   ]
  },
  {
   "cell_type": "markdown",
   "id": "f8d4e039-5d17-400b-9a9c-cd0dd63aba06",
   "metadata": {
    "slideshow": {
     "slide_type": "slide"
    },
    "tags": []
   },
   "source": [
    "### commands overview"
   ]
  },
  {
   "cell_type": "code",
   "execution_count": 1,
   "id": "b69cde3f-0e0a-4395-a22c-6f9b6cf7f099",
   "metadata": {
    "slideshow": {
     "slide_type": "skip"
    },
    "tags": []
   },
   "outputs": [
    {
     "name": "stdout",
     "output_type": "stream",
     "text": [
      "git02.sh  git03.sh  git04.sh  git05.sh  git06.sh  git07.sh  git08.sh  git09.sh\n"
     ]
    }
   ],
   "source": [
    "ls 'git'"
   ]
  },
  {
   "cell_type": "code",
   "execution_count": 2,
   "id": "119c89d3-ae0c-4bca-8126-482e1d263feb",
   "metadata": {
    "slideshow": {
     "slide_type": "subslide"
    },
    "tags": []
   },
   "outputs": [
    {
     "name": "stdout",
     "output_type": "stream",
     "text": [
      "#!/bin/sh\n",
      "echo \"*.dat\" > .gitignore\n",
      "echo \"results/\" >> .gitignore\n",
      "git add .gitignore\n",
      "git commit -m \"Ignore data files and the results folder.\"\n",
      "git status\n",
      "git status --ignored"
     ]
    }
   ],
   "source": [
    "cat git/git06.sh"
   ]
  },
  {
   "cell_type": "markdown",
   "id": "f2802f26-1fbf-42af-bd54-9af92a117cbb",
   "metadata": {
    "slideshow": {
     "slide_type": "slide"
    },
    "tags": []
   },
   "source": [
    "### create new files and directories"
   ]
  },
  {
   "cell_type": "code",
   "execution_count": 3,
   "id": "03cdbd82-5d5b-482c-b0ce-3a72b2a27f8a",
   "metadata": {
    "slideshow": {
     "slide_type": "subslide"
    },
    "tags": []
   },
   "outputs": [],
   "source": [
    "# relocate working directory\n",
    "cd ~/workshop/planets"
   ]
  },
  {
   "cell_type": "code",
   "execution_count": 4,
   "id": "7acc12c9-1f7e-4281-8b2e-cf633dc19107",
   "metadata": {
    "slideshow": {
     "slide_type": "subslide"
    },
    "tags": []
   },
   "outputs": [
    {
     "name": "stdout",
     "output_type": "stream",
     "text": [
      "/home/pi/workshop/planets\n"
     ]
    }
   ],
   "source": [
    "pwd"
   ]
  },
  {
   "cell_type": "code",
   "execution_count": 5,
   "id": "7441662c-d0a6-4794-b660-c1c900c83b1a",
   "metadata": {
    "slideshow": {
     "slide_type": "subslide"
    },
    "tags": []
   },
   "outputs": [],
   "source": [
    "mkdir results"
   ]
  },
  {
   "cell_type": "code",
   "execution_count": 6,
   "id": "f2e3b07f-6efb-478d-89b0-00788ddd5dfd",
   "metadata": {
    "slideshow": {
     "slide_type": "subslide"
    },
    "tags": []
   },
   "outputs": [],
   "source": [
    "touch a.dat b.dat c.dat results/a.out results/b.out"
   ]
  },
  {
   "cell_type": "code",
   "execution_count": 7,
   "id": "6a6bf4d7-9a40-4fbb-94e3-64871de89d72",
   "metadata": {
    "slideshow": {
     "slide_type": "subslide"
    },
    "tags": []
   },
   "outputs": [
    {
     "name": "stdout",
     "output_type": "stream",
     "text": [
      "On branch main\n",
      "Untracked files:\n",
      "  (use \"git add <file>...\" to include in what will be committed)\n",
      "\ta.dat\n",
      "\tb.dat\n",
      "\tc.dat\n",
      "\tresults/\n",
      "\n",
      "nothing added to commit but untracked files present (use \"git add\" to track)\n"
     ]
    }
   ],
   "source": [
    "git status"
   ]
  },
  {
   "cell_type": "markdown",
   "id": "c1bb2a03-9404-4f33-8c93-0a97ed27370e",
   "metadata": {
    "slideshow": {
     "slide_type": "slide"
    },
    "tags": []
   },
   "source": [
    "### create `.gitignore` file"
   ]
  },
  {
   "cell_type": "code",
   "execution_count": 8,
   "id": "bc0e5663-d684-4a83-95e5-8a1ee6c36458",
   "metadata": {
    "slideshow": {
     "slide_type": "subslide"
    },
    "tags": []
   },
   "outputs": [],
   "source": [
    "echo \"*.dat\" > .gitignore\n",
    "echo \"results/\" >> .gitignore"
   ]
  },
  {
   "cell_type": "code",
   "execution_count": 9,
   "id": "881f7272-fb4d-4042-80f0-090ac91eb758",
   "metadata": {
    "slideshow": {
     "slide_type": "fragment"
    },
    "tags": []
   },
   "outputs": [
    {
     "name": "stdout",
     "output_type": "stream",
     "text": [
      "*.dat\n",
      "results/\n"
     ]
    }
   ],
   "source": [
    "cat .gitignore"
   ]
  },
  {
   "cell_type": "code",
   "execution_count": 10,
   "id": "7571eb13-04e1-4c05-9142-73c2915c8178",
   "metadata": {
    "slideshow": {
     "slide_type": "fragment"
    },
    "tags": []
   },
   "outputs": [
    {
     "name": "stdout",
     "output_type": "stream",
     "text": [
      "On branch main\n",
      "Untracked files:\n",
      "  (use \"git add <file>...\" to include in what will be committed)\n",
      "\t.gitignore\n",
      "\n",
      "nothing added to commit but untracked files present (use \"git add\" to track)\n"
     ]
    }
   ],
   "source": [
    "git status"
   ]
  },
  {
   "cell_type": "markdown",
   "id": "4386b4bd-a1ac-4435-940b-4afd3934e6cd",
   "metadata": {
    "slideshow": {
     "slide_type": "slide"
    },
    "tags": []
   },
   "source": [
    "### commit `.gitignore` file"
   ]
  },
  {
   "cell_type": "code",
   "execution_count": 11,
   "id": "30e78c95-8c73-4c60-9bd5-434ed1045ffa",
   "metadata": {
    "slideshow": {
     "slide_type": "subslide"
    },
    "tags": []
   },
   "outputs": [],
   "source": [
    "git add .gitignore"
   ]
  },
  {
   "cell_type": "code",
   "execution_count": 12,
   "id": "2a13cd08-ef48-4c4c-becb-e5e6a3a720c0",
   "metadata": {
    "slideshow": {
     "slide_type": "subslide"
    },
    "tags": []
   },
   "outputs": [
    {
     "name": "stdout",
     "output_type": "stream",
     "text": [
      "[main cbb52c9] Ignore data files and the results folder.\n",
      " 1 file changed, 2 insertions(+)\n",
      " create mode 100644 .gitignore\n"
     ]
    }
   ],
   "source": [
    "git commit -m \"Ignore data files and the results folder.\""
   ]
  },
  {
   "cell_type": "code",
   "execution_count": 13,
   "id": "a09c4949-04ee-48cf-8be9-6bb135068456",
   "metadata": {
    "slideshow": {
     "slide_type": "subslide"
    },
    "tags": []
   },
   "outputs": [
    {
     "name": "stdout",
     "output_type": "stream",
     "text": [
      "On branch main\n",
      "nothing to commit, working tree clean\n"
     ]
    }
   ],
   "source": [
    "git status"
   ]
  },
  {
   "cell_type": "code",
   "execution_count": 14,
   "id": "14fb0072-b560-4810-af15-d211887bb8f4",
   "metadata": {
    "slideshow": {
     "slide_type": "subslide"
    },
    "tags": []
   },
   "outputs": [],
   "source": [
    "echo \"1 2 3 4 5\" >> a.dat"
   ]
  },
  {
   "cell_type": "code",
   "execution_count": 15,
   "id": "84b8c38e-d43d-4504-b939-2850e3521028",
   "metadata": {
    "slideshow": {
     "slide_type": "subslide"
    },
    "tags": []
   },
   "outputs": [
    {
     "name": "stdout",
     "output_type": "stream",
     "text": [
      "On branch main\n",
      "nothing to commit, working tree clean\n"
     ]
    }
   ],
   "source": [
    "git status"
   ]
  },
  {
   "cell_type": "code",
   "execution_count": 16,
   "id": "65763f46-2421-495d-9ef7-80e7cc1adf0c",
   "metadata": {
    "slideshow": {
     "slide_type": "subslide"
    },
    "tags": []
   },
   "outputs": [
    {
     "name": "stdout",
     "output_type": "stream",
     "text": [
      "On branch main\n",
      "Ignored files:\n",
      "  (use \"git add -f <file>...\" to include in what will be committed)\n",
      "\ta.dat\n",
      "\tb.dat\n",
      "\tc.dat\n",
      "\tresults/\n",
      "\n",
      "nothing to commit, working tree clean\n"
     ]
    }
   ],
   "source": [
    "git status --ignored"
   ]
  },
  {
   "cell_type": "code",
   "execution_count": 17,
   "id": "70c42e94-bc89-49cb-9124-2a5bcb66f695",
   "metadata": {
    "slideshow": {
     "slide_type": "subslide"
    },
    "tags": []
   },
   "outputs": [
    {
     "name": "stdout",
     "output_type": "stream",
     "text": [
      "The following paths are ignored by one of your .gitignore files:\n",
      "a.dat\n",
      "hint: Use -f if you really want to add them.\n",
      "hint: Turn this message off by running\n",
      "hint: \"git config advice.addIgnoredFile false\"\n"
     ]
    },
    {
     "ename": "",
     "evalue": "1",
     "output_type": "error",
     "traceback": []
    }
   ],
   "source": [
    "git add a.dat"
   ]
  }
 ],
 "metadata": {
  "kernelspec": {
   "display_name": "Bash",
   "language": "bash",
   "name": "bash"
  },
  "language_info": {
   "codemirror_mode": "shell",
   "file_extension": ".sh",
   "mimetype": "text/x-sh",
   "name": "bash"
  }
 },
 "nbformat": 4,
 "nbformat_minor": 5
}
