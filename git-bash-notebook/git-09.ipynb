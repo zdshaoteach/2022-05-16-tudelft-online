{
 "cells": [
  {
   "cell_type": "markdown",
   "id": "65340e16-7e6a-4bc7-b1c7-b972e46a5851",
   "metadata": {
    "slideshow": {
     "slide_type": "slide"
    },
    "tags": []
   },
   "source": [
    "# Git 09 Conflicts"
   ]
  },
  {
   "cell_type": "markdown",
   "id": "1e375169-df9f-4a31-a306-b8073721d6f3",
   "metadata": {
    "slideshow": {
     "slide_type": "fragment"
    },
    "tags": []
   },
   "source": [
    "[course link](https://swcarpentry.github.io/git-novice/index.html)\n",
    "\n",
    "- duration: 15 mins\n",
    "- what is a conflict ?\n",
    "- how to resolve a conflict ?"
   ]
  },
  {
   "cell_type": "markdown",
   "id": "f8d4e039-5d17-400b-9a9c-cd0dd63aba06",
   "metadata": {
    "slideshow": {
     "slide_type": "subslide"
    },
    "tags": []
   },
   "source": [
    "### commands overview"
   ]
  },
  {
   "cell_type": "code",
   "execution_count": null,
   "id": "b69cde3f-0e0a-4395-a22c-6f9b6cf7f099",
   "metadata": {
    "slideshow": {
     "slide_type": "skip"
    },
    "tags": []
   },
   "outputs": [],
   "source": [
    "ls 'git'"
   ]
  },
  {
   "cell_type": "code",
   "execution_count": 1,
   "id": "119c89d3-ae0c-4bca-8126-482e1d263feb",
   "metadata": {
    "slideshow": {
     "slide_type": "subslide"
    },
    "tags": []
   },
   "outputs": [
    {
     "name": "stdout",
     "output_type": "stream",
     "text": [
      "#!/bin/sh\n",
      "# resolve conflicted edits on Github\n",
      "git push origin main\n",
      "git pull origin main"
     ]
    }
   ],
   "source": [
    "cat git/git09.sh"
   ]
  },
  {
   "cell_type": "markdown",
   "id": "50fab241-5973-483a-b529-df6d02edce59",
   "metadata": {
    "slideshow": {
     "slide_type": "slide"
    },
    "tags": []
   },
   "source": [
    "### Setup\n",
    "\n",
    "- pair with a collaborator\n",
    "- add your collaborator on `Github`\n",
    "- clone the same `Github` repository with your collaborator"
   ]
  },
  {
   "cell_type": "markdown",
   "id": "f2802f26-1fbf-42af-bd54-9af92a117cbb",
   "metadata": {
    "slideshow": {
     "slide_type": "slide"
    },
    "tags": []
   },
   "source": [
    "### the collaborator clone a remote `Git` repository"
   ]
  },
  {
   "cell_type": "code",
   "execution_count": 1,
   "id": "03cdbd82-5d5b-482c-b0ce-3a72b2a27f8a",
   "metadata": {
    "slideshow": {
     "slide_type": "subslide"
    },
    "tags": []
   },
   "outputs": [
    {
     "name": "stdout",
     "output_type": "stream",
     "text": [
      "folder exists, remove folder\n"
     ]
    }
   ],
   "source": [
    "if [ -d ~/workshop ] \n",
    "then\n",
    "    echo 'folder exists, remove folder'\n",
    "    rm -rf ~/workshop\n",
    "fi\n",
    "\n",
    "mkdir ~/workshop\n",
    "cd ~/workshop"
   ]
  },
  {
   "cell_type": "code",
   "execution_count": 2,
   "id": "7acc12c9-1f7e-4281-8b2e-cf633dc19107",
   "metadata": {
    "slideshow": {
     "slide_type": "subslide"
    },
    "tags": []
   },
   "outputs": [
    {
     "name": "stdout",
     "output_type": "stream",
     "text": [
      "/home/pi/workshop\n"
     ]
    }
   ],
   "source": [
    "pwd"
   ]
  },
  {
   "cell_type": "code",
   "execution_count": 3,
   "id": "7441662c-d0a6-4794-b660-c1c900c83b1a",
   "metadata": {
    "slideshow": {
     "slide_type": "subslide"
    },
    "tags": []
   },
   "outputs": [
    {
     "name": "stdout",
     "output_type": "stream",
     "text": [
      "Cloning into 'planets'...\n",
      "remote: Enumerating objects: 18, done.        \n",
      "remote: Counting objects: 100% (18/18), done.        \n",
      "remote: Compressing objects: 100% (15/15), done.        \n",
      "remote: Total 18 (delta 4), reused 15 (delta 1), pack-reused 0        \n",
      "Receiving objects: 100% (18/18), done.\n",
      "Resolving deltas: 100% (4/4), done.\n"
     ]
    }
   ],
   "source": [
    "git clone git@github.com:zdshaoteach/test.git planets"
   ]
  },
  {
   "cell_type": "code",
   "execution_count": 4,
   "id": "f2e3b07f-6efb-478d-89b0-00788ddd5dfd",
   "metadata": {
    "slideshow": {
     "slide_type": "subslide"
    },
    "tags": []
   },
   "outputs": [],
   "source": [
    "cd ~/workshop/planets"
   ]
  },
  {
   "cell_type": "code",
   "execution_count": 5,
   "id": "6a6bf4d7-9a40-4fbb-94e3-64871de89d72",
   "metadata": {
    "slideshow": {
     "slide_type": "subslide"
    },
    "tags": []
   },
   "outputs": [
    {
     "name": "stdout",
     "output_type": "stream",
     "text": [
      "/home/pi/workshop/planets\n"
     ]
    }
   ],
   "source": [
    "pwd"
   ]
  },
  {
   "cell_type": "code",
   "execution_count": 6,
   "id": "d3f499a6-3ac2-4725-afd7-31c79e97a666",
   "metadata": {
    "slideshow": {
     "slide_type": "subslide"
    },
    "tags": []
   },
   "outputs": [
    {
     "name": "stdout",
     "output_type": "stream",
     "text": [
      ".  ..  .git  mars.txt  pluto.txt\n"
     ]
    }
   ],
   "source": [
    "ls -a"
   ]
  },
  {
   "cell_type": "code",
   "execution_count": 7,
   "id": "d23adc65-be79-4d29-ad51-039870bf9219",
   "metadata": {
    "slideshow": {
     "slide_type": "subslide"
    },
    "tags": []
   },
   "outputs": [
    {
     "name": "stdout",
     "output_type": "stream",
     "text": [
      "On branch main\n",
      "Your branch is up to date with 'origin/main'.\n",
      "\n",
      "nothing to commit, working tree clean\n"
     ]
    }
   ],
   "source": [
    "git status"
   ]
  },
  {
   "cell_type": "markdown",
   "id": "9bba8a97",
   "metadata": {
    "slideshow": {
     "slide_type": "slide"
    },
    "tags": []
   },
   "source": [
    "### the owner clone the same remote `Git` repository"
   ]
  },
  {
   "cell_type": "code",
   "execution_count": 8,
   "id": "e3ea0833",
   "metadata": {
    "slideshow": {
     "slide_type": "subslide"
    },
    "tags": []
   },
   "outputs": [],
   "source": [
    "cd ~/workshop"
   ]
  },
  {
   "cell_type": "code",
   "execution_count": 9,
   "id": "69c16f6c-f386-4483-a6e7-d89416396cb6",
   "metadata": {
    "slideshow": {
     "slide_type": "subslide"
    },
    "tags": []
   },
   "outputs": [
    {
     "name": "stdout",
     "output_type": "stream",
     "text": [
      "Cloning into 'test'...\n",
      "remote: Enumerating objects: 18, done.        \n",
      "remote: Counting objects: 100% (18/18), done.        \n",
      "remote: Compressing objects: 100% (15/15), done.        \n",
      "remote: Total 18 (delta 4), reused 15 (delta 1), pack-reused 0        \n",
      "Receiving objects: 100% (18/18), done.\n",
      "Resolving deltas: 100% (4/4), done.\n"
     ]
    }
   ],
   "source": [
    "git clone git@github.com:zdshaoteach/test.git test"
   ]
  },
  {
   "cell_type": "code",
   "execution_count": 10,
   "id": "06dc36b5",
   "metadata": {
    "slideshow": {
     "slide_type": "subslide"
    },
    "tags": []
   },
   "outputs": [],
   "source": [
    "cd ~/workshop/test"
   ]
  },
  {
   "cell_type": "code",
   "execution_count": 11,
   "id": "7fe90788",
   "metadata": {
    "slideshow": {
     "slide_type": "fragment"
    },
    "tags": []
   },
   "outputs": [
    {
     "name": "stdout",
     "output_type": "stream",
     "text": [
      "Cold and dry, but everything is my favorite color \\n We added a different line in the other copy \\n The two moons may be a problem for Wolfman \\n But the Mummy will appreciate the lack of humidity \\n\n",
      "The two moons may be a problem for Wolfman\n",
      "But the Mummy will appreciate the lack of humidity\n"
     ]
    }
   ],
   "source": [
    "cat mars.txt"
   ]
  },
  {
   "cell_type": "markdown",
   "id": "c1bb2a03-9404-4f33-8c93-0a97ed27370e",
   "metadata": {
    "slideshow": {
     "slide_type": "slide"
    },
    "tags": []
   },
   "source": [
    "### the collaborator edit `mars.txt`"
   ]
  },
  {
   "cell_type": "code",
   "execution_count": 12,
   "id": "75f82483-d84c-4f4d-9164-98d577cce374",
   "metadata": {
    "slideshow": {
     "slide_type": "subslide"
    },
    "tags": []
   },
   "outputs": [],
   "source": [
    "cd ~/workshop/planets"
   ]
  },
  {
   "cell_type": "code",
   "execution_count": 13,
   "id": "fdab8493-6a20-45a4-8109-8c4c922c1d29",
   "metadata": {
    "slideshow": {
     "slide_type": "fragment"
    },
    "tags": []
   },
   "outputs": [
    {
     "name": "stdout",
     "output_type": "stream",
     "text": [
      "/home/pi/workshop/planets\n"
     ]
    }
   ],
   "source": [
    "pwd"
   ]
  },
  {
   "cell_type": "code",
   "execution_count": 14,
   "id": "30e78c95-8c73-4c60-9bd5-434ed1045ffa",
   "metadata": {
    "slideshow": {
     "slide_type": "subslide"
    },
    "tags": []
   },
   "outputs": [
    {
     "name": "stdout",
     "output_type": "stream",
     "text": [
      "Cold and dry, but everything is my favorite color \\n We added a different line in the other copy \\n The two moons may be a problem for Wolfman \\n But the Mummy will appreciate the lack of humidity \\n\n",
      "The two moons may be a problem for Wolfman\n",
      "But the Mummy will appreciate the lack of humidity\n"
     ]
    }
   ],
   "source": [
    "cat mars.txt"
   ]
  },
  {
   "cell_type": "code",
   "execution_count": 15,
   "id": "bf23d4c2-ddc3-40f1-b4eb-0002bc57be4e",
   "metadata": {
    "slideshow": {
     "slide_type": "subslide"
    },
    "tags": []
   },
   "outputs": [],
   "source": [
    "echo \"The two moons may be a problem for Wolfman\" >> mars.txt\n",
    "echo \"But the Mummy will appreciate the lack of humidity\" >> mars.txt"
   ]
  },
  {
   "cell_type": "code",
   "execution_count": 16,
   "id": "b2deeec9-0f26-4a0e-a0a1-1755992180d7",
   "metadata": {
    "slideshow": {
     "slide_type": "subslide"
    },
    "tags": []
   },
   "outputs": [
    {
     "name": "stdout",
     "output_type": "stream",
     "text": [
      "Cold and dry, but everything is my favorite color \\n We added a different line in the other copy \\n The two moons may be a problem for Wolfman \\n But the Mummy will appreciate the lack of humidity \\n\n",
      "The two moons may be a problem for Wolfman\n",
      "But the Mummy will appreciate the lack of humidity\n",
      "The two moons may be a problem for Wolfman\n",
      "But the Mummy will appreciate the lack of humidity\n"
     ]
    }
   ],
   "source": [
    "cat mars.txt"
   ]
  },
  {
   "cell_type": "code",
   "execution_count": 17,
   "id": "a6c2877d-e19f-48e2-b9d4-f8620a985aff",
   "metadata": {
    "slideshow": {
     "slide_type": "subslide"
    },
    "tags": []
   },
   "outputs": [
    {
     "name": "stdout",
     "output_type": "stream",
     "text": [
      "[main 457975f] Add a line in our home copy\n",
      " 1 file changed, 2 insertions(+)\n"
     ]
    }
   ],
   "source": [
    "git add mars.txt\n",
    "git commit -m \"Add a line in our home copy\""
   ]
  },
  {
   "cell_type": "code",
   "execution_count": 18,
   "id": "a16d58de-cbb3-4582-a930-481b28e98031",
   "metadata": {
    "slideshow": {
     "slide_type": "subslide"
    },
    "tags": []
   },
   "outputs": [
    {
     "name": "stdout",
     "output_type": "stream",
     "text": [
      "Enumerating objects: 5, done.\n",
      "Counting objects: 100% (5/5), done.\n",
      "Delta compression using up to 4 threads\n",
      "Compressing objects: 100% (3/3), done.\n",
      "Writing objects: 100% (3/3), 314 bytes | 157.00 KiB/s, done.\n",
      "Total 3 (delta 1), reused 0 (delta 0), pack-reused 0\n",
      "remote: Resolving deltas: 100% (1/1), completed with 1 local object.        \n",
      "To github.com:zdshaoteach/test.git\n",
      "   72eb8f9..457975f  main -> main\n"
     ]
    }
   ],
   "source": [
    "git push origin main"
   ]
  },
  {
   "cell_type": "code",
   "execution_count": null,
   "id": "ef588d6f-8a09-4c49-8f99-5e8e6e216c3e",
   "metadata": {
    "slideshow": {
     "slide_type": "subslide"
    },
    "tags": []
   },
   "outputs": [],
   "source": [
    "git log "
   ]
  },
  {
   "cell_type": "markdown",
   "id": "4386b4bd-a1ac-4435-940b-4afd3934e6cd",
   "metadata": {
    "slideshow": {
     "slide_type": "slide"
    },
    "tags": []
   },
   "source": [
    "### the owner edit `mars.txt`"
   ]
  },
  {
   "cell_type": "code",
   "execution_count": 20,
   "id": "e9a53b7d-9451-4c28-ae88-46a123172349",
   "metadata": {
    "slideshow": {
     "slide_type": "subslide"
    },
    "tags": []
   },
   "outputs": [],
   "source": [
    "cd ~/workshop/test"
   ]
  },
  {
   "cell_type": "code",
   "execution_count": 21,
   "id": "f1723af2-301e-452a-900c-19ee802bd495",
   "metadata": {
    "slideshow": {
     "slide_type": "subslide"
    },
    "tags": []
   },
   "outputs": [
    {
     "name": "stdout",
     "output_type": "stream",
     "text": [
      "Cold and dry, but everything is my favorite color \\n We added a different line in the other copy \\n The two moons may be a problem for Wolfman \\n But the Mummy will appreciate the lack of humidity \\n\n",
      "The two moons may be a problem for Wolfman\n",
      "But the Mummy will appreciate the lack of humidity\n"
     ]
    }
   ],
   "source": [
    "cat mars.txt"
   ]
  },
  {
   "cell_type": "code",
   "execution_count": 22,
   "id": "9b40e137-cfe9-4979-9c59-fb9254304f14",
   "metadata": {
    "slideshow": {
     "slide_type": "fragment"
    },
    "tags": []
   },
   "outputs": [
    {
     "name": "stdout",
     "output_type": "stream",
     "text": [
      "/home/pi/workshop/test\n"
     ]
    }
   ],
   "source": [
    "pwd"
   ]
  },
  {
   "cell_type": "code",
   "execution_count": 23,
   "id": "dbc37ad7-93fc-45f7-b1d2-e07ac4104130",
   "metadata": {
    "slideshow": {
     "slide_type": "subslide"
    },
    "tags": []
   },
   "outputs": [],
   "source": [
    "echo \"We added a different line in the other copy\" >> mars.txt"
   ]
  },
  {
   "cell_type": "code",
   "execution_count": 24,
   "id": "58d6020e-a202-41c3-95bc-c698d3e8c6c8",
   "metadata": {
    "slideshow": {
     "slide_type": "subslide"
    },
    "tags": []
   },
   "outputs": [
    {
     "name": "stdout",
     "output_type": "stream",
     "text": [
      "On branch main\n",
      "Your branch is up to date with 'origin/main'.\n",
      "\n",
      "Changes not staged for commit:\n",
      "  (use \"git add <file>...\" to update what will be committed)\n",
      "  (use \"git restore <file>...\" to discard changes in working directory)\n",
      "\tmodified:   mars.txt\n",
      "\n",
      "no changes added to commit (use \"git add\" and/or \"git commit -a\")\n"
     ]
    }
   ],
   "source": [
    "git status"
   ]
  },
  {
   "cell_type": "code",
   "execution_count": 25,
   "id": "95aa5810-8381-4718-b2eb-a02afc5f9582",
   "metadata": {
    "slideshow": {
     "slide_type": "subslide"
    },
    "tags": []
   },
   "outputs": [
    {
     "name": "stdout",
     "output_type": "stream",
     "text": [
      "diff --git a/mars.txt b/mars.txt\n",
      "index 686a2af..98a9d53 100644\n",
      "--- a/mars.txt\n",
      "+++ b/mars.txt\n",
      "@@ -1,3 +1,4 @@\n",
      " Cold and dry, but everything is my favorite color \\n We added a different line in the other copy \\n The two moons may be a problem for Wolfman \\n But the Mummy will appreciate the lack of humidity \\n\n",
      " The two moons may be a problem for Wolfman\n",
      " But the Mummy will appreciate the lack of humidity\n",
      "+We added a different line in the other copy\n"
     ]
    }
   ],
   "source": [
    "git diff"
   ]
  },
  {
   "cell_type": "code",
   "execution_count": null,
   "id": "327e5549-8db7-4b07-9c1d-76ba015afa3c",
   "metadata": {
    "slideshow": {
     "slide_type": "subslide"
    },
    "tags": []
   },
   "outputs": [],
   "source": [
    "git log "
   ]
  },
  {
   "cell_type": "code",
   "execution_count": 26,
   "id": "61f66c72-5f98-424f-a4cb-a62a268fecb7",
   "metadata": {
    "slideshow": {
     "slide_type": "subslide"
    },
    "tags": []
   },
   "outputs": [],
   "source": [
    "git add mars.txt"
   ]
  },
  {
   "cell_type": "code",
   "execution_count": 27,
   "id": "b85d1d54-77a4-4920-b31a-d9341fd2d7b4",
   "metadata": {
    "slideshow": {
     "slide_type": "subslide"
    },
    "tags": []
   },
   "outputs": [
    {
     "name": "stdout",
     "output_type": "stream",
     "text": [
      "On branch main\n",
      "Your branch is up to date with 'origin/main'.\n",
      "\n",
      "Changes to be committed:\n",
      "  (use \"git restore --staged <file>...\" to unstage)\n",
      "\tmodified:   mars.txt\n",
      "\n"
     ]
    }
   ],
   "source": [
    "git status"
   ]
  },
  {
   "cell_type": "code",
   "execution_count": 28,
   "id": "21d81868-b88f-49f5-a851-aa62fbf41df4",
   "metadata": {
    "slideshow": {
     "slide_type": "subslide"
    },
    "tags": []
   },
   "outputs": [
    {
     "name": "stdout",
     "output_type": "stream",
     "text": [
      "[main 66ffefa] Add a line in my copy\n",
      " 1 file changed, 1 insertion(+)\n"
     ]
    }
   ],
   "source": [
    "git commit -m \"Add a line in my copy\""
   ]
  },
  {
   "cell_type": "code",
   "execution_count": 29,
   "id": "c9a2cb4c-29cb-4b0e-836a-3b7e9c5ba496",
   "metadata": {
    "slideshow": {
     "slide_type": "subslide"
    },
    "tags": []
   },
   "outputs": [
    {
     "name": "stdout",
     "output_type": "stream",
     "text": [
      "To github.com:zdshaoteach/test.git\n",
      " ! [rejected]        main -> main (fetch first)\n",
      "error: failed to push some refs to 'github.com:zdshaoteach/test.git'\n",
      "hint: Updates were rejected because the remote contains work that you do\n",
      "hint: not have locally. This is usually caused by another repository pushing\n",
      "hint: to the same ref. You may want to first integrate the remote changes\n",
      "hint: (e.g., 'git pull ...') before pushing again.\n",
      "hint: See the 'Note about fast-forwards' in 'git push --help' for details.\n"
     ]
    },
    {
     "ename": "",
     "evalue": "1",
     "output_type": "error",
     "traceback": []
    }
   ],
   "source": [
    "git push origin main"
   ]
  },
  {
   "cell_type": "markdown",
   "id": "d5226c5b-c416-4b6a-83a4-e88ad5e1c0fb",
   "metadata": {
    "slideshow": {
     "slide_type": "slide"
    },
    "tags": []
   },
   "source": [
    "### `merge` to resolve conflicts"
   ]
  },
  {
   "cell_type": "code",
   "execution_count": null,
   "id": "14fb0072-b560-4810-af15-d211887bb8f4",
   "metadata": {
    "slideshow": {
     "slide_type": "subslide"
    },
    "tags": []
   },
   "outputs": [],
   "source": [
    "git log"
   ]
  },
  {
   "cell_type": "code",
   "execution_count": 30,
   "id": "65763f46-2421-495d-9ef7-80e7cc1adf0c",
   "metadata": {
    "slideshow": {
     "slide_type": "subslide"
    },
    "tags": []
   },
   "outputs": [
    {
     "name": "stdout",
     "output_type": "stream",
     "text": [
      "hint: Pulling without specifying how to reconcile divergent branches is\n",
      "hint: discouraged. You can squelch this message by running one of the following\n",
      "hint: commands sometime before your next pull:\n",
      "hint: \n",
      "hint:   git config pull.rebase false  # merge (the default strategy)\n",
      "hint:   git config pull.rebase true   # rebase\n",
      "hint:   git config pull.ff only       # fast-forward only\n",
      "hint: \n",
      "hint: You can replace \"git config\" with \"git config --global\" to set a default\n",
      "hint: preference for all repositories. You can also pass --rebase, --no-rebase,\n",
      "hint: or --ff-only on the command line to override the configured default per\n",
      "hint: invocation.\n",
      "remote: Enumerating objects: 5, done.        \n",
      "remote: Counting objects: 100% (5/5), done.        \n",
      "remote: Compressing objects: 100% (2/2), done.        \n",
      "remote: Total 3 (delta 1), reused 3 (delta 1), pack-reused 0        \n",
      "Unpacking objects: 100% (3/3), 294 bytes | 147.00 KiB/s, done.\n",
      "From github.com:zdshaoteach/test\n",
      " * branch            main       -> FETCH_HEAD\n",
      "   72eb8f9..457975f  main       -> origin/main\n",
      "Auto-merging mars.txt\n",
      "CONFLICT (content): Merge conflict in mars.txt\n",
      "Automatic merge failed; fix conflicts and then commit the result.\n"
     ]
    },
    {
     "ename": "",
     "evalue": "1",
     "output_type": "error",
     "traceback": []
    }
   ],
   "source": [
    "git pull origin main"
   ]
  },
  {
   "cell_type": "code",
   "execution_count": 31,
   "id": "055c0422-76ff-4b26-9b8b-383e93350c03",
   "metadata": {
    "slideshow": {
     "slide_type": "subslide"
    },
    "tags": []
   },
   "outputs": [
    {
     "name": "stdout",
     "output_type": "stream",
     "text": [
      "Cold and dry, but everything is my favorite color \\n We added a different line in the other copy \\n The two moons may be a problem for Wolfman \\n But the Mummy will appreciate the lack of humidity \\n\n",
      "The two moons may be a problem for Wolfman\n",
      "But the Mummy will appreciate the lack of humidity\n",
      "<<<<<<< HEAD\n",
      "We added a different line in the other copy\n",
      "=======\n",
      "The two moons may be a problem for Wolfman\n",
      "But the Mummy will appreciate the lack of humidity\n",
      ">>>>>>> 457975f1d94ada06c3ecdaa8b585dee83d2983c7\n"
     ]
    }
   ],
   "source": [
    "cat mars.txt"
   ]
  },
  {
   "cell_type": "code",
   "execution_count": 32,
   "id": "a10a9839-8837-4dd5-8a9b-ce2f1d2d390d",
   "metadata": {
    "slideshow": {
     "slide_type": "subslide"
    },
    "tags": []
   },
   "outputs": [],
   "source": [
    "git config pull.rebase false"
   ]
  },
  {
   "cell_type": "code",
   "execution_count": 33,
   "id": "83f67eb1-977a-4b22-9f38-29ec9ea72e30",
   "metadata": {
    "slideshow": {
     "slide_type": "subslide"
    },
    "tags": []
   },
   "outputs": [
    {
     "name": "stdout",
     "output_type": "stream",
     "text": [
      "error: Pulling is not possible because you have unmerged files.\n",
      "hint: Fix them up in the work tree, and then use 'git add/rm <file>'\n",
      "hint: as appropriate to mark resolution and make a commit.\n",
      "fatal: Exiting because of an unresolved conflict.\n"
     ]
    },
    {
     "ename": "",
     "evalue": "128",
     "output_type": "error",
     "traceback": []
    }
   ],
   "source": [
    "git pull origin main"
   ]
  },
  {
   "cell_type": "code",
   "execution_count": 34,
   "id": "5f394508-3d53-4579-8650-2dee7229af67",
   "metadata": {
    "slideshow": {
     "slide_type": "subslide"
    },
    "tags": []
   },
   "outputs": [
    {
     "name": "stdout",
     "output_type": "stream",
     "text": [
      "Cold and dry, but everything is my favorite color \\n We added a different line in the other copy \\n The two moons may be a problem for Wolfman \\n But the Mummy will appreciate the lack of humidity \\n\n",
      "The two moons may be a problem for Wolfman\n",
      "But the Mummy will appreciate the lack of humidity\n",
      "<<<<<<< HEAD\n",
      "We added a different line in the other copy\n",
      "=======\n",
      "The two moons may be a problem for Wolfman\n",
      "But the Mummy will appreciate the lack of humidity\n",
      ">>>>>>> 457975f1d94ada06c3ecdaa8b585dee83d2983c7\n"
     ]
    }
   ],
   "source": [
    "cat mars.txt"
   ]
  },
  {
   "cell_type": "code",
   "execution_count": 45,
   "id": "4fb4d850-3247-44c4-8408-36fa7f3ae61e",
   "metadata": {
    "slideshow": {
     "slide_type": "subslide"
    },
    "tags": []
   },
   "outputs": [],
   "source": [
    "echo \"Cold and dry, but everything is my favorite color\n",
    "We added a different line in the other copy\n",
    "The two moons may be a problem for Wolfman\n",
    "But the Mummy will appreciate the lack of humidity\n",
    "The two moons may be a problem for Wolfman\n",
    "But the Mummy will appreciate the lack of humidity\n",
    "We added a different line in the other copy\n",
    "The two moons may be a problem for Wolfman\n",
    "But the Mummy will appreciate the lack of humidity\" > mars.txt"
   ]
  },
  {
   "cell_type": "code",
   "execution_count": 46,
   "id": "39a069c7-152b-4d26-ba8a-2ebedc40c357",
   "metadata": {
    "slideshow": {
     "slide_type": "subslide"
    },
    "tags": []
   },
   "outputs": [
    {
     "name": "stdout",
     "output_type": "stream",
     "text": [
      "Cold and dry, but everything is my favorite color\n",
      "We added a different line in the other copy\n",
      "The two moons may be a problem for Wolfman\n",
      "But the Mummy will appreciate the lack of humidity\n",
      "The two moons may be a problem for Wolfman\n",
      "But the Mummy will appreciate the lack of humidity\n",
      "We added a different line in the other copy\n",
      "The two moons may be a problem for Wolfman\n",
      "But the Mummy will appreciate the lack of humidity\n"
     ]
    }
   ],
   "source": [
    "cat mars.txt"
   ]
  },
  {
   "cell_type": "code",
   "execution_count": 47,
   "id": "21163a83-0b16-4cc7-8f8a-94f96671c111",
   "metadata": {
    "slideshow": {
     "slide_type": "subslide"
    },
    "tags": []
   },
   "outputs": [
    {
     "name": "stdout",
     "output_type": "stream",
     "text": [
      "[main bfad560] resolve conflicts\n",
      " 1 file changed, 9 insertions(+), 1 deletion(-)\n",
      " rewrite mars.txt (100%)\n"
     ]
    }
   ],
   "source": [
    "git add mars.txt\n",
    "git commit -m \"resolve conflicts\""
   ]
  },
  {
   "cell_type": "code",
   "execution_count": 48,
   "id": "86bedc21-4a98-40da-99cf-8d758894f2e2",
   "metadata": {
    "slideshow": {
     "slide_type": "subslide"
    },
    "tags": []
   },
   "outputs": [
    {
     "name": "stdout",
     "output_type": "stream",
     "text": [
      "Enumerating objects: 5, done.\n",
      "Counting objects: 100% (5/5), done.\n",
      "Delta compression using up to 4 threads\n",
      "Compressing objects: 100% (3/3), done.\n",
      "Writing objects: 100% (3/3), 321 bytes | 160.00 KiB/s, done.\n",
      "Total 3 (delta 1), reused 0 (delta 0), pack-reused 0\n",
      "remote: Resolving deltas: 100% (1/1), completed with 1 local object.        \n",
      "To github.com:zdshaoteach/test.git\n",
      "   b4fa934..bfad560  main -> main\n"
     ]
    }
   ],
   "source": [
    "git push origin main"
   ]
  },
  {
   "cell_type": "markdown",
   "id": "016bbeec-e56c-4def-90ae-656d185e0f68",
   "metadata": {
    "slideshow": {
     "slide_type": "slide"
    },
    "tags": []
   },
   "source": [
    "### the collaborator pulls from the remote"
   ]
  },
  {
   "cell_type": "code",
   "execution_count": 49,
   "id": "84de6b69-9b61-4d5d-91e4-d60b9d566e32",
   "metadata": {
    "slideshow": {
     "slide_type": "subslide"
    },
    "tags": []
   },
   "outputs": [],
   "source": [
    "cd ~/workshop/planets"
   ]
  },
  {
   "cell_type": "code",
   "execution_count": 50,
   "id": "5414b5b5-8e26-476d-b297-4d6344767cff",
   "metadata": {
    "slideshow": {
     "slide_type": "fragment"
    },
    "tags": []
   },
   "outputs": [
    {
     "name": "stdout",
     "output_type": "stream",
     "text": [
      "/home/pi/workshop/planets\n"
     ]
    }
   ],
   "source": [
    "pwd"
   ]
  },
  {
   "cell_type": "code",
   "execution_count": 51,
   "id": "bbf087f0-16ce-4cfb-af5c-75153a3ea117",
   "metadata": {
    "slideshow": {
     "slide_type": "subslide"
    },
    "tags": []
   },
   "outputs": [
    {
     "name": "stdout",
     "output_type": "stream",
     "text": [
      "Cold and dry, but everything is my favorite color\n",
      "We added a different line in the other copy\n",
      "The two moons may be a problem for Wolfman\n",
      "But the Mummy will appreciate the lack of humidity\n",
      "The two moons may be a problem for Wolfman\n",
      "But the Mummy will appreciate the lack of humidity\n",
      "We added a different line in the other copy\n",
      "The two moons may be a problem for Wolfman\n",
      "But the Mummy will appreciate the lack of humidity\n"
     ]
    }
   ],
   "source": [
    "cat mars.txt"
   ]
  },
  {
   "cell_type": "code",
   "execution_count": 52,
   "id": "bc73d810-7b86-4d71-ba5a-dad8088dc294",
   "metadata": {
    "slideshow": {
     "slide_type": "subslide"
    },
    "tags": []
   },
   "outputs": [
    {
     "name": "stdout",
     "output_type": "stream",
     "text": [
      "hint: Pulling without specifying how to reconcile divergent branches is\n",
      "hint: discouraged. You can squelch this message by running one of the following\n",
      "hint: commands sometime before your next pull:\n",
      "hint: \n",
      "hint:   git config pull.rebase false  # merge (the default strategy)\n",
      "hint:   git config pull.rebase true   # rebase\n",
      "hint:   git config pull.ff only       # fast-forward only\n",
      "hint: \n",
      "hint: You can replace \"git config\" with \"git config --global\" to set a default\n",
      "hint: preference for all repositories. You can also pass --rebase, --no-rebase,\n",
      "hint: or --ff-only on the command line to override the configured default per\n",
      "hint: invocation.\n",
      "From github.com:zdshaoteach/test\n",
      " * branch            main       -> FETCH_HEAD\n",
      "Already up to date.\n"
     ]
    }
   ],
   "source": [
    "git pull origin main"
   ]
  },
  {
   "cell_type": "code",
   "execution_count": 53,
   "id": "db06f175-501c-47e2-977e-cbcbdadfc349",
   "metadata": {
    "slideshow": {
     "slide_type": "subslide"
    },
    "tags": []
   },
   "outputs": [
    {
     "name": "stdout",
     "output_type": "stream",
     "text": [
      "Cold and dry, but everything is my favorite color\n",
      "We added a different line in the other copy\n",
      "The two moons may be a problem for Wolfman\n",
      "But the Mummy will appreciate the lack of humidity\n",
      "The two moons may be a problem for Wolfman\n",
      "But the Mummy will appreciate the lack of humidity\n",
      "We added a different line in the other copy\n",
      "The two moons may be a problem for Wolfman\n",
      "But the Mummy will appreciate the lack of humidity\n"
     ]
    }
   ],
   "source": [
    "cat mars.txt"
   ]
  }
 ],
 "metadata": {
  "kernelspec": {
   "display_name": "Bash",
   "language": "bash",
   "name": "bash"
  },
  "language_info": {
   "codemirror_mode": "shell",
   "file_extension": ".sh",
   "mimetype": "text/x-sh",
   "name": "bash"
  }
 },
 "nbformat": 4,
 "nbformat_minor": 5
}
