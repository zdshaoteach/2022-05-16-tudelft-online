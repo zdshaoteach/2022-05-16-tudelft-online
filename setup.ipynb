{
 "cells": [
  {
   "cell_type": "code",
   "execution_count": 2,
   "id": "1ca614ae-dc34-46fa-a2bb-29f50c751501",
   "metadata": {},
   "outputs": [],
   "source": [
    "import shutil"
   ]
  },
  {
   "cell_type": "code",
   "execution_count": null,
   "id": "e65ea3bb-1331-445f-b057-df753385fd41",
   "metadata": {},
   "outputs": [],
   "source": [
    "src = 'xgit-01.ipynb'\n",
    "for i in range(2,11):\n",
    "    dst = 'git-{0:02}.ipynb'.format(i)\n",
    "    shutil.copyfile(src, dst)"
   ]
  },
  {
   "cell_type": "code",
   "execution_count": 3,
   "id": "6e831c83-222a-4a43-9922-9a3fa6ad0425",
   "metadata": {},
   "outputs": [],
   "source": [
    "src = 'python-07.ipynb'\n",
    "for i in range(9,13):\n",
    "    dst = 'python-{0:02}.ipynb'.format(i)\n",
    "    shutil.copyfile(src, dst)"
   ]
  },
  {
   "cell_type": "code",
   "execution_count": null,
   "id": "e50bc145-ea0b-404c-990d-471b7b84a3b4",
   "metadata": {},
   "outputs": [],
   "source": []
  }
 ],
 "metadata": {
  "kernelspec": {
   "display_name": "Python 3 (ipykernel)",
   "language": "python",
   "name": "python3"
  },
  "language_info": {
   "codemirror_mode": {
    "name": "ipython",
    "version": 3
   },
   "file_extension": ".py",
   "mimetype": "text/x-python",
   "name": "python",
   "nbconvert_exporter": "python",
   "pygments_lexer": "ipython3",
   "version": "3.9.12"
  }
 },
 "nbformat": 4,
 "nbformat_minor": 5
}
