{
 "cells": [
  {
   "cell_type": "code",
   "execution_count": 1,
   "id": "1ca614ae-dc34-46fa-a2bb-29f50c751501",
   "metadata": {},
   "outputs": [],
   "source": [
    "import shutil"
   ]
  },
  {
   "cell_type": "code",
   "execution_count": null,
   "id": "e65ea3bb-1331-445f-b057-df753385fd41",
   "metadata": {},
   "outputs": [],
   "source": [
    "src = 'xgit-01.ipynb'\n",
    "for i in range(2,11):\n",
    "    dst = 'git-{0:02}.ipynb'.format(i)\n",
    "    shutil.copyfile(src, dst)"
   ]
  },
  {
   "cell_type": "code",
   "execution_count": null,
   "id": "6e831c83-222a-4a43-9922-9a3fa6ad0425",
   "metadata": {},
   "outputs": [],
   "source": [
    "src = 'xpython-07.ipynb'\n",
    "for i in range(8,13):\n",
    "    dst = 'python-{0:02}.ipynb'.format(i)\n",
    "    shutil.copyfile(src, dst)"
   ]
  }
 ],
 "metadata": {
  "kernelspec": {
   "display_name": "Python 3 (ipykernel)",
   "language": "python",
   "name": "python3"
  },
  "language_info": {
   "codemirror_mode": {
    "name": "ipython",
    "version": 3
   },
   "file_extension": ".py",
   "mimetype": "text/x-python",
   "name": "python",
   "nbconvert_exporter": "python",
   "pygments_lexer": "ipython3",
   "version": "3.9.12"
  }
 },
 "nbformat": 4,
 "nbformat_minor": 5
}
