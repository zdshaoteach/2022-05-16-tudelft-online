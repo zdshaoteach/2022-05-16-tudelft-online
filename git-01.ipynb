{
 "cells": [
  {
   "cell_type": "markdown",
   "id": "65340e16-7e6a-4bc7-b1c7-b972e46a5851",
   "metadata": {
    "slideshow": {
     "slide_type": "slide"
    },
    "tags": []
   },
   "source": [
    "# Git 01 Automated Version Control"
   ]
  },
  {
   "cell_type": "markdown",
   "id": "1e375169-df9f-4a31-a306-b8073721d6f3",
   "metadata": {
    "slideshow": {
     "slide_type": "fragment"
    },
    "tags": []
   },
   "source": [
    "[course link](https://swcarpentry.github.io/git-novice/index.html)\n",
    "\n",
    "- duration: 10 mins\n",
    "- why do we use `Git`?"
   ]
  },
  {
   "cell_type": "markdown",
   "id": "f2802f26-1fbf-42af-bd54-9af92a117cbb",
   "metadata": {
    "slideshow": {
     "slide_type": "slide"
    },
    "tags": []
   },
   "source": [
    "### trace modifications and versions, especially during collaboration\n",
    "\n",
    "![width: 50%](https://swcarpentry.github.io/git-novice/fig/phd101212s.png)"
   ]
  },
  {
   "cell_type": "markdown",
   "id": "c1bb2a03-9404-4f33-8c93-0a97ed27370e",
   "metadata": {
    "slideshow": {
     "slide_type": "subslide"
    },
    "tags": []
   },
   "source": [
    "### track modifications\n",
    "\n",
    "![](https://swcarpentry.github.io/git-novice/fig/play-changes.svg)"
   ]
  },
  {
   "cell_type": "markdown",
   "id": "7dbd1045-87b6-4260-961c-1958d888c7a6",
   "metadata": {
    "slideshow": {
     "slide_type": "subslide"
    },
    "tags": []
   },
   "source": [
    "### split versions\n",
    "\n",
    "![](https://swcarpentry.github.io/git-novice/fig/versions.svg)"
   ]
  },
  {
   "cell_type": "markdown",
   "id": "1cffcf7d-7d23-441e-ba48-cd5ce252fa2b",
   "metadata": {
    "slideshow": {
     "slide_type": "subslide"
    },
    "tags": []
   },
   "source": [
    "### merge changes\n",
    "\n",
    "![](https://swcarpentry.github.io/git-novice/fig/merge.svg)"
   ]
  },
  {
   "cell_type": "markdown",
   "id": "2b891085-0921-4128-a300-f2bdd1d6fc0e",
   "metadata": {
    "slideshow": {
     "slide_type": "slide"
    },
    "tags": []
   },
   "source": [
    "## Git concepts and keywords"
   ]
  },
  {
   "cell_type": "markdown",
   "id": "a48e1b71-49c0-473d-8407-e7ad539f92f9",
   "metadata": {
    "slideshow": {
     "slide_type": "subslide"
    },
    "tags": []
   },
   "source": [
    "- repository: container `repo`\n",
    "- branches: versions\n",
    "- working copy: local copy\n",
    "- pull: sync from repo\n",
    "- stage and commit: track\n",
    "- push: sync to repo\n",
    "- conflicts\n",
    "- fork: link/reference to other repos\n",
    "\n",
    "[reference: Git for Beginners](https://developerhowto.com/2018/10/12/git-for-beginners/)"
   ]
  },
  {
   "cell_type": "markdown",
   "id": "b56af99b-85ed-4f67-a321-6fd48d9ca492",
   "metadata": {
    "slideshow": {
     "slide_type": "subslide"
    },
    "tags": []
   },
   "source": [
    "repositories\n",
    "\n",
    "![](https://docs.microsoft.com/en-us/devops/_img/git_repositories.png)"
   ]
  },
  {
   "cell_type": "markdown",
   "id": "60d9b2fc-28e8-4ead-bffb-e088c18784b1",
   "metadata": {
    "slideshow": {
     "slide_type": "subslide"
    },
    "tags": []
   },
   "source": [
    "branches\n",
    "\n",
    "![](https://www.nobledesktop.com/image/classExamples/git/branches.png)"
   ]
  },
  {
   "cell_type": "markdown",
   "id": "d768bbbb-2f93-491a-a42f-b9c4d2fc66aa",
   "metadata": {
    "slideshow": {
     "slide_type": "subslide"
    },
    "tags": []
   },
   "source": [
    "[stage and commit](https://coderefinery.github.io/git-intro/basics/)\n",
    "\n",
    "![](https://coderefinery.github.io/git-intro/_images/git_stage_commit.svg)"
   ]
  },
  {
   "cell_type": "code",
   "execution_count": null,
   "id": "a1965337-d244-48fe-ab90-a4c6a4e671cb",
   "metadata": {},
   "outputs": [],
   "source": []
  }
 ],
 "metadata": {
  "kernelspec": {
   "display_name": "Python 3 (ipykernel)",
   "language": "python",
   "name": "python3"
  },
  "language_info": {
   "codemirror_mode": {
    "name": "ipython",
    "version": 3
   },
   "file_extension": ".py",
   "mimetype": "text/x-python",
   "name": "python",
   "nbconvert_exporter": "python",
   "pygments_lexer": "ipython3",
   "version": "3.9.12"
  }
 },
 "nbformat": 4,
 "nbformat_minor": 5
}
