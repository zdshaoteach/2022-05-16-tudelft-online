{
 "cells": [
  {
   "cell_type": "code",
   "execution_count": 1,
   "id": "bc4f250c-4dd8-414b-b8be-d1506155eaa4",
   "metadata": {},
   "outputs": [],
   "source": [
    "!git config --global user.name \"drssth\"\n",
    "!git config --global user.email \"drssth@gmail.com\""
   ]
  },
  {
   "cell_type": "code",
   "execution_count": 2,
   "id": "f2ca4fa9-3953-462d-ba7a-32e2086c2ca5",
   "metadata": {},
   "outputs": [],
   "source": [
    "!git config --global core.autocrlf input"
   ]
  },
  {
   "cell_type": "code",
   "execution_count": 3,
   "id": "bd4f16ec-b8ea-4b5e-b0ab-abcbdc8fc927",
   "metadata": {},
   "outputs": [
    {
     "name": "stdout",
     "output_type": "stream",
     "text": [
      "/home/doris/teach\n"
     ]
    }
   ],
   "source": [
    "!pwd"
   ]
  },
  {
   "cell_type": "code",
   "execution_count": 4,
   "id": "530a460b-e1ff-4636-a79a-c438de2bef7f",
   "metadata": {},
   "outputs": [],
   "source": [
    "import os, os.path"
   ]
  },
  {
   "cell_type": "code",
   "execution_count": null,
   "id": "7469c343-5c7b-4dba-96c4-85b02e69f800",
   "metadata": {},
   "outputs": [],
   "source": []
  },
  {
   "cell_type": "code",
   "execution_count": 5,
   "id": "20f5a0ed-d9f9-41c0-896e-174cebeb9ad0",
   "metadata": {},
   "outputs": [],
   "source": [
    "os.chdir('2022-05-16-tudelft-online')"
   ]
  },
  {
   "cell_type": "code",
   "execution_count": 6,
   "id": "9dcb7d5e-580d-42fa-bab3-c81f6ec6afa5",
   "metadata": {},
   "outputs": [
    {
     "name": "stdout",
     "output_type": "stream",
     "text": [
      "/home/doris/teach/2022-05-16-tudelft-online\n"
     ]
    }
   ],
   "source": [
    "!pwd"
   ]
  },
  {
   "cell_type": "code",
   "execution_count": 7,
   "id": "69585434-032f-4e3f-a4e0-ede49b7a6da0",
   "metadata": {},
   "outputs": [],
   "source": [
    "!echo \"# 2022-05-16-tudelft-online\" >> README.md"
   ]
  },
  {
   "cell_type": "code",
   "execution_count": 8,
   "id": "40839cd3-9268-40a1-854d-1bba77c3de61",
   "metadata": {},
   "outputs": [
    {
     "name": "stdout",
     "output_type": "stream",
     "text": [
      "\u001b[33mhint: Using 'master' as the name for the initial branch. This default branch name\u001b[m\n",
      "\u001b[33mhint: is subject to change. To configure the initial branch name to use in all\u001b[m\n",
      "\u001b[33mhint: of your new repositories, which will suppress this warning, call:\u001b[m\n",
      "\u001b[33mhint: \u001b[m\n",
      "\u001b[33mhint: \tgit config --global init.defaultBranch <name>\u001b[m\n",
      "\u001b[33mhint: \u001b[m\n",
      "\u001b[33mhint: Names commonly chosen instead of 'master' are 'main', 'trunk' and\u001b[m\n",
      "\u001b[33mhint: 'development'. The just-created branch can be renamed via this command:\u001b[m\n",
      "\u001b[33mhint: \u001b[m\n",
      "\u001b[33mhint: \tgit branch -m <name>\u001b[m\n",
      "Initialized empty Git repository in /home/doris/teach/2022-05-16-tudelft-online/.git/\n"
     ]
    }
   ],
   "source": [
    "!git init"
   ]
  },
  {
   "cell_type": "code",
   "execution_count": 9,
   "id": "8823909d-153e-4d77-99bf-e55b23045e3d",
   "metadata": {},
   "outputs": [
    {
     "name": "stdout",
     "output_type": "stream",
     "text": [
      ".  ..  .git  README.md\n"
     ]
    }
   ],
   "source": [
    "!ls -a"
   ]
  },
  {
   "cell_type": "code",
   "execution_count": 10,
   "id": "4c8dd13b-ecde-4668-9f5f-33d8f39371cc",
   "metadata": {},
   "outputs": [],
   "source": [
    "!git add README.md"
   ]
  },
  {
   "cell_type": "code",
   "execution_count": 11,
   "id": "6b58302a-af60-4138-87fc-e908887029e5",
   "metadata": {},
   "outputs": [
    {
     "name": "stdout",
     "output_type": "stream",
     "text": [
      "[master (root-commit) 4f5e43d] first commit\n",
      " 1 file changed, 1 insertion(+)\n",
      " create mode 100644 README.md\n"
     ]
    }
   ],
   "source": [
    "!git commit -m \"first commit\""
   ]
  },
  {
   "cell_type": "code",
   "execution_count": 12,
   "id": "9e9fb9c3-0e8b-4d56-87fd-7065cd1ea8d2",
   "metadata": {},
   "outputs": [],
   "source": [
    "!git branch -M main"
   ]
  },
  {
   "cell_type": "code",
   "execution_count": 13,
   "id": "19004c1a-1d45-4520-8fe8-070a9011366a",
   "metadata": {},
   "outputs": [],
   "source": [
    "!git remote add origin https://github.com/4TUResearchData-Carpentries/2022-05-16-tudelft-online.git"
   ]
  },
  {
   "cell_type": "code",
   "execution_count": null,
   "id": "2de43e61-ab96-4071-bd92-5ca29d9ce3a4",
   "metadata": {},
   "outputs": [
    {
     "name": "stdout",
     "output_type": "stream",
     "text": [
      "Username for 'https://github.com': "
     ]
    }
   ],
   "source": [
    "!git push -u origin main"
   ]
  },
  {
   "cell_type": "code",
   "execution_count": null,
   "id": "4e0ef681-0545-4ad2-bebf-f0e5273e1e2c",
   "metadata": {},
   "outputs": [],
   "source": []
  }
 ],
 "metadata": {
  "kernelspec": {
   "display_name": "Python 3 (ipykernel)",
   "language": "python",
   "name": "python3"
  },
  "language_info": {
   "codemirror_mode": {
    "name": "ipython",
    "version": 3
   },
   "file_extension": ".py",
   "mimetype": "text/x-python",
   "name": "python",
   "nbconvert_exporter": "python",
   "pygments_lexer": "ipython3",
   "version": "3.9.12"
  }
 },
 "nbformat": 4,
 "nbformat_minor": 5
}
