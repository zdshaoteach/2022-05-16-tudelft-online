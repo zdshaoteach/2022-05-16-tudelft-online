{
 "cells": [
  {
   "cell_type": "markdown",
   "id": "0c14a5de-d7b5-45ad-bca8-14bc4e2e6d81",
   "metadata": {},
   "source": [
    "# python overview\n",
    "\n",
    "- variable data types\n",
    "    - numerical int float\n",
    "    - list iteration\n",
    "    - string\n",
    "    - numpy loadtxt\n",
    "    - range \n",
    "    - slices\n",
    "\n",
    "- control over the code\n",
    "    - conditions: code branch\n",
    "    - loops\n",
    "    \n",
    "- functions\n",
    "\n",
    "- file system\n",
    "    - glob\n",
    "    \n",
    "- other functionalities\n",
    "    - plot"
   ]
  },
  {
   "cell_type": "markdown",
   "id": "c4f0fae2-b5c0-4388-a2fa-785ad63706cc",
   "metadata": {},
   "source": [
    "## lesson 07"
   ]
  },
  {
   "cell_type": "code",
   "execution_count": 1,
   "id": "b0019858-8d5d-486f-a83f-daaf5ebe7ef5",
   "metadata": {},
   "outputs": [
    {
     "name": "stdout",
     "output_type": "stream",
     "text": [
      "1\n"
     ]
    }
   ],
   "source": [
    "if True:\n",
    "    print(1)\n",
    "elif True:\n",
    "    print(2)\n",
    "elif True:\n",
    "    print(3)\n",
    "else:\n",
    "    print(4)"
   ]
  },
  {
   "cell_type": "code",
   "execution_count": 2,
   "id": "511590c5-8835-4fd9-b797-c9b6f440bde7",
   "metadata": {},
   "outputs": [
    {
     "name": "stdout",
     "output_type": "stream",
     "text": [
      "greater than 100\n"
     ]
    }
   ],
   "source": [
    "num = 105\n",
    "if num > 100:\n",
    "    print('greater than 100')\n",
    "elif num > 50:\n",
    "    print('50 < num <= 100')\n",
    "elif num > 10:\n",
    "    print('10 < num <= 50')\n",
    "else:\n",
    "    print('num <= 10')"
   ]
  },
  {
   "cell_type": "code",
   "execution_count": 3,
   "id": "82430194-7320-4d16-ab13-85fdb9817245",
   "metadata": {},
   "outputs": [
    {
     "name": "stdout",
     "output_type": "stream",
     "text": [
      "num >= 10\n"
     ]
    }
   ],
   "source": [
    "num = -7\n",
    "if num > 100:\n",
    "    print('greater than 100')\n",
    "elif num > 50:\n",
    "    print('50 < num <= 100')\n",
    "elif num > 10:\n",
    "    print('10 < num <= 50')\n",
    "else:\n",
    "    print('num <= 10')"
   ]
  },
  {
   "cell_type": "code",
   "execution_count": 4,
   "id": "f71c446e-9f92-439a-bfcb-8b5ea79bb0e8",
   "metadata": {},
   "outputs": [
    {
     "name": "stdout",
     "output_type": "stream",
     "text": [
      "-1 < num < 1\n"
     ]
    }
   ],
   "source": [
    "num = 0\n",
    "if num > -1 and num < 1:\n",
    "    print('-1 < num < 1')\n",
    "elif -3 < num and num < 3:\n",
    "    print('num in [-3, 3] is not in [-1, 1]')\n",
    "else:\n",
    "    print('num is not in [-3, 3]')"
   ]
  },
  {
   "cell_type": "code",
   "execution_count": 5,
   "id": "bf71535a-cda7-42b7-8f81-b1160b483023",
   "metadata": {},
   "outputs": [
    {
     "name": "stdout",
     "output_type": "stream",
     "text": [
      "num is not in [-3, 3]\n"
     ]
    }
   ],
   "source": [
    "num = 7\n",
    "if num > -1 and num < 1:\n",
    "    print('-1 < num < 1')\n",
    "elif -3 < num and num < 3:\n",
    "    print('num in [-3, 3] is not in [-1, 1]')\n",
    "else:\n",
    "    print('num is not in [-3, 3]')"
   ]
  },
  {
   "cell_type": "code",
   "execution_count": 6,
   "id": "7608d030-c7ba-45ae-8ec9-dbbd7b80dfc1",
   "metadata": {},
   "outputs": [
    {
     "name": "stdout",
     "output_type": "stream",
     "text": [
      "num is not in (-3, 3)\n"
     ]
    }
   ],
   "source": [
    "num = 3\n",
    "if num > -1 and num < 1:\n",
    "    print('-1 < num < 1')\n",
    "elif -3 < num and num < 3:\n",
    "    print('num in (-3, 3) is not in (-1, 1)')\n",
    "else:\n",
    "    print('num is not in (-3, 3)')"
   ]
  },
  {
   "cell_type": "code",
   "execution_count": 7,
   "id": "eacd2a6c-d4fd-4b18-9c00-6606bf23dcb6",
   "metadata": {},
   "outputs": [
    {
     "name": "stdout",
     "output_type": "stream",
     "text": [
      "num in (-3, 3) is not in (-1, 1)\n"
     ]
    }
   ],
   "source": [
    "num = -1\n",
    "if num > -1 and num < 1:\n",
    "    print('-1 < num < 1')\n",
    "elif -3 < num and num < 3:\n",
    "    print('num in (-3, 3) is not in (-1, 1)')\n",
    "else:\n",
    "    print('num is not in (-3, 3)')"
   ]
  },
  {
   "cell_type": "markdown",
   "id": "0e4596ab-0080-492e-800a-fef446e96c0c",
   "metadata": {},
   "source": [
    "math\n",
    "\n",
    "[1, inf) (1, inf)"
   ]
  },
  {
   "cell_type": "code",
   "execution_count": 8,
   "id": "a3b9bff8-779e-4472-bb8c-91798e8be4cd",
   "metadata": {},
   "outputs": [
    {
     "name": "stdout",
     "output_type": "stream",
     "text": [
      "['ALLOW_THREADS', 'AxisError', 'BUFSIZE', 'CLIP', 'ComplexWarning', 'DataSource', 'ERR_CALL', 'ERR_DEFAULT', 'ERR_IGNORE', 'ERR_LOG', 'ERR_PRINT', 'ERR_RAISE', 'ERR_WARN', 'FLOATING_POINT_SUPPORT', 'FPE_DIVIDEBYZERO', 'FPE_INVALID', 'FPE_OVERFLOW', 'FPE_UNDERFLOW', 'False_', 'Inf', 'Infinity', 'MAXDIMS', 'MAY_SHARE_BOUNDS', 'MAY_SHARE_EXACT', 'ModuleDeprecationWarning', 'NAN', 'NINF', 'NZERO', 'NaN', 'PINF', 'PZERO', 'RAISE', 'RankWarning', 'SHIFT_DIVIDEBYZERO', 'SHIFT_INVALID', 'SHIFT_OVERFLOW', 'SHIFT_UNDERFLOW', 'ScalarType', 'Tester', 'TooHardError', 'True_', 'UFUNC_BUFSIZE_DEFAULT', 'UFUNC_PYVALS_NAME', 'VisibleDeprecationWarning', 'WRAP', '_CopyMode', '_NoValue', '_UFUNC_API', '__NUMPY_SETUP__', '__all__', '__builtins__', '__cached__', '__config__', '__deprecated_attrs__', '__dir__', '__doc__', '__expired_functions__', '__file__', '__getattr__', '__git_version__', '__loader__', '__name__', '__package__', '__path__', '__spec__', '__version__', '_add_newdoc_ufunc', '_distributor_init', '_financial_names', '_from_dlpack', '_globals', '_mat', '_pytesttester', '_version', 'abs', 'absolute', 'add', 'add_docstring', 'add_newdoc', 'add_newdoc_ufunc', 'alen', 'all', 'allclose', 'alltrue', 'amax', 'amin', 'angle', 'any', 'append', 'apply_along_axis', 'apply_over_axes', 'arange', 'arccos', 'arccosh', 'arcsin', 'arcsinh', 'arctan', 'arctan2', 'arctanh', 'argmax', 'argmin', 'argpartition', 'argsort', 'argwhere', 'around', 'array', 'array2string', 'array_equal', 'array_equiv', 'array_repr', 'array_split', 'array_str', 'asanyarray', 'asarray', 'asarray_chkfinite', 'ascontiguousarray', 'asfarray', 'asfortranarray', 'asmatrix', 'asscalar', 'atleast_1d', 'atleast_2d', 'atleast_3d', 'average', 'bartlett', 'base_repr', 'binary_repr', 'bincount', 'bitwise_and', 'bitwise_not', 'bitwise_or', 'bitwise_xor', 'blackman', 'block', 'bmat', 'bool8', 'bool_', 'broadcast', 'broadcast_arrays', 'broadcast_shapes', 'broadcast_to', 'busday_count', 'busday_offset', 'busdaycalendar', 'byte', 'byte_bounds', 'bytes0', 'bytes_', 'c_', 'can_cast', 'cast', 'cbrt', 'cdouble', 'ceil', 'cfloat', 'char', 'character', 'chararray', 'choose', 'clip', 'clongdouble', 'clongfloat', 'column_stack', 'common_type', 'compare_chararrays', 'compat', 'complex128', 'complex256', 'complex64', 'complex_', 'complexfloating', 'compress', 'concatenate', 'conj', 'conjugate', 'convolve', 'copy', 'copysign', 'copyto', 'core', 'corrcoef', 'correlate', 'cos', 'cosh', 'count_nonzero', 'cov', 'cross', 'csingle', 'ctypeslib', 'cumprod', 'cumproduct', 'cumsum', 'datetime64', 'datetime_as_string', 'datetime_data', 'deg2rad', 'degrees', 'delete', 'deprecate', 'deprecate_with_doc', 'diag', 'diag_indices', 'diag_indices_from', 'diagflat', 'diagonal', 'diff', 'digitize', 'disp', 'divide', 'divmod', 'dot', 'double', 'dsplit', 'dstack', 'dtype', 'e', 'ediff1d', 'einsum', 'einsum_path', 'emath', 'empty', 'empty_like', 'equal', 'errstate', 'euler_gamma', 'exp', 'exp2', 'expand_dims', 'expm1', 'extract', 'eye', 'fabs', 'fastCopyAndTranspose', 'fft', 'fill_diagonal', 'find_common_type', 'finfo', 'fix', 'flatiter', 'flatnonzero', 'flexible', 'flip', 'fliplr', 'flipud', 'float128', 'float16', 'float32', 'float64', 'float_', 'float_power', 'floating', 'floor', 'floor_divide', 'fmax', 'fmin', 'fmod', 'format_float_positional', 'format_float_scientific', 'format_parser', 'frexp', 'frombuffer', 'fromfile', 'fromfunction', 'fromiter', 'frompyfunc', 'fromregex', 'fromstring', 'full', 'full_like', 'gcd', 'generic', 'genfromtxt', 'geomspace', 'get_array_wrap', 'get_include', 'get_printoptions', 'getbufsize', 'geterr', 'geterrcall', 'geterrobj', 'gradient', 'greater', 'greater_equal', 'half', 'hamming', 'hanning', 'heaviside', 'histogram', 'histogram2d', 'histogram_bin_edges', 'histogramdd', 'hsplit', 'hstack', 'hypot', 'i0', 'identity', 'iinfo', 'imag', 'in1d', 'index_exp', 'indices', 'inexact', 'inf', 'info', 'infty', 'inner', 'insert', 'int0', 'int16', 'int32', 'int64', 'int8', 'int_', 'intc', 'integer', 'interp', 'intersect1d', 'intp', 'invert', 'is_busday', 'isclose', 'iscomplex', 'iscomplexobj', 'isfinite', 'isfortran', 'isin', 'isinf', 'isnan', 'isnat', 'isneginf', 'isposinf', 'isreal', 'isrealobj', 'isscalar', 'issctype', 'issubclass_', 'issubdtype', 'issubsctype', 'iterable', 'ix_', 'kaiser', 'kernel_version', 'kron', 'lcm', 'ldexp', 'left_shift', 'less', 'less_equal', 'lexsort', 'lib', 'linalg', 'linspace', 'little_endian', 'load', 'loadtxt', 'log', 'log10', 'log1p', 'log2', 'logaddexp', 'logaddexp2', 'logical_and', 'logical_not', 'logical_or', 'logical_xor', 'logspace', 'longcomplex', 'longdouble', 'longfloat', 'longlong', 'lookfor', 'ma', 'mask_indices', 'mat', 'math', 'matmul', 'matrix', 'matrixlib', 'max', 'maximum', 'maximum_sctype', 'may_share_memory', 'mean', 'median', 'memmap', 'meshgrid', 'mgrid', 'min', 'min_scalar_type', 'minimum', 'mintypecode', 'mod', 'modf', 'moveaxis', 'msort', 'multiply', 'nan', 'nan_to_num', 'nanargmax', 'nanargmin', 'nancumprod', 'nancumsum', 'nanmax', 'nanmean', 'nanmedian', 'nanmin', 'nanpercentile', 'nanprod', 'nanquantile', 'nanstd', 'nansum', 'nanvar', 'nbytes', 'ndarray', 'ndenumerate', 'ndim', 'ndindex', 'nditer', 'negative', 'nested_iters', 'newaxis', 'nextafter', 'nonzero', 'not_equal', 'numarray', 'number', 'obj2sctype', 'object0', 'object_', 'ogrid', 'oldnumeric', 'ones', 'ones_like', 'os', 'outer', 'packbits', 'pad', 'partition', 'percentile', 'pi', 'piecewise', 'place', 'poly', 'poly1d', 'polyadd', 'polyder', 'polydiv', 'polyfit', 'polyint', 'polymul', 'polynomial', 'polysub', 'polyval', 'positive', 'power', 'printoptions', 'prod', 'product', 'promote_types', 'ptp', 'put', 'put_along_axis', 'putmask', 'quantile', 'r_', 'rad2deg', 'radians', 'random', 'ravel', 'ravel_multi_index', 'real', 'real_if_close', 'rec', 'recarray', 'recfromcsv', 'recfromtxt', 'reciprocal', 'record', 'remainder', 'repeat', 'require', 'reshape', 'resize', 'result_type', 'right_shift', 'rint', 'roll', 'rollaxis', 'roots', 'rot90', 'round', 'round_', 'row_stack', 's_', 'safe_eval', 'save', 'savetxt', 'savez', 'savez_compressed', 'sctype2char', 'sctypeDict', 'sctypes', 'searchsorted', 'select', 'set_numeric_ops', 'set_printoptions', 'set_string_function', 'setbufsize', 'setdiff1d', 'seterr', 'seterrcall', 'seterrobj', 'setxor1d', 'shape', 'shares_memory', 'short', 'show_config', 'sign', 'signbit', 'signedinteger', 'sin', 'sinc', 'single', 'singlecomplex', 'sinh', 'size', 'sometrue', 'sort', 'sort_complex', 'source', 'spacing', 'split', 'sqrt', 'square', 'squeeze', 'stack', 'std', 'str0', 'str_', 'string_', 'subtract', 'sum', 'swapaxes', 'sys', 'take', 'take_along_axis', 'tan', 'tanh', 'tensordot', 'test', 'testing', 'tile', 'timedelta64', 'trace', 'tracemalloc_domain', 'transpose', 'trapz', 'tri', 'tril', 'tril_indices', 'tril_indices_from', 'trim_zeros', 'triu', 'triu_indices', 'triu_indices_from', 'true_divide', 'trunc', 'typecodes', 'typename', 'ubyte', 'ufunc', 'uint', 'uint0', 'uint16', 'uint32', 'uint64', 'uint8', 'uintc', 'uintp', 'ulonglong', 'unicode_', 'union1d', 'unique', 'unpackbits', 'unravel_index', 'unsignedinteger', 'unwrap', 'use_hugepage', 'ushort', 'vander', 'var', 'vdot', 'vectorize', 'version', 'void', 'void0', 'vsplit', 'vstack', 'warnings', 'where', 'who', 'zeros', 'zeros_like']\n"
     ]
    }
   ],
   "source": [
    "import numpy\n",
    "print(dir(numpy))"
   ]
  },
  {
   "cell_type": "code",
   "execution_count": 9,
   "id": "8589507a-0ddb-48a7-b61b-82337d73ef82",
   "metadata": {},
   "outputs": [
    {
     "name": "stdout",
     "output_type": "stream",
     "text": [
      "Help on function loadtxt in module numpy:\n",
      "\n",
      "loadtxt(fname, dtype=<class 'float'>, comments='#', delimiter=None, converters=None, skiprows=0, usecols=None, unpack=False, ndmin=0, encoding='bytes', max_rows=None, *, like=None)\n",
      "    Load data from a text file.\n",
      "    \n",
      "    Each row in the text file must have the same number of values.\n",
      "    \n",
      "    Parameters\n",
      "    ----------\n",
      "    fname : file, str, pathlib.Path, list of str, generator\n",
      "        File, filename, list, or generator to read.  If the filename\n",
      "        extension is ``.gz`` or ``.bz2``, the file is first decompressed. Note\n",
      "        that generators must return bytes or strings. The strings\n",
      "        in a list or produced by a generator are treated as lines.\n",
      "    dtype : data-type, optional\n",
      "        Data-type of the resulting array; default: float.  If this is a\n",
      "        structured data-type, the resulting array will be 1-dimensional, and\n",
      "        each row will be interpreted as an element of the array.  In this\n",
      "        case, the number of columns used must match the number of fields in\n",
      "        the data-type.\n",
      "    comments : str or sequence of str, optional\n",
      "        The characters or list of characters used to indicate the start of a\n",
      "        comment. None implies no comments. For backwards compatibility, byte\n",
      "        strings will be decoded as 'latin1'. The default is '#'.\n",
      "    delimiter : str, optional\n",
      "        The string used to separate values. For backwards compatibility, byte\n",
      "        strings will be decoded as 'latin1'. The default is whitespace.\n",
      "    converters : dict, optional\n",
      "        A dictionary mapping column number to a function that will parse the\n",
      "        column string into the desired value.  E.g., if column 0 is a date\n",
      "        string: ``converters = {0: datestr2num}``.  Converters can also be\n",
      "        used to provide a default value for missing data (but see also\n",
      "        `genfromtxt`): ``converters = {3: lambda s: float(s.strip() or 0)}``.\n",
      "        Default: None.\n",
      "    skiprows : int, optional\n",
      "        Skip the first `skiprows` lines, including comments; default: 0.\n",
      "    usecols : int or sequence, optional\n",
      "        Which columns to read, with 0 being the first. For example,\n",
      "        ``usecols = (1,4,5)`` will extract the 2nd, 5th and 6th columns.\n",
      "        The default, None, results in all columns being read.\n",
      "    \n",
      "        .. versionchanged:: 1.11.0\n",
      "            When a single column has to be read it is possible to use\n",
      "            an integer instead of a tuple. E.g ``usecols = 3`` reads the\n",
      "            fourth column the same way as ``usecols = (3,)`` would.\n",
      "    unpack : bool, optional\n",
      "        If True, the returned array is transposed, so that arguments may be\n",
      "        unpacked using ``x, y, z = loadtxt(...)``.  When used with a\n",
      "        structured data-type, arrays are returned for each field.\n",
      "        Default is False.\n",
      "    ndmin : int, optional\n",
      "        The returned array will have at least `ndmin` dimensions.\n",
      "        Otherwise mono-dimensional axes will be squeezed.\n",
      "        Legal values: 0 (default), 1 or 2.\n",
      "    \n",
      "        .. versionadded:: 1.6.0\n",
      "    encoding : str, optional\n",
      "        Encoding used to decode the inputfile. Does not apply to input streams.\n",
      "        The special value 'bytes' enables backward compatibility workarounds\n",
      "        that ensures you receive byte arrays as results if possible and passes\n",
      "        'latin1' encoded strings to converters. Override this value to receive\n",
      "        unicode arrays and pass strings as input to converters.  If set to None\n",
      "        the system default is used. The default value is 'bytes'.\n",
      "    \n",
      "        .. versionadded:: 1.14.0\n",
      "    max_rows : int, optional\n",
      "        Read `max_rows` lines of content after `skiprows` lines. The default\n",
      "        is to read all the lines.\n",
      "    \n",
      "        .. versionadded:: 1.16.0\n",
      "    like : array_like\n",
      "        Reference object to allow the creation of arrays which are not\n",
      "        NumPy arrays. If an array-like passed in as ``like`` supports\n",
      "        the ``__array_function__`` protocol, the result will be defined\n",
      "        by it. In this case, it ensures the creation of an array object\n",
      "        compatible with that passed in via this argument.\n",
      "    \n",
      "        .. versionadded:: 1.20.0\n",
      "    \n",
      "    Returns\n",
      "    -------\n",
      "    out : ndarray\n",
      "        Data read from the text file.\n",
      "    \n",
      "    See Also\n",
      "    --------\n",
      "    load, fromstring, fromregex\n",
      "    genfromtxt : Load data with missing values handled as specified.\n",
      "    scipy.io.loadmat : reads MATLAB data files\n",
      "    \n",
      "    Notes\n",
      "    -----\n",
      "    This function aims to be a fast reader for simply formatted files.  The\n",
      "    `genfromtxt` function provides more sophisticated handling of, e.g.,\n",
      "    lines with missing values.\n",
      "    \n",
      "    .. versionadded:: 1.10.0\n",
      "    \n",
      "    The strings produced by the Python float.hex method can be used as\n",
      "    input for floats.\n",
      "    \n",
      "    Examples\n",
      "    --------\n",
      "    >>> from io import StringIO   # StringIO behaves like a file object\n",
      "    >>> c = StringIO(\"0 1\\n2 3\")\n",
      "    >>> np.loadtxt(c)\n",
      "    array([[0., 1.],\n",
      "           [2., 3.]])\n",
      "    \n",
      "    >>> d = StringIO(\"M 21 72\\nF 35 58\")\n",
      "    >>> np.loadtxt(d, dtype={'names': ('gender', 'age', 'weight'),\n",
      "    ...                      'formats': ('S1', 'i4', 'f4')})\n",
      "    array([(b'M', 21, 72.), (b'F', 35, 58.)],\n",
      "          dtype=[('gender', 'S1'), ('age', '<i4'), ('weight', '<f4')])\n",
      "    \n",
      "    >>> c = StringIO(\"1,0,2\\n3,0,4\")\n",
      "    >>> x, y = np.loadtxt(c, delimiter=',', usecols=(0, 2), unpack=True)\n",
      "    >>> x\n",
      "    array([1., 3.])\n",
      "    >>> y\n",
      "    array([2., 4.])\n",
      "    \n",
      "    This example shows how `converters` can be used to convert a field\n",
      "    with a trailing minus sign into a negative number.\n",
      "    \n",
      "    >>> s = StringIO('10.01 31.25-\\n19.22 64.31\\n17.57- 63.94')\n",
      "    >>> def conv(fld):\n",
      "    ...     return -float(fld[:-1]) if fld.endswith(b'-') else float(fld)\n",
      "    ...\n",
      "    >>> np.loadtxt(s, converters={0: conv, 1: conv})\n",
      "    array([[ 10.01, -31.25],\n",
      "           [ 19.22,  64.31],\n",
      "           [-17.57,  63.94]])\n",
      "\n"
     ]
    }
   ],
   "source": [
    "help(numpy.loadtxt)"
   ]
  },
  {
   "cell_type": "code",
   "execution_count": 10,
   "id": "2137fc55-8b53-4a4e-8bc9-d081b0ed9d48",
   "metadata": {},
   "outputs": [
    {
     "name": "stdout",
     "output_type": "stream",
     "text": [
      "suspicious\n"
     ]
    }
   ],
   "source": [
    "import numpy\n",
    "\n",
    "data = numpy.loadtxt('data/inflammation-01.csv', delimiter=',')\n",
    "\n",
    "max_cols = numpy.max(data, axis=0)\n",
    "\n",
    "if max_cols[0] == 0 and max_cols[20] == 20:\n",
    "    print('suspicious')\n",
    "elif numpy.sum(numpy.min(data, axis=0)) == 0:\n",
    "    print('minimum add up to 0')\n",
    "else:\n",
    "    print('data looks good')"
   ]
  },
  {
   "cell_type": "markdown",
   "id": "9c94d78e-4280-40c5-a9d8-b69274b506ec",
   "metadata": {},
   "source": [
    "variable = value\n",
    "== > < <= >=\n",
    "value1 == value2"
   ]
  },
  {
   "cell_type": "code",
   "execution_count": 12,
   "id": "2beed543-0ceb-45f9-8e53-d03383f4b4df",
   "metadata": {},
   "outputs": [
    {
     "name": "stdout",
     "output_type": "stream",
     "text": [
      "minimum add up to 0\n"
     ]
    }
   ],
   "source": [
    "import numpy\n",
    "\n",
    "data = numpy.loadtxt('data/inflammation-03.csv', delimiter=',')\n",
    "\n",
    "max_cols = numpy.max(data, axis=0)\n",
    "\n",
    "if max_cols[0] == 0 and max_cols[20] == 20:\n",
    "    print('suspicious')\n",
    "elif numpy.sum(numpy.min(data, axis=0)) == 0:\n",
    "    print('minimum add up to 0')\n",
    "else:\n",
    "    print('data looks good')"
   ]
  },
  {
   "cell_type": "markdown",
   "id": "8ff09556-8e47-480f-9bdd-ee72fb7b0a73",
   "metadata": {},
   "source": [
    "## lesson 08 functions"
   ]
  },
  {
   "cell_type": "code",
   "execution_count": 13,
   "id": "34ede2aa-91ed-4ad2-889b-b6a82d0619da",
   "metadata": {},
   "outputs": [],
   "source": [
    "def fahr_to_celsius(temp):\n",
    "    return (temp - 32) * (5 / 9)"
   ]
  },
  {
   "cell_type": "code",
   "execution_count": 14,
   "id": "a028d876-814e-4a30-aa24-06db630c384c",
   "metadata": {},
   "outputs": [
    {
     "data": {
      "text/plain": [
       "0.0"
      ]
     },
     "execution_count": 14,
     "metadata": {},
     "output_type": "execute_result"
    }
   ],
   "source": [
    "temp_fahr = 32\n",
    "fahr_to_celsius(temp_fahr)"
   ]
  },
  {
   "cell_type": "code",
   "execution_count": null,
   "id": "04078a77-c04c-48ba-8168-4768af056c25",
   "metadata": {},
   "outputs": [],
   "source": [
    "# styles for keywords and built-ins\n",
    "# not run just show\n",
    "None\n",
    "list\n",
    "help\n",
    "def\n",
    "int\n",
    "float\n",
    "for \n",
    "if\n",
    "else\n",
    "elif"
   ]
  },
  {
   "cell_type": "code",
   "execution_count": 15,
   "id": "da385891-a1ba-412b-be22-395122e77fb4",
   "metadata": {},
   "outputs": [
    {
     "ename": "SyntaxError",
     "evalue": "invalid syntax (889725315.py, line 1)",
     "output_type": "error",
     "traceback": [
      "\u001b[0;36m  Input \u001b[0;32mIn [15]\u001b[0;36m\u001b[0m\n\u001b[0;31m    help(for)\u001b[0m\n\u001b[0m         ^\u001b[0m\n\u001b[0;31mSyntaxError\u001b[0m\u001b[0;31m:\u001b[0m invalid syntax\n"
     ]
    }
   ],
   "source": [
    "help(for)"
   ]
  },
  {
   "cell_type": "code",
   "execution_count": 16,
   "id": "5cc0e4f2-0645-4708-8b00-c58cefc8fd46",
   "metadata": {},
   "outputs": [
    {
     "name": "stdout",
     "output_type": "stream",
     "text": [
      "Help on class list in module builtins:\n",
      "\n",
      "class list(object)\n",
      " |  list(iterable=(), /)\n",
      " |  \n",
      " |  Built-in mutable sequence.\n",
      " |  \n",
      " |  If no argument is given, the constructor creates a new empty list.\n",
      " |  The argument must be an iterable if specified.\n",
      " |  \n",
      " |  Methods defined here:\n",
      " |  \n",
      " |  __add__(self, value, /)\n",
      " |      Return self+value.\n",
      " |  \n",
      " |  __contains__(self, key, /)\n",
      " |      Return key in self.\n",
      " |  \n",
      " |  __delitem__(self, key, /)\n",
      " |      Delete self[key].\n",
      " |  \n",
      " |  __eq__(self, value, /)\n",
      " |      Return self==value.\n",
      " |  \n",
      " |  __ge__(self, value, /)\n",
      " |      Return self>=value.\n",
      " |  \n",
      " |  __getattribute__(self, name, /)\n",
      " |      Return getattr(self, name).\n",
      " |  \n",
      " |  __getitem__(...)\n",
      " |      x.__getitem__(y) <==> x[y]\n",
      " |  \n",
      " |  __gt__(self, value, /)\n",
      " |      Return self>value.\n",
      " |  \n",
      " |  __iadd__(self, value, /)\n",
      " |      Implement self+=value.\n",
      " |  \n",
      " |  __imul__(self, value, /)\n",
      " |      Implement self*=value.\n",
      " |  \n",
      " |  __init__(self, /, *args, **kwargs)\n",
      " |      Initialize self.  See help(type(self)) for accurate signature.\n",
      " |  \n",
      " |  __iter__(self, /)\n",
      " |      Implement iter(self).\n",
      " |  \n",
      " |  __le__(self, value, /)\n",
      " |      Return self<=value.\n",
      " |  \n",
      " |  __len__(self, /)\n",
      " |      Return len(self).\n",
      " |  \n",
      " |  __lt__(self, value, /)\n",
      " |      Return self<value.\n",
      " |  \n",
      " |  __mul__(self, value, /)\n",
      " |      Return self*value.\n",
      " |  \n",
      " |  __ne__(self, value, /)\n",
      " |      Return self!=value.\n",
      " |  \n",
      " |  __repr__(self, /)\n",
      " |      Return repr(self).\n",
      " |  \n",
      " |  __reversed__(self, /)\n",
      " |      Return a reverse iterator over the list.\n",
      " |  \n",
      " |  __rmul__(self, value, /)\n",
      " |      Return value*self.\n",
      " |  \n",
      " |  __setitem__(self, key, value, /)\n",
      " |      Set self[key] to value.\n",
      " |  \n",
      " |  __sizeof__(self, /)\n",
      " |      Return the size of the list in memory, in bytes.\n",
      " |  \n",
      " |  append(self, object, /)\n",
      " |      Append object to the end of the list.\n",
      " |  \n",
      " |  clear(self, /)\n",
      " |      Remove all items from list.\n",
      " |  \n",
      " |  copy(self, /)\n",
      " |      Return a shallow copy of the list.\n",
      " |  \n",
      " |  count(self, value, /)\n",
      " |      Return number of occurrences of value.\n",
      " |  \n",
      " |  extend(self, iterable, /)\n",
      " |      Extend list by appending elements from the iterable.\n",
      " |  \n",
      " |  index(self, value, start=0, stop=9223372036854775807, /)\n",
      " |      Return first index of value.\n",
      " |      \n",
      " |      Raises ValueError if the value is not present.\n",
      " |  \n",
      " |  insert(self, index, object, /)\n",
      " |      Insert object before index.\n",
      " |  \n",
      " |  pop(self, index=-1, /)\n",
      " |      Remove and return item at index (default last).\n",
      " |      \n",
      " |      Raises IndexError if list is empty or index is out of range.\n",
      " |  \n",
      " |  remove(self, value, /)\n",
      " |      Remove first occurrence of value.\n",
      " |      \n",
      " |      Raises ValueError if the value is not present.\n",
      " |  \n",
      " |  reverse(self, /)\n",
      " |      Reverse *IN PLACE*.\n",
      " |  \n",
      " |  sort(self, /, *, key=None, reverse=False)\n",
      " |      Sort the list in ascending order and return None.\n",
      " |      \n",
      " |      The sort is in-place (i.e. the list itself is modified) and stable (i.e. the\n",
      " |      order of two equal elements is maintained).\n",
      " |      \n",
      " |      If a key function is given, apply it once to each list item and sort them,\n",
      " |      ascending or descending, according to their function values.\n",
      " |      \n",
      " |      The reverse flag can be set to sort in descending order.\n",
      " |  \n",
      " |  ----------------------------------------------------------------------\n",
      " |  Class methods defined here:\n",
      " |  \n",
      " |  __class_getitem__(...) from builtins.type\n",
      " |      See PEP 585\n",
      " |  \n",
      " |  ----------------------------------------------------------------------\n",
      " |  Static methods defined here:\n",
      " |  \n",
      " |  __new__(*args, **kwargs) from builtins.type\n",
      " |      Create and return a new object.  See help(type) for accurate signature.\n",
      " |  \n",
      " |  ----------------------------------------------------------------------\n",
      " |  Data and other attributes defined here:\n",
      " |  \n",
      " |  __hash__ = None\n",
      "\n"
     ]
    }
   ],
   "source": [
    "help(list)"
   ]
  },
  {
   "cell_type": "code",
   "execution_count": 17,
   "id": "0a4e5cf6-2004-4912-8fe3-cd792982150c",
   "metadata": {},
   "outputs": [
    {
     "name": "stdout",
     "output_type": "stream",
     "text": [
      "Help on NoneType object:\n",
      "\n",
      "class NoneType(object)\n",
      " |  Methods defined here:\n",
      " |  \n",
      " |  __bool__(self, /)\n",
      " |      True if self else False\n",
      " |  \n",
      " |  __repr__(self, /)\n",
      " |      Return repr(self).\n",
      " |  \n",
      " |  ----------------------------------------------------------------------\n",
      " |  Static methods defined here:\n",
      " |  \n",
      " |  __new__(*args, **kwargs) from builtins.type\n",
      " |      Create and return a new object.  See help(type) for accurate signature.\n",
      "\n"
     ]
    }
   ],
   "source": [
    "help(None)"
   ]
  },
  {
   "cell_type": "code",
   "execution_count": 18,
   "id": "8baaf1b4-ff9d-4489-a0d3-f9478268b957",
   "metadata": {},
   "outputs": [],
   "source": [
    "def test_none_return(temp):\n",
    "    temp_converted = (temp - 32) * (5 / 9)"
   ]
  },
  {
   "cell_type": "code",
   "execution_count": 19,
   "id": "bf4fbe2e-e198-4140-bf73-0eac0a5aa713",
   "metadata": {},
   "outputs": [
    {
     "ename": "NameError",
     "evalue": "name 'test_non_return' is not defined",
     "output_type": "error",
     "traceback": [
      "\u001b[0;31m---------------------------------------------------------------------------\u001b[0m",
      "\u001b[0;31mNameError\u001b[0m                                 Traceback (most recent call last)",
      "Input \u001b[0;32mIn [19]\u001b[0m, in \u001b[0;36m<cell line: 1>\u001b[0;34m()\u001b[0m\n\u001b[0;32m----> 1\u001b[0m \u001b[43mtest_non_return\u001b[49m(\u001b[38;5;241m32\u001b[39m)\n",
      "\u001b[0;31mNameError\u001b[0m: name 'test_non_return' is not defined"
     ]
    }
   ],
   "source": [
    "test_non_return(32)"
   ]
  },
  {
   "cell_type": "code",
   "execution_count": 20,
   "id": "7d292a88-51fd-413f-a163-209349035b50",
   "metadata": {},
   "outputs": [
    {
     "ename": "NameError",
     "evalue": "name 'test_non_return' is not defined",
     "output_type": "error",
     "traceback": [
      "\u001b[0;31m---------------------------------------------------------------------------\u001b[0m",
      "\u001b[0;31mNameError\u001b[0m                                 Traceback (most recent call last)",
      "Input \u001b[0;32mIn [20]\u001b[0m, in \u001b[0;36m<cell line: 1>\u001b[0;34m()\u001b[0m\n\u001b[0;32m----> 1\u001b[0m help(\u001b[43mtest_non_return\u001b[49m)\n",
      "\u001b[0;31mNameError\u001b[0m: name 'test_non_return' is not defined"
     ]
    }
   ],
   "source": [
    "help(test_non_return)"
   ]
  },
  {
   "cell_type": "code",
   "execution_count": 21,
   "id": "e6082c1b-c6f6-42e9-9155-64805d1bdc21",
   "metadata": {},
   "outputs": [],
   "source": [
    "test_none_return(32)"
   ]
  },
  {
   "cell_type": "code",
   "execution_count": 22,
   "id": "f8f85b0f-882b-4611-9941-619ef551038f",
   "metadata": {},
   "outputs": [
    {
     "name": "stdout",
     "output_type": "stream",
     "text": [
      "Help on function test_none_return in module __main__:\n",
      "\n",
      "test_none_return(temp)\n",
      "\n"
     ]
    }
   ],
   "source": [
    "help(test_none_return)"
   ]
  },
  {
   "cell_type": "code",
   "execution_count": 23,
   "id": "53b7cde9-27ef-4ce0-8c97-b557821759c9",
   "metadata": {},
   "outputs": [
    {
     "name": "stdout",
     "output_type": "stream",
     "text": [
      "0.0\n",
      "None\n"
     ]
    }
   ],
   "source": [
    "# why do need a return statement\n",
    "temp_cel = fahr_to_celsius(32)\n",
    "temp_none = test_none_return(32)\n",
    "print(temp_cel)\n",
    "print(temp_none)"
   ]
  },
  {
   "cell_type": "code",
   "execution_count": 27,
   "id": "a16f1f09-fbef-458e-86d1-961d5e64917d",
   "metadata": {},
   "outputs": [
    {
     "name": "stdout",
     "output_type": "stream",
     "text": [
      "temp 32 temp_1 4 temp_2 5\n"
     ]
    },
    {
     "ename": "NameError",
     "evalue": "name 'temp_1' is not defined",
     "output_type": "error",
     "traceback": [
      "\u001b[0;31m---------------------------------------------------------------------------\u001b[0m",
      "\u001b[0;31mNameError\u001b[0m                                 Traceback (most recent call last)",
      "Input \u001b[0;32mIn [27]\u001b[0m, in \u001b[0;36m<cell line: 7>\u001b[0;34m()\u001b[0m\n\u001b[1;32m      5\u001b[0m temp_2 \u001b[38;5;241m=\u001b[39m \u001b[38;5;241m5\u001b[39m\n\u001b[1;32m      6\u001b[0m test_scope(\u001b[38;5;241m32\u001b[39m)\n\u001b[0;32m----> 7\u001b[0m \u001b[38;5;28mprint\u001b[39m(\u001b[43mtemp_1\u001b[49m)\n",
      "\u001b[0;31mNameError\u001b[0m: name 'temp_1' is not defined"
     ]
    }
   ],
   "source": [
    "def test_scope(temp):\n",
    "    temp_1 = 4\n",
    "    print('temp', temp, 'temp_1', temp_1, 'temp_2', temp_2)\n",
    "    \n",
    "temp_2 = 5\n",
    "test_scope(32)\n",
    "print(temp_1)"
   ]
  },
  {
   "cell_type": "code",
   "execution_count": 33,
   "id": "654bba6e-015b-46d2-b74f-598926cc3e62",
   "metadata": {},
   "outputs": [
    {
     "name": "stdout",
     "output_type": "stream",
     "text": [
      "temp 32 temp_1 4 temp_2 5\n",
      "outside: temp_2 5\n"
     ]
    }
   ],
   "source": [
    "def test_scope(temp):\n",
    "    temp_1 = 4\n",
    "    print('temp', temp, 'temp_1', temp_1, 'temp_2', temp_2)\n",
    "    \n",
    "temp_2 = 5\n",
    "test_scope(32)\n",
    "print('outside: temp_2', temp_2)"
   ]
  },
  {
   "cell_type": "code",
   "execution_count": 34,
   "id": "76dc02d6-a044-4c13-b3ec-5ce311746ff2",
   "metadata": {},
   "outputs": [
    {
     "name": "stdout",
     "output_type": "stream",
     "text": [
      "temp 32 temp_1 4 temp_2 45\n",
      "outside: temp_2 5\n"
     ]
    }
   ],
   "source": [
    "def test_scope(temp):\n",
    "    temp_1 = 4\n",
    "    temp_2 = 45\n",
    "    print('temp', temp, 'temp_1', temp_1, 'temp_2', temp_2)\n",
    "    \n",
    "temp_2 = 5\n",
    "test_scope(32)\n",
    "print('outside: temp_2', temp_2)"
   ]
  },
  {
   "cell_type": "code",
   "execution_count": 35,
   "id": "95307d4f-b76d-4988-9dca-1f544a7b4d80",
   "metadata": {},
   "outputs": [
    {
     "name": "stdout",
     "output_type": "stream",
     "text": [
      "5\n",
      "temp 32 temp_1 4 temp_2 45\n",
      "outside: temp_2 45\n"
     ]
    }
   ],
   "source": [
    "def test_scope(temp):\n",
    "    global temp_2\n",
    "    temp_1 = 4\n",
    "    temp_2 = 45\n",
    "    print('temp', temp, 'temp_1', temp_1, 'temp_2', temp_2)\n",
    "    \n",
    "temp_2 = 5\n",
    "print(temp_2)\n",
    "test_scope(32)\n",
    "print('outside: temp_2', temp_2)"
   ]
  },
  {
   "cell_type": "code",
   "execution_count": 36,
   "id": "0ab74fee-3935-4587-b7b2-062c345c0930",
   "metadata": {},
   "outputs": [
    {
     "name": "stdout",
     "output_type": "stream",
     "text": [
      "10\n",
      "temp 32 temp_1 4 temp_2 45\n",
      "outside: temp_2 45\n"
     ]
    }
   ],
   "source": [
    "def test_scope(temp):\n",
    "    global temp_2\n",
    "    temp_1 = 4\n",
    "    temp_2 = 45\n",
    "    print('temp', temp, 'temp_1', temp_1, 'temp_2', temp_2)\n",
    "    \n",
    "temp_2 = 5\n",
    "temp_2 = temp_2 * 2\n",
    "print(temp_2)\n",
    "test_scope(32)\n",
    "print('outside: temp_2', temp_2)"
   ]
  },
  {
   "cell_type": "code",
   "execution_count": 37,
   "id": "f7268099-2162-4228-bc86-02da470fc3ec",
   "metadata": {},
   "outputs": [
    {
     "name": "stdout",
     "output_type": "stream",
     "text": [
      "-15.0\n",
      "temp 32 temp_1 4 temp_2 45\n",
      "outside: temp_2 45\n"
     ]
    }
   ],
   "source": [
    "def test_scope(temp):\n",
    "    global temp_2\n",
    "    temp_1 = 4\n",
    "    temp_2 = 45\n",
    "    print('temp', temp, 'temp_1', temp_1, 'temp_2', temp_2)\n",
    "    \n",
    "temp_2 = 5\n",
    "temp_2 = fahr_to_celsius(temp_2)\n",
    "print(temp_2)\n",
    "test_scope(32)\n",
    "print('outside: temp_2', temp_2)"
   ]
  },
  {
   "cell_type": "code",
   "execution_count": 38,
   "id": "0e73578b-4f32-4b2c-be39-4e7471bc2141",
   "metadata": {},
   "outputs": [
    {
     "name": "stdout",
     "output_type": "stream",
     "text": [
      "10\n",
      "outside: temp2 10\n",
      "temp 32 temp_1 4 temp_2 45\n",
      "outside: temp2 45\n"
     ]
    }
   ],
   "source": [
    "def test_score(temp):\n",
    "    global temp_2\n",
    "    temp_1 = 4\n",
    "    temp_2 = 45\n",
    "    print(\"temp\", temp, \"temp_1\", temp_1, \"temp_2\", temp_2)\n",
    "\n",
    "temp_2 = 5 \n",
    "temp_2 = temp_2 * 2\n",
    "print(temp_2)\n",
    "print(\"outside: temp2\", temp_2)\n",
    "# the variables outside the function are all global variables, \n",
    "# but the variables which are inside the function should use \"global\" to make them into global variables\n",
    "test_score(32)\n",
    "print(\"outside: temp2\", temp_2)"
   ]
  },
  {
   "cell_type": "markdown",
   "id": "e996623e-eaee-42f8-ac33-2de65e8ada28",
   "metadata": {},
   "source": [
    "## breakout exercise"
   ]
  },
  {
   "cell_type": "markdown",
   "id": "de20cb77-4024-4dde-9eb4-a37fc911b446",
   "metadata": {},
   "source": [
    "## lesson 10"
   ]
  },
  {
   "cell_type": "markdown",
   "id": "dfde550c-2b77-4f4b-9427-c4ffd2b356e9",
   "metadata": {},
   "source": [
    "- before execution, compiling stage: syntax error\n",
    "    - invalid syntax\n",
    "    - inconsistent use of tabs and spaces in indentation\n",
    "    - missing brackets\n",
    "- occurs at the execution: runtime error\n",
    "    - name not defined\n",
    "    - element not in list\n",
    "    - file/directory does not exist\n",
    "    - not writable\n",
    "- never breaks, result is correct: logic error"
   ]
  },
  {
   "cell_type": "code",
   "execution_count": 61,
   "id": "b1e5e85f-e8e9-492f-a9d5-e24af2cc94c5",
   "metadata": {},
   "outputs": [
    {
     "name": "stdout",
     "output_type": "stream",
     "text": [
      "['chocolate', 'vanillastrawberry', 'coffee']\n",
      "the full menu is:\n",
      "-----------------\n",
      "0 chocolate\n",
      "---end of menu---\n",
      "my choices are ['chocolate', 'coffee']\n",
      "1 vanillastrawberry\n",
      "---end of menu---\n",
      "my choices are ['chocolate', 'coffee']\n",
      "2 coffee\n",
      "---end of menu---\n",
      "my choices are ['chocolate', 'coffee']\n"
     ]
    },
    {
     "data": {
      "text/plain": [
       "([0, 2], 2.0)"
      ]
     },
     "execution_count": 61,
     "metadata": {},
     "output_type": "execute_result"
    }
   ],
   "source": [
    "def order_ice_cream(customer, my_choices):\n",
    "    ice_creams = [\n",
    "        'chocolate', \n",
    "        'vanilla',\n",
    "        'strawberry',\n",
    "        'coffee'\n",
    "  ]\n",
    "    print(ice_creams)\n",
    "     \n",
    "    print('the full menu is:')\n",
    "    print('-----------------')\n",
    "    unit_price = 1.0 # euro\n",
    "    for index, item in enumerate(ice_creams):\n",
    "        print(index, item)\n",
    "        print('---end of menu---')\n",
    "        \n",
    "        print('my choices are', my_choices)\n",
    "        price_to_pay = unit_price * len(my_choices)\n",
    "    order = [ice_creams.index(i) for i in my_choices]\n",
    "\n",
    "    # write order to file\n",
    "    with open('orders/orders.txt', 'w') as f:\n",
    "        f.write(\"{}'s orders: ice cream items {}\".format(\n",
    "            customer, order))\n",
    "    \n",
    "    return order, price_to_pay\n",
    "\n",
    "order_ice_cream('Doris', ['chocolate', 'coffee'])"
   ]
  },
  {
   "cell_type": "code",
   "execution_count": 64,
   "id": "554ac9dc-cc9e-4f34-82c5-1f792d6ef697",
   "metadata": {},
   "outputs": [
    {
     "name": "stdout",
     "output_type": "stream",
     "text": [
      "4\n",
      "6\n"
     ]
    }
   ],
   "source": [
    "def square(x):\n",
    "    return x + x\n",
    "\n",
    "print(square(0))\n",
    "print(square(2))\n",
    "print(square(3))"
   ]
  },
  {
   "cell_type": "code",
   "execution_count": 65,
   "id": "85f022f9-d4df-48c1-9398-ad3c82bc28c7",
   "metadata": {},
   "outputs": [
    {
     "ename": "AssertionError",
     "evalue": "choice is not in the menu",
     "output_type": "error",
     "traceback": [
      "\u001b[0;31m---------------------------------------------------------------------------\u001b[0m",
      "\u001b[0;31mAssertionError\u001b[0m                            Traceback (most recent call last)",
      "Input \u001b[0;32mIn [65]\u001b[0m, in \u001b[0;36m<cell line: 30>\u001b[0;34m()\u001b[0m\n\u001b[1;32m     25\u001b[0m         f\u001b[38;5;241m.\u001b[39mwrite(\u001b[38;5;124m\"\u001b[39m\u001b[38;5;132;01m{}\u001b[39;00m\u001b[38;5;124m'\u001b[39m\u001b[38;5;124ms orders: ice cream items \u001b[39m\u001b[38;5;132;01m{}\u001b[39;00m\u001b[38;5;124m\"\u001b[39m\u001b[38;5;241m.\u001b[39mformat(\n\u001b[1;32m     26\u001b[0m             customer, order))\n\u001b[1;32m     28\u001b[0m     \u001b[38;5;28;01mreturn\u001b[39;00m order, price_to_pay\n\u001b[0;32m---> 30\u001b[0m \u001b[43morder_ice_cream\u001b[49m\u001b[43m(\u001b[49m\u001b[38;5;124;43m'\u001b[39;49m\u001b[38;5;124;43mDoris\u001b[39;49m\u001b[38;5;124;43m'\u001b[39;49m\u001b[43m,\u001b[49m\u001b[43m \u001b[49m\u001b[43m[\u001b[49m\u001b[38;5;124;43m'\u001b[39;49m\u001b[38;5;124;43mchocolate\u001b[39;49m\u001b[38;5;124;43m'\u001b[39;49m\u001b[43m,\u001b[49m\u001b[43m \u001b[49m\u001b[38;5;124;43m'\u001b[39;49m\u001b[38;5;124;43mcherry\u001b[39;49m\u001b[38;5;124;43m'\u001b[39;49m\u001b[43m]\u001b[49m\u001b[43m)\u001b[49m\n",
      "Input \u001b[0;32mIn [65]\u001b[0m, in \u001b[0;36morder_ice_cream\u001b[0;34m(customer, my_choices)\u001b[0m\n\u001b[1;32m      2\u001b[0m ice_creams \u001b[38;5;241m=\u001b[39m [\n\u001b[1;32m      3\u001b[0m     \u001b[38;5;124m'\u001b[39m\u001b[38;5;124mchocolate\u001b[39m\u001b[38;5;124m'\u001b[39m, \n\u001b[1;32m      4\u001b[0m     \u001b[38;5;124m'\u001b[39m\u001b[38;5;124mvanilla\u001b[39m\u001b[38;5;124m'\u001b[39m,\n\u001b[1;32m      5\u001b[0m     \u001b[38;5;124m'\u001b[39m\u001b[38;5;124mstrawberry\u001b[39m\u001b[38;5;124m'\u001b[39m,\n\u001b[1;32m      6\u001b[0m     \u001b[38;5;124m'\u001b[39m\u001b[38;5;124mcoffee\u001b[39m\u001b[38;5;124m'\u001b[39m\n\u001b[1;32m      7\u001b[0m ]\n\u001b[1;32m      8\u001b[0m \u001b[38;5;28;01mfor\u001b[39;00m choice \u001b[38;5;129;01min\u001b[39;00m my_choices:\n\u001b[0;32m----> 9\u001b[0m     \u001b[38;5;28;01massert\u001b[39;00m choice \u001b[38;5;129;01min\u001b[39;00m ice_creams, \u001b[38;5;124m'\u001b[39m\u001b[38;5;124mchoice is not in the menu\u001b[39m\u001b[38;5;124m'\u001b[39m\n\u001b[1;32m     10\u001b[0m \u001b[38;5;28mprint\u001b[39m(ice_creams)\n\u001b[1;32m     12\u001b[0m \u001b[38;5;28mprint\u001b[39m(\u001b[38;5;124m'\u001b[39m\u001b[38;5;124mthe full menu is:\u001b[39m\u001b[38;5;124m'\u001b[39m)\n",
      "\u001b[0;31mAssertionError\u001b[0m: choice is not in the menu"
     ]
    }
   ],
   "source": [
    "def order_ice_cream(customer, my_choices):\n",
    "    ice_creams = [\n",
    "        'chocolate', \n",
    "        'vanilla',\n",
    "        'strawberry',\n",
    "        'coffee'\n",
    "    ]\n",
    "    for choice in my_choices:\n",
    "        assert choice in ice_creams, 'choice is not in the menu'\n",
    "    print(ice_creams)\n",
    "     \n",
    "    print('the full menu is:')\n",
    "    print('-----------------')\n",
    "    unit_price = 1.0 # euro\n",
    "    for index, item in enumerate(ice_creams):\n",
    "        print(index, item)\n",
    "        print('---end of menu---')\n",
    "        \n",
    "        print('my choices are', my_choices)\n",
    "        price_to_pay = unit_price * len(my_choices)\n",
    "    order = [ice_creams.index(i) for i in my_choices]\n",
    "\n",
    "    # write order to file\n",
    "    with open('orders/orders.txt', 'w') as f:\n",
    "        f.write(\"{}'s orders: ice cream items {}\".format(\n",
    "            customer, order))\n",
    "    \n",
    "    return order, price_to_pay\n",
    "\n",
    "order_ice_cream('Doris', ['chocolate', 'cherry'])"
   ]
  },
  {
   "cell_type": "code",
   "execution_count": null,
   "id": "0319ef0b-73be-4626-ab49-031aa2f20f65",
   "metadata": {},
   "outputs": [],
   "source": [
    "def square(x):\n",
    "    return x + x\n",
    "\n",
    "print(square(0))\n",
    "print(square(2))\n",
    "print(square(3))"
   ]
  },
  {
   "cell_type": "code",
   "execution_count": null,
   "id": "68353e1b-bb6d-42c0-8a62-9071eaa28f4f",
   "metadata": {},
   "outputs": [],
   "source": [
    "assert\n",
    "for\n",
    "if\n",
    "else\n",
    "list\n",
    "help\n",
    "max\n",
    "min"
   ]
  },
  {
   "cell_type": "code",
   "execution_count": 66,
   "id": "c653a7b1-c0bb-4a04-86a3-6476768a31a2",
   "metadata": {},
   "outputs": [
    {
     "name": "stdout",
     "output_type": "stream",
     "text": [
      "Help on class list in module builtins:\n",
      "\n",
      "class list(object)\n",
      " |  list(iterable=(), /)\n",
      " |  \n",
      " |  Built-in mutable sequence.\n",
      " |  \n",
      " |  If no argument is given, the constructor creates a new empty list.\n",
      " |  The argument must be an iterable if specified.\n",
      " |  \n",
      " |  Methods defined here:\n",
      " |  \n",
      " |  __add__(self, value, /)\n",
      " |      Return self+value.\n",
      " |  \n",
      " |  __contains__(self, key, /)\n",
      " |      Return key in self.\n",
      " |  \n",
      " |  __delitem__(self, key, /)\n",
      " |      Delete self[key].\n",
      " |  \n",
      " |  __eq__(self, value, /)\n",
      " |      Return self==value.\n",
      " |  \n",
      " |  __ge__(self, value, /)\n",
      " |      Return self>=value.\n",
      " |  \n",
      " |  __getattribute__(self, name, /)\n",
      " |      Return getattr(self, name).\n",
      " |  \n",
      " |  __getitem__(...)\n",
      " |      x.__getitem__(y) <==> x[y]\n",
      " |  \n",
      " |  __gt__(self, value, /)\n",
      " |      Return self>value.\n",
      " |  \n",
      " |  __iadd__(self, value, /)\n",
      " |      Implement self+=value.\n",
      " |  \n",
      " |  __imul__(self, value, /)\n",
      " |      Implement self*=value.\n",
      " |  \n",
      " |  __init__(self, /, *args, **kwargs)\n",
      " |      Initialize self.  See help(type(self)) for accurate signature.\n",
      " |  \n",
      " |  __iter__(self, /)\n",
      " |      Implement iter(self).\n",
      " |  \n",
      " |  __le__(self, value, /)\n",
      " |      Return self<=value.\n",
      " |  \n",
      " |  __len__(self, /)\n",
      " |      Return len(self).\n",
      " |  \n",
      " |  __lt__(self, value, /)\n",
      " |      Return self<value.\n",
      " |  \n",
      " |  __mul__(self, value, /)\n",
      " |      Return self*value.\n",
      " |  \n",
      " |  __ne__(self, value, /)\n",
      " |      Return self!=value.\n",
      " |  \n",
      " |  __repr__(self, /)\n",
      " |      Return repr(self).\n",
      " |  \n",
      " |  __reversed__(self, /)\n",
      " |      Return a reverse iterator over the list.\n",
      " |  \n",
      " |  __rmul__(self, value, /)\n",
      " |      Return value*self.\n",
      " |  \n",
      " |  __setitem__(self, key, value, /)\n",
      " |      Set self[key] to value.\n",
      " |  \n",
      " |  __sizeof__(self, /)\n",
      " |      Return the size of the list in memory, in bytes.\n",
      " |  \n",
      " |  append(self, object, /)\n",
      " |      Append object to the end of the list.\n",
      " |  \n",
      " |  clear(self, /)\n",
      " |      Remove all items from list.\n",
      " |  \n",
      " |  copy(self, /)\n",
      " |      Return a shallow copy of the list.\n",
      " |  \n",
      " |  count(self, value, /)\n",
      " |      Return number of occurrences of value.\n",
      " |  \n",
      " |  extend(self, iterable, /)\n",
      " |      Extend list by appending elements from the iterable.\n",
      " |  \n",
      " |  index(self, value, start=0, stop=9223372036854775807, /)\n",
      " |      Return first index of value.\n",
      " |      \n",
      " |      Raises ValueError if the value is not present.\n",
      " |  \n",
      " |  insert(self, index, object, /)\n",
      " |      Insert object before index.\n",
      " |  \n",
      " |  pop(self, index=-1, /)\n",
      " |      Remove and return item at index (default last).\n",
      " |      \n",
      " |      Raises IndexError if list is empty or index is out of range.\n",
      " |  \n",
      " |  remove(self, value, /)\n",
      " |      Remove first occurrence of value.\n",
      " |      \n",
      " |      Raises ValueError if the value is not present.\n",
      " |  \n",
      " |  reverse(self, /)\n",
      " |      Reverse *IN PLACE*.\n",
      " |  \n",
      " |  sort(self, /, *, key=None, reverse=False)\n",
      " |      Sort the list in ascending order and return None.\n",
      " |      \n",
      " |      The sort is in-place (i.e. the list itself is modified) and stable (i.e. the\n",
      " |      order of two equal elements is maintained).\n",
      " |      \n",
      " |      If a key function is given, apply it once to each list item and sort them,\n",
      " |      ascending or descending, according to their function values.\n",
      " |      \n",
      " |      The reverse flag can be set to sort in descending order.\n",
      " |  \n",
      " |  ----------------------------------------------------------------------\n",
      " |  Class methods defined here:\n",
      " |  \n",
      " |  __class_getitem__(...) from builtins.type\n",
      " |      See PEP 585\n",
      " |  \n",
      " |  ----------------------------------------------------------------------\n",
      " |  Static methods defined here:\n",
      " |  \n",
      " |  __new__(*args, **kwargs) from builtins.type\n",
      " |      Create and return a new object.  See help(type) for accurate signature.\n",
      " |  \n",
      " |  ----------------------------------------------------------------------\n",
      " |  Data and other attributes defined here:\n",
      " |  \n",
      " |  __hash__ = None\n",
      "\n"
     ]
    }
   ],
   "source": [
    "help(list)"
   ]
  },
  {
   "cell_type": "code",
   "execution_count": 67,
   "id": "9fab98e0-bb09-4fd0-85ee-f9e950e4a811",
   "metadata": {},
   "outputs": [
    {
     "ename": "SyntaxError",
     "evalue": "invalid syntax (889725315.py, line 1)",
     "output_type": "error",
     "traceback": [
      "\u001b[0;36m  Input \u001b[0;32mIn [67]\u001b[0;36m\u001b[0m\n\u001b[0;31m    help(for)\u001b[0m\n\u001b[0m         ^\u001b[0m\n\u001b[0;31mSyntaxError\u001b[0m\u001b[0;31m:\u001b[0m invalid syntax\n"
     ]
    }
   ],
   "source": [
    "help(for)"
   ]
  },
  {
   "cell_type": "code",
   "execution_count": 68,
   "id": "ba915c13-d77b-42be-80bc-8861336516a9",
   "metadata": {},
   "outputs": [],
   "source": [
    "assert True, 'True is True'"
   ]
  },
  {
   "cell_type": "code",
   "execution_count": 69,
   "id": "a472d447-0bd6-47f2-9b1c-e8cc51b62228",
   "metadata": {},
   "outputs": [
    {
     "ename": "AssertionError",
     "evalue": "something is wrong",
     "output_type": "error",
     "traceback": [
      "\u001b[0;31m---------------------------------------------------------------------------\u001b[0m",
      "\u001b[0;31mAssertionError\u001b[0m                            Traceback (most recent call last)",
      "Input \u001b[0;32mIn [69]\u001b[0m, in \u001b[0;36m<cell line: 1>\u001b[0;34m()\u001b[0m\n\u001b[0;32m----> 1\u001b[0m \u001b[38;5;28;01massert\u001b[39;00m \u001b[38;5;28;01mFalse\u001b[39;00m, \u001b[38;5;124m'\u001b[39m\u001b[38;5;124msomething is wrong\u001b[39m\u001b[38;5;124m'\u001b[39m\n",
      "\u001b[0;31mAssertionError\u001b[0m: something is wrong"
     ]
    }
   ],
   "source": [
    "assert False, 'something is wrong'"
   ]
  },
  {
   "cell_type": "code",
   "execution_count": 71,
   "id": "d82af900-3d2b-4f73-a657-f3cbd6f9b004",
   "metadata": {},
   "outputs": [],
   "source": [
    "def square(x):\n",
    "    return x * x\n",
    "\n",
    "assert square(0) == 0, 'square(0) should be 0'\n",
    "assert square(2) == 4\n",
    "assert square(3) == 9"
   ]
  },
  {
   "cell_type": "markdown",
   "id": "ae37aef3-d89b-439d-83e2-0ca8b7e99213",
   "metadata": {},
   "source": [
    "> coding in a way not to introducing confusing"
   ]
  },
  {
   "cell_type": "markdown",
   "id": "f2c46203-2638-45a1-985a-169fcf328c5b",
   "metadata": {},
   "source": [
    "## lesson 11"
   ]
  },
  {
   "cell_type": "code",
   "execution_count": 72,
   "id": "5c378f8b-c48a-4cc1-8179-71034bc97468",
   "metadata": {},
   "outputs": [
    {
     "name": "stdout",
     "output_type": "stream",
     "text": [
      "start\n",
      "1\n"
     ]
    }
   ],
   "source": [
    "print('start')\n",
    "num = 2\n",
    "if True:\n",
    "    print(1)\n",
    "elif True:\n",
    "    print('a')\n",
    "else:\n",
    "    print(2)"
   ]
  },
  {
   "cell_type": "code",
   "execution_count": 74,
   "id": "ebe57984-b82f-426d-a0a3-e1279a977671",
   "metadata": {},
   "outputs": [
    {
     "ename": "NameError",
     "evalue": "name 'num' is not defined",
     "output_type": "error",
     "traceback": [
      "\u001b[0;31m---------------------------------------------------------------------------\u001b[0m",
      "\u001b[0;31mNameError\u001b[0m                                 Traceback (most recent call last)",
      "Input \u001b[0;32mIn [74]\u001b[0m, in \u001b[0;36m<cell line: 1>\u001b[0;34m()\u001b[0m\n\u001b[0;32m----> 1\u001b[0m \u001b[38;5;28;01mdel\u001b[39;00m num\n\u001b[1;32m      2\u001b[0m \u001b[38;5;28mprint\u001b[39m(num)\n",
      "\u001b[0;31mNameError\u001b[0m: name 'num' is not defined"
     ]
    }
   ],
   "source": [
    "del num\n",
    "print(num)"
   ]
  },
  {
   "cell_type": "markdown",
   "id": "363a1d25-6d88-48fe-8da1-5afb3e662f38",
   "metadata": {},
   "source": [
    "## lesson 12"
   ]
  },
  {
   "cell_type": "code",
   "execution_count": 75,
   "id": "27a7e371-c65d-4213-baa7-6ca05668a063",
   "metadata": {},
   "outputs": [
    {
     "name": "stdout",
     "output_type": "stream",
     "text": [
      "hello\n"
     ]
    }
   ],
   "source": [
    "import python12.modulev1"
   ]
  },
  {
   "cell_type": "code",
   "execution_count": 76,
   "id": "74392c8e-8a6c-43d7-b4cf-f1a2ea941184",
   "metadata": {},
   "outputs": [
    {
     "name": "stdout",
     "output_type": "stream",
     "text": [
      "Doris\n"
     ]
    }
   ],
   "source": [
    "python12.modulev1.print_something('Doris')"
   ]
  },
  {
   "cell_type": "code",
   "execution_count": 77,
   "id": "6850f60b-6f5c-4c2b-a475-752b9e63780f",
   "metadata": {},
   "outputs": [
    {
     "name": "stdout",
     "output_type": "stream",
     "text": [
      "/home/pi/Desktop/swc-workshop\n"
     ]
    }
   ],
   "source": [
    "!pwd"
   ]
  },
  {
   "cell_type": "code",
   "execution_count": 78,
   "id": "3074a5db-cfea-4b52-a1fa-d18e528dc1aa",
   "metadata": {},
   "outputs": [
    {
     "name": "stdout",
     "output_type": "stream",
     "text": [
      "data  orders  python12\tpython-day-2.ipynb\n"
     ]
    }
   ],
   "source": [
    "!ls"
   ]
  },
  {
   "cell_type": "code",
   "execution_count": 79,
   "id": "3a210ae3-399f-4ed1-932c-47a704cdf272",
   "metadata": {},
   "outputs": [
    {
     "name": "stdout",
     "output_type": "stream",
     "text": [
      "__init__.py  modulev1.py  __pycache__\n"
     ]
    }
   ],
   "source": [
    "!ls python12/"
   ]
  },
  {
   "cell_type": "code",
   "execution_count": 80,
   "id": "eec192c3-1693-41ab-8db0-cc30f248c1b4",
   "metadata": {},
   "outputs": [
    {
     "ename": "ModuleNotFoundError",
     "evalue": "No module named 'test.modulev1'",
     "output_type": "error",
     "traceback": [
      "\u001b[0;31m---------------------------------------------------------------------------\u001b[0m",
      "\u001b[0;31mModuleNotFoundError\u001b[0m                       Traceback (most recent call last)",
      "Input \u001b[0;32mIn [80]\u001b[0m, in \u001b[0;36m<cell line: 1>\u001b[0;34m()\u001b[0m\n\u001b[0;32m----> 1\u001b[0m \u001b[38;5;28;01mimport\u001b[39;00m \u001b[38;5;21;01mtest\u001b[39;00m\u001b[38;5;21;01m.\u001b[39;00m\u001b[38;5;21;01mmodulev1\u001b[39;00m\n",
      "\u001b[0;31mModuleNotFoundError\u001b[0m: No module named 'test.modulev1'"
     ]
    }
   ],
   "source": [
    "import test.modulev1"
   ]
  },
  {
   "cell_type": "code",
   "execution_count": 82,
   "id": "227b0ed0-e065-406b-8ba9-3d9d96791677",
   "metadata": {},
   "outputs": [
    {
     "name": "stdout",
     "output_type": "stream",
     "text": [
      "hello\n"
     ]
    }
   ],
   "source": [
    "import module.modulev1"
   ]
  },
  {
   "cell_type": "code",
   "execution_count": 83,
   "id": "d8a59e6f-850d-47d6-b5bd-67194998310c",
   "metadata": {},
   "outputs": [
    {
     "name": "stdout",
     "output_type": "stream",
     "text": [
      "['__breakpointhook__', '__displayhook__', '__doc__', '__excepthook__', '__interactivehook__', '__loader__', '__name__', '__package__', '__spec__', '__stderr__', '__stdin__', '__stdout__', '__unraisablehook__', '_base_executable', '_clear_type_cache', '_current_frames', '_debugmallocstats', '_framework', '_getframe', '_git', '_home', '_xoptions', 'abiflags', 'addaudithook', 'api_version', 'argv', 'audit', 'base_exec_prefix', 'base_prefix', 'breakpointhook', 'builtin_module_names', 'byteorder', 'call_tracing', 'copyright', 'displayhook', 'dont_write_bytecode', 'exc_info', 'excepthook', 'exec_prefix', 'executable', 'exit', 'flags', 'float_info', 'float_repr_style', 'get_asyncgen_hooks', 'get_coroutine_origin_tracking_depth', 'getallocatedblocks', 'getdefaultencoding', 'getdlopenflags', 'getfilesystemencodeerrors', 'getfilesystemencoding', 'getprofile', 'getrecursionlimit', 'getrefcount', 'getsizeof', 'getswitchinterval', 'gettrace', 'hash_info', 'hexversion', 'implementation', 'int_info', 'intern', 'is_finalizing', 'last_traceback', 'last_type', 'last_value', 'maxsize', 'maxunicode', 'meta_path', 'modules', 'path', 'path_hooks', 'path_importer_cache', 'platform', 'platlibdir', 'prefix', 'ps1', 'ps2', 'ps3', 'pycache_prefix', 'set_asyncgen_hooks', 'set_coroutine_origin_tracking_depth', 'setdlopenflags', 'setprofile', 'setrecursionlimit', 'setswitchinterval', 'settrace', 'stderr', 'stdin', 'stdout', 'thread_info', 'unraisablehook', 'version', 'version_info', 'warnoptions']\n"
     ]
    }
   ],
   "source": [
    "import sys\n",
    "\n",
    "print(dir(sys))"
   ]
  },
  {
   "cell_type": "code",
   "execution_count": null,
   "id": "f590f058-00b3-45df-9cbe-842dd826ae6e",
   "metadata": {},
   "outputs": [],
   "source": []
  }
 ],
 "metadata": {
  "kernelspec": {
   "display_name": "Python 3 (ipykernel)",
   "language": "python",
   "name": "python3"
  },
  "language_info": {
   "codemirror_mode": {
    "name": "ipython",
    "version": 3
   },
   "file_extension": ".py",
   "mimetype": "text/x-python",
   "name": "python",
   "nbconvert_exporter": "python",
   "pygments_lexer": "ipython3",
   "version": "3.9.12"
  }
 },
 "nbformat": 4,
 "nbformat_minor": 5
}
