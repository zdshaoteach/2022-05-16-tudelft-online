{
 "cells": [
  {
   "cell_type": "markdown",
   "id": "65340e16-7e6a-4bc7-b1c7-b972e46a5851",
   "metadata": {
    "slideshow": {
     "slide_type": "slide"
    },
    "tags": []
   },
   "source": [
    "# Git 09 Conflicts"
   ]
  },
  {
   "cell_type": "markdown",
   "id": "1e375169-df9f-4a31-a306-b8073721d6f3",
   "metadata": {
    "slideshow": {
     "slide_type": "fragment"
    },
    "tags": []
   },
   "source": [
    "[course link](https://swcarpentry.github.io/git-novice/index.html)\n",
    "\n",
    "- duration: 15 mins\n",
    "- what is a conflict ?\n",
    "- how to resolve a conflict ?"
   ]
  },
  {
   "cell_type": "markdown",
   "id": "f8d4e039-5d17-400b-9a9c-cd0dd63aba06",
   "metadata": {
    "slideshow": {
     "slide_type": "subslide"
    },
    "tags": []
   },
   "source": [
    "### commands overview"
   ]
  },
  {
   "cell_type": "code",
   "execution_count": null,
   "id": "b69cde3f-0e0a-4395-a22c-6f9b6cf7f099",
   "metadata": {
    "slideshow": {
     "slide_type": "skip"
    },
    "tags": []
   },
   "outputs": [],
   "source": [
    "!ls 'git'"
   ]
  },
  {
   "cell_type": "code",
   "execution_count": 1,
   "id": "119c89d3-ae0c-4bca-8126-482e1d263feb",
   "metadata": {
    "slideshow": {
     "slide_type": "subslide"
    },
    "tags": []
   },
   "outputs": [
    {
     "name": "stdout",
     "output_type": "stream",
     "text": [
      "#!/bin/sh\n",
      "# resolve conflicted edits on Github\n",
      "git push origin main\n",
      "git pull origin main"
     ]
    }
   ],
   "source": [
    "!cat git/git09.sh"
   ]
  },
  {
   "cell_type": "markdown",
   "id": "50fab241-5973-483a-b529-df6d02edce59",
   "metadata": {
    "slideshow": {
     "slide_type": "slide"
    },
    "tags": []
   },
   "source": [
    "### Setup\n",
    "\n",
    "- pair with a collaborator\n",
    "- add your collaborator on `Github`\n",
    "- clone the same `Github` repository with your collaborator"
   ]
  },
  {
   "cell_type": "markdown",
   "id": "f2802f26-1fbf-42af-bd54-9af92a117cbb",
   "metadata": {
    "slideshow": {
     "slide_type": "slide"
    },
    "tags": []
   },
   "source": [
    "### the collaborator clone a remote `Git` repository"
   ]
  },
  {
   "cell_type": "code",
   "execution_count": 1,
   "id": "03cdbd82-5d5b-482c-b0ce-3a72b2a27f8a",
   "metadata": {
    "slideshow": {
     "slide_type": "subslide"
    },
    "tags": []
   },
   "outputs": [],
   "source": [
    "# relocate directory \n",
    "# works under jupyter, \n",
    "# replace this block with bash in terminal\n",
    "import os, os.path, shutil\n",
    "target_folder = os.path.join(\n",
    "    os.path.expanduser('~'), \n",
    "    'workshop/planets'\n",
    ")\n",
    "if os.path.exists(target_folder):\n",
    "    shutil.rmtree(target_folder)\n",
    "os.chdir(os.path.dirname(target_folder))"
   ]
  },
  {
   "cell_type": "code",
   "execution_count": 2,
   "id": "7acc12c9-1f7e-4281-8b2e-cf633dc19107",
   "metadata": {
    "slideshow": {
     "slide_type": "subslide"
    },
    "tags": []
   },
   "outputs": [
    {
     "name": "stdout",
     "output_type": "stream",
     "text": [
      "/home/pi/workshop\n"
     ]
    }
   ],
   "source": [
    "!pwd"
   ]
  },
  {
   "cell_type": "code",
   "execution_count": 3,
   "id": "7441662c-d0a6-4794-b660-c1c900c83b1a",
   "metadata": {
    "slideshow": {
     "slide_type": "subslide"
    },
    "tags": []
   },
   "outputs": [
    {
     "name": "stdout",
     "output_type": "stream",
     "text": [
      "Cloning into 'planets'...\n",
      "remote: Enumerating objects: 6, done.\u001b[K\n",
      "remote: Counting objects: 100% (6/6), done.\u001b[K\n",
      "remote: Compressing objects: 100% (4/4), done.\u001b[K\n",
      "remote: Total 6 (delta 0), reused 6 (delta 0), pack-reused 0\u001b[K\n",
      "Receiving objects: 100% (6/6), done.\n"
     ]
    }
   ],
   "source": [
    "!git clone git@github.com:zdshaoteach/test.git planets"
   ]
  },
  {
   "cell_type": "code",
   "execution_count": 4,
   "id": "f2e3b07f-6efb-478d-89b0-00788ddd5dfd",
   "metadata": {
    "slideshow": {
     "slide_type": "subslide"
    },
    "tags": []
   },
   "outputs": [],
   "source": [
    "os.chdir(target_folder)"
   ]
  },
  {
   "cell_type": "code",
   "execution_count": 5,
   "id": "6a6bf4d7-9a40-4fbb-94e3-64871de89d72",
   "metadata": {
    "slideshow": {
     "slide_type": "subslide"
    },
    "tags": []
   },
   "outputs": [
    {
     "name": "stdout",
     "output_type": "stream",
     "text": [
      "/home/pi/workshop/planets\n"
     ]
    }
   ],
   "source": [
    "!pwd"
   ]
  },
  {
   "cell_type": "code",
   "execution_count": 6,
   "id": "d3f499a6-3ac2-4725-afd7-31c79e97a666",
   "metadata": {
    "slideshow": {
     "slide_type": "subslide"
    },
    "tags": []
   },
   "outputs": [
    {
     "name": "stdout",
     "output_type": "stream",
     "text": [
      ".  ..  .git  mars.txt  pluto.txt\n"
     ]
    }
   ],
   "source": [
    "!ls -a"
   ]
  },
  {
   "cell_type": "code",
   "execution_count": 7,
   "id": "d23adc65-be79-4d29-ad51-039870bf9219",
   "metadata": {
    "slideshow": {
     "slide_type": "subslide"
    },
    "tags": []
   },
   "outputs": [
    {
     "name": "stdout",
     "output_type": "stream",
     "text": [
      "On branch main\n",
      "Your branch is up to date with 'origin/main'.\n",
      "\n",
      "nothing to commit, working tree clean\n"
     ]
    }
   ],
   "source": [
    "!git status"
   ]
  },
  {
   "cell_type": "markdown",
   "id": "9bba8a97",
   "metadata": {
    "slideshow": {
     "slide_type": "slide"
    },
    "tags": []
   },
   "source": [
    "### the owner clone the same remote `Git` repository"
   ]
  },
  {
   "cell_type": "code",
   "execution_count": 8,
   "id": "e3ea0833",
   "metadata": {
    "slideshow": {
     "slide_type": "subslide"
    },
    "tags": []
   },
   "outputs": [],
   "source": [
    "# relocate directory \n",
    "# works under jupyter, \n",
    "# replace this block with bash in terminal\n",
    "import os, os.path, shutil\n",
    "own_folder = os.path.join(\n",
    "    os.path.expanduser('~'), \n",
    "    'workshop/test'\n",
    ")\n",
    "if os.path.exists(own_folder):\n",
    "    shutil.rmtree(own_folder)\n",
    "os.chdir(os.path.dirname(own_folder))"
   ]
  },
  {
   "cell_type": "code",
   "execution_count": 9,
   "id": "69c16f6c-f386-4483-a6e7-d89416396cb6",
   "metadata": {
    "slideshow": {
     "slide_type": "subslide"
    },
    "tags": []
   },
   "outputs": [
    {
     "name": "stdout",
     "output_type": "stream",
     "text": [
      "Cloning into 'test'...\n",
      "remote: Enumerating objects: 6, done.\u001b[K\n",
      "remote: Counting objects: 100% (6/6), done.\u001b[K\n",
      "remote: Compressing objects: 100% (4/4), done.\u001b[K\n",
      "remote: Total 6 (delta 0), reused 6 (delta 0), pack-reused 0\u001b[K\n",
      "Receiving objects: 100% (6/6), done.\n"
     ]
    }
   ],
   "source": [
    "!git clone git@github.com:zdshaoteach/test.git test"
   ]
  },
  {
   "cell_type": "code",
   "execution_count": 10,
   "id": "06dc36b5",
   "metadata": {
    "slideshow": {
     "slide_type": "subslide"
    },
    "tags": []
   },
   "outputs": [],
   "source": [
    "os.chdir(own_folder)"
   ]
  },
  {
   "cell_type": "code",
   "execution_count": 11,
   "id": "7fe90788",
   "metadata": {
    "slideshow": {
     "slide_type": "fragment"
    },
    "tags": []
   },
   "outputs": [
    {
     "name": "stdout",
     "output_type": "stream",
     "text": [
      "Cold and dry, but everything is my favorite color\n"
     ]
    }
   ],
   "source": [
    "!cat mars.txt"
   ]
  },
  {
   "cell_type": "markdown",
   "id": "c1bb2a03-9404-4f33-8c93-0a97ed27370e",
   "metadata": {
    "slideshow": {
     "slide_type": "slide"
    },
    "tags": []
   },
   "source": [
    "### the collaborator edit `mars.txt`"
   ]
  },
  {
   "cell_type": "code",
   "execution_count": 12,
   "id": "75f82483-d84c-4f4d-9164-98d577cce374",
   "metadata": {
    "slideshow": {
     "slide_type": "subslide"
    },
    "tags": []
   },
   "outputs": [],
   "source": [
    "os.chdir(target_folder)"
   ]
  },
  {
   "cell_type": "code",
   "execution_count": 13,
   "id": "fdab8493-6a20-45a4-8109-8c4c922c1d29",
   "metadata": {
    "slideshow": {
     "slide_type": "fragment"
    },
    "tags": []
   },
   "outputs": [
    {
     "name": "stdout",
     "output_type": "stream",
     "text": [
      "/home/pi/workshop/planets\n"
     ]
    }
   ],
   "source": [
    "!pwd"
   ]
  },
  {
   "cell_type": "code",
   "execution_count": 14,
   "id": "30e78c95-8c73-4c60-9bd5-434ed1045ffa",
   "metadata": {
    "slideshow": {
     "slide_type": "subslide"
    },
    "tags": []
   },
   "outputs": [
    {
     "name": "stdout",
     "output_type": "stream",
     "text": [
      "Cold and dry, but everything is my favorite color\n"
     ]
    }
   ],
   "source": [
    "!cat mars.txt"
   ]
  },
  {
   "cell_type": "code",
   "execution_count": 15,
   "id": "bf23d4c2-ddc3-40f1-b4eb-0002bc57be4e",
   "metadata": {
    "slideshow": {
     "slide_type": "subslide"
    },
    "tags": []
   },
   "outputs": [],
   "source": [
    "!echo \"The two moons may be a problem for Wolfman\" >> mars.txt\n",
    "!echo \"But the Mummy will appreciate the lack of humidity\" >> mars.txt"
   ]
  },
  {
   "cell_type": "code",
   "execution_count": 16,
   "id": "b2deeec9-0f26-4a0e-a0a1-1755992180d7",
   "metadata": {
    "slideshow": {
     "slide_type": "subslide"
    },
    "tags": []
   },
   "outputs": [
    {
     "name": "stdout",
     "output_type": "stream",
     "text": [
      "Cold and dry, but everything is my favorite color\n",
      "The two moons may be a problem for Wolfman\n",
      "But the Mummy will appreciate the lack of humidity\n"
     ]
    }
   ],
   "source": [
    "!cat mars.txt"
   ]
  },
  {
   "cell_type": "code",
   "execution_count": 17,
   "id": "a6c2877d-e19f-48e2-b9d4-f8620a985aff",
   "metadata": {
    "slideshow": {
     "slide_type": "subslide"
    },
    "tags": []
   },
   "outputs": [
    {
     "name": "stdout",
     "output_type": "stream",
     "text": [
      "[main 64513cc] Add a line in our home copy\n",
      " 1 file changed, 2 insertions(+)\n"
     ]
    }
   ],
   "source": [
    "!git add mars.txt\n",
    "!git commit -m \"Add a line in our home copy\""
   ]
  },
  {
   "cell_type": "code",
   "execution_count": 18,
   "id": "a16d58de-cbb3-4582-a930-481b28e98031",
   "metadata": {
    "slideshow": {
     "slide_type": "subslide"
    },
    "tags": []
   },
   "outputs": [
    {
     "name": "stdout",
     "output_type": "stream",
     "text": [
      "Enumerating objects: 5, done.\n",
      "Counting objects: 100% (5/5), done.\n",
      "Delta compression using up to 4 threads\n",
      "Compressing objects: 100% (3/3), done.\n",
      "Writing objects: 100% (3/3), 395 bytes | 395.00 KiB/s, done.\n",
      "Total 3 (delta 0), reused 0 (delta 0), pack-reused 0\n",
      "To github.com:zdshaoteach/test.git\n",
      "   11fc4fa..64513cc  main -> main\n"
     ]
    }
   ],
   "source": [
    "!git push origin main"
   ]
  },
  {
   "cell_type": "code",
   "execution_count": 19,
   "id": "ef588d6f-8a09-4c49-8f99-5e8e6e216c3e",
   "metadata": {
    "slideshow": {
     "slide_type": "subslide"
    },
    "tags": []
   },
   "outputs": [
    {
     "name": "stdout",
     "output_type": "stream",
     "text": [
      "\u001b[33mcommit 64513cc99fa6407577cd169f0aa777ec9ccfe248\u001b[m\u001b[33m (\u001b[m\u001b[1;36mHEAD -> \u001b[m\u001b[1;32mmain\u001b[m\u001b[33m, \u001b[m\u001b[1;31morigin/main\u001b[m\u001b[33m, \u001b[m\u001b[1;31morigin/HEAD\u001b[m\u001b[33m)\u001b[m\n",
      "Author: zdshaoteach <zdshao.teach@gmail.com>\n",
      "Date:   Wed May 11 18:50:17 2022 +0200\n",
      "\n",
      "    Add a line in our home copy\n",
      "\n",
      "\u001b[33mcommit 11fc4facdead9cca65884bad058e2f24260426bd\u001b[m\n",
      "Author: zdshaoteach <zdshao.teach@gmail.com>\n",
      "Date:   Wed May 11 18:41:38 2022 +0200\n",
      "\n",
      "    Add notes about Pluto\n",
      "\n",
      "\u001b[33mcommit fcce3db60590ff4e0cf9e8a15c66c2575d8605d3\u001b[m\n",
      "Author: zdshaoteach <zdshao.teach@gmail.com>\n",
      "Date:   Wed May 11 17:59:31 2022 +0200\n",
      "\n",
      "    first commit\n"
     ]
    }
   ],
   "source": [
    "!git log "
   ]
  },
  {
   "cell_type": "markdown",
   "id": "4386b4bd-a1ac-4435-940b-4afd3934e6cd",
   "metadata": {
    "slideshow": {
     "slide_type": "slide"
    },
    "tags": []
   },
   "source": [
    "### the owner edit `mars.txt`"
   ]
  },
  {
   "cell_type": "code",
   "execution_count": 20,
   "id": "e9a53b7d-9451-4c28-ae88-46a123172349",
   "metadata": {
    "slideshow": {
     "slide_type": "subslide"
    },
    "tags": []
   },
   "outputs": [],
   "source": [
    "os.chdir(own_folder)"
   ]
  },
  {
   "cell_type": "code",
   "execution_count": 21,
   "id": "f1723af2-301e-452a-900c-19ee802bd495",
   "metadata": {
    "slideshow": {
     "slide_type": "subslide"
    },
    "tags": []
   },
   "outputs": [
    {
     "name": "stdout",
     "output_type": "stream",
     "text": [
      "Cold and dry, but everything is my favorite color\n"
     ]
    }
   ],
   "source": [
    "!cat mars.txt"
   ]
  },
  {
   "cell_type": "code",
   "execution_count": 22,
   "id": "9b40e137-cfe9-4979-9c59-fb9254304f14",
   "metadata": {
    "slideshow": {
     "slide_type": "fragment"
    },
    "tags": []
   },
   "outputs": [
    {
     "name": "stdout",
     "output_type": "stream",
     "text": [
      "/home/pi/workshop/test\n"
     ]
    }
   ],
   "source": [
    "!pwd"
   ]
  },
  {
   "cell_type": "code",
   "execution_count": 23,
   "id": "dbc37ad7-93fc-45f7-b1d2-e07ac4104130",
   "metadata": {
    "slideshow": {
     "slide_type": "subslide"
    },
    "tags": []
   },
   "outputs": [],
   "source": [
    "!echo \"We added a different line in the other copy\" >> mars.txt"
   ]
  },
  {
   "cell_type": "code",
   "execution_count": 24,
   "id": "58d6020e-a202-41c3-95bc-c698d3e8c6c8",
   "metadata": {
    "slideshow": {
     "slide_type": "subslide"
    },
    "tags": []
   },
   "outputs": [
    {
     "name": "stdout",
     "output_type": "stream",
     "text": [
      "On branch main\n",
      "Your branch is up to date with 'origin/main'.\n",
      "\n",
      "Changes not staged for commit:\n",
      "  (use \"git add <file>...\" to update what will be committed)\n",
      "  (use \"git restore <file>...\" to discard changes in working directory)\n",
      "\t\u001b[31mmodified:   mars.txt\u001b[m\n",
      "\n",
      "no changes added to commit (use \"git add\" and/or \"git commit -a\")\n"
     ]
    }
   ],
   "source": [
    "!git status"
   ]
  },
  {
   "cell_type": "code",
   "execution_count": 25,
   "id": "95aa5810-8381-4718-b2eb-a02afc5f9582",
   "metadata": {
    "slideshow": {
     "slide_type": "subslide"
    },
    "tags": []
   },
   "outputs": [
    {
     "name": "stdout",
     "output_type": "stream",
     "text": [
      "\u001b[1mdiff --git a/mars.txt b/mars.txt\u001b[m\n",
      "\u001b[1mindex df0654a..1e790a3 100644\u001b[m\n",
      "\u001b[1m--- a/mars.txt\u001b[m\n",
      "\u001b[1m+++ b/mars.txt\u001b[m\n",
      "\u001b[36m@@ -1 +1,2 @@\u001b[m\n",
      " Cold and dry, but everything is my favorite color\u001b[m\n",
      "\u001b[32m+\u001b[m\u001b[32mWe added a different line in the other copy\u001b[m\n"
     ]
    }
   ],
   "source": [
    "!git diff"
   ]
  },
  {
   "cell_type": "code",
   "execution_count": 26,
   "id": "327e5549-8db7-4b07-9c1d-76ba015afa3c",
   "metadata": {
    "slideshow": {
     "slide_type": "subslide"
    },
    "tags": []
   },
   "outputs": [
    {
     "name": "stdout",
     "output_type": "stream",
     "text": [
      "\u001b[33mcommit 11fc4facdead9cca65884bad058e2f24260426bd\u001b[m\u001b[33m (\u001b[m\u001b[1;36mHEAD -> \u001b[m\u001b[1;32mmain\u001b[m\u001b[33m, \u001b[m\u001b[1;31morigin/main\u001b[m\u001b[33m, \u001b[m\u001b[1;31morigin/HEAD\u001b[m\u001b[33m)\u001b[m\n",
      "Author: zdshaoteach <zdshao.teach@gmail.com>\n",
      "Date:   Wed May 11 18:41:38 2022 +0200\n",
      "\n",
      "    Add notes about Pluto\n",
      "\n",
      "\u001b[33mcommit fcce3db60590ff4e0cf9e8a15c66c2575d8605d3\u001b[m\n",
      "Author: zdshaoteach <zdshao.teach@gmail.com>\n",
      "Date:   Wed May 11 17:59:31 2022 +0200\n",
      "\n",
      "    first commit\n"
     ]
    }
   ],
   "source": [
    "!git log "
   ]
  },
  {
   "cell_type": "code",
   "execution_count": 27,
   "id": "61f66c72-5f98-424f-a4cb-a62a268fecb7",
   "metadata": {
    "slideshow": {
     "slide_type": "subslide"
    },
    "tags": []
   },
   "outputs": [],
   "source": [
    "!git add mars.txt"
   ]
  },
  {
   "cell_type": "code",
   "execution_count": 28,
   "id": "b85d1d54-77a4-4920-b31a-d9341fd2d7b4",
   "metadata": {
    "slideshow": {
     "slide_type": "subslide"
    },
    "tags": []
   },
   "outputs": [
    {
     "name": "stdout",
     "output_type": "stream",
     "text": [
      "On branch main\n",
      "Your branch is up to date with 'origin/main'.\n",
      "\n",
      "Changes to be committed:\n",
      "  (use \"git restore --staged <file>...\" to unstage)\n",
      "\t\u001b[32mmodified:   mars.txt\u001b[m\n",
      "\n"
     ]
    }
   ],
   "source": [
    "!git status"
   ]
  },
  {
   "cell_type": "code",
   "execution_count": 29,
   "id": "21d81868-b88f-49f5-a851-aa62fbf41df4",
   "metadata": {
    "slideshow": {
     "slide_type": "subslide"
    },
    "tags": []
   },
   "outputs": [
    {
     "name": "stdout",
     "output_type": "stream",
     "text": [
      "[main e2d74b7] Add a line in my copy\n",
      " 1 file changed, 1 insertion(+)\n"
     ]
    }
   ],
   "source": [
    "!git commit -m \"Add a line in my copy\""
   ]
  },
  {
   "cell_type": "code",
   "execution_count": 30,
   "id": "c9a2cb4c-29cb-4b0e-836a-3b7e9c5ba496",
   "metadata": {
    "slideshow": {
     "slide_type": "subslide"
    },
    "tags": []
   },
   "outputs": [
    {
     "name": "stdout",
     "output_type": "stream",
     "text": [
      "To github.com:zdshaoteach/test.git\n",
      " \u001b[31m! [rejected]       \u001b[m main -> main (fetch first)\n",
      "\u001b[31merror: failed to push some refs to 'github.com:zdshaoteach/test.git'\n",
      "\u001b[m\u001b[33mhint: Updates were rejected because the remote contains work that you do\u001b[m\n",
      "\u001b[33mhint: not have locally. This is usually caused by another repository pushing\u001b[m\n",
      "\u001b[33mhint: to the same ref. You may want to first integrate the remote changes\u001b[m\n",
      "\u001b[33mhint: (e.g., 'git pull ...') before pushing again.\u001b[m\n",
      "\u001b[33mhint: See the 'Note about fast-forwards' in 'git push --help' for details.\u001b[m\n"
     ]
    }
   ],
   "source": [
    "!git push origin main"
   ]
  },
  {
   "cell_type": "markdown",
   "id": "d5226c5b-c416-4b6a-83a4-e88ad5e1c0fb",
   "metadata": {
    "slideshow": {
     "slide_type": "slide"
    },
    "tags": []
   },
   "source": [
    "### `merge` to resolve conflicts"
   ]
  },
  {
   "cell_type": "code",
   "execution_count": 31,
   "id": "14fb0072-b560-4810-af15-d211887bb8f4",
   "metadata": {
    "slideshow": {
     "slide_type": "subslide"
    },
    "tags": []
   },
   "outputs": [
    {
     "name": "stdout",
     "output_type": "stream",
     "text": [
      "\u001b[33mcommit e2d74b7fbe97123450feeae21d43279c3c3f6b61\u001b[m\u001b[33m (\u001b[m\u001b[1;36mHEAD -> \u001b[m\u001b[1;32mmain\u001b[m\u001b[33m)\u001b[m\n",
      "Author: zdshaoteach <zdshao.teach@gmail.com>\n",
      "Date:   Wed May 11 18:50:45 2022 +0200\n",
      "\n",
      "    Add a line in my copy\n",
      "\n",
      "\u001b[33mcommit 11fc4facdead9cca65884bad058e2f24260426bd\u001b[m\u001b[33m (\u001b[m\u001b[1;31morigin/main\u001b[m\u001b[33m, \u001b[m\u001b[1;31morigin/HEAD\u001b[m\u001b[33m)\u001b[m\n",
      "Author: zdshaoteach <zdshao.teach@gmail.com>\n",
      "Date:   Wed May 11 18:41:38 2022 +0200\n",
      "\n",
      "    Add notes about Pluto\n",
      "\n",
      "\u001b[33mcommit fcce3db60590ff4e0cf9e8a15c66c2575d8605d3\u001b[m\n",
      "Author: zdshaoteach <zdshao.teach@gmail.com>\n",
      "Date:   Wed May 11 17:59:31 2022 +0200\n",
      "\n",
      "    first commit\n"
     ]
    }
   ],
   "source": [
    "!git log"
   ]
  },
  {
   "cell_type": "code",
   "execution_count": 32,
   "id": "65763f46-2421-495d-9ef7-80e7cc1adf0c",
   "metadata": {
    "slideshow": {
     "slide_type": "subslide"
    },
    "tags": []
   },
   "outputs": [
    {
     "name": "stdout",
     "output_type": "stream",
     "text": [
      "\u001b[33mhint: Pulling without specifying how to reconcile divergent branches is\u001b[m\n",
      "\u001b[33mhint: discouraged. You can squelch this message by running one of the following\u001b[m\n",
      "\u001b[33mhint: commands sometime before your next pull:\u001b[m\n",
      "\u001b[33mhint: \u001b[m\n",
      "\u001b[33mhint:   git config pull.rebase false  # merge (the default strategy)\u001b[m\n",
      "\u001b[33mhint:   git config pull.rebase true   # rebase\u001b[m\n",
      "\u001b[33mhint:   git config pull.ff only       # fast-forward only\u001b[m\n",
      "\u001b[33mhint: \u001b[m\n",
      "\u001b[33mhint: You can replace \"git config\" with \"git config --global\" to set a default\u001b[m\n",
      "\u001b[33mhint: preference for all repositories. You can also pass --rebase, --no-rebase,\u001b[m\n",
      "\u001b[33mhint: or --ff-only on the command line to override the configured default per\u001b[m\n",
      "\u001b[33mhint: invocation.\u001b[m\n",
      "remote: Enumerating objects: 5, done.\u001b[K\n",
      "remote: Counting objects: 100% (5/5), done.\u001b[K\n",
      "remote: Compressing objects: 100% (3/3), done.\u001b[K\n",
      "remote: Total 3 (delta 0), reused 3 (delta 0), pack-reused 0\u001b[K\n",
      "Unpacking objects: 100% (3/3), 375 bytes | 187.00 KiB/s, done.\n",
      "From github.com:zdshaoteach/test\n",
      " * branch            main       -> FETCH_HEAD\n",
      "   11fc4fa..64513cc  main       -> origin/main\n",
      "Auto-merging mars.txt\n",
      "CONFLICT (content): Merge conflict in mars.txt\n",
      "Automatic merge failed; fix conflicts and then commit the result.\n"
     ]
    }
   ],
   "source": [
    "!git pull origin main"
   ]
  },
  {
   "cell_type": "code",
   "execution_count": 33,
   "id": "055c0422-76ff-4b26-9b8b-383e93350c03",
   "metadata": {
    "slideshow": {
     "slide_type": "subslide"
    },
    "tags": []
   },
   "outputs": [
    {
     "name": "stdout",
     "output_type": "stream",
     "text": [
      "Cold and dry, but everything is my favorite color\n",
      "<<<<<<< HEAD\n",
      "We added a different line in the other copy\n",
      "=======\n",
      "The two moons may be a problem for Wolfman\n",
      "But the Mummy will appreciate the lack of humidity\n",
      ">>>>>>> 64513cc99fa6407577cd169f0aa777ec9ccfe248\n"
     ]
    }
   ],
   "source": [
    "!cat mars.txt"
   ]
  },
  {
   "cell_type": "code",
   "execution_count": 34,
   "id": "a10a9839-8837-4dd5-8a9b-ce2f1d2d390d",
   "metadata": {
    "slideshow": {
     "slide_type": "subslide"
    },
    "tags": []
   },
   "outputs": [],
   "source": [
    "!git config pull.rebase false"
   ]
  },
  {
   "cell_type": "code",
   "execution_count": 35,
   "id": "83f67eb1-977a-4b22-9f38-29ec9ea72e30",
   "metadata": {
    "slideshow": {
     "slide_type": "subslide"
    },
    "tags": []
   },
   "outputs": [
    {
     "name": "stdout",
     "output_type": "stream",
     "text": [
      "error: Pulling is not possible because you have unmerged files.\n",
      "\u001b[33mhint: Fix them up in the work tree, and then use 'git add/rm <file>'\u001b[m\n",
      "\u001b[33mhint: as appropriate to mark resolution and make a commit.\u001b[m\n",
      "fatal: Exiting because of an unresolved conflict.\n"
     ]
    }
   ],
   "source": [
    "!git pull origin main"
   ]
  },
  {
   "cell_type": "code",
   "execution_count": 36,
   "id": "5f394508-3d53-4579-8650-2dee7229af67",
   "metadata": {
    "slideshow": {
     "slide_type": "subslide"
    },
    "tags": []
   },
   "outputs": [
    {
     "name": "stdout",
     "output_type": "stream",
     "text": [
      "Cold and dry, but everything is my favorite color\n",
      "<<<<<<< HEAD\n",
      "We added a different line in the other copy\n",
      "=======\n",
      "The two moons may be a problem for Wolfman\n",
      "But the Mummy will appreciate the lack of humidity\n",
      ">>>>>>> 64513cc99fa6407577cd169f0aa777ec9ccfe248\n"
     ]
    }
   ],
   "source": [
    "!cat mars.txt"
   ]
  },
  {
   "cell_type": "code",
   "execution_count": 37,
   "id": "4fb4d850-3247-44c4-8408-36fa7f3ae61e",
   "metadata": {
    "slideshow": {
     "slide_type": "subslide"
    },
    "tags": []
   },
   "outputs": [],
   "source": [
    "!echo \"Cold and dry, but everything is my favorite color \\n\\\n",
    "We added a different line in the other copy \\n\\\n",
    "The two moons may be a problem for Wolfman \\n\\\n",
    "But the Mummy will appreciate the lack of humidity \\n\" > mars.txt"
   ]
  },
  {
   "cell_type": "code",
   "execution_count": 38,
   "id": "39a069c7-152b-4d26-ba8a-2ebedc40c357",
   "metadata": {
    "slideshow": {
     "slide_type": "subslide"
    },
    "tags": []
   },
   "outputs": [
    {
     "name": "stdout",
     "output_type": "stream",
     "text": [
      "Cold and dry, but everything is my favorite color \\n We added a different line in the other copy \\n The two moons may be a problem for Wolfman \\n But the Mummy will appreciate the lack of humidity \\n\n"
     ]
    }
   ],
   "source": [
    "!cat mars.txt"
   ]
  },
  {
   "cell_type": "code",
   "execution_count": 39,
   "id": "21163a83-0b16-4cc7-8f8a-94f96671c111",
   "metadata": {
    "slideshow": {
     "slide_type": "subslide"
    },
    "tags": []
   },
   "outputs": [
    {
     "name": "stdout",
     "output_type": "stream",
     "text": [
      "[main 49e5dc7] resolve conflicts\n"
     ]
    }
   ],
   "source": [
    "!git add mars.txt\n",
    "!git commit -m \"resolve conflicts\""
   ]
  },
  {
   "cell_type": "code",
   "execution_count": 40,
   "id": "86bedc21-4a98-40da-99cf-8d758894f2e2",
   "metadata": {
    "slideshow": {
     "slide_type": "subslide"
    },
    "tags": []
   },
   "outputs": [
    {
     "name": "stdout",
     "output_type": "stream",
     "text": [
      "Enumerating objects: 10, done.\n",
      "Counting objects: 100% (10/10), done.\n",
      "Delta compression using up to 4 threads\n",
      "Compressing objects: 100% (6/6), done.\n",
      "Writing objects: 100% (6/6), 773 bytes | 257.00 KiB/s, done.\n",
      "Total 6 (delta 0), reused 0 (delta 0), pack-reused 0\n",
      "To github.com:zdshaoteach/test.git\n",
      "   64513cc..49e5dc7  main -> main\n"
     ]
    }
   ],
   "source": [
    "!git push origin main"
   ]
  },
  {
   "cell_type": "markdown",
   "id": "016bbeec-e56c-4def-90ae-656d185e0f68",
   "metadata": {
    "slideshow": {
     "slide_type": "slide"
    },
    "tags": []
   },
   "source": [
    "### the collaborator pulls from the remote"
   ]
  },
  {
   "cell_type": "code",
   "execution_count": 41,
   "id": "84de6b69-9b61-4d5d-91e4-d60b9d566e32",
   "metadata": {
    "slideshow": {
     "slide_type": "subslide"
    },
    "tags": []
   },
   "outputs": [],
   "source": [
    "os.chdir(target_folder)"
   ]
  },
  {
   "cell_type": "code",
   "execution_count": 42,
   "id": "5414b5b5-8e26-476d-b297-4d6344767cff",
   "metadata": {
    "slideshow": {
     "slide_type": "fragment"
    },
    "tags": []
   },
   "outputs": [
    {
     "name": "stdout",
     "output_type": "stream",
     "text": [
      "/home/pi/workshop/planets\n"
     ]
    }
   ],
   "source": [
    "!pwd"
   ]
  },
  {
   "cell_type": "code",
   "execution_count": 43,
   "id": "bbf087f0-16ce-4cfb-af5c-75153a3ea117",
   "metadata": {
    "slideshow": {
     "slide_type": "subslide"
    },
    "tags": []
   },
   "outputs": [
    {
     "name": "stdout",
     "output_type": "stream",
     "text": [
      "Cold and dry, but everything is my favorite color\n",
      "The two moons may be a problem for Wolfman\n",
      "But the Mummy will appreciate the lack of humidity\n"
     ]
    }
   ],
   "source": [
    "!cat mars.txt"
   ]
  },
  {
   "cell_type": "code",
   "execution_count": 44,
   "id": "bc73d810-7b86-4d71-ba5a-dad8088dc294",
   "metadata": {
    "slideshow": {
     "slide_type": "subslide"
    },
    "tags": []
   },
   "outputs": [
    {
     "name": "stdout",
     "output_type": "stream",
     "text": [
      "\u001b[33mhint: Pulling without specifying how to reconcile divergent branches is\u001b[m\n",
      "\u001b[33mhint: discouraged. You can squelch this message by running one of the following\u001b[m\n",
      "\u001b[33mhint: commands sometime before your next pull:\u001b[m\n",
      "\u001b[33mhint: \u001b[m\n",
      "\u001b[33mhint:   git config pull.rebase false  # merge (the default strategy)\u001b[m\n",
      "\u001b[33mhint:   git config pull.rebase true   # rebase\u001b[m\n",
      "\u001b[33mhint:   git config pull.ff only       # fast-forward only\u001b[m\n",
      "\u001b[33mhint: \u001b[m\n",
      "\u001b[33mhint: You can replace \"git config\" with \"git config --global\" to set a default\u001b[m\n",
      "\u001b[33mhint: preference for all repositories. You can also pass --rebase, --no-rebase,\u001b[m\n",
      "\u001b[33mhint: or --ff-only on the command line to override the configured default per\u001b[m\n",
      "\u001b[33mhint: invocation.\u001b[m\n",
      "remote: Enumerating objects: 10, done.\u001b[K\n",
      "remote: Counting objects: 100% (10/10), done.\u001b[K\n",
      "remote: Compressing objects: 100% (6/6), done.\u001b[K\n",
      "Unpacking objects: 100% (6/6), 753 bytes | 83.00 KiB/s, done.\n",
      "remote: Total 6 (delta 0), reused 6 (delta 0), pack-reused 0\u001b[K\n",
      "From github.com:zdshaoteach/test\n",
      " * branch            main       -> FETCH_HEAD\n",
      "   64513cc..49e5dc7  main       -> origin/main\n",
      "Updating 64513cc..49e5dc7\n",
      "Fast-forward\n",
      " mars.txt | 4 \u001b[32m+\u001b[m\u001b[31m---\u001b[m\n",
      " 1 file changed, 1 insertion(+), 3 deletions(-)\n"
     ]
    }
   ],
   "source": [
    "!git pull origin main"
   ]
  },
  {
   "cell_type": "code",
   "execution_count": 45,
   "id": "db06f175-501c-47e2-977e-cbcbdadfc349",
   "metadata": {
    "slideshow": {
     "slide_type": "subslide"
    },
    "tags": []
   },
   "outputs": [
    {
     "name": "stdout",
     "output_type": "stream",
     "text": [
      "Cold and dry, but everything is my favorite color \\n We added a different line in the other copy \\n The two moons may be a problem for Wolfman \\n But the Mummy will appreciate the lack of humidity \\n\n"
     ]
    }
   ],
   "source": [
    "!cat mars.txt"
   ]
  },
  {
   "cell_type": "code",
   "execution_count": null,
   "id": "594407f9-3595-4c7c-acda-947152b236b3",
   "metadata": {},
   "outputs": [],
   "source": []
  }
 ],
 "metadata": {
  "kernelspec": {
   "display_name": "Python 3 (ipykernel)",
   "language": "python",
   "name": "python3"
  },
  "language_info": {
   "codemirror_mode": {
    "name": "ipython",
    "version": 3
   },
   "file_extension": ".py",
   "mimetype": "text/x-python",
   "name": "python",
   "nbconvert_exporter": "python",
   "pygments_lexer": "ipython3",
   "version": "3.9.12"
  }
 },
 "nbformat": 4,
 "nbformat_minor": 5
}
