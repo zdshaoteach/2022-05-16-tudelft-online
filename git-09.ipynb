{
 "cells": [
  {
   "cell_type": "markdown",
   "id": "65340e16-7e6a-4bc7-b1c7-b972e46a5851",
   "metadata": {
    "slideshow": {
     "slide_type": "slide"
    },
    "tags": []
   },
   "source": [
    "# Git 08 Conflicts"
   ]
  },
  {
   "cell_type": "markdown",
   "id": "1e375169-df9f-4a31-a306-b8073721d6f3",
   "metadata": {
    "slideshow": {
     "slide_type": "fragment"
    },
    "tags": []
   },
   "source": [
    "[course link](https://swcarpentry.github.io/git-novice/index.html)\n",
    "\n",
    "- duration: 15 mins\n",
    "- what is a conflict ?\n",
    "- how to resolve a conflict ?"
   ]
  },
  {
   "cell_type": "markdown",
   "id": "f8d4e039-5d17-400b-9a9c-cd0dd63aba06",
   "metadata": {
    "slideshow": {
     "slide_type": "skip"
    },
    "tags": []
   },
   "source": [
    "### commands overview"
   ]
  },
  {
   "cell_type": "code",
   "execution_count": 24,
   "id": "b69cde3f-0e0a-4395-a22c-6f9b6cf7f099",
   "metadata": {
    "slideshow": {
     "slide_type": "skip"
    },
    "tags": []
   },
   "outputs": [
    {
     "name": "stdout",
     "output_type": "stream",
     "text": [
      "ls: git: No such file or directory\n"
     ]
    }
   ],
   "source": [
    "!ls 'git'"
   ]
  },
  {
   "cell_type": "code",
   "execution_count": 25,
   "id": "119c89d3-ae0c-4bca-8126-482e1d263feb",
   "metadata": {
    "slideshow": {
     "slide_type": "skip"
    },
    "tags": []
   },
   "outputs": [
    {
     "name": "stdout",
     "output_type": "stream",
     "text": [
      "cat: git/git08.sh: No such file or directory\n"
     ]
    }
   ],
   "source": [
    "!cat git/git09.sh"
   ]
  },
  {
   "cell_type": "markdown",
   "id": "50fab241-5973-483a-b529-df6d02edce59",
   "metadata": {
    "slideshow": {
     "slide_type": "slide"
    },
    "tags": []
   },
   "source": [
    "### Setup\n",
    "\n",
    "- pair with a collaborator\n",
    "- add your collaborator on `Github`\n",
    "- clone the same `Github` repository with your collaborator"
   ]
  },
  {
   "cell_type": "markdown",
   "id": "f2802f26-1fbf-42af-bd54-9af92a117cbb",
   "metadata": {
    "slideshow": {
     "slide_type": "slide"
    },
    "tags": []
   },
   "source": [
    "### the collaborator clone a remote `Git` repository"
   ]
  },
  {
   "cell_type": "code",
   "execution_count": 1,
   "id": "03cdbd82-5d5b-482c-b0ce-3a72b2a27f8a",
   "metadata": {
    "slideshow": {
     "slide_type": "subslide"
    },
    "tags": []
   },
   "outputs": [],
   "source": [
    "# create directory (works under jupyter, replace this block with bash in terminal)\n",
    "import os, os.path, shutil\n",
    "target_folder = os.path.join(os.path.expanduser('~'), 'workshop/planets')\n",
    "if os.path.exists(target_folder):\n",
    "    shutil.rmtree(target_folder)\n",
    "os.chdir(os.path.dirname(target_folder))"
   ]
  },
  {
   "cell_type": "code",
   "execution_count": 2,
   "id": "7acc12c9-1f7e-4281-8b2e-cf633dc19107",
   "metadata": {
    "slideshow": {
     "slide_type": "subslide"
    },
    "tags": []
   },
   "outputs": [
    {
     "name": "stdout",
     "output_type": "stream",
     "text": [
      "/Users/doris/workshop\n"
     ]
    }
   ],
   "source": [
    "!pwd"
   ]
  },
  {
   "cell_type": "code",
   "execution_count": 3,
   "id": "7441662c-d0a6-4794-b660-c1c900c83b1a",
   "metadata": {
    "slideshow": {
     "slide_type": "subslide"
    },
    "tags": []
   },
   "outputs": [
    {
     "name": "stdout",
     "output_type": "stream",
     "text": [
      "Cloning into 'planets'...\n",
      "remote: Enumerating objects: 6, done.\u001b[K\n",
      "remote: Counting objects: 100% (6/6), done.\u001b[K\n",
      "remote: Compressing objects: 100% (4/4), done.\u001b[K\n",
      "remote: Total 6 (delta 0), reused 6 (delta 0), pack-reused 0\u001b[K\n",
      "Receiving objects: 100% (6/6), done.\n"
     ]
    }
   ],
   "source": [
    "!git clone https://github.com/zdshaoteach/test.git planets"
   ]
  },
  {
   "cell_type": "code",
   "execution_count": 32,
   "id": "f2e3b07f-6efb-478d-89b0-00788ddd5dfd",
   "metadata": {
    "slideshow": {
     "slide_type": "subslide"
    },
    "tags": []
   },
   "outputs": [],
   "source": [
    "os.chdir(target_folder)"
   ]
  },
  {
   "cell_type": "code",
   "execution_count": 18,
   "id": "6a6bf4d7-9a40-4fbb-94e3-64871de89d72",
   "metadata": {
    "slideshow": {
     "slide_type": "subslide"
    },
    "tags": []
   },
   "outputs": [
    {
     "name": "stdout",
     "output_type": "stream",
     "text": [
      "/Users/doris/workshop/planets\n"
     ]
    }
   ],
   "source": [
    "!pwd"
   ]
  },
  {
   "cell_type": "code",
   "execution_count": 19,
   "id": "d3f499a6-3ac2-4725-afd7-31c79e97a666",
   "metadata": {
    "slideshow": {
     "slide_type": "subslide"
    },
    "tags": []
   },
   "outputs": [
    {
     "name": "stdout",
     "output_type": "stream",
     "text": [
      "\u001b[34m.\u001b[m\u001b[m         \u001b[34m..\u001b[m\u001b[m        \u001b[34m.git\u001b[m\u001b[m      mars.txt  pluto.txt\n"
     ]
    }
   ],
   "source": [
    "!ls -a"
   ]
  },
  {
   "cell_type": "code",
   "execution_count": 20,
   "id": "d23adc65-be79-4d29-ad51-039870bf9219",
   "metadata": {
    "slideshow": {
     "slide_type": "subslide"
    },
    "tags": []
   },
   "outputs": [
    {
     "name": "stdout",
     "output_type": "stream",
     "text": [
      "On branch main\n",
      "Your branch is up to date with 'origin/main'.\n",
      "\n",
      "nothing to commit, working tree clean\n"
     ]
    }
   ],
   "source": [
    "!git status"
   ]
  },
  {
   "cell_type": "markdown",
   "id": "c1bb2a03-9404-4f33-8c93-0a97ed27370e",
   "metadata": {
    "slideshow": {
     "slide_type": "slide"
    },
    "tags": []
   },
   "source": [
    "### the collaborator edit `mars.txt`"
   ]
  },
  {
   "cell_type": "code",
   "execution_count": 21,
   "id": "30e78c95-8c73-4c60-9bd5-434ed1045ffa",
   "metadata": {
    "slideshow": {
     "slide_type": "subslide"
    },
    "tags": []
   },
   "outputs": [
    {
     "name": "stdout",
     "output_type": "stream",
     "text": [
      "Cold and dry, but everything is my favorite color\n",
      "The two moons may be a problem for Wolfman\n",
      "But the Mummy will appreciate the lack of humidity\n"
     ]
    }
   ],
   "source": [
    "!cat mars.txt"
   ]
  },
  {
   "cell_type": "code",
   "execution_count": 22,
   "id": "bf23d4c2-ddc3-40f1-b4eb-0002bc57be4e",
   "metadata": {
    "slideshow": {
     "slide_type": "subslide"
    },
    "tags": []
   },
   "outputs": [],
   "source": [
    "!echo \"The two moons may be a problem for Wolfman\" >> mars.txt\n",
    "!echo \"But the Mummy will appreciate the lack of humidity\" >> mars.txt"
   ]
  },
  {
   "cell_type": "code",
   "execution_count": 23,
   "id": "b2deeec9-0f26-4a0e-a0a1-1755992180d7",
   "metadata": {
    "slideshow": {
     "slide_type": "subslide"
    },
    "tags": []
   },
   "outputs": [
    {
     "name": "stdout",
     "output_type": "stream",
     "text": [
      "Cold and dry, but everything is my favorite color\n",
      "The two moons may be a problem for Wolfman\n",
      "But the Mummy will appreciate the lack of humidity\n",
      "The two moons may be a problem for Wolfman\n",
      "But the Mummy will appreciate the lack of humidity\n"
     ]
    }
   ],
   "source": [
    "!cat mars.txt"
   ]
  },
  {
   "cell_type": "code",
   "execution_count": 24,
   "id": "a6c2877d-e19f-48e2-b9d4-f8620a985aff",
   "metadata": {
    "slideshow": {
     "slide_type": "subslide"
    },
    "tags": []
   },
   "outputs": [
    {
     "name": "stdout",
     "output_type": "stream",
     "text": [
      "[main e8e57c7] Add a line in our home copy\n",
      " 1 file changed, 2 insertions(+)\n"
     ]
    }
   ],
   "source": [
    "!git add mars.txt\n",
    "!git commit -m \"Add a line in our home copy\""
   ]
  },
  {
   "cell_type": "code",
   "execution_count": 25,
   "id": "a16d58de-cbb3-4582-a930-481b28e98031",
   "metadata": {
    "slideshow": {
     "slide_type": "subslide"
    },
    "tags": []
   },
   "outputs": [
    {
     "name": "stdout",
     "output_type": "stream",
     "text": [
      "Enumerating objects: 5, done.\n",
      "Counting objects: 100% (5/5), done.\n",
      "Delta compression using up to 8 threads\n",
      "Compressing objects: 100% (3/3), done.\n",
      "Writing objects: 100% (3/3), 329 bytes | 329.00 KiB/s, done.\n",
      "Total 3 (delta 1), reused 0 (delta 0), pack-reused 0\n",
      "remote: Resolving deltas: 100% (1/1), completed with 1 local object.\u001b[K\n",
      "To https://github.com/zdshaoteach/test.git\n",
      "   4414321..e8e57c7  main -> main\n"
     ]
    }
   ],
   "source": [
    "!git push origin main"
   ]
  },
  {
   "cell_type": "code",
   "execution_count": 13,
   "id": "4005cb52-36ec-46dc-b5d0-4dc102760c95",
   "metadata": {
    "slideshow": {
     "slide_type": "subslide"
    },
    "tags": []
   },
   "outputs": [],
   "source": [
    "import os, os.path, shutil\n",
    "own_folder = os.path.join(os.path.expanduser('~'), 'workshop/test')\n",
    "if os.path.exists(own_folder):\n",
    "    shutil.rmtree(own_folder)\n",
    "os.chdir(os.path.dirname(own_folder))"
   ]
  },
  {
   "cell_type": "code",
   "execution_count": 34,
   "id": "ef588d6f-8a09-4c49-8f99-5e8e6e216c3e",
   "metadata": {
    "slideshow": {
     "slide_type": "subslide"
    },
    "tags": []
   },
   "outputs": [
    {
     "name": "stdout",
     "output_type": "stream",
     "text": [
      "\u001b[33mcommit e8e57c746940a0b1b8f6f9891459d909dbb0e3dd\u001b[m\u001b[33m (\u001b[m\u001b[1;36mHEAD -> \u001b[m\u001b[1;32mmain\u001b[m\u001b[33m, \u001b[m\u001b[1;31morigin/main\u001b[m\u001b[33m, \u001b[m\u001b[1;31morigin/HEAD\u001b[m\u001b[33m)\u001b[m\n",
      "Author: Zongru (Doris) Shao <zdshao.teach@gmail.com>\n",
      "Date:   Mon Apr 25 23:56:02 2022 +0200\n",
      "\n",
      "    Add a line in our home copy\n",
      "\n",
      "\u001b[33mcommit 44143217ca98551056b16bccc3e8fc88b9d0e731\u001b[m\n",
      "Author: Zongru (Doris) Shao <zdshao.teach@gmail.com>\n",
      "Date:   Mon Apr 25 23:52:58 2022 +0200\n",
      "\n",
      "    Add a line in our home copy\n",
      "\n",
      "\u001b[33mcommit 43e1fd5de7ad0b8e625727a436e13f4a386296dd\u001b[m\n",
      "Author: Zongru (Doris) Shao <zdshao.teach@gmail.com>\n",
      "Date:   Mon Apr 25 23:42:15 2022 +0200\n",
      "\n",
      "    Add notes about Pluto\n",
      "\n",
      "\u001b[33mcommit b81c6df4527e4d35eb9386afe08e8e345bc512a0\u001b[m\n",
      "Author: Zongru (Doris) Shao <zdshao.teach@gmail.com>\n",
      "Date:   Mon Apr 25 23:23:20 2022 +0200\n",
      "\n",
      "    first commit\n"
     ]
    }
   ],
   "source": [
    "!git log "
   ]
  },
  {
   "cell_type": "markdown",
   "id": "4386b4bd-a1ac-4435-940b-4afd3934e6cd",
   "metadata": {
    "slideshow": {
     "slide_type": "slide"
    },
    "tags": []
   },
   "source": [
    "### the owner edit `mars.txt`"
   ]
  },
  {
   "cell_type": "code",
   "execution_count": 14,
   "id": "69c16f6c-f386-4483-a6e7-d89416396cb6",
   "metadata": {
    "slideshow": {
     "slide_type": "subslide"
    },
    "tags": []
   },
   "outputs": [
    {
     "name": "stdout",
     "output_type": "stream",
     "text": [
      "Cloning into 'test'...\n",
      "remote: Enumerating objects: 9, done.\u001b[K\n",
      "remote: Counting objects: 100% (9/9), done.\u001b[K\n",
      "remote: Compressing objects: 100% (7/7), done.\u001b[K\n",
      "remote: Total 9 (delta 1), reused 8 (delta 0), pack-reused 0\u001b[K\n",
      "Receiving objects: 100% (9/9), done.\n",
      "Resolving deltas: 100% (1/1), done.\n"
     ]
    }
   ],
   "source": [
    "!git clone https://github.com/zdshaoteach/test.git test"
   ]
  },
  {
   "cell_type": "code",
   "execution_count": 41,
   "id": "e9a53b7d-9451-4c28-ae88-46a123172349",
   "metadata": {
    "slideshow": {
     "slide_type": "subslide"
    },
    "tags": []
   },
   "outputs": [],
   "source": [
    "os.chdir(own_folder)"
   ]
  },
  {
   "cell_type": "code",
   "execution_count": 27,
   "id": "f1723af2-301e-452a-900c-19ee802bd495",
   "metadata": {
    "slideshow": {
     "slide_type": "subslide"
    },
    "tags": []
   },
   "outputs": [
    {
     "name": "stdout",
     "output_type": "stream",
     "text": [
      "Cold and dry, but everything is my favorite color\n",
      "The two moons may be a problem for Wolfman\n",
      "But the Mummy will appreciate the lack of humidity\n"
     ]
    }
   ],
   "source": [
    "!cat mars.txt"
   ]
  },
  {
   "cell_type": "code",
   "execution_count": 28,
   "id": "dbc37ad7-93fc-45f7-b1d2-e07ac4104130",
   "metadata": {
    "slideshow": {
     "slide_type": "subslide"
    },
    "tags": []
   },
   "outputs": [],
   "source": [
    "!echo \"We added a different line in the other copy\" >> mars.txt"
   ]
  },
  {
   "cell_type": "code",
   "execution_count": 42,
   "id": "58d6020e-a202-41c3-95bc-c698d3e8c6c8",
   "metadata": {
    "slideshow": {
     "slide_type": "subslide"
    },
    "tags": []
   },
   "outputs": [
    {
     "name": "stdout",
     "output_type": "stream",
     "text": [
      "On branch main\n",
      "Your branch is up to date with 'origin/main'.\n",
      "\n",
      "Changes not staged for commit:\n",
      "  (use \"git add <file>...\" to update what will be committed)\n",
      "  (use \"git restore <file>...\" to discard changes in working directory)\n",
      "\t\u001b[31mmodified:   mars.txt\u001b[m\n",
      "\n",
      "no changes added to commit (use \"git add\" and/or \"git commit -a\")\n"
     ]
    }
   ],
   "source": [
    "!git status"
   ]
  },
  {
   "cell_type": "code",
   "execution_count": 43,
   "id": "95aa5810-8381-4718-b2eb-a02afc5f9582",
   "metadata": {
    "slideshow": {
     "slide_type": "subslide"
    },
    "tags": []
   },
   "outputs": [
    {
     "name": "stdout",
     "output_type": "stream",
     "text": [
      "\u001b[1mdiff --git a/mars.txt b/mars.txt\u001b[m\n",
      "\u001b[1mindex b36abfd..3ca3b1a 100644\u001b[m\n",
      "\u001b[1m--- a/mars.txt\u001b[m\n",
      "\u001b[1m+++ b/mars.txt\u001b[m\n",
      "\u001b[36m@@ -1,3 +1,4 @@\u001b[m\n",
      " Cold and dry, but everything is my favorite color\u001b[m\n",
      " The two moons may be a problem for Wolfman\u001b[m\n",
      " But the Mummy will appreciate the lack of humidity\u001b[m\n",
      "\u001b[32m+\u001b[m\u001b[32mWe added a different line in the other copy\u001b[m\n"
     ]
    }
   ],
   "source": [
    "!git diff"
   ]
  },
  {
   "cell_type": "code",
   "execution_count": 44,
   "id": "327e5549-8db7-4b07-9c1d-76ba015afa3c",
   "metadata": {
    "slideshow": {
     "slide_type": "subslide"
    },
    "tags": []
   },
   "outputs": [
    {
     "name": "stdout",
     "output_type": "stream",
     "text": [
      "\u001b[33mcommit 44143217ca98551056b16bccc3e8fc88b9d0e731\u001b[m\u001b[33m (\u001b[m\u001b[1;36mHEAD -> \u001b[m\u001b[1;32mmain\u001b[m\u001b[33m, \u001b[m\u001b[1;31morigin/main\u001b[m\u001b[33m, \u001b[m\u001b[1;31morigin/HEAD\u001b[m\u001b[33m)\u001b[m\n",
      "Author: Zongru (Doris) Shao <zdshao.teach@gmail.com>\n",
      "Date:   Mon Apr 25 23:52:58 2022 +0200\n",
      "\n",
      "    Add a line in our home copy\n",
      "\n",
      "\u001b[33mcommit 43e1fd5de7ad0b8e625727a436e13f4a386296dd\u001b[m\n",
      "Author: Zongru (Doris) Shao <zdshao.teach@gmail.com>\n",
      "Date:   Mon Apr 25 23:42:15 2022 +0200\n",
      "\n",
      "    Add notes about Pluto\n",
      "\n",
      "\u001b[33mcommit b81c6df4527e4d35eb9386afe08e8e345bc512a0\u001b[m\n",
      "Author: Zongru (Doris) Shao <zdshao.teach@gmail.com>\n",
      "Date:   Mon Apr 25 23:23:20 2022 +0200\n",
      "\n",
      "    first commit\n"
     ]
    }
   ],
   "source": [
    "!git log "
   ]
  },
  {
   "cell_type": "code",
   "execution_count": 45,
   "id": "61f66c72-5f98-424f-a4cb-a62a268fecb7",
   "metadata": {
    "slideshow": {
     "slide_type": "subslide"
    },
    "tags": []
   },
   "outputs": [],
   "source": [
    "!git add mars.txt"
   ]
  },
  {
   "cell_type": "code",
   "execution_count": 46,
   "id": "b85d1d54-77a4-4920-b31a-d9341fd2d7b4",
   "metadata": {
    "slideshow": {
     "slide_type": "subslide"
    },
    "tags": []
   },
   "outputs": [
    {
     "name": "stdout",
     "output_type": "stream",
     "text": [
      "On branch main\n",
      "Your branch is up to date with 'origin/main'.\n",
      "\n",
      "Changes to be committed:\n",
      "  (use \"git restore --staged <file>...\" to unstage)\n",
      "\t\u001b[32mmodified:   mars.txt\u001b[m\n",
      "\n"
     ]
    }
   ],
   "source": [
    "!git status"
   ]
  },
  {
   "cell_type": "code",
   "execution_count": 47,
   "id": "21d81868-b88f-49f5-a851-aa62fbf41df4",
   "metadata": {
    "slideshow": {
     "slide_type": "subslide"
    },
    "tags": []
   },
   "outputs": [
    {
     "name": "stdout",
     "output_type": "stream",
     "text": [
      "[main d90d01c] Add a line in my copy\n",
      " 1 file changed, 1 insertion(+)\n"
     ]
    }
   ],
   "source": [
    "!git commit -m \"Add a line in my copy\""
   ]
  },
  {
   "cell_type": "code",
   "execution_count": 48,
   "id": "c9a2cb4c-29cb-4b0e-836a-3b7e9c5ba496",
   "metadata": {
    "slideshow": {
     "slide_type": "subslide"
    },
    "tags": []
   },
   "outputs": [
    {
     "name": "stdout",
     "output_type": "stream",
     "text": [
      "To https://github.com/zdshaoteach/test.git\n",
      " \u001b[31m! [rejected]       \u001b[m main -> main (fetch first)\n",
      "\u001b[31merror: failed to push some refs to 'https://github.com/zdshaoteach/test.git'\n",
      "\u001b[m\u001b[33mhint: Updates were rejected because the remote contains work that you do\u001b[m\n",
      "\u001b[33mhint: not have locally. This is usually caused by another repository pushing\u001b[m\n",
      "\u001b[33mhint: to the same ref. You may want to first integrate the remote changes\u001b[m\n",
      "\u001b[33mhint: (e.g., 'git pull ...') before pushing again.\u001b[m\n",
      "\u001b[33mhint: See the 'Note about fast-forwards' in 'git push --help' for details.\u001b[m\n"
     ]
    }
   ],
   "source": [
    "!git push origin main"
   ]
  },
  {
   "cell_type": "markdown",
   "id": "d5226c5b-c416-4b6a-83a4-e88ad5e1c0fb",
   "metadata": {
    "slideshow": {
     "slide_type": "slide"
    },
    "tags": []
   },
   "source": [
    "### `merge` to resolve conflicts"
   ]
  },
  {
   "cell_type": "code",
   "execution_count": 49,
   "id": "14fb0072-b560-4810-af15-d211887bb8f4",
   "metadata": {
    "slideshow": {
     "slide_type": "subslide"
    },
    "tags": []
   },
   "outputs": [
    {
     "name": "stdout",
     "output_type": "stream",
     "text": [
      "\u001b[33mcommit d90d01c94864622bd1330aef20b20fa952b74168\u001b[m\u001b[33m (\u001b[m\u001b[1;36mHEAD -> \u001b[m\u001b[1;32mmain\u001b[m\u001b[33m)\u001b[m\n",
      "Author: Zongru (Doris) Shao <zdshao.teach@gmail.com>\n",
      "Date:   Mon Apr 25 23:59:25 2022 +0200\n",
      "\n",
      "    Add a line in my copy\n",
      "\n",
      "\u001b[33mcommit 44143217ca98551056b16bccc3e8fc88b9d0e731\u001b[m\u001b[33m (\u001b[m\u001b[1;31morigin/main\u001b[m\u001b[33m, \u001b[m\u001b[1;31morigin/HEAD\u001b[m\u001b[33m)\u001b[m\n",
      "Author: Zongru (Doris) Shao <zdshao.teach@gmail.com>\n",
      "Date:   Mon Apr 25 23:52:58 2022 +0200\n",
      "\n",
      "    Add a line in our home copy\n",
      "\n",
      "\u001b[33mcommit 43e1fd5de7ad0b8e625727a436e13f4a386296dd\u001b[m\n",
      "Author: Zongru (Doris) Shao <zdshao.teach@gmail.com>\n",
      "Date:   Mon Apr 25 23:42:15 2022 +0200\n",
      "\n",
      "    Add notes about Pluto\n",
      "\n",
      "\u001b[33mcommit b81c6df4527e4d35eb9386afe08e8e345bc512a0\u001b[m\n",
      "Author: Zongru (Doris) Shao <zdshao.teach@gmail.com>\n",
      "Date:   Mon Apr 25 23:23:20 2022 +0200\n",
      "\n",
      "    first commit\n"
     ]
    }
   ],
   "source": [
    "!git log"
   ]
  },
  {
   "cell_type": "code",
   "execution_count": 50,
   "id": "65763f46-2421-495d-9ef7-80e7cc1adf0c",
   "metadata": {
    "slideshow": {
     "slide_type": "subslide"
    },
    "tags": []
   },
   "outputs": [
    {
     "name": "stdout",
     "output_type": "stream",
     "text": [
      "remote: Enumerating objects: 5, done.\u001b[K\n",
      "remote: Counting objects: 100% (5/5), done.\u001b[K\n",
      "remote: Compressing objects: 100% (2/2), done.\u001b[K\n",
      "remote: Total 3 (delta 1), reused 3 (delta 1), pack-reused 0\u001b[K\n",
      "Unpacking objects: 100% (3/3), 309 bytes | 28.00 KiB/s, done.\n",
      "From https://github.com/zdshaoteach/test\n",
      " * branch            main       -> FETCH_HEAD\n",
      "   4414321..e8e57c7  main       -> origin/main\n",
      "\u001b[33mhint: You have divergent branches and need to specify how to reconcile them.\u001b[m\n",
      "\u001b[33mhint: You can do so by running one of the following commands sometime before\u001b[m\n",
      "\u001b[33mhint: your next pull:\u001b[m\n",
      "\u001b[33mhint: \u001b[m\n",
      "\u001b[33mhint:   git config pull.rebase false  # merge\u001b[m\n",
      "\u001b[33mhint:   git config pull.rebase true   # rebase\u001b[m\n",
      "\u001b[33mhint:   git config pull.ff only       # fast-forward only\u001b[m\n",
      "\u001b[33mhint: \u001b[m\n",
      "\u001b[33mhint: You can replace \"git config\" with \"git config --global\" to set a default\u001b[m\n",
      "\u001b[33mhint: preference for all repositories. You can also pass --rebase, --no-rebase,\u001b[m\n",
      "\u001b[33mhint: or --ff-only on the command line to override the configured default per\u001b[m\n",
      "\u001b[33mhint: invocation.\u001b[m\n",
      "fatal: Need to specify how to reconcile divergent branches.\n"
     ]
    }
   ],
   "source": [
    "!git pull origin main"
   ]
  },
  {
   "cell_type": "code",
   "execution_count": 51,
   "id": "055c0422-76ff-4b26-9b8b-383e93350c03",
   "metadata": {
    "slideshow": {
     "slide_type": "subslide"
    },
    "tags": []
   },
   "outputs": [
    {
     "name": "stdout",
     "output_type": "stream",
     "text": [
      "Cold and dry, but everything is my favorite color\n",
      "The two moons may be a problem for Wolfman\n",
      "But the Mummy will appreciate the lack of humidity\n",
      "We added a different line in the other copy\n"
     ]
    }
   ],
   "source": [
    "!cat mars.txt"
   ]
  },
  {
   "cell_type": "code",
   "execution_count": 52,
   "id": "a10a9839-8837-4dd5-8a9b-ce2f1d2d390d",
   "metadata": {
    "slideshow": {
     "slide_type": "subslide"
    },
    "tags": []
   },
   "outputs": [],
   "source": [
    "!git config pull.rebase false"
   ]
  },
  {
   "cell_type": "code",
   "execution_count": 53,
   "id": "83f67eb1-977a-4b22-9f38-29ec9ea72e30",
   "metadata": {
    "slideshow": {
     "slide_type": "subslide"
    },
    "tags": []
   },
   "outputs": [
    {
     "name": "stdout",
     "output_type": "stream",
     "text": [
      "From https://github.com/zdshaoteach/test\n",
      " * branch            main       -> FETCH_HEAD\n",
      "Auto-merging mars.txt\n",
      "CONFLICT (content): Merge conflict in mars.txt\n",
      "Automatic merge failed; fix conflicts and then commit the result.\n"
     ]
    }
   ],
   "source": [
    "!git pull origin main"
   ]
  },
  {
   "cell_type": "code",
   "execution_count": 54,
   "id": "5f394508-3d53-4579-8650-2dee7229af67",
   "metadata": {
    "slideshow": {
     "slide_type": "subslide"
    },
    "tags": []
   },
   "outputs": [
    {
     "name": "stdout",
     "output_type": "stream",
     "text": [
      "Cold and dry, but everything is my favorite color\n",
      "The two moons may be a problem for Wolfman\n",
      "But the Mummy will appreciate the lack of humidity\n",
      "<<<<<<< HEAD\n",
      "We added a different line in the other copy\n",
      "=======\n",
      "The two moons may be a problem for Wolfman\n",
      "But the Mummy will appreciate the lack of humidity\n",
      ">>>>>>> e8e57c746940a0b1b8f6f9891459d909dbb0e3dd\n"
     ]
    }
   ],
   "source": [
    "!cat mars.txt"
   ]
  },
  {
   "cell_type": "code",
   "execution_count": 61,
   "id": "4fb4d850-3247-44c4-8408-36fa7f3ae61e",
   "metadata": {
    "slideshow": {
     "slide_type": "subslide"
    },
    "tags": []
   },
   "outputs": [],
   "source": [
    "!echo \"Cold and dry, but everything is my favorite color \\n\\\n",
    "The two moons may be a problem for Wolfman \\n\\\n",
    "But the Mummy will appreciate the lack of humidity \\n\\\n",
    "We added a different line in the other copy \\n\\\n",
    "The two moons may be a problem for Wolfman \\n\\\n",
    "But the Mummy will appreciate the lack of humidity\" > mars.txt"
   ]
  },
  {
   "cell_type": "code",
   "execution_count": 62,
   "id": "39a069c7-152b-4d26-ba8a-2ebedc40c357",
   "metadata": {
    "slideshow": {
     "slide_type": "subslide"
    },
    "tags": []
   },
   "outputs": [
    {
     "name": "stdout",
     "output_type": "stream",
     "text": [
      "Cold and dry, but everything is my favorite color \n",
      " The two moons may be a problem for Wolfman \n",
      " But the Mummy will appreciate the lack of humidity \n",
      " We added a different line in the other copy \n",
      " The two moons may be a problem for Wolfman \n",
      " But the Mummy will appreciate the lack of humidity\n"
     ]
    }
   ],
   "source": [
    "!cat mars.txt"
   ]
  },
  {
   "cell_type": "code",
   "execution_count": 63,
   "id": "21163a83-0b16-4cc7-8f8a-94f96671c111",
   "metadata": {
    "slideshow": {
     "slide_type": "subslide"
    },
    "tags": []
   },
   "outputs": [
    {
     "name": "stdout",
     "output_type": "stream",
     "text": [
      "[main 609c786] resolve conflicts\n"
     ]
    }
   ],
   "source": [
    "!git add mars.txt\n",
    "!git commit -m \"resolve conflicts\""
   ]
  },
  {
   "cell_type": "code",
   "execution_count": 64,
   "id": "86bedc21-4a98-40da-99cf-8d758894f2e2",
   "metadata": {
    "slideshow": {
     "slide_type": "subslide"
    },
    "tags": []
   },
   "outputs": [
    {
     "name": "stdout",
     "output_type": "stream",
     "text": [
      "Enumerating objects: 10, done.\n",
      "Counting objects: 100% (10/10), done.\n",
      "Delta compression using up to 8 threads\n",
      "Compressing objects: 100% (6/6), done.\n",
      "Writing objects: 100% (6/6), 689 bytes | 689.00 KiB/s, done.\n",
      "Total 6 (delta 2), reused 0 (delta 0), pack-reused 0\n",
      "remote: Resolving deltas: 100% (2/2), completed with 1 local object.\u001b[K\n",
      "To https://github.com/zdshaoteach/test.git\n",
      "   e8e57c7..609c786  main -> main\n"
     ]
    }
   ],
   "source": [
    "!git push origin main"
   ]
  },
  {
   "cell_type": "markdown",
   "id": "016bbeec-e56c-4def-90ae-656d185e0f68",
   "metadata": {
    "slideshow": {
     "slide_type": "slide"
    },
    "tags": []
   },
   "source": [
    "### the collaborator pulls from the remote"
   ]
  },
  {
   "cell_type": "code",
   "execution_count": 65,
   "id": "84de6b69-9b61-4d5d-91e4-d60b9d566e32",
   "metadata": {
    "slideshow": {
     "slide_type": "subslide"
    },
    "tags": []
   },
   "outputs": [],
   "source": [
    "os.chdir(target_folder)"
   ]
  },
  {
   "cell_type": "code",
   "execution_count": 66,
   "id": "bbf087f0-16ce-4cfb-af5c-75153a3ea117",
   "metadata": {
    "slideshow": {
     "slide_type": "subslide"
    },
    "tags": []
   },
   "outputs": [
    {
     "name": "stdout",
     "output_type": "stream",
     "text": [
      "Cold and dry, but everything is my favorite color\n",
      "The two moons may be a problem for Wolfman\n",
      "But the Mummy will appreciate the lack of humidity\n",
      "The two moons may be a problem for Wolfman\n",
      "But the Mummy will appreciate the lack of humidity\n"
     ]
    }
   ],
   "source": [
    "!cat mars.txt"
   ]
  },
  {
   "cell_type": "code",
   "execution_count": 67,
   "id": "bc73d810-7b86-4d71-ba5a-dad8088dc294",
   "metadata": {
    "slideshow": {
     "slide_type": "subslide"
    },
    "tags": []
   },
   "outputs": [
    {
     "name": "stdout",
     "output_type": "stream",
     "text": [
      "remote: Enumerating objects: 10, done.\u001b[K\n",
      "remote: Counting objects: 100% (10/10), done.\u001b[K\n",
      "remote: Compressing objects: 100% (4/4), done.\u001b[K\n",
      "remote: Total 6 (delta 2), reused 6 (delta 2), pack-reused 0\u001b[K\n",
      "Unpacking objects: 100% (6/6), 669 bytes | 223.00 KiB/s, done.\n",
      "From https://github.com/zdshaoteach/test\n",
      " * branch            main       -> FETCH_HEAD\n",
      "   e8e57c7..609c786  main       -> origin/main\n",
      "Updating e8e57c7..609c786\n",
      "Fast-forward\n",
      " mars.txt | 11 \u001b[32m++++++\u001b[m\u001b[31m-----\u001b[m\n",
      " 1 file changed, 6 insertions(+), 5 deletions(-)\n"
     ]
    }
   ],
   "source": [
    "!git pull origin main"
   ]
  },
  {
   "cell_type": "code",
   "execution_count": 68,
   "id": "db06f175-501c-47e2-977e-cbcbdadfc349",
   "metadata": {
    "slideshow": {
     "slide_type": "subslide"
    },
    "tags": []
   },
   "outputs": [
    {
     "name": "stdout",
     "output_type": "stream",
     "text": [
      "Cold and dry, but everything is my favorite color \n",
      " The two moons may be a problem for Wolfman \n",
      " But the Mummy will appreciate the lack of humidity \n",
      " We added a different line in the other copy \n",
      " The two moons may be a problem for Wolfman \n",
      " But the Mummy will appreciate the lack of humidity\n"
     ]
    }
   ],
   "source": [
    "!cat mars.txt"
   ]
  },
  {
   "cell_type": "code",
   "execution_count": null,
   "id": "4cf5acd9-69c7-456f-aa5f-0b4f760fb0f2",
   "metadata": {},
   "outputs": [],
   "source": []
  }
 ],
 "metadata": {
  "kernelspec": {
   "display_name": "Python 3 (ipykernel)",
   "language": "python",
   "name": "python3"
  },
  "language_info": {
   "codemirror_mode": {
    "name": "ipython",
    "version": 3
   },
   "file_extension": ".py",
   "mimetype": "text/x-python",
   "name": "python",
   "nbconvert_exporter": "python",
   "pygments_lexer": "ipython3",
   "version": "3.9.12"
  }
 },
 "nbformat": 4,
 "nbformat_minor": 5
}
