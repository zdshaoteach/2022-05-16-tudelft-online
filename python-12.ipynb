{
 "cells": [
  {
   "cell_type": "markdown",
   "id": "05cca176-55d8-4976-9ec1-2860580d1de5",
   "metadata": {
    "slideshow": {
     "slide_type": "slide"
    },
    "tags": [
     "plenum"
    ]
   },
   "source": [
    "# Python 12 Modules and Command-Line Programs"
   ]
  },
  {
   "cell_type": "markdown",
   "id": "22b7f8f5-7884-4298-8925-5dd167373d3f",
   "metadata": {},
   "source": [
    "[course link](https://swcarpentry.github.io/python-novice-inflammation/)\n",
    "\n",
    "- duration: 20 mins\n",
    "- write a python module\n",
    "- run a python program from the command-line"
   ]
  },
  {
   "cell_type": "markdown",
   "id": "b309dba3-a39a-415c-8875-201261c3879e",
   "metadata": {
    "slideshow": {
     "slide_type": "slide"
    },
    "tags": [
     "plenum"
    ]
   },
   "source": [
    "### syntax\n",
    "\n",
    "``` bash\n",
    "python scriptfilename.py [paramters]\n",
    "```"
   ]
  },
  {
   "cell_type": "markdown",
   "id": "35d6c5f1-4f30-4da2-a9c3-e4f0fe0d2a68",
   "metadata": {
    "slideshow": {
     "slide_type": "slide"
    },
    "tags": []
   },
   "source": [
    "### a simple module"
   ]
  },
  {
   "cell_type": "code",
   "execution_count": 1,
   "id": "5eca62be-2f25-4aef-96e7-bcd63c2cbf58",
   "metadata": {
    "slideshow": {
     "slide_type": "subslide"
    },
    "tags": [
     "plenum"
    ]
   },
   "outputs": [
    {
     "name": "stdout",
     "output_type": "stream",
     "text": [
      "__init__.py   python12v1.py python12v3.py\r\n",
      "\u001b[34m__pycache__\u001b[m\u001b[m   python12v2.py python12v4.py\r\n"
     ]
    }
   ],
   "source": [
    "!ls python12"
   ]
  },
  {
   "cell_type": "code",
   "execution_count": 2,
   "id": "f1282dad-a4c8-4726-9ad3-fd4248b96042",
   "metadata": {
    "slideshow": {
     "slide_type": "subslide"
    },
    "tags": []
   },
   "outputs": [
    {
     "name": "stdout",
     "output_type": "stream",
     "text": [
      "def function(parameter):\r\n",
      "    print(parameter)\r\n",
      "\r\n",
      "function(12)"
     ]
    }
   ],
   "source": [
    "!cat python12/python12v1.py"
   ]
  },
  {
   "cell_type": "code",
   "execution_count": 3,
   "id": "a49cf390-d789-40d7-9b62-c0ee83ef2dc1",
   "metadata": {
    "slideshow": {
     "slide_type": "subslide"
    },
    "tags": []
   },
   "outputs": [
    {
     "name": "stdout",
     "output_type": "stream",
     "text": [
      "12\r\n"
     ]
    }
   ],
   "source": [
    "!python python12/python12v1.py"
   ]
  },
  {
   "cell_type": "code",
   "execution_count": 4,
   "id": "b9bee1fd-89b8-4939-bffe-6c2beff38bb4",
   "metadata": {
    "slideshow": {
     "slide_type": "subslide"
    },
    "tags": []
   },
   "outputs": [
    {
     "name": "stdout",
     "output_type": "stream",
     "text": [
      "12\n",
      "12\n"
     ]
    }
   ],
   "source": [
    "import python12.python12v1\n",
    "\n",
    "python12.python12v1.function(12)"
   ]
  },
  {
   "cell_type": "markdown",
   "id": "b33ce672-00a1-448b-8a7b-68cdfedb4416",
   "metadata": {
    "slideshow": {
     "slide_type": "slide"
    },
    "tags": []
   },
   "source": [
    "### a simple module: introducing `main`"
   ]
  },
  {
   "cell_type": "code",
   "execution_count": 5,
   "id": "65c12a56-2477-4032-9a63-6271ee7be941",
   "metadata": {
    "slideshow": {
     "slide_type": "subslide"
    },
    "tags": []
   },
   "outputs": [
    {
     "name": "stdout",
     "output_type": "stream",
     "text": [
      "def function(parameter):\r\n",
      "    print(parameter)\r\n",
      "    \r\n",
      "if __name__ == '__main__':\r\n",
      "    function(12)"
     ]
    }
   ],
   "source": [
    "!cat python12/python12v2.py"
   ]
  },
  {
   "cell_type": "code",
   "execution_count": 6,
   "id": "d409c9ab-9ec5-4aaf-86b2-1f9dd4ba82ab",
   "metadata": {
    "slideshow": {
     "slide_type": "subslide"
    },
    "tags": [
     "plenum"
    ]
   },
   "outputs": [
    {
     "name": "stdout",
     "output_type": "stream",
     "text": [
      "12\r\n"
     ]
    }
   ],
   "source": [
    "!python python12/python12v2.py"
   ]
  },
  {
   "cell_type": "code",
   "execution_count": 7,
   "id": "2174a1b3-590b-44f9-a608-7f0301e25de1",
   "metadata": {
    "slideshow": {
     "slide_type": "subslide"
    },
    "tags": []
   },
   "outputs": [
    {
     "name": "stdout",
     "output_type": "stream",
     "text": [
      "12\n"
     ]
    }
   ],
   "source": [
    "import python12.python12v2\n",
    "\n",
    "python12.python12v2.function(12)"
   ]
  },
  {
   "cell_type": "markdown",
   "id": "76cd6416-4cb5-44a2-b7b9-820bef444a33",
   "metadata": {
    "slideshow": {
     "slide_type": "slide"
    },
    "tags": []
   },
   "source": [
    "### a simple module: introducing input parameters"
   ]
  },
  {
   "cell_type": "code",
   "execution_count": 8,
   "id": "38af5753-2534-4b7b-9cbb-df07c7a00d87",
   "metadata": {
    "slideshow": {
     "slide_type": "subslide"
    },
    "tags": []
   },
   "outputs": [
    {
     "name": "stdout",
     "output_type": "stream",
     "text": [
      "import sys\r\n",
      "\r\n",
      "def function(parameter):\r\n",
      "    print(parameter)\r\n",
      "\r\n",
      "if __name__ == '__main__':\r\n",
      "    print('input parameters are:', sys.argv)\r\n",
      "    if len(sys.argv) > 1:\r\n",
      "        for i in range(1, len(sys.argv)):\r\n",
      "            function(sys.argv[i])"
     ]
    }
   ],
   "source": [
    "!cat python12/python12v3.py"
   ]
  },
  {
   "cell_type": "code",
   "execution_count": 9,
   "id": "27c2fff8-c41a-4835-a1ee-16d0c2375e74",
   "metadata": {
    "slideshow": {
     "slide_type": "subslide"
    },
    "tags": [
     "plenum"
    ]
   },
   "outputs": [
    {
     "name": "stdout",
     "output_type": "stream",
     "text": [
      "input parameters are: ['python12/python12v3.py', '12', '13', 'apple', 'water']\r\n",
      "12\r\n",
      "13\r\n",
      "apple\r\n",
      "water\r\n"
     ]
    }
   ],
   "source": [
    "!python python12/python12v3.py 12 13 apple water"
   ]
  },
  {
   "cell_type": "code",
   "execution_count": 10,
   "id": "f1f09ada-1f7b-46da-a5fa-baa7459874c4",
   "metadata": {
    "slideshow": {
     "slide_type": "fragment"
    },
    "tags": []
   },
   "outputs": [
    {
     "name": "stdout",
     "output_type": "stream",
     "text": [
      "input parameters are: ['python12/python12v3.py', 'apple', 'water', '12', '13']\r\n",
      "apple\r\n",
      "water\r\n",
      "12\r\n",
      "13\r\n"
     ]
    }
   ],
   "source": [
    "!python python12/python12v3.py apple water 12 13"
   ]
  },
  {
   "cell_type": "code",
   "execution_count": 11,
   "id": "10672a49-6322-4fc1-880e-46cafb5693ca",
   "metadata": {
    "slideshow": {
     "slide_type": "subslide"
    },
    "tags": []
   },
   "outputs": [
    {
     "name": "stdout",
     "output_type": "stream",
     "text": [
      "12\n"
     ]
    }
   ],
   "source": [
    "import python12.python12v3\n",
    "\n",
    "python12.python12v3.function(12)"
   ]
  },
  {
   "cell_type": "markdown",
   "id": "8fffc842-f4f5-4b49-b5fc-347ad43ba57e",
   "metadata": {
    "slideshow": {
     "slide_type": "slide"
    },
    "tags": []
   },
   "source": [
    "### a simple module: parse complex options and inputs"
   ]
  },
  {
   "cell_type": "code",
   "execution_count": 12,
   "id": "33f4374d-70c0-48d0-a2e1-4e02b6b14ee8",
   "metadata": {
    "slideshow": {
     "slide_type": "subslide"
    },
    "tags": []
   },
   "outputs": [
    {
     "name": "stdout",
     "output_type": "stream",
     "text": [
      "import argparse\r\n",
      "\r\n",
      "parser = argparse.ArgumentParser(description='Process some inputs.')\r\n",
      "parser.add_argument('--input1', type=int,\r\n",
      "                    help='the first input')\r\n",
      "parser.add_argument('--input2', type=int, \r\n",
      "                    help='the second input')\r\n",
      "\r\n",
      "def function(parameter):\r\n",
      "    print(parameter)\r\n",
      "\r\n",
      "if __name__ == '__main__':\r\n",
      "    args = parser.parse_args()\r\n",
      "    function(args.input1)\r\n",
      "    function(args.input2)"
     ]
    }
   ],
   "source": [
    "!cat python12/python12v4.py"
   ]
  },
  {
   "cell_type": "code",
   "execution_count": 13,
   "id": "7fb9cc15-53ae-4b96-a5e2-f8c2ff15d4f1",
   "metadata": {
    "slideshow": {
     "slide_type": "subslide"
    },
    "tags": [
     "breakout"
    ]
   },
   "outputs": [
    {
     "name": "stdout",
     "output_type": "stream",
     "text": [
      "12\r\n",
      "13\r\n"
     ]
    }
   ],
   "source": [
    "!python python12/python12v4.py --input1 12 --input2 13"
   ]
  },
  {
   "cell_type": "code",
   "execution_count": 14,
   "id": "629445af-ea0d-464c-81b7-ad5d02f95a16",
   "metadata": {
    "slideshow": {
     "slide_type": "fragment"
    },
    "tags": [
     "plenum"
    ]
   },
   "outputs": [
    {
     "name": "stdout",
     "output_type": "stream",
     "text": [
      "12\r\n",
      "13\r\n"
     ]
    }
   ],
   "source": [
    "!python python12/python12v4.py --input2 13 --input1 12"
   ]
  },
  {
   "cell_type": "code",
   "execution_count": 15,
   "id": "7bdb1af4-0562-4f07-b59c-3c77feb67948",
   "metadata": {
    "slideshow": {
     "slide_type": "fragment"
    },
    "tags": []
   },
   "outputs": [
    {
     "name": "stdout",
     "output_type": "stream",
     "text": [
      "13\r\n",
      "12\r\n"
     ]
    }
   ],
   "source": [
    "!python python12/python12v4.py --input1 13 --input2 12"
   ]
  },
  {
   "cell_type": "code",
   "execution_count": 16,
   "id": "b70c7858-1487-45ab-9ef5-0ff20d956ad1",
   "metadata": {
    "slideshow": {
     "slide_type": "subslide"
    },
    "tags": []
   },
   "outputs": [
    {
     "name": "stdout",
     "output_type": "stream",
     "text": [
      "12\n"
     ]
    }
   ],
   "source": [
    "import python12.python12v4\n",
    "\n",
    "python12.python12v4.function(12)"
   ]
  },
  {
   "cell_type": "code",
   "execution_count": null,
   "id": "b0304254-5c58-4341-8ea6-d9195e7406da",
   "metadata": {},
   "outputs": [],
   "source": []
  },
  {
   "cell_type": "code",
   "execution_count": null,
   "id": "57f2f8de",
   "metadata": {},
   "outputs": [],
   "source": []
  }
 ],
 "metadata": {
  "kernelspec": {
   "display_name": "Python 3 (ipykernel)",
   "language": "python",
   "name": "python3"
  },
  "language_info": {
   "codemirror_mode": {
    "name": "ipython",
    "version": 3
   },
   "file_extension": ".py",
   "mimetype": "text/x-python",
   "name": "python",
   "nbconvert_exporter": "python",
   "pygments_lexer": "ipython3",
   "version": "3.9.12"
  }
 },
 "nbformat": 4,
 "nbformat_minor": 5
}
