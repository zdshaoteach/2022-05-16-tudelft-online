{
 "cells": [
  {
   "cell_type": "markdown",
   "id": "0a5343af-6282-490b-ac96-3cda1a6e2e83",
   "metadata": {},
   "source": [
    "# Git lessons"
   ]
  },
  {
   "cell_type": "markdown",
   "id": "92fb92f7-5f5b-41fe-b1e5-9c022dcae280",
   "metadata": {},
   "source": [
    "## intro\n",
    "\n",
    "- [https://zdshaoteach.github.io/2022-05-16-tudelft-online/git-bash-notebook/git-01.slides.html#/](https://zdshaoteach.github.io/2022-05-16-tudelft-online/git-bash-notebook/git-01.slides.html#/)"
   ]
  },
  {
   "cell_type": "markdown",
   "id": "beaac8cf-c166-4135-92ff-a7dd661c052c",
   "metadata": {},
   "source": [
    "## config git"
   ]
  },
  {
   "cell_type": "markdown",
   "id": "1ab9bfa8-c1ec-48d1-8e79-6d158a6af25f",
   "metadata": {},
   "source": [
    "overview\n",
    "\n",
    "- [https://zdshaoteach.github.io/2022-05-16-tudelft-online/git-bash-notebook/git-02.slides.html#/1](https://zdshaoteach.github.io/2022-05-16-tudelft-online/git-bash-notebook/git-02.slides.html#/1)\n",
    "\n",
    "- then ⌄"
   ]
  },
  {
   "cell_type": "code",
   "execution_count": 1,
   "id": "052a9ea6-7c16-48ef-ad70-3d7a0eb32049",
   "metadata": {},
   "outputs": [],
   "source": [
    "# your github account name\n",
    "git config --global user.name \"zdshaoteach\""
   ]
  },
  {
   "cell_type": "code",
   "execution_count": 2,
   "id": "a981f88a-ea16-47ed-a445-189ea63a2aac",
   "metadata": {},
   "outputs": [],
   "source": [
    "# your github account email\n",
    "git config --global user.email \"zdshao.teach@gmail.com\""
   ]
  },
  {
   "cell_type": "code",
   "execution_count": 3,
   "id": "0bf880dd-e53a-451a-b1bf-e6f8ee5271cd",
   "metadata": {},
   "outputs": [
    {
     "name": "stdout",
     "output_type": "stream",
     "text": [
      "user.name=zdshaoteach\n",
      "user.email=zdshao.teach@gmail.com\n",
      "core.autocrlf=input\n",
      "init.defaultbranch=main\n"
     ]
    }
   ],
   "source": [
    "# show the output\n",
    "git config --global --list"
   ]
  },
  {
   "cell_type": "markdown",
   "id": "93ade431-dd41-4cab-9233-8110407451ce",
   "metadata": {},
   "source": [
    "> Note that core.autocrlf=true is fine"
   ]
  },
  {
   "cell_type": "markdown",
   "id": "168d5d37-d3cf-4d1e-8490-1cf89fa35cd3",
   "metadata": {},
   "source": [
    "## create repo"
   ]
  },
  {
   "cell_type": "markdown",
   "id": "4fbddb80-b20f-4743-92ab-250b6bd93013",
   "metadata": {},
   "source": [
    "overview\n",
    "\n",
    "- [https://zdshaoteach.github.io/2022-05-16-tudelft-online/git-bash-notebook/git-03.slides.html#/1](https://zdshaoteach.github.io/2022-05-16-tudelft-online/git-bash-notebook/git-03.slides.html#/1)\n",
    "\n",
    "- then ⌄"
   ]
  },
  {
   "cell_type": "code",
   "execution_count": 4,
   "id": "d27c3e7d-5d94-4a09-b8bc-43dff535a452",
   "metadata": {},
   "outputs": [
    {
     "name": "stdout",
     "output_type": "stream",
     "text": [
      "folder exists, remove folder\n"
     ]
    }
   ],
   "source": [
    "if [ -d ~/workshop ] \n",
    "then\n",
    "    echo 'folder exists, remove folder'\n",
    "    rm -rf ~/workshop\n",
    "fi\n",
    "\n",
    "mkdir ~/workshop\n",
    "mkdir ~/workshop/planets\n",
    "cd ~/workshop/planets"
   ]
  },
  {
   "cell_type": "code",
   "execution_count": 5,
   "id": "d674641a-3ccf-4a6a-9d30-e4cc081dc67e",
   "metadata": {},
   "outputs": [
    {
     "name": "stdout",
     "output_type": "stream",
     "text": [
      "Initialized empty Git repository in /home/pi/workshop/planets/.git/\n"
     ]
    }
   ],
   "source": [
    "git init"
   ]
  },
  {
   "cell_type": "code",
   "execution_count": 6,
   "id": "47e65b0e-cba3-4422-a10a-c0f0b1006108",
   "metadata": {},
   "outputs": [
    {
     "name": "stdout",
     "output_type": "stream",
     "text": [
      ".  ..  .git\n"
     ]
    }
   ],
   "source": [
    "ls -a"
   ]
  },
  {
   "cell_type": "code",
   "execution_count": 7,
   "id": "fa83881c-16f0-49a8-81bf-e1cbda69d5b2",
   "metadata": {},
   "outputs": [
    {
     "name": "stdout",
     "output_type": "stream",
     "text": [
      "Switched to a new branch 'main'\n"
     ]
    }
   ],
   "source": [
    "git checkout -b main"
   ]
  },
  {
   "cell_type": "code",
   "execution_count": 8,
   "id": "913fba34-0aab-4f7f-8da5-8204862a2671",
   "metadata": {},
   "outputs": [
    {
     "name": "stdout",
     "output_type": "stream",
     "text": [
      "On branch main\n",
      "\n",
      "No commits yet\n",
      "\n",
      "nothing to commit (create/copy files and use \"git add\" to track)\n"
     ]
    }
   ],
   "source": [
    "git status"
   ]
  },
  {
   "cell_type": "markdown",
   "id": "b9604c33-25cc-43cf-a177-26b8149cdcc0",
   "metadata": {},
   "source": [
    "## tracking changes"
   ]
  },
  {
   "cell_type": "markdown",
   "id": "ef4939c6-485a-461d-a2c6-abc4dd63210b",
   "metadata": {},
   "source": [
    "overview\n",
    "\n",
    "- [https://zdshaoteach.github.io/2022-05-16-tudelft-online/git-bash-notebook/git-04.slides.html#/1](https://zdshaoteach.github.io/2022-05-16-tudelft-online/git-bash-notebook/git-04.slides.html#/1)\n",
    "\n",
    "- then ⌄"
   ]
  },
  {
   "cell_type": "code",
   "execution_count": 9,
   "id": "1ba9e909-1f3b-4923-8ec3-fede17e56cba",
   "metadata": {},
   "outputs": [],
   "source": [
    "echo \"this is the first edit\" > mars.txt"
   ]
  },
  {
   "cell_type": "code",
   "execution_count": 10,
   "id": "6a0ec65c-4acb-47b2-affb-a2e146232855",
   "metadata": {},
   "outputs": [
    {
     "name": "stdout",
     "output_type": "stream",
     "text": [
      "this is the first edit\n"
     ]
    }
   ],
   "source": [
    "cat mars.txt"
   ]
  },
  {
   "cell_type": "code",
   "execution_count": 11,
   "id": "781a3575-14a7-4728-a7c3-847298d37df9",
   "metadata": {},
   "outputs": [
    {
     "name": "stdout",
     "output_type": "stream",
     "text": [
      "On branch main\n",
      "\n",
      "No commits yet\n",
      "\n",
      "Untracked files:\n",
      "  (use \"git add <file>...\" to include in what will be committed)\n",
      "\tmars.txt\n",
      "\n",
      "nothing added to commit but untracked files present (use \"git add\" to track)\n"
     ]
    }
   ],
   "source": [
    "git status"
   ]
  },
  {
   "cell_type": "code",
   "execution_count": 12,
   "id": "ac4b33ea-9a0f-45c9-95fc-ac946c32e476",
   "metadata": {},
   "outputs": [],
   "source": [
    "git add mars.txt"
   ]
  },
  {
   "cell_type": "code",
   "execution_count": 13,
   "id": "35c931fa-9857-4cf7-90ea-3aa803c466c0",
   "metadata": {},
   "outputs": [
    {
     "name": "stdout",
     "output_type": "stream",
     "text": [
      "On branch main\n",
      "\n",
      "No commits yet\n",
      "\n",
      "Changes to be committed:\n",
      "  (use \"git rm --cached <file>...\" to unstage)\n",
      "\tnew file:   mars.txt\n",
      "\n"
     ]
    }
   ],
   "source": [
    "git status"
   ]
  },
  {
   "cell_type": "code",
   "execution_count": 14,
   "id": "9282e90c-9643-4986-b181-f9e5f762fa75",
   "metadata": {},
   "outputs": [
    {
     "name": "stdout",
     "output_type": "stream",
     "text": [
      "[main (root-commit) fa3a82f] first edit\n",
      " 1 file changed, 1 insertion(+)\n",
      " create mode 100644 mars.txt\n"
     ]
    }
   ],
   "source": [
    "git commit -m \"first edit\""
   ]
  },
  {
   "cell_type": "code",
   "execution_count": 15,
   "id": "e5df799d-13ee-4753-8256-357f1340a280",
   "metadata": {},
   "outputs": [
    {
     "name": "stdout",
     "output_type": "stream",
     "text": [
      "On branch main\n",
      "nothing to commit, working tree clean\n"
     ]
    }
   ],
   "source": [
    "git status"
   ]
  },
  {
   "cell_type": "code",
   "execution_count": 16,
   "id": "4b485db0-d7e1-48fb-b554-24d2738b23f2",
   "metadata": {},
   "outputs": [
    {
     "name": "stdout",
     "output_type": "stream",
     "text": [
      "commit fa3a82fc8d587bf34d07b7e4e95ef58f3a2b646f (HEAD -> main)\n",
      "Author: zdshaoteach <zdshao.teach@gmail.com>\n",
      "Date:   Wed May 18 16:42:50 2022 +0200\n",
      "\n",
      "    first edit\n"
     ]
    }
   ],
   "source": [
    "git log"
   ]
  },
  {
   "cell_type": "markdown",
   "id": "2b39d81b-68a2-4b39-94c0-906c6435071e",
   "metadata": {},
   "source": [
    "## explore history"
   ]
  },
  {
   "cell_type": "markdown",
   "id": "7dcc6815-f101-4aab-96df-199de445176c",
   "metadata": {},
   "source": [
    "overview\n",
    "\n",
    "- [https://zdshaoteach.github.io/2022-05-16-tudelft-online/git-bash-notebook/git-05.slides.html#/1](https://zdshaoteach.github.io/2022-05-16-tudelft-online/git-bash-notebook/git-05.slides.html#/1)\n",
    "\n",
    "- then ⌄"
   ]
  },
  {
   "cell_type": "code",
   "execution_count": 17,
   "id": "aef2d37c-f9af-4932-9b2a-f032bd794320",
   "metadata": {},
   "outputs": [],
   "source": [
    "echo \"this is the second edit\" >> mars.txt"
   ]
  },
  {
   "cell_type": "code",
   "execution_count": 18,
   "id": "3339952b-ab27-45fb-92b1-26a855a54cd3",
   "metadata": {},
   "outputs": [
    {
     "name": "stdout",
     "output_type": "stream",
     "text": [
      "this is the first edit\n",
      "this is the second edit\n"
     ]
    }
   ],
   "source": [
    "cat mars.txt"
   ]
  },
  {
   "cell_type": "code",
   "execution_count": 19,
   "id": "16ed8467-9e3a-4030-88ce-07fe10839799",
   "metadata": {},
   "outputs": [
    {
     "name": "stdout",
     "output_type": "stream",
     "text": [
      "diff --git a/mars.txt b/mars.txt\n",
      "index 437b034..7b5033a 100644\n",
      "--- a/mars.txt\n",
      "+++ b/mars.txt\n",
      "@@ -1 +1,2 @@\n",
      " this is the first edit\n",
      "+this is the second edit\n"
     ]
    }
   ],
   "source": [
    "git diff"
   ]
  },
  {
   "cell_type": "markdown",
   "id": "c672a70a-d2b9-45b5-a40d-e7f491d10f69",
   "metadata": {},
   "source": [
    "> description [https://www.gnu.org/software/diffutils/manual/diffutils.html#Detailed-Unified](https://www.gnu.org/software/diffutils/manual/diffutils.html#Detailed-Unified)"
   ]
  },
  {
   "cell_type": "code",
   "execution_count": 20,
   "id": "13b22473-c48f-47c6-a933-ba90c7043512",
   "metadata": {},
   "outputs": [],
   "source": [
    "git add mars.txt"
   ]
  },
  {
   "cell_type": "code",
   "execution_count": 21,
   "id": "a4ad0a55-fa9b-4c7b-b111-c32a3f27f004",
   "metadata": {},
   "outputs": [
    {
     "name": "stdout",
     "output_type": "stream",
     "text": [
      "[main 2680f16] second edit\n",
      " 1 file changed, 1 insertion(+)\n"
     ]
    }
   ],
   "source": [
    "git commit -m \"second edit\""
   ]
  },
  {
   "cell_type": "code",
   "execution_count": 22,
   "id": "77dcf827-07fe-4b87-99c5-adcb36e6b75a",
   "metadata": {},
   "outputs": [
    {
     "name": "stdout",
     "output_type": "stream",
     "text": [
      "commit 2680f1674c4bbd13bf8946166c66aaaa904380f4 (HEAD -> main)\n",
      "Author: zdshaoteach <zdshao.teach@gmail.com>\n",
      "Date:   Wed May 18 16:42:57 2022 +0200\n",
      "\n",
      "    second edit\n",
      "\n",
      "commit fa3a82fc8d587bf34d07b7e4e95ef58f3a2b646f\n",
      "Author: zdshaoteach <zdshao.teach@gmail.com>\n",
      "Date:   Wed May 18 16:42:50 2022 +0200\n",
      "\n",
      "    first edit\n"
     ]
    }
   ],
   "source": [
    "git log"
   ]
  },
  {
   "cell_type": "code",
   "execution_count": 23,
   "id": "5326ec8d-6d52-467f-9b44-8e04d7e7afde",
   "metadata": {},
   "outputs": [],
   "source": [
    "echo \"this is the third edit\" >> mars.txt"
   ]
  },
  {
   "cell_type": "code",
   "execution_count": 24,
   "id": "7346dac6-36c9-41fc-b2c9-f699c1ec209c",
   "metadata": {},
   "outputs": [
    {
     "name": "stdout",
     "output_type": "stream",
     "text": [
      "diff --git a/mars.txt b/mars.txt\n",
      "index 7b5033a..3ffe687 100644\n",
      "--- a/mars.txt\n",
      "+++ b/mars.txt\n",
      "@@ -1,2 +1,3 @@\n",
      " this is the first edit\n",
      " this is the second edit\n",
      "+this is the third edit\n"
     ]
    }
   ],
   "source": [
    "git diff HEAD mars.txt"
   ]
  },
  {
   "cell_type": "code",
   "execution_count": 25,
   "id": "8d09270f-3ff2-4090-bdff-f5ead1fe8e3d",
   "metadata": {},
   "outputs": [
    {
     "name": "stdout",
     "output_type": "stream",
     "text": [
      "diff --git a/mars.txt b/mars.txt\n",
      "index 437b034..3ffe687 100644\n",
      "--- a/mars.txt\n",
      "+++ b/mars.txt\n",
      "@@ -1 +1,3 @@\n",
      " this is the first edit\n",
      "+this is the second edit\n",
      "+this is the third edit\n"
     ]
    }
   ],
   "source": [
    "git diff HEAD~1 mars.txt"
   ]
  },
  {
   "cell_type": "markdown",
   "id": "81a3f829-8160-4bae-861c-ece2a49dc78c",
   "metadata": {},
   "source": [
    "> what is HEAD? [https://zdshaoteach.github.io/2022-05-16-tudelft-online/git-bash-notebook/git-05.slides.html#/3/6](https://zdshaoteach.github.io/2022-05-16-tudelft-online/git-bash-notebook/git-05.slides.html#/3/6)"
   ]
  },
  {
   "cell_type": "code",
   "execution_count": 26,
   "id": "c9eee880-0a2a-4444-819d-79cea791fccd",
   "metadata": {},
   "outputs": [
    {
     "name": "stdout",
     "output_type": "stream",
     "text": [
      "Updated 1 path from e3ce729\n"
     ]
    }
   ],
   "source": [
    "# roll back with checkout\n",
    "git checkout HEAD~1 mars.txt"
   ]
  },
  {
   "cell_type": "code",
   "execution_count": 27,
   "id": "2e451832-3664-4cd4-8972-39aa400acdd3",
   "metadata": {},
   "outputs": [
    {
     "name": "stdout",
     "output_type": "stream",
     "text": [
      "this is the first edit\n"
     ]
    }
   ],
   "source": [
    "cat mars.txt"
   ]
  },
  {
   "cell_type": "markdown",
   "id": "facfd673-45db-4ed3-be58-6329e53af844",
   "metadata": {},
   "source": [
    "> 09:55, enter breakout"
   ]
  },
  {
   "cell_type": "markdown",
   "id": "4133ebe3-ea09-461a-8740-f38654e7ed5e",
   "metadata": {},
   "source": [
    "## add ignore"
   ]
  },
  {
   "cell_type": "markdown",
   "id": "25de1766-db97-43c4-ba9c-26c712b8ba4e",
   "metadata": {},
   "source": [
    "overview\n",
    "\n",
    "- [https://zdshaoteach.github.io/2022-05-16-tudelft-online/git-bash-notebook/git-06.slides.html#/1](https://zdshaoteach.github.io/2022-05-16-tudelft-online/git-bash-notebook/git-06.slides.html#/1)\n",
    "\n",
    "- then ⌄"
   ]
  },
  {
   "cell_type": "code",
   "execution_count": 28,
   "id": "877bfedb-a0d1-48e0-8942-b2e363064c30",
   "metadata": {},
   "outputs": [],
   "source": [
    "touch a.dat b.dat c.dat "
   ]
  },
  {
   "cell_type": "code",
   "execution_count": 29,
   "id": "a27ab764-1c5a-482b-8520-e2749dda9648",
   "metadata": {},
   "outputs": [
    {
     "name": "stdout",
     "output_type": "stream",
     "text": [
      "On branch main\n",
      "Changes to be committed:\n",
      "  (use \"git restore --staged <file>...\" to unstage)\n",
      "\tmodified:   mars.txt\n",
      "\n",
      "Untracked files:\n",
      "  (use \"git add <file>...\" to include in what will be committed)\n",
      "\ta.dat\n",
      "\tb.dat\n",
      "\tc.dat\n",
      "\n"
     ]
    }
   ],
   "source": [
    "git status"
   ]
  },
  {
   "cell_type": "code",
   "execution_count": 30,
   "id": "0b102813-25f9-4885-bb01-6bdc13113634",
   "metadata": {},
   "outputs": [],
   "source": [
    "# create .gitignore file\n",
    "echo \"*.dat\" > .gitignore"
   ]
  },
  {
   "cell_type": "code",
   "execution_count": 31,
   "id": "ed537ffe-7424-4985-8fc3-4b64d66b71b7",
   "metadata": {},
   "outputs": [
    {
     "name": "stdout",
     "output_type": "stream",
     "text": [
      "On branch main\n",
      "Changes to be committed:\n",
      "  (use \"git restore --staged <file>...\" to unstage)\n",
      "\tmodified:   mars.txt\n",
      "\n",
      "Untracked files:\n",
      "  (use \"git add <file>...\" to include in what will be committed)\n",
      "\t.gitignore\n",
      "\n"
     ]
    }
   ],
   "source": [
    "git status"
   ]
  },
  {
   "cell_type": "markdown",
   "id": "a85f2682-87d0-4d08-b386-f12ab131366e",
   "metadata": {},
   "source": [
    "## push to remote"
   ]
  },
  {
   "cell_type": "markdown",
   "id": "789a5463-a219-4ddb-bbc1-aa266c3cc180",
   "metadata": {},
   "source": [
    "overview\n",
    "\n",
    "- generate ssh keys\n",
    "- work with a github repo\n",
    "- `git push`"
   ]
  },
  {
   "cell_type": "code",
   "execution_count": null,
   "id": "fb6d58ef-b8d3-4f67-9f58-0002bf124fa0",
   "metadata": {},
   "outputs": [],
   "source": [
    "rm ~/.ssh/*"
   ]
  },
  {
   "cell_type": "code",
   "execution_count": null,
   "id": "2a95d786-2e0b-425f-b6f5-9f486d02f97e",
   "metadata": {},
   "outputs": [],
   "source": [
    "# generate ssh key for github account email\n",
    "ssh-keygen -t ed25519 -C \"zdshao.teach@gmail.com\" -f ~/.ssh/id_ed25519 -N \"\""
   ]
  },
  {
   "cell_type": "code",
   "execution_count": null,
   "id": "c4a8c616-ccc7-4b45-9c88-ac6c3918523f",
   "metadata": {},
   "outputs": [],
   "source": [
    "ls ~/.ssh/"
   ]
  },
  {
   "cell_type": "code",
   "execution_count": null,
   "id": "46be922b-4745-4164-bc0d-865258579813",
   "metadata": {},
   "outputs": [],
   "source": [
    "cat ~/.ssh/id_ed25519"
   ]
  },
  {
   "cell_type": "code",
   "execution_count": null,
   "id": "31010998-05ab-4c30-a1b2-32a290e921a9",
   "metadata": {},
   "outputs": [],
   "source": [
    "cat ~/.ssh/id_ed25519.pub"
   ]
  },
  {
   "cell_type": "markdown",
   "id": "dc094d9c-da75-469f-bb4c-2745837160d2",
   "metadata": {},
   "source": [
    "- add key to github account"
   ]
  },
  {
   "cell_type": "code",
   "execution_count": 32,
   "id": "3b5686db-74b4-473e-be3a-1ad301dba269",
   "metadata": {},
   "outputs": [
    {
     "name": "stdout",
     "output_type": "stream",
     "text": [
      "Hi zdshaoteach! You've successfully authenticated, but GitHub does not provide shell access.\n"
     ]
    },
    {
     "ename": "",
     "evalue": "1",
     "output_type": "error",
     "traceback": []
    }
   ],
   "source": [
    "# verify ssh key setting \n",
    "ssh -T git@github.com"
   ]
  },
  {
   "cell_type": "markdown",
   "id": "ca025e3d-82d7-4f12-8b7c-4efa81152d0d",
   "metadata": {},
   "source": [
    "- create an empty repo, show the webpage"
   ]
  },
  {
   "cell_type": "code",
   "execution_count": null,
   "id": "22a9b384-0a9f-444c-b263-43a8b6fdb95a",
   "metadata": {},
   "outputs": [],
   "source": [
    "git remote add origin git@github.com:zdshaoteach/test.git"
   ]
  },
  {
   "cell_type": "code",
   "execution_count": null,
   "id": "89874aa6-43b2-4dd8-a506-5445fe9723a5",
   "metadata": {},
   "outputs": [],
   "source": [
    "git config --list"
   ]
  },
  {
   "cell_type": "code",
   "execution_count": null,
   "id": "497086df-6d5a-46b3-96e9-9814e5d54c95",
   "metadata": {},
   "outputs": [],
   "source": [
    "git branch -M main"
   ]
  },
  {
   "cell_type": "code",
   "execution_count": null,
   "id": "32b97d58-37a7-45a2-99cf-883c0ed6bd05",
   "metadata": {},
   "outputs": [],
   "source": [
    "git push origin main"
   ]
  },
  {
   "cell_type": "markdown",
   "id": "75c78b07-91fa-424b-bb2d-994f68b2aa1c",
   "metadata": {},
   "source": [
    "> check the outcome on the github repo"
   ]
  },
  {
   "cell_type": "markdown",
   "id": "53f748e7-f848-4fb0-92cd-18859fb8f53b",
   "metadata": {},
   "source": [
    "## collaborate"
   ]
  },
  {
   "cell_type": "markdown",
   "id": "c3216f92-54ce-4bd7-a8a5-09607008a6cd",
   "metadata": {},
   "source": [
    "overview\n",
    "\n",
    "- [https://zdshaoteach.github.io/2022-05-16-tudelft-online/git-bash-notebook/git-03.slides.html#/1](https://zdshaoteach.github.io/2022-05-16-tudelft-online/git-bash-notebook/git-08.slides.html#/1)\n",
    "\n",
    "- assign worting groups and work together\n",
    "- one side edit marx.txt\n",
    "- another side pull the update"
   ]
  },
  {
   "cell_type": "markdown",
   "id": "2511b0b9-1366-4d7c-b498-25e632331f1f",
   "metadata": {},
   "source": [
    "- add a student as a collaborator\n",
    "- edit and push"
   ]
  },
  {
   "cell_type": "code",
   "execution_count": 33,
   "id": "be653956-3ebf-4408-ad3d-39ae1055b2fc",
   "metadata": {},
   "outputs": [],
   "source": [
    "echo \"this is the third edit\" > mars.txt"
   ]
  },
  {
   "cell_type": "code",
   "execution_count": 34,
   "id": "8e82e2ce-5fd7-46ae-b68f-78da26ec78d7",
   "metadata": {},
   "outputs": [],
   "source": [
    "git add mars.txt"
   ]
  },
  {
   "cell_type": "code",
   "execution_count": 35,
   "id": "4a7948ed-5e25-4784-b716-0844bc92765c",
   "metadata": {},
   "outputs": [
    {
     "name": "stdout",
     "output_type": "stream",
     "text": [
      "[main d4fac86] third commit\n",
      " 1 file changed, 1 insertion(+), 2 deletions(-)\n"
     ]
    }
   ],
   "source": [
    "git commit -m 'third commit'"
   ]
  },
  {
   "cell_type": "code",
   "execution_count": null,
   "id": "c9aac2fb-9697-4395-81d6-ab6d9169db29",
   "metadata": {},
   "outputs": [],
   "source": [
    "git push"
   ]
  },
  {
   "cell_type": "markdown",
   "id": "3b60ffc3-664f-469a-82b7-cf0b6690ce9f",
   "metadata": {},
   "source": [
    "## resolve conflicts"
   ]
  },
  {
   "cell_type": "markdown",
   "id": "c3322bfe-d4c8-408b-95c7-dbe33ce3806f",
   "metadata": {},
   "source": [
    "overview\n",
    "\n",
    "- work with the same collaborator\n",
    "\n",
    "- edit mars.txt at the same time\n",
    "\n",
    "- A pushes, then B push again, see the conflict message"
   ]
  },
  {
   "cell_type": "code",
   "execution_count": 36,
   "id": "f595741b-caea-45f6-9d0d-51bcb294b003",
   "metadata": {},
   "outputs": [],
   "source": [
    "echo \"this is the fourth edit by Zongru (Doris) Shao\" > mars.txt"
   ]
  },
  {
   "cell_type": "code",
   "execution_count": 37,
   "id": "1bc68e48-31e3-429d-aa5f-bc193c6f0dce",
   "metadata": {},
   "outputs": [],
   "source": [
    "git add mars.txt"
   ]
  },
  {
   "cell_type": "code",
   "execution_count": 38,
   "id": "d88c98ee-6948-450a-b6d3-9dcba5b19ad1",
   "metadata": {},
   "outputs": [
    {
     "name": "stdout",
     "output_type": "stream",
     "text": [
      "[main edeaa6d] 4th edit Doris\n",
      " 1 file changed, 1 insertion(+), 1 deletion(-)\n"
     ]
    }
   ],
   "source": [
    "git commit -m '4th edit Doris'"
   ]
  },
  {
   "cell_type": "code",
   "execution_count": null,
   "id": "f3662bb2-8c9d-420c-8f1f-b19fe5a714d5",
   "metadata": {},
   "outputs": [],
   "source": [
    "# collaborator push\n",
    "git push"
   ]
  },
  {
   "cell_type": "code",
   "execution_count": null,
   "id": "64c17a6b-159c-4c8f-98fc-d382b63d34be",
   "metadata": {},
   "outputs": [],
   "source": [
    "# I push\n",
    "git push"
   ]
  },
  {
   "cell_type": "markdown",
   "id": "132eda42-a48c-46eb-b30b-91c71c4a0ee5",
   "metadata": {},
   "source": [
    "- resolve the conflict with pull and file editing"
   ]
  },
  {
   "cell_type": "code",
   "execution_count": null,
   "id": "beb8daf8-f8ad-4d69-8cfe-e7eacdc010e9",
   "metadata": {},
   "outputs": [],
   "source": []
  }
 ],
 "metadata": {
  "kernelspec": {
   "display_name": "Bash",
   "language": "bash",
   "name": "bash"
  },
  "language_info": {
   "codemirror_mode": "shell",
   "file_extension": ".sh",
   "mimetype": "text/x-sh",
   "name": "bash"
  }
 },
 "nbformat": 4,
 "nbformat_minor": 5
}
