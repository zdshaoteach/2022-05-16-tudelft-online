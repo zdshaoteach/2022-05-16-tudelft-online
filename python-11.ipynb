{
 "cells": [
  {
   "cell_type": "markdown",
   "id": "05cca176-55d8-4976-9ec1-2860580d1de5",
   "metadata": {
    "slideshow": {
     "slide_type": "slide"
    },
    "tags": [
     "plenum"
    ]
   },
   "source": [
    "# Python 11 Debugging"
   ]
  },
  {
   "cell_type": "markdown",
   "id": "22b7f8f5-7884-4298-8925-5dd167373d3f",
   "metadata": {
    "tags": [
     "plenum"
    ]
   },
   "source": [
    "[course link](https://swcarpentry.github.io/python-novice-inflammation/)\n",
    "\n",
    "- duration: 15 mins\n",
    "- How can I debug my program ?"
   ]
  },
  {
   "cell_type": "markdown",
   "id": "b309dba3-a39a-415c-8875-201261c3879e",
   "metadata": {
    "slideshow": {
     "slide_type": "slide"
    },
    "tags": [
     "plenum"
    ]
   },
   "source": [
    "### [7 Steps to Debug Efficiently and Effectively](https://www.codementor.io/@mattgoldspink/how-to-debug-code-efficiently-and-effectively-du107u9jh)\n",
    "\n",
    "1. Always Reproduce the Bug Before You Start Changing Code.\n",
    "2. Understand Stack Traces.\n",
    "3. Write a Test Case that Reproduces the Bug.\n",
    "4. Know Your Error Codes.\n",
    "5. Google! Bing! Duck! Duck! Go!\n",
    "6. Pair Program Your Way Out of It.\n",
    "7. Celebrate Your Fix."
   ]
  },
  {
   "cell_type": "markdown",
   "id": "f4840bea-9074-4aed-9a90-7ad99c904c68",
   "metadata": {
    "slideshow": {
     "slide_type": "subslide"
    },
    "tags": [
     "plenum"
    ]
   },
   "source": [
    "### what is required for debugging\n",
    "\n",
    "- be able to read the code: know what the code is doing\n",
    "- understand/know the functionality: know what it supposed to do\n",
    "- be able to read stack traces: locate where the error occurs\n",
    "- be able to understand error messages/codes: know what is wrong\n",
    "- trace variable values in the program: observe how it happened"
   ]
  },
  {
   "cell_type": "markdown",
   "id": "88540875-492c-48d8-ab19-1c5102891df8",
   "metadata": {
    "slideshow": {
     "slide_type": "subslide"
    },
    "tags": [
     "plenum"
    ]
   },
   "source": [
    "### tools and methods for debugging\n",
    "\n",
    "- the python debugger `pdb` or jupyterlab/pycharm/etc. debug tool\n",
    "- logging debug information in the code: see the `logging` module in python\n",
    "- writing test cases for debugging"
   ]
  },
  {
   "cell_type": "markdown",
   "id": "8a20b33d-894d-4e7c-ac8b-53277b019eee",
   "metadata": {
    "slideshow": {
     "slide_type": "slide"
    },
    "tags": []
   },
   "source": [
    "### Use `pdb`\n",
    "\n",
    "terms\n",
    "- break points\n",
    "- step / step in (out)\n",
    "- continue (c)\n",
    "- stop"
   ]
  },
  {
   "cell_type": "code",
   "execution_count": null,
   "id": "e2fb6e2c-0cbe-4d58-bc44-186486e65d12",
   "metadata": {
    "slideshow": {
     "slide_type": "subslide"
    },
    "tags": []
   },
   "outputs": [],
   "source": [
    "def square(x):\n",
    "    r = x + x\n",
    "    return r\n",
    "\n",
    "assert square(2) == 4\n",
    "assert square(3) == 9"
   ]
  },
  {
   "cell_type": "code",
   "execution_count": null,
   "id": "e12780ab-5499-4793-ad73-41ea88824710",
   "metadata": {
    "slideshow": {
     "slide_type": "fragment"
    },
    "tags": []
   },
   "outputs": [],
   "source": [
    "import pdb\n",
    "\n",
    "def square(x):\n",
    "    r = x + x\n",
    "    pdb.set_trace()\n",
    "    return r\n",
    "\n",
    "assert square(2) == 4\n",
    "assert square(3) == 9"
   ]
  },
  {
   "cell_type": "markdown",
   "id": "65cc7017-b27f-4c48-8bf9-643cc7d24805",
   "metadata": {
    "slideshow": {
     "slide_type": "slide"
    },
    "tags": []
   },
   "source": [
    "### exercise: debug a code block"
   ]
  },
  {
   "cell_type": "code",
   "execution_count": null,
   "id": "5eca62be-2f25-4aef-96e7-bcd63c2cbf58",
   "metadata": {
    "slideshow": {
     "slide_type": "fragment"
    },
    "tags": [
     "plenum"
    ]
   },
   "outputs": [],
   "source": [
    "### Debug With a Neighbor\n",
    "### Not Supposed to be the Same\n",
    "patients = [[70, 1.8], [80, 1.9], [150, 1.7]]\n",
    "\n",
    "def calculate_bmi(weight, height):\n",
    "    return weight / (height ** 2)\n",
    "\n",
    "for patient in patients:\n",
    "    weight, height = patients[0]\n",
    "    bmi = calculate_bmi(height, weight)\n",
    "    print(\"Patient's BMI is: %f\" % bmi)"
   ]
  }
 ],
 "metadata": {
  "kernelspec": {
   "display_name": "Python 3 (ipykernel)",
   "language": "python",
   "name": "python3"
  },
  "language_info": {
   "codemirror_mode": {
    "name": "ipython",
    "version": 3
   },
   "file_extension": ".py",
   "mimetype": "text/x-python",
   "name": "python",
   "nbconvert_exporter": "python",
   "pygments_lexer": "ipython3",
   "version": "3.9.12"
  }
 },
 "nbformat": 4,
 "nbformat_minor": 5
}
