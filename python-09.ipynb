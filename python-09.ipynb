{
 "cells": [
  {
   "cell_type": "markdown",
   "id": "05cca176-55d8-4976-9ec1-2860580d1de5",
   "metadata": {
    "slideshow": {
     "slide_type": "slide"
    },
    "tags": [
     "plenum"
    ]
   },
   "source": [
    "# Python 09 Errors and Exceptions"
   ]
  },
  {
   "cell_type": "markdown",
   "id": "22b7f8f5-7884-4298-8925-5dd167373d3f",
   "metadata": {
    "slideshow": {
     "slide_type": "fragment"
    },
    "tags": [
     "plenum"
    ]
   },
   "source": [
    "[course link](https://swcarpentry.github.io/python-novice-inflammation/)\n",
    "\n",
    "- duration: 30 mins\n",
    "- read/understand traceback and error information"
   ]
  },
  {
   "cell_type": "markdown",
   "id": "b309dba3-a39a-415c-8875-201261c3879e",
   "metadata": {
    "slideshow": {
     "slide_type": "slide"
    },
    "tags": [
     "plenum"
    ]
   },
   "source": [
    "## Recall: what kind of errors have we seen in this workshop ?"
   ]
  },
  {
   "cell_type": "markdown",
   "id": "4d4aa44d-1739-4bce-87b5-61d2dcb275cf",
   "metadata": {
    "slideshow": {
     "slide_type": "fragment"
    },
    "tags": [
     "plenum"
    ]
   },
   "source": [
    "answers\n",
    "\n",
    "-\n"
   ]
  },
  {
   "cell_type": "markdown",
   "id": "8433c6db-7d9c-4787-8873-ef41e7e5eae9",
   "metadata": {
    "slideshow": {
     "slide_type": "slide"
    },
    "tags": [
     "plenum"
    ]
   },
   "source": [
    "### exercise\n",
    "\n",
    "suppose we are ordering ice creams in a shop, where the service is taken by a machine, the machine needs to know the container index of the ordered ice cream and process the order with the payment. below is a function that this machine need to process an order.  please find errors in the code below."
   ]
  },
  {
   "cell_type": "code",
   "execution_count": 1,
   "id": "5eca62be-2f25-4aef-96e7-bcd63c2cbf58",
   "metadata": {
    "slideshow": {
     "slide_type": "skip"
    },
    "tags": []
   },
   "outputs": [],
   "source": [
    "# a running version\n",
    "def order_ice_cream(customer, my_choices):\n",
    "    ice_creams = [\n",
    "        'chocolate', \n",
    "        'vanilla',\n",
    "        'strawberry',\n",
    "        'coffee',\n",
    "        'yogurt',\n",
    "    ]\n",
    "\n",
    "    print('the full menu is:')\n",
    "    print('-----------------')\n",
    "    for index, item in enumerate(ice_creams):\n",
    "        print(index, item)\n",
    "    print('---end of menu---')\n",
    "  \n",
    "    print('my choices are', my_choices)\n",
    "    unit_price = 1.0 # in dollar\n",
    "    price_to_pay = unit_price * len(my_choices)\n",
    "    order = [ice_creams.index(i) for i in my_choices]\n",
    "    \n",
    "    # write order to file\n",
    "    with open('orders.txt', 'a') as f:\n",
    "        f.write(\"{}'s orders: ice cream items {}\".format(\n",
    "            customer, order))\n",
    "    \n",
    "    return order, price_to_pay"
   ]
  },
  {
   "cell_type": "code",
   "execution_count": 2,
   "id": "2f54370a-b5ec-452e-b318-69c288d07e76",
   "metadata": {
    "slideshow": {
     "slide_type": "skip"
    },
    "tags": []
   },
   "outputs": [
    {
     "name": "stdout",
     "output_type": "stream",
     "text": [
      "the full menu is:\n",
      "-----------------\n",
      "0 chocolate\n",
      "1 vanilla\n",
      "2 strawberry\n",
      "3 coffee\n",
      "4 yogurt\n",
      "---end of menu---\n",
      "my choices are ['chocolate', 'coffee']\n",
      "my order is [0, 3]\n",
      "my payment is 2.0 dollars\n"
     ]
    }
   ],
   "source": [
    "my_choices = ['chocolate', 'coffee']\n",
    "my_order, payment = order_ice_cream('Doris', my_choices)\n",
    "print('my order is', my_order)\n",
    "print('my payment is', payment, 'dollars')"
   ]
  },
  {
   "cell_type": "code",
   "execution_count": null,
   "id": "e526a695-a449-4e05-ba0d-1fd7b26b730d",
   "metadata": {
    "slideshow": {
     "slide_type": "subslide"
    },
    "tags": [
     "plenum"
    ]
   },
   "outputs": [],
   "source": [
    "def order_ice_cream(customer, my_choices)\n",
    "    ice_creams = [\n",
    "        'chocolate', \n",
    "        'vanilla'\n",
    "        'strawberry',\n",
    "  ]\n",
    "     \n",
    "    print('the full menu is:')\n",
    "    print('-----------------')\n",
    "\tfor index, item in enumerate(ice_creams)\n",
    "    print(index, item\n",
    "    print('---end of menu---')\n",
    "        \n",
    "\t\tprint('my choices are', my_choices)\n",
    "        price_to_pay = unit_price * len(my_choices)\n",
    "    order = [ice_creams.index(i) for i in my_choice]\n",
    "\n",
    "    # write order to file\n",
    "    with open('orders/orders.txt', 'r') as f:\n",
    "        f.write(\"{}'s orders: ice cream items {}\".format(\n",
    "            customer, order))\n",
    "    \n",
    "    return order, price_to_pay"
   ]
  },
  {
   "cell_type": "code",
   "execution_count": null,
   "id": "75030572-f93b-4609-a1be-fdad700d5994",
   "metadata": {
    "slideshow": {
     "slide_type": "subslide"
    },
    "tags": [
     "plenum"
    ]
   },
   "outputs": [],
   "source": [
    "my_choices = ['chocolate', 'coffee']\n",
    "my_order, payment = order_ice_cream(my_choices)\n",
    "print('my order is', my_order)\n",
    "print('my payment is', payment)"
   ]
  },
  {
   "cell_type": "markdown",
   "id": "b2f615a6-b01a-4b53-a753-cddecbe44613",
   "metadata": {
    "slideshow": {
     "slide_type": "fragment"
    },
    "tags": [
     "plenum"
    ]
   },
   "source": [
    "what errors do we find in the function ?\n",
    "\n",
    "answers\n",
    "\n",
    "-"
   ]
  },
  {
   "cell_type": "markdown",
   "id": "a51b8a9c-8d82-480b-88d2-55e475df68c2",
   "metadata": {
    "slideshow": {
     "slide_type": "slide"
    },
    "tags": [
     "plenum"
    ]
   },
   "source": [
    "## There are three general types of errors in programming\n",
    "\n",
    "- **syntax error**\n",
    "- **runtime error**\n",
    "- **logical error**"
   ]
  },
  {
   "cell_type": "markdown",
   "id": "b57f0394-7d17-4562-b49e-3cfee823b9f9",
   "metadata": {
    "slideshow": {
     "slide_type": "subslide"
    },
    "tags": [
     "plenum"
    ]
   },
   "source": [
    "### what is syntax error ?\n",
    "\n",
    "errors are detected (crushed) at the `compile` stage, without a direct execution.\n",
    "\n",
    "they include\n",
    "\n",
    "- missing :\n",
    "- indent (mixing tab and spaces is not recommended)\n",
    "- miss-matched () [] {} '' \"\""
   ]
  },
  {
   "cell_type": "markdown",
   "id": "4b7b2216-dd26-458b-bf78-003861718ad0",
   "metadata": {
    "slideshow": {
     "slide_type": "subslide"
    },
    "tags": [
     "plenum"
    ]
   },
   "source": [
    "### what is runtime error ?\n",
    "\n",
    "errors are detected (crushed) during the execution (of the code/functions)\n",
    "\n",
    "they include\n",
    "\n",
    "- variable undefined\n",
    "- index out of bounds\n",
    "- file/folder does not exist\n",
    "- incorrect input parameters\n",
    "- rewrite of built-in keywords or functions $\\color{red}{\\text{danger}}$"
   ]
  },
  {
   "cell_type": "code",
   "execution_count": 3,
   "id": "10672a49-6322-4fc1-880e-46cafb5693ca",
   "metadata": {
    "slideshow": {
     "slide_type": "subslide"
    },
    "tags": []
   },
   "outputs": [],
   "source": [
    "print = 50"
   ]
  },
  {
   "cell_type": "code",
   "execution_count": 4,
   "id": "a8bbf590-4c95-449e-b875-9df1ed7ecb18",
   "metadata": {
    "slideshow": {
     "slide_type": "fragment"
    },
    "tags": []
   },
   "outputs": [],
   "source": [
    "str = 'a test string'"
   ]
  },
  {
   "cell_type": "code",
   "execution_count": 5,
   "id": "c475c2eb-5e81-434b-96e5-747ec54c7030",
   "metadata": {
    "slideshow": {
     "slide_type": "fragment"
    },
    "tags": []
   },
   "outputs": [
    {
     "ename": "TypeError",
     "evalue": "'int' object is not callable",
     "output_type": "error",
     "traceback": [
      "\u001b[0;31m---------------------------------------------------------------------------\u001b[0m",
      "\u001b[0;31mTypeError\u001b[0m                                 Traceback (most recent call last)",
      "Input \u001b[0;32mIn [5]\u001b[0m, in \u001b[0;36m<cell line: 1>\u001b[0;34m()\u001b[0m\n\u001b[0;32m----> 1\u001b[0m \u001b[38;5;28;43mprint\u001b[39;49m\u001b[43m(\u001b[49m\u001b[38;5;124;43m'\u001b[39;49m\u001b[38;5;124;43mthis is a test\u001b[39;49m\u001b[38;5;124;43m'\u001b[39;49m\u001b[43m)\u001b[49m\n",
      "\u001b[0;31mTypeError\u001b[0m: 'int' object is not callable"
     ]
    }
   ],
   "source": [
    "print('this is a test')"
   ]
  },
  {
   "cell_type": "markdown",
   "id": "c6fe76ea-ccb6-4fb4-b39f-b8f9b5230f58",
   "metadata": {
    "slideshow": {
     "slide_type": "subslide"
    },
    "tags": []
   },
   "source": [
    "### what is logic error ?\n",
    "\n",
    "a logic error is a bug in a program that causes it to operate incorrectly, but **not** to terminate abnormally (or crash).\n",
    "\n",
    "they include\n",
    "\n",
    "- incorrect computation\n",
    "- incorrect rewrite of data\n",
    "- incorrect output\n",
    "- ..."
   ]
  },
  {
   "cell_type": "code",
   "execution_count": 6,
   "id": "65299d7d-910f-4317-851c-e3f1f81f3993",
   "metadata": {
    "slideshow": {
     "slide_type": "subslide"
    },
    "tags": []
   },
   "outputs": [
    {
     "data": {
      "text/plain": [
       "4"
      ]
     },
     "execution_count": 6,
     "metadata": {},
     "output_type": "execute_result"
    }
   ],
   "source": [
    "def square(x):\n",
    "    return x + x\n",
    "\n",
    "square(2)"
   ]
  },
  {
   "cell_type": "code",
   "execution_count": 7,
   "id": "2db9a138-3458-4a6b-92a6-5b3193120b54",
   "metadata": {
    "slideshow": {
     "slide_type": "fragment"
    },
    "tags": []
   },
   "outputs": [
    {
     "data": {
      "text/plain": [
       "0.5"
      ]
     },
     "execution_count": 7,
     "metadata": {},
     "output_type": "execute_result"
    }
   ],
   "source": [
    "def average(a, b):\n",
    "    return a + b / 2\n",
    "\n",
    "average(0, 1)"
   ]
  },
  {
   "cell_type": "markdown",
   "id": "7fec30b7-4132-4cbb-aa8e-d8d4cd475e2f",
   "metadata": {
    "slideshow": {
     "slide_type": "slide"
    },
    "tags": [
     "breakout"
    ]
   },
   "source": [
    "### exercise: Reading Error Messages\n",
    "\n",
    "Read the Python code and the resulting traceback below, and answer the following questions:\n",
    "\n",
    "- How many levels does the traceback have?\n",
    "- What is the function name where the error occurred?\n",
    "- On which line number in this function did the error occur?\n",
    "- What is the type of error?\n",
    "- What is the error message?"
   ]
  },
  {
   "cell_type": "code",
   "execution_count": null,
   "id": "629445af-ea0d-464c-81b7-ad5d02f95a16",
   "metadata": {
    "slideshow": {
     "slide_type": "subslide"
    },
    "tags": [
     "plenum",
     "breakout"
    ]
   },
   "outputs": [],
   "source": [
    "# This code has an intentional error. Do not type it directly;\n",
    "# use it for reference to understand the error message below.\n",
    "def print_message(day):\n",
    "    messages = {\n",
    "        'monday': 'Hello, world!',\n",
    "        'tuesday': 'Today is Tuesday!',\n",
    "        'wednesday': 'It is the middle of the week.',\n",
    "        'thursday': 'Today is Donnerstag in German!',\n",
    "        'friday': 'Last day of the week!',\n",
    "        'saturday': 'Hooray for the weekend!',\n",
    "        'sunday': 'Aw, the weekend is almost over.'\n",
    "    }\n",
    "    print(messages[day])\n",
    "\n",
    "def print_friday_message():\n",
    "    print_message('Friday')\n",
    "\n",
    "print_friday_message()"
   ]
  },
  {
   "cell_type": "markdown",
   "id": "debffa35-998a-45f0-8434-3dbeb79acdd1",
   "metadata": {
    "slideshow": {
     "slide_type": "slide"
    },
    "tags": [
     "breakout"
    ]
   },
   "source": [
    "### exercise: Identifying Syntax Errors\n",
    "\n",
    "- Read the code below, and (without running it) try to identify what the errors are.\n",
    "- Run the code, and read the error message. Is it a SyntaxError or an IndentationError?\n",
    "- Fix the error.\n",
    "- Repeat steps 2 and 3, until you have fixed all the errors."
   ]
  },
  {
   "cell_type": "code",
   "execution_count": 8,
   "id": "f3510f8c-4cc9-45cf-8a42-b3d75c5ed07e",
   "metadata": {
    "slideshow": {
     "slide_type": "subslide"
    },
    "tags": []
   },
   "outputs": [
    {
     "ename": "SyntaxError",
     "evalue": "invalid syntax (3532211595.py, line 1)",
     "output_type": "error",
     "traceback": [
      "\u001b[0;36m  Input \u001b[0;32mIn [8]\u001b[0;36m\u001b[0m\n\u001b[0;31m    def another_function\u001b[0m\n\u001b[0m                        ^\u001b[0m\n\u001b[0;31mSyntaxError\u001b[0m\u001b[0;31m:\u001b[0m invalid syntax\n"
     ]
    }
   ],
   "source": [
    "def another_function\n",
    "  print('Syntax errors are annoying.')\n",
    "   print('But at least Python tells us about them!')\n",
    "  print('So they are usually not too hard to fix.')"
   ]
  },
  {
   "cell_type": "markdown",
   "id": "8c6ba0d3-6846-425f-ba1d-c76164179c68",
   "metadata": {
    "slideshow": {
     "slide_type": "slide"
    },
    "tags": []
   },
   "source": [
    "### exercise： Identifying Variable Name Errors\n",
    "\n",
    "- Read the code below, and (without running it) try to identify what the errors are.\n",
    "- Run the code, and read the error message. What type of `NameError` do you think this is? In other words, is it a string with no quotes, a misspelled variable, or a variable that should have been defined but was not?\n",
    "- Fix the error.\n",
    "- Repeat steps 2 and 3, until you have fixed all the errors."
   ]
  },
  {
   "cell_type": "code",
   "execution_count": null,
   "id": "dc91f08c-5ca5-44ff-8eb3-1edd3db39329",
   "metadata": {
    "slideshow": {
     "slide_type": "subslide"
    },
    "tags": [
     "breakout"
    ]
   },
   "outputs": [],
   "source": [
    "for number in range(10):\n",
    "    # use a if the number is a multiple of 3, otherwise use b\n",
    "    if (Number % 3) == 0:\n",
    "        message = message + a\n",
    "    else:\n",
    "        message = message + 'b'\n",
    "print(message)"
   ]
  },
  {
   "cell_type": "markdown",
   "id": "a12bf1b9-9a5c-4e5f-9fb5-ad5775df7731",
   "metadata": {
    "slideshow": {
     "slide_type": "slide"
    },
    "tags": [
     "breakout"
    ]
   },
   "source": [
    "### exercise: Identifying Index Errors\n",
    "\n",
    "- Read the code below, and (without running it) try to identify what the errors are.\n",
    "- Run the code, and read the error message. What type of error is it?\n",
    "- Fix the error."
   ]
  },
  {
   "cell_type": "code",
   "execution_count": 9,
   "id": "ac42957f-a49f-4c57-aaf3-8ae57e56d140",
   "metadata": {
    "slideshow": {
     "slide_type": "subslide"
    },
    "tags": [
     "breakout"
    ]
   },
   "outputs": [
    {
     "ename": "IndexError",
     "evalue": "list index out of range",
     "output_type": "error",
     "traceback": [
      "\u001b[0;31m---------------------------------------------------------------------------\u001b[0m",
      "\u001b[0;31mIndexError\u001b[0m                                Traceback (most recent call last)",
      "Input \u001b[0;32mIn [9]\u001b[0m, in \u001b[0;36m<cell line: 2>\u001b[0;34m()\u001b[0m\n\u001b[1;32m      1\u001b[0m seasons \u001b[38;5;241m=\u001b[39m [\u001b[38;5;124m'\u001b[39m\u001b[38;5;124mSpring\u001b[39m\u001b[38;5;124m'\u001b[39m, \u001b[38;5;124m'\u001b[39m\u001b[38;5;124mSummer\u001b[39m\u001b[38;5;124m'\u001b[39m, \u001b[38;5;124m'\u001b[39m\u001b[38;5;124mFall\u001b[39m\u001b[38;5;124m'\u001b[39m, \u001b[38;5;124m'\u001b[39m\u001b[38;5;124mWinter\u001b[39m\u001b[38;5;124m'\u001b[39m]\n\u001b[0;32m----> 2\u001b[0m \u001b[38;5;28mprint\u001b[39m(\u001b[38;5;124m'\u001b[39m\u001b[38;5;124mMy favorite season is \u001b[39m\u001b[38;5;124m'\u001b[39m, \u001b[43mseasons\u001b[49m\u001b[43m[\u001b[49m\u001b[38;5;241;43m4\u001b[39;49m\u001b[43m]\u001b[49m)\n",
      "\u001b[0;31mIndexError\u001b[0m: list index out of range"
     ]
    }
   ],
   "source": [
    "seasons = ['Spring', 'Summer', 'Fall', 'Winter']\n",
    "print('My favorite season is ', seasons[4])"
   ]
  },
  {
   "cell_type": "markdown",
   "id": "f545184a-5d94-43b6-9608-a4e86e925a2b",
   "metadata": {
    "slideshow": {
     "slide_type": "fragment"
    },
    "tags": []
   },
   "source": [
    "change data file to review the output\n",
    "why the output changed/not changed ?"
   ]
  },
  {
   "cell_type": "markdown",
   "id": "f7801949-cf44-47b2-8c09-3cc0469e24fd",
   "metadata": {
    "slideshow": {
     "slide_type": "fragment"
    },
    "tags": [
     "breakout"
    ]
   },
   "source": [
    "which statement gets printed ?"
   ]
  }
 ],
 "metadata": {
  "kernelspec": {
   "display_name": "Python 3 (ipykernel)",
   "language": "python",
   "name": "python3"
  },
  "language_info": {
   "codemirror_mode": {
    "name": "ipython",
    "version": 3
   },
   "file_extension": ".py",
   "mimetype": "text/x-python",
   "name": "python",
   "nbconvert_exporter": "python",
   "pygments_lexer": "ipython3",
   "version": "3.9.12"
  }
 },
 "nbformat": 4,
 "nbformat_minor": 5
}
