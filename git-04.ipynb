{
 "cells": [
  {
   "cell_type": "markdown",
   "id": "65340e16-7e6a-4bc7-b1c7-b972e46a5851",
   "metadata": {
    "slideshow": {
     "slide_type": "slide"
    },
    "tags": []
   },
   "source": [
    "# Git 04 Tracking Changes"
   ]
  },
  {
   "cell_type": "markdown",
   "id": "1e375169-df9f-4a31-a306-b8073721d6f3",
   "metadata": {
    "slideshow": {
     "slide_type": "fragment"
    },
    "tags": []
   },
   "source": [
    "[course link](https://swcarpentry.github.io/git-novice/index.html)\n",
    "\n",
    "- duration: 20 mins\n",
    "- track changes in a `Git` repository"
   ]
  },
  {
   "cell_type": "markdown",
   "id": "f8d4e039-5d17-400b-9a9c-cd0dd63aba06",
   "metadata": {
    "slideshow": {
     "slide_type": "slide"
    },
    "tags": []
   },
   "source": [
    "### commands overview"
   ]
  },
  {
   "cell_type": "code",
   "execution_count": 1,
   "id": "b69cde3f-0e0a-4395-a22c-6f9b6cf7f099",
   "metadata": {
    "slideshow": {
     "slide_type": "skip"
    },
    "tags": []
   },
   "outputs": [
    {
     "name": "stdout",
     "output_type": "stream",
     "text": [
      "git02.sh git04.sh git06.sh git08.sh git10.sh\n",
      "git03.sh git05.sh git07.sh git09.sh\n"
     ]
    }
   ],
   "source": [
    "!ls 'git'"
   ]
  },
  {
   "cell_type": "code",
   "execution_count": 2,
   "id": "119c89d3-ae0c-4bca-8126-482e1d263feb",
   "metadata": {
    "slideshow": {
     "slide_type": "subslide"
    },
    "tags": []
   },
   "outputs": [
    {
     "name": "stdout",
     "output_type": "stream",
     "text": [
      "#!/bin/sh\n",
      "echo \"Cold and dry, but everything is my favorite color\" > mars.txt\n",
      "cat mars.txt\n",
      "git status\n",
      "git add mars.txt\n",
      "git status\n",
      "git diff\n",
      "git diff --staged\n",
      "git commit -m \"Start notes on Mars as a base\"\n",
      "git status\n",
      "git diff\n",
      "git diff --staged\n",
      "git log\n",
      "echo \"The two moons may be a problem for Wolfman\" >> mars.txt\n",
      "cat mars.txt\n",
      "git status\n",
      "git diff\n",
      "git diff --staged\n",
      "git add mars.txt\n",
      "git commit -m \"Add concerns about effects of Mars' moons on Wolfman\"\n",
      "echo \"But the Mummy will appreciate the lack of humidity\" >> mars.txt\n",
      "cat mars.txt\n",
      "git diff\n",
      "git diff --staged\n",
      "git add mars.txt\n",
      "git diff\n",
      "git diff --staged\n",
      "git commit -m \"Discuss concerns about Mars' climate for Mummy\"\n",
      "git diff\n",
      "git diff --staged\n",
      "git diff\n",
      "git diff --staged\n",
      "git log"
     ]
    }
   ],
   "source": [
    "!cat git/git04.sh"
   ]
  },
  {
   "cell_type": "markdown",
   "id": "f2802f26-1fbf-42af-bd54-9af92a117cbb",
   "metadata": {
    "slideshow": {
     "slide_type": "slide"
    },
    "tags": []
   },
   "source": [
    "### add a file into a `Git` repository"
   ]
  },
  {
   "cell_type": "code",
   "execution_count": 3,
   "id": "03cdbd82-5d5b-482c-b0ce-3a72b2a27f8a",
   "metadata": {
    "slideshow": {
     "slide_type": "subslide"
    },
    "tags": []
   },
   "outputs": [],
   "source": [
    "# create directory (works under jupyter, replace this block with bash in terminal)\n",
    "import os, os.path, shutil\n",
    "target_folder = os.path.join(os.path.expanduser('~'), 'workshop/planets')\n",
    "if os.path.exists(target_folder):\n",
    "    shutil.rmtree(target_folder)\n",
    "os.makedirs(target_folder, exist_ok=True)\n",
    "os.chdir(target_folder)"
   ]
  },
  {
   "cell_type": "code",
   "execution_count": 4,
   "id": "7acc12c9-1f7e-4281-8b2e-cf633dc19107",
   "metadata": {
    "slideshow": {
     "slide_type": "subslide"
    },
    "tags": []
   },
   "outputs": [
    {
     "name": "stdout",
     "output_type": "stream",
     "text": [
      "/Users/doris/workshop/planets\n"
     ]
    }
   ],
   "source": [
    "!pwd"
   ]
  },
  {
   "cell_type": "code",
   "execution_count": 5,
   "id": "eaa3825b-6f3a-4a20-b79a-69252e5a6810",
   "metadata": {
    "slideshow": {
     "slide_type": "subslide"
    },
    "tags": []
   },
   "outputs": [
    {
     "name": "stdout",
     "output_type": "stream",
     "text": [
      "Initialized empty Git repository in /Users/doris/workshop/planets/.git/\n"
     ]
    }
   ],
   "source": [
    "!git init"
   ]
  },
  {
   "cell_type": "code",
   "execution_count": 6,
   "id": "f2e3b07f-6efb-478d-89b0-00788ddd5dfd",
   "metadata": {
    "slideshow": {
     "slide_type": "subslide"
    },
    "tags": []
   },
   "outputs": [
    {
     "name": "stdout",
     "output_type": "stream",
     "text": [
      "\u001b[34m.\u001b[m\u001b[m    \u001b[34m..\u001b[m\u001b[m   \u001b[34m.git\u001b[m\u001b[m\n"
     ]
    }
   ],
   "source": [
    "!ls -a"
   ]
  },
  {
   "cell_type": "code",
   "execution_count": 7,
   "id": "7441662c-d0a6-4794-b660-c1c900c83b1a",
   "metadata": {
    "slideshow": {
     "slide_type": "subslide"
    },
    "tags": []
   },
   "outputs": [],
   "source": [
    "# works in jupyter, replace with \"editing in nano\" for terminal\n",
    "!echo \"Cold and dry, but everything is my favorite color\" > mars.txt"
   ]
  },
  {
   "cell_type": "code",
   "execution_count": 8,
   "id": "702fd00b-3567-47d6-8cef-65b75968397d",
   "metadata": {
    "slideshow": {
     "slide_type": "subslide"
    },
    "tags": []
   },
   "outputs": [
    {
     "name": "stdout",
     "output_type": "stream",
     "text": [
      "Cold and dry, but everything is my favorite color\n"
     ]
    }
   ],
   "source": [
    "!cat mars.txt"
   ]
  },
  {
   "cell_type": "code",
   "execution_count": 9,
   "id": "6a6bf4d7-9a40-4fbb-94e3-64871de89d72",
   "metadata": {
    "slideshow": {
     "slide_type": "subslide"
    },
    "tags": []
   },
   "outputs": [
    {
     "name": "stdout",
     "output_type": "stream",
     "text": [
      "\u001b[34m.\u001b[m\u001b[m        \u001b[34m..\u001b[m\u001b[m       \u001b[34m.git\u001b[m\u001b[m     mars.txt\n"
     ]
    }
   ],
   "source": [
    "!ls -a"
   ]
  },
  {
   "cell_type": "code",
   "execution_count": 10,
   "id": "d71c0856-82c2-41a7-a0ac-ac26ec831425",
   "metadata": {
    "slideshow": {
     "slide_type": "subslide"
    },
    "tags": []
   },
   "outputs": [
    {
     "name": "stdout",
     "output_type": "stream",
     "text": [
      "On branch main\n",
      "\n",
      "No commits yet\n",
      "\n",
      "Untracked files:\n",
      "  (use \"git add <file>...\" to include in what will be committed)\n",
      "\t\u001b[31mmars.txt\u001b[m\n",
      "\n",
      "nothing added to commit but untracked files present (use \"git add\" to track)\n"
     ]
    }
   ],
   "source": [
    "!git status"
   ]
  },
  {
   "cell_type": "markdown",
   "id": "c1bb2a03-9404-4f33-8c93-0a97ed27370e",
   "metadata": {
    "slideshow": {
     "slide_type": "slide"
    },
    "tags": []
   },
   "source": [
    "### stage changes for a `Git` repository"
   ]
  },
  {
   "cell_type": "code",
   "execution_count": 11,
   "id": "30e78c95-8c73-4c60-9bd5-434ed1045ffa",
   "metadata": {
    "slideshow": {
     "slide_type": "subslide"
    },
    "tags": []
   },
   "outputs": [],
   "source": [
    "!git add mars.txt"
   ]
  },
  {
   "cell_type": "code",
   "execution_count": 12,
   "id": "189abbf2-cfc9-411c-a5b4-177f9c8da401",
   "metadata": {
    "slideshow": {
     "slide_type": "subslide"
    },
    "tags": []
   },
   "outputs": [
    {
     "name": "stdout",
     "output_type": "stream",
     "text": [
      "On branch main\n",
      "\n",
      "No commits yet\n",
      "\n",
      "Changes to be committed:\n",
      "  (use \"git rm --cached <file>...\" to unstage)\n",
      "\t\u001b[32mnew file:   mars.txt\u001b[m\n",
      "\n"
     ]
    }
   ],
   "source": [
    "!git status"
   ]
  },
  {
   "cell_type": "code",
   "execution_count": 13,
   "id": "49833dbb-fbd2-4636-bcbb-45868b8f3d95",
   "metadata": {
    "slideshow": {
     "slide_type": "subslide"
    },
    "tags": []
   },
   "outputs": [
    {
     "name": "stdout",
     "output_type": "stream",
     "text": [
      "[main (root-commit) 2473024] Start notes on Mars as a base\n",
      " 1 file changed, 1 insertion(+)\n",
      " create mode 100644 mars.txt\n"
     ]
    }
   ],
   "source": [
    "!git commit -m \"Start notes on Mars as a base\""
   ]
  },
  {
   "cell_type": "code",
   "execution_count": 14,
   "id": "af32fe13-6125-45b9-a8d5-7ec69c4895c3",
   "metadata": {
    "slideshow": {
     "slide_type": "subslide"
    },
    "tags": []
   },
   "outputs": [
    {
     "name": "stdout",
     "output_type": "stream",
     "text": [
      "On branch main\n",
      "nothing to commit, working tree clean\n"
     ]
    }
   ],
   "source": [
    "!git status"
   ]
  },
  {
   "cell_type": "code",
   "execution_count": 15,
   "id": "2e71c8dc-0445-4ef0-a85c-5e900a49b7f3",
   "metadata": {
    "slideshow": {
     "slide_type": "subslide"
    },
    "tags": []
   },
   "outputs": [
    {
     "name": "stdout",
     "output_type": "stream",
     "text": [
      "\u001b[33mcommit 24730247f71eaa709bef48585b8c5bc1a8873339\u001b[m\u001b[33m (\u001b[m\u001b[1;36mHEAD -> \u001b[m\u001b[1;32mmain\u001b[m\u001b[33m)\u001b[m\n",
      "Author: Zongru (Doris) Shao <drssth@gmail.com>\n",
      "Date:   Mon Apr 25 21:39:34 2022 +0200\n",
      "\n",
      "    Start notes on Mars as a base\n"
     ]
    }
   ],
   "source": [
    "!git log"
   ]
  },
  {
   "cell_type": "markdown",
   "id": "4386b4bd-a1ac-4435-940b-4afd3934e6cd",
   "metadata": {
    "slideshow": {
     "slide_type": "slide"
    },
    "tags": []
   },
   "source": [
    "### modify existing files in a `Git` repository"
   ]
  },
  {
   "cell_type": "code",
   "execution_count": 16,
   "id": "84b8c38e-d43d-4504-b939-2850e3521028",
   "metadata": {
    "slideshow": {
     "slide_type": "subslide"
    },
    "tags": []
   },
   "outputs": [],
   "source": [
    "# works in jupyter, replace with \"editing in nano\" for terminal\n",
    "!echo \"The two moons may be a problem for Wolfman\" >> mars.txt"
   ]
  },
  {
   "cell_type": "code",
   "execution_count": 17,
   "id": "14fb0072-b560-4810-af15-d211887bb8f4",
   "metadata": {
    "slideshow": {
     "slide_type": "subslide"
    },
    "tags": []
   },
   "outputs": [
    {
     "name": "stdout",
     "output_type": "stream",
     "text": [
      "Cold and dry, but everything is my favorite color\n",
      "The two moons may be a problem for Wolfman\n"
     ]
    }
   ],
   "source": [
    "!cat mars.txt"
   ]
  },
  {
   "cell_type": "code",
   "execution_count": 18,
   "id": "65763f46-2421-495d-9ef7-80e7cc1adf0c",
   "metadata": {
    "slideshow": {
     "slide_type": "subslide"
    },
    "tags": []
   },
   "outputs": [
    {
     "name": "stdout",
     "output_type": "stream",
     "text": [
      "On branch main\n",
      "Changes not staged for commit:\n",
      "  (use \"git add <file>...\" to update what will be committed)\n",
      "  (use \"git restore <file>...\" to discard changes in working directory)\n",
      "\t\u001b[31mmodified:   mars.txt\u001b[m\n",
      "\n",
      "no changes added to commit (use \"git add\" and/or \"git commit -a\")\n"
     ]
    }
   ],
   "source": [
    "!git status"
   ]
  },
  {
   "cell_type": "code",
   "execution_count": 19,
   "id": "70b50cb5-bf5a-4565-b1cb-77304be393a8",
   "metadata": {
    "slideshow": {
     "slide_type": "subslide"
    },
    "tags": []
   },
   "outputs": [
    {
     "name": "stdout",
     "output_type": "stream",
     "text": [
      "\u001b[1mdiff --git a/mars.txt b/mars.txt\u001b[m\n",
      "\u001b[1mindex df0654a..315bf3a 100644\u001b[m\n",
      "\u001b[1m--- a/mars.txt\u001b[m\n",
      "\u001b[1m+++ b/mars.txt\u001b[m\n",
      "\u001b[36m@@ -1 +1,2 @@\u001b[m\n",
      " Cold and dry, but everything is my favorite color\u001b[m\n",
      "\u001b[32m+\u001b[m\u001b[32mThe two moons may be a problem for Wolfman\u001b[m\n"
     ]
    }
   ],
   "source": [
    "!git diff"
   ]
  },
  {
   "cell_type": "code",
   "execution_count": 20,
   "id": "46e25361-1c55-42f4-9977-d23d3a6daf34",
   "metadata": {
    "slideshow": {
     "slide_type": "subslide"
    },
    "tags": []
   },
   "outputs": [],
   "source": [
    "!git diff --staged"
   ]
  },
  {
   "cell_type": "markdown",
   "id": "af478a8c-996c-4f28-95ad-cd7d6c1773ec",
   "metadata": {
    "slideshow": {
     "slide_type": "subslide"
    },
    "tags": []
   },
   "source": [
    "stage new changes"
   ]
  },
  {
   "cell_type": "code",
   "execution_count": 21,
   "id": "b4fe1746-d975-4730-b105-69ff072d5695",
   "metadata": {
    "slideshow": {
     "slide_type": "fragment"
    },
    "tags": []
   },
   "outputs": [],
   "source": [
    "!git add mars.txt"
   ]
  },
  {
   "cell_type": "code",
   "execution_count": 22,
   "id": "f998d482-6ca8-4a37-bf75-00845315e5a0",
   "metadata": {
    "slideshow": {
     "slide_type": "subslide"
    },
    "tags": []
   },
   "outputs": [],
   "source": [
    "!git diff"
   ]
  },
  {
   "cell_type": "code",
   "execution_count": 23,
   "id": "fbb8add4-19dd-4112-9bae-927c301e17ef",
   "metadata": {
    "slideshow": {
     "slide_type": "subslide"
    },
    "tags": []
   },
   "outputs": [
    {
     "name": "stdout",
     "output_type": "stream",
     "text": [
      "\u001b[1mdiff --git a/mars.txt b/mars.txt\u001b[m\n",
      "\u001b[1mindex df0654a..315bf3a 100644\u001b[m\n",
      "\u001b[1m--- a/mars.txt\u001b[m\n",
      "\u001b[1m+++ b/mars.txt\u001b[m\n",
      "\u001b[36m@@ -1 +1,2 @@\u001b[m\n",
      " Cold and dry, but everything is my favorite color\u001b[m\n",
      "\u001b[32m+\u001b[m\u001b[32mThe two moons may be a problem for Wolfman\u001b[m\n"
     ]
    }
   ],
   "source": [
    "!git diff --staged"
   ]
  },
  {
   "cell_type": "code",
   "execution_count": 24,
   "id": "4d2d8c06-cea0-49f6-b17c-c41189a75913",
   "metadata": {
    "slideshow": {
     "slide_type": "subslide"
    },
    "tags": []
   },
   "outputs": [
    {
     "name": "stdout",
     "output_type": "stream",
     "text": [
      "[main 2cecef9] Add concerns about effects of Mars' moons on Wolfman\n",
      " 1 file changed, 1 insertion(+)\n"
     ]
    }
   ],
   "source": [
    "!git commit -m \"Add concerns about effects of Mars' moons on Wolfman\""
   ]
  },
  {
   "cell_type": "code",
   "execution_count": 25,
   "id": "27023ade-52e2-4982-b1a9-9e4e15c1f29b",
   "metadata": {
    "slideshow": {
     "slide_type": "subslide"
    },
    "tags": []
   },
   "outputs": [],
   "source": [
    "!git diff"
   ]
  },
  {
   "cell_type": "code",
   "execution_count": 26,
   "id": "5569f21f-abaf-4cb3-8181-bca7bc5cc5dd",
   "metadata": {
    "slideshow": {
     "slide_type": "subslide"
    },
    "tags": []
   },
   "outputs": [],
   "source": [
    "!git diff --staged"
   ]
  },
  {
   "cell_type": "code",
   "execution_count": 27,
   "id": "2795fc63-1dec-41d6-b13e-7b05277e75f7",
   "metadata": {
    "slideshow": {
     "slide_type": "subslide"
    },
    "tags": []
   },
   "outputs": [
    {
     "name": "stdout",
     "output_type": "stream",
     "text": [
      "\u001b[33mcommit 2cecef9cd8485f21122605dafed3b773540686f6\u001b[m\u001b[33m (\u001b[m\u001b[1;36mHEAD -> \u001b[m\u001b[1;32mmain\u001b[m\u001b[33m)\u001b[m\n",
      "Author: Zongru (Doris) Shao <drssth@gmail.com>\n",
      "Date:   Mon Apr 25 21:40:11 2022 +0200\n",
      "\n",
      "    Add concerns about effects of Mars' moons on Wolfman\n",
      "\n",
      "\u001b[33mcommit 24730247f71eaa709bef48585b8c5bc1a8873339\u001b[m\n",
      "Author: Zongru (Doris) Shao <drssth@gmail.com>\n",
      "Date:   Mon Apr 25 21:39:34 2022 +0200\n",
      "\n",
      "    Start notes on Mars as a base\n"
     ]
    }
   ],
   "source": [
    "!git log"
   ]
  },
  {
   "cell_type": "markdown",
   "id": "d5ea2b8a-488c-4ae6-9c62-079b71091caa",
   "metadata": {
    "slideshow": {
     "slide_type": "slide"
    },
    "tags": []
   },
   "source": [
    "### Staging Area"
   ]
  },
  {
   "cell_type": "markdown",
   "id": "ab61eb2b-174a-4350-ac7c-6697a2e0aca1",
   "metadata": {
    "slideshow": {
     "slide_type": "subslide"
    },
    "tags": []
   },
   "source": [
    "![](https://swcarpentry.github.io/git-novice/fig/git-staging-area.svg)"
   ]
  },
  {
   "cell_type": "markdown",
   "id": "7e6a1414-e04e-4eef-9a14-0d959e528f40",
   "metadata": {
    "slideshow": {
     "slide_type": "slide"
    },
    "tags": []
   },
   "source": [
    "### exercise: modify the file a second time"
   ]
  },
  {
   "cell_type": "code",
   "execution_count": 28,
   "id": "c5752189-88d7-4896-acda-54ed9c1b6832",
   "metadata": {
    "slideshow": {
     "slide_type": "subslide"
    },
    "tags": []
   },
   "outputs": [],
   "source": [
    "!echo \"But the Mummy will appreciate the lack of humidity\" >> mars.txt"
   ]
  },
  {
   "cell_type": "code",
   "execution_count": 29,
   "id": "58033727-8632-4849-aa80-26dbc8043b99",
   "metadata": {
    "slideshow": {
     "slide_type": "subslide"
    },
    "tags": []
   },
   "outputs": [
    {
     "name": "stdout",
     "output_type": "stream",
     "text": [
      "Cold and dry, but everything is my favorite color\n",
      "The two moons may be a problem for Wolfman\n",
      "But the Mummy will appreciate the lack of humidity\n"
     ]
    }
   ],
   "source": [
    "!cat mars.txt"
   ]
  },
  {
   "cell_type": "code",
   "execution_count": 30,
   "id": "d51dc4b9-a728-457b-8b31-f201cc7cc44b",
   "metadata": {
    "slideshow": {
     "slide_type": "subslide"
    },
    "tags": []
   },
   "outputs": [
    {
     "name": "stdout",
     "output_type": "stream",
     "text": [
      "\u001b[1mdiff --git a/mars.txt b/mars.txt\u001b[m\n",
      "\u001b[1mindex 315bf3a..b36abfd 100644\u001b[m\n",
      "\u001b[1m--- a/mars.txt\u001b[m\n",
      "\u001b[1m+++ b/mars.txt\u001b[m\n",
      "\u001b[36m@@ -1,2 +1,3 @@\u001b[m\n",
      " Cold and dry, but everything is my favorite color\u001b[m\n",
      " The two moons may be a problem for Wolfman\u001b[m\n",
      "\u001b[32m+\u001b[m\u001b[32mBut the Mummy will appreciate the lack of humidity\u001b[m\n"
     ]
    }
   ],
   "source": [
    "!git diff"
   ]
  },
  {
   "cell_type": "code",
   "execution_count": 31,
   "id": "155fbecd-624e-4fa1-9e9c-ccf83786d3cc",
   "metadata": {
    "slideshow": {
     "slide_type": "subslide"
    },
    "tags": []
   },
   "outputs": [],
   "source": [
    "!git diff --staged"
   ]
  },
  {
   "cell_type": "code",
   "execution_count": 32,
   "id": "affd1832-bd33-41fe-a282-335efc379333",
   "metadata": {
    "slideshow": {
     "slide_type": "subslide"
    },
    "tags": []
   },
   "outputs": [],
   "source": [
    "!git add mars.txt"
   ]
  },
  {
   "cell_type": "code",
   "execution_count": 33,
   "id": "f47f6617-43e0-4d0d-8e70-4bf82657799a",
   "metadata": {
    "slideshow": {
     "slide_type": "subslide"
    },
    "tags": []
   },
   "outputs": [],
   "source": [
    "!git diff"
   ]
  },
  {
   "cell_type": "code",
   "execution_count": 34,
   "id": "099bc7fd-2126-4ae0-814b-38a42c01bc31",
   "metadata": {
    "slideshow": {
     "slide_type": "subslide"
    },
    "tags": []
   },
   "outputs": [
    {
     "name": "stdout",
     "output_type": "stream",
     "text": [
      "\u001b[1mdiff --git a/mars.txt b/mars.txt\u001b[m\n",
      "\u001b[1mindex 315bf3a..b36abfd 100644\u001b[m\n",
      "\u001b[1m--- a/mars.txt\u001b[m\n",
      "\u001b[1m+++ b/mars.txt\u001b[m\n",
      "\u001b[36m@@ -1,2 +1,3 @@\u001b[m\n",
      " Cold and dry, but everything is my favorite color\u001b[m\n",
      " The two moons may be a problem for Wolfman\u001b[m\n",
      "\u001b[32m+\u001b[m\u001b[32mBut the Mummy will appreciate the lack of humidity\u001b[m\n"
     ]
    }
   ],
   "source": [
    "!git diff --staged"
   ]
  },
  {
   "cell_type": "code",
   "execution_count": 35,
   "id": "7e9aa51d-c572-45bd-a268-9a4ef52880cb",
   "metadata": {
    "slideshow": {
     "slide_type": "subslide"
    },
    "tags": []
   },
   "outputs": [
    {
     "name": "stdout",
     "output_type": "stream",
     "text": [
      "[main efba978] Discuss concerns about Mars' climate for Mummy\n",
      " 1 file changed, 1 insertion(+)\n"
     ]
    }
   ],
   "source": [
    "!git commit -m \"Discuss concerns about Mars' climate for Mummy\""
   ]
  },
  {
   "cell_type": "code",
   "execution_count": 36,
   "id": "c9867341-ba67-4aaa-bc75-8730cc2260e4",
   "metadata": {
    "slideshow": {
     "slide_type": "subslide"
    },
    "tags": []
   },
   "outputs": [],
   "source": [
    "!git diff"
   ]
  },
  {
   "cell_type": "code",
   "execution_count": 37,
   "id": "9cb22cc4-1e70-4557-b1a0-361257436c17",
   "metadata": {
    "slideshow": {
     "slide_type": "subslide"
    },
    "tags": []
   },
   "outputs": [],
   "source": [
    "!git diff --staged"
   ]
  },
  {
   "cell_type": "code",
   "execution_count": 38,
   "id": "b91973ba-5de9-43a9-ae23-47ce9b4062c5",
   "metadata": {
    "slideshow": {
     "slide_type": "subslide"
    },
    "tags": []
   },
   "outputs": [
    {
     "name": "stdout",
     "output_type": "stream",
     "text": [
      "\u001b[33mcommit efba9783de5522bd295808662190805826f0a110\u001b[m\u001b[33m (\u001b[m\u001b[1;36mHEAD -> \u001b[m\u001b[1;32mmain\u001b[m\u001b[33m)\u001b[m\n",
      "Author: Zongru (Doris) Shao <drssth@gmail.com>\n",
      "Date:   Mon Apr 25 21:41:02 2022 +0200\n",
      "\n",
      "    Discuss concerns about Mars' climate for Mummy\n",
      "\n",
      "\u001b[33mcommit 2cecef9cd8485f21122605dafed3b773540686f6\u001b[m\n",
      "Author: Zongru (Doris) Shao <drssth@gmail.com>\n",
      "Date:   Mon Apr 25 21:40:11 2022 +0200\n",
      "\n",
      "    Add concerns about effects of Mars' moons on Wolfman\n",
      "\n",
      "\u001b[33mcommit 24730247f71eaa709bef48585b8c5bc1a8873339\u001b[m\n",
      "Author: Zongru (Doris) Shao <drssth@gmail.com>\n",
      "Date:   Mon Apr 25 21:39:34 2022 +0200\n",
      "\n",
      "    Start notes on Mars as a base\n"
     ]
    }
   ],
   "source": [
    "!git log"
   ]
  },
  {
   "cell_type": "code",
   "execution_count": null,
   "id": "3b59f180-f83d-481f-9a94-a5b9dd122fb4",
   "metadata": {},
   "outputs": [],
   "source": []
  }
 ],
 "metadata": {
  "kernelspec": {
   "display_name": "Python 3 (ipykernel)",
   "language": "python",
   "name": "python3"
  },
  "language_info": {
   "codemirror_mode": {
    "name": "ipython",
    "version": 3
   },
   "file_extension": ".py",
   "mimetype": "text/x-python",
   "name": "python",
   "nbconvert_exporter": "python",
   "pygments_lexer": "ipython3",
   "version": "3.9.12"
  }
 },
 "nbformat": 4,
 "nbformat_minor": 5
}
