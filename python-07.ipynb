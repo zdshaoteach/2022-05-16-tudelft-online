{
 "cells": [
  {
   "cell_type": "markdown",
   "id": "05cca176-55d8-4976-9ec1-2860580d1de5",
   "metadata": {},
   "source": [
    "# Python 07 Making Choices"
   ]
  },
  {
   "cell_type": "markdown",
   "id": "b309dba3-a39a-415c-8875-201261c3879e",
   "metadata": {},
   "source": [
    "### syntax\n",
    "\n",
    "``` python\n",
    "if condition \n",
    "    ... \n",
    "elif condition \n",
    "    ... \n",
    "else \n",
    "    ...\n",
    "```"
   ]
  },
  {
   "cell_type": "markdown",
   "id": "debffa35-998a-45f0-8434-3dbeb79acdd1",
   "metadata": {},
   "source": [
    "Given an input number `num`\n",
    "\n",
    "![control with conditions](https://swcarpentry.github.io/python-novice-inflammation/fig/python-flowchart-conditional.png)"
   ]
  },
  {
   "cell_type": "code",
   "execution_count": null,
   "id": "18a25366-f8e4-4f42-a894-2d972b38e452",
   "metadata": {},
   "outputs": [],
   "source": []
  }
 ],
 "metadata": {
  "kernelspec": {
   "display_name": "Python 3 (ipykernel)",
   "language": "python",
   "name": "python3"
  },
  "language_info": {
   "codemirror_mode": {
    "name": "ipython",
    "version": 3
   },
   "file_extension": ".py",
   "mimetype": "text/x-python",
   "name": "python",
   "nbconvert_exporter": "python",
   "pygments_lexer": "ipython3",
   "version": "3.9.12"
  }
 },
 "nbformat": 4,
 "nbformat_minor": 5
}
