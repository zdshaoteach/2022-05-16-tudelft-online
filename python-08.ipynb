{
 "cells": [
  {
   "cell_type": "markdown",
   "id": "05cca176-55d8-4976-9ec1-2860580d1de5",
   "metadata": {
    "slideshow": {
     "slide_type": "slide"
    },
    "tags": [
     "plenum"
    ]
   },
   "source": [
    "# Python 08 Creating Functions"
   ]
  },
  {
   "cell_type": "markdown",
   "id": "22b7f8f5-7884-4298-8925-5dd167373d3f",
   "metadata": {
    "slideshow": {
     "slide_type": "fragment"
    },
    "tags": [
     "plenum"
    ]
   },
   "source": [
    "[course link](https://swcarpentry.github.io/python-novice-inflammation/)\n",
    "\n",
    "- duration: 30 mins\n",
    "- define and call functions"
   ]
  },
  {
   "cell_type": "markdown",
   "id": "b309dba3-a39a-415c-8875-201261c3879e",
   "metadata": {
    "slideshow": {
     "slide_type": "slide"
    },
    "tags": [
     "plenum"
    ]
   },
   "source": [
    "### syntax\n",
    "\n",
    "``` python\n",
    "def function_no_return(parameter1, parameter2, ...): \n",
    "    ... # do something\n",
    "    #return None\n",
    "    \n",
    "def function_one_return(parameter1, parameter2, ...): \n",
    "    ... # do something\n",
    "    return value\n",
    "\n",
    "def function_multiple_return(parameter1, parameter2, ...): \n",
    "    ... # do something\n",
    "    return value1, value2, ...\n",
    "```"
   ]
  },
  {
   "cell_type": "code",
   "execution_count": 1,
   "id": "5eca62be-2f25-4aef-96e7-bcd63c2cbf58",
   "metadata": {
    "slideshow": {
     "slide_type": "subslide"
    },
    "tags": [
     "plenum"
    ]
   },
   "outputs": [],
   "source": [
    "### a simple example\n",
    "def fahr_to_celsius(temp):\n",
    "    return ((temp - 32) * (5/9))"
   ]
  },
  {
   "cell_type": "markdown",
   "id": "0bdc0781-03ac-4a0e-bcfa-c8eee2167a12",
   "metadata": {
    "slideshow": {
     "slide_type": "fragment"
    },
    "tags": [
     "plenum"
    ]
   },
   "source": [
    "![python-function](https://swcarpentry.github.io/python-novice-inflammation/fig/python-function.svg)"
   ]
  },
  {
   "cell_type": "markdown",
   "id": "b2f615a6-b01a-4b53-a753-cddecbe44613",
   "metadata": {
    "slideshow": {
     "slide_type": "fragment"
    },
    "tags": [
     "plenum"
    ]
   },
   "source": [
    "### question\n",
    "- what happened after we define a function?\n",
    "- what did not happen after the defination of a function?"
   ]
  },
  {
   "cell_type": "code",
   "execution_count": 2,
   "id": "38af5753-2534-4b7b-9cbb-df07c7a00d87",
   "metadata": {
    "slideshow": {
     "slide_type": "skip"
    },
    "tags": [
     "plenum"
    ]
   },
   "outputs": [
    {
     "name": "stdout",
     "output_type": "stream",
     "text": [
      "freezing point of water: 0.0 C\n",
      "boiling point of water: 100.0 C\n"
     ]
    }
   ],
   "source": [
    "print('freezing point of water:', fahr_to_celsius(32), 'C')\n",
    "print('boiling point of water:', fahr_to_celsius(212), 'C')"
   ]
  },
  {
   "cell_type": "markdown",
   "id": "4b7b2216-dd26-458b-bf78-003861718ad0",
   "metadata": {
    "slideshow": {
     "slide_type": "slide"
    },
    "tags": [
     "plenum"
    ]
   },
   "source": [
    "### example and exercise: Composing Functions\n",
    "\n",
    "convert temprature units"
   ]
  },
  {
   "cell_type": "code",
   "execution_count": 3,
   "id": "10672a49-6322-4fc1-880e-46cafb5693ca",
   "metadata": {
    "slideshow": {
     "slide_type": "fragment"
    },
    "tags": [
     "plenum"
    ]
   },
   "outputs": [
    {
     "name": "stdout",
     "output_type": "stream",
     "text": [
      "freezing point of water in Kelvin: 273.15\n"
     ]
    }
   ],
   "source": [
    "def celsius_to_kelvin(temp_c):\n",
    "    return temp_c + 273.15\n",
    "\n",
    "print('freezing point of water in Kelvin:', celsius_to_kelvin(0.))"
   ]
  },
  {
   "cell_type": "markdown",
   "id": "f71f14aa-b824-460c-a193-442bfa33408e",
   "metadata": {
    "tags": [
     "plenum"
    ]
   },
   "source": [
    "write a function to convert Fahrenheit to Kelvin"
   ]
  },
  {
   "cell_type": "markdown",
   "id": "7fec30b7-4132-4cbb-aa8e-d8d4cd475e2f",
   "metadata": {
    "slideshow": {
     "slide_type": "fragment"
    },
    "tags": []
   },
   "source": [
    "change the value of num to print out all code branches"
   ]
  },
  {
   "cell_type": "code",
   "execution_count": 4,
   "id": "355497e9-6524-425a-8dcd-8c3c3d96b188",
   "metadata": {
    "slideshow": {
     "slide_type": "subslide"
    },
    "tags": [
     "plenum"
    ]
   },
   "outputs": [
    {
     "name": "stdout",
     "output_type": "stream",
     "text": [
      "boiling point of water in Kelvin: 373.15\n"
     ]
    }
   ],
   "source": [
    "def fahr_to_kelvin(temp_f):\n",
    "    temp_c = fahr_to_celsius(temp_f)\n",
    "    temp_k = celsius_to_kelvin(temp_c)\n",
    "    return temp_k\n",
    "\n",
    "print('boiling point of water in Kelvin:', fahr_to_kelvin(212.0))"
   ]
  },
  {
   "cell_type": "markdown",
   "id": "6632da4f-5ba4-4bd3-985f-c54abd4ce92f",
   "metadata": {
    "slideshow": {
     "slide_type": "fragment"
    },
    "tags": []
   },
   "source": [
    "test this function with other choices of input parameters"
   ]
  },
  {
   "cell_type": "markdown",
   "id": "debffa35-998a-45f0-8434-3dbeb79acdd1",
   "metadata": {
    "slideshow": {
     "slide_type": "slide"
    },
    "tags": [
     "plenum"
    ]
   },
   "source": [
    "### Variable Scope"
   ]
  },
  {
   "cell_type": "code",
   "execution_count": null,
   "id": "629445af-ea0d-464c-81b7-ad5d02f95a16",
   "metadata": {
    "slideshow": {
     "slide_type": "fragment"
    },
    "tags": [
     "plenum"
    ]
   },
   "outputs": [],
   "source": [
    "print('Again, temperature in Kelvin was:', temp_k)"
   ]
  },
  {
   "cell_type": "code",
   "execution_count": null,
   "id": "f3510f8c-4cc9-45cf-8a42-b3d75c5ed07e",
   "metadata": {
    "slideshow": {
     "slide_type": "fragment"
    },
    "tags": [
     "breakout"
    ]
   },
   "outputs": [],
   "source": [
    "print('Again, temperature in Fahrenheit was:', temp_f)"
   ]
  },
  {
   "cell_type": "code",
   "execution_count": null,
   "id": "d5eee634-31eb-402d-8d05-0b7009400f8e",
   "metadata": {
    "slideshow": {
     "slide_type": "fragment"
    },
    "tags": [
     "breakout"
    ]
   },
   "outputs": [],
   "source": [
    "print('Again, temperature in Celsius was:', temp_c)"
   ]
  },
  {
   "cell_type": "code",
   "execution_count": null,
   "id": "4e342f41-03b7-43c3-aa5e-752bb04edcf8",
   "metadata": {
    "slideshow": {
     "slide_type": "fragment"
    },
    "tags": [
     "plenum"
    ]
   },
   "outputs": [],
   "source": [
    "temp_kelvin = fahr_to_kelvin(212.0)\n",
    "print('temperature in Kelvin was:', temp_kelvin)"
   ]
  },
  {
   "cell_type": "code",
   "execution_count": null,
   "id": "d36a98b3-fbdd-4127-8849-19377b781131",
   "metadata": {
    "slideshow": {
     "slide_type": "subslide"
    },
    "tags": [
     "plenum"
    ]
   },
   "outputs": [],
   "source": [
    "# can this code block run ?\n",
    "\n",
    "def print_temperatures():\n",
    "    print('temperature in Fahrenheit was:', temp_t1_fahr)\n",
    "    print('temperature in Kelvin was:', temp_t1_kelvin)\n",
    "    temp_t1_fahr = 0\n",
    "    temp_t1_kelvin = 5\n",
    "\n",
    "temp_t1_fahr = 212.0\n",
    "temp_t1_kelvin = fahr_to_kelvin(temp_t1_fahr)\n",
    "\n",
    "print_temperatures()\n",
    "\n",
    "print('temperature in Fahrenheit was:', temp_t1_fahr)\n",
    "print('temperature in Kelvin was:', temp_t1_kelvin)"
   ]
  },
  {
   "cell_type": "code",
   "execution_count": null,
   "id": "0028441b-1989-47bd-a136-46ba1c6b7964",
   "metadata": {
    "slideshow": {
     "slide_type": "subslide"
    },
    "tags": [
     "plenum"
    ]
   },
   "outputs": [],
   "source": [
    "# can this code block run ?\n",
    "\n",
    "temp_t2_fahr = 212.0\n",
    "temp_t2_kelvin = fahr_to_kelvin(temp_t2_fahr)\n",
    "\n",
    "def print_temperatures():\n",
    "    print('temperature in Fahrenheit was:', temp_t2_fahr)\n",
    "    print('temperature in Kelvin was:', temp_t2_kelvin)\n",
    "    temp_t2_fahr = 0\n",
    "    temp_t2_kelvin = 5\n",
    "\n",
    "print_temperatures()\n",
    "\n",
    "print('temperature in Fahrenheit was:', temp_t2_fahr)\n",
    "print('temperature in Kelvin was:', temp_t2_kelvin)"
   ]
  },
  {
   "cell_type": "code",
   "execution_count": null,
   "id": "3366475e-8371-4a7c-8d0c-c718312d5bc6",
   "metadata": {
    "slideshow": {
     "slide_type": "subslide"
    },
    "tags": [
     "plenum"
    ]
   },
   "outputs": [],
   "source": [
    "# can this code block run ?\n",
    "\n",
    "def print_temperatures():\n",
    "    global temp_t3_fahr\n",
    "    global temp_t3_kelvin\n",
    "    print('temperature in Fahrenheit was:', temp_t3_fahr)\n",
    "    print('temperature in Kelvin was:', temp_t3_kelvin)\n",
    "    temp_t3_fahr = 0\n",
    "    temp_t3_kelvin = 5\n",
    "\n",
    "temp_t3_fahr = 212.0\n",
    "temp_t3_kelvin = fahr_to_kelvin(temp_t3_fahr)\n",
    "\n",
    "print_temperatures()\n",
    "\n",
    "print('temperature in Fahrenheit was:', temp_t3_fahr)\n",
    "print('temperature in Kelvin was:', temp_t3_kelvin)"
   ]
  },
  {
   "cell_type": "markdown",
   "id": "8c6ba0d3-6846-425f-ba1d-c76164179c68",
   "metadata": {
    "slideshow": {
     "slide_type": "slide"
    },
    "tags": [
     "breakout"
    ]
   },
   "source": [
    "### example and exercise: Tidying up"
   ]
  },
  {
   "cell_type": "code",
   "execution_count": 5,
   "id": "dc91f08c-5ca5-44ff-8eb3-1edd3db39329",
   "metadata": {
    "slideshow": {
     "slide_type": "subslide"
    },
    "tags": [
     "breakout"
    ]
   },
   "outputs": [],
   "source": [
    "import matplotlib\n",
    "import matplotlib.pyplot\n",
    "\n",
    "def visualize(filename):\n",
    "    data = numpy.loadtxt(fname=filename, delimiter=',')\n",
    "\n",
    "    fig = matplotlib.pyplot.figure(figsize=(10.0, 3.0))\n",
    "\n",
    "    axes1 = fig.add_subplot(1, 3, 1)\n",
    "    axes2 = fig.add_subplot(1, 3, 2)\n",
    "    axes3 = fig.add_subplot(1, 3, 3)\n",
    "\n",
    "    axes1.set_ylabel('average')\n",
    "    axes1.plot(numpy.mean(data, axis=0))\n",
    "\n",
    "    axes2.set_ylabel('max')\n",
    "    axes2.plot(numpy.max(data, axis=0))\n",
    "\n",
    "    axes3.set_ylabel('min')\n",
    "    axes3.plot(numpy.min(data, axis=0))\n",
    "\n",
    "    fig.tight_layout()\n",
    "    matplotlib.pyplot.show()"
   ]
  },
  {
   "cell_type": "code",
   "execution_count": 6,
   "id": "6b05625f-96aa-41fa-a298-2f07baa7db79",
   "metadata": {
    "slideshow": {
     "slide_type": "subslide"
    },
    "tags": [
     "breakout"
    ]
   },
   "outputs": [],
   "source": [
    "import numpy\n",
    "\n",
    "def detect_problems(filename):\n",
    "\n",
    "    data = numpy.loadtxt(fname=filename, delimiter=',')\n",
    "\n",
    "    if (numpy.max(data, axis=0)[0] == 0) \\\n",
    "        and (numpy.max(data, axis=0)[20] == 20):\n",
    "        print('Suspicious looking maxima!')\n",
    "    elif numpy.sum(numpy.min(data, axis=0)) == 0:\n",
    "        print('Minima add up to zero!')\n",
    "    else:\n",
    "        print('Seems OK!')"
   ]
  },
  {
   "cell_type": "markdown",
   "id": "ca3b54eb-1730-4914-b6eb-b300e1eba2c3",
   "metadata": {
    "slideshow": {
     "slide_type": "fragment"
    },
    "tags": [
     "breakout"
    ]
   },
   "source": [
    "call the above functions and observe the output\n",
    "\n",
    "share your code of the function calls"
   ]
  },
  {
   "cell_type": "code",
   "execution_count": null,
   "id": "f2b1eef6-ed70-462d-a3db-fefa5637e0ac",
   "metadata": {
    "slideshow": {
     "slide_type": "skip"
    },
    "tags": []
   },
   "outputs": [],
   "source": [
    "visualize('data/inflammation-01.csv')"
   ]
  },
  {
   "cell_type": "code",
   "execution_count": null,
   "id": "9d768a60-539c-4579-8564-76be9ef9103f",
   "metadata": {
    "slideshow": {
     "slide_type": "skip"
    },
    "tags": []
   },
   "outputs": [],
   "source": [
    "detect_problems('data/inflammation-01.csv')"
   ]
  },
  {
   "cell_type": "markdown",
   "id": "a12bf1b9-9a5c-4e5f-9fb5-ad5775df7731",
   "metadata": {
    "slideshow": {
     "slide_type": "slide"
    },
    "tags": [
     "breakout"
    ]
   },
   "source": [
    "### Testing and Documenting"
   ]
  },
  {
   "cell_type": "markdown",
   "id": "9423e1ec-a2df-487c-9fb4-5521bd36e55c",
   "metadata": {
    "slideshow": {
     "slide_type": "fragment"
    },
    "tags": [
     "breakout"
    ]
   },
   "source": [
    "> why do we need Testing and Documenting functions?"
   ]
  },
  {
   "cell_type": "markdown",
   "id": "e4984916-20db-4537-80b5-f1ae0872c0cf",
   "metadata": {
    "slideshow": {
     "slide_type": "fragment"
    },
    "tags": [
     "breakout"
    ]
   },
   "source": [
    "> how many tests did we do for temperature conversion?"
   ]
  },
  {
   "cell_type": "code",
   "execution_count": null,
   "id": "66c88e03-2647-4353-bdf8-6976544d3947",
   "metadata": {
    "slideshow": {
     "slide_type": "subslide"
    },
    "tags": [
     "breakout"
    ]
   },
   "outputs": [],
   "source": [
    "# example of documenting\n",
    "import numpy\n",
    "help(numpy.loadtxt)"
   ]
  },
  {
   "cell_type": "markdown",
   "id": "f545184a-5d94-43b6-9608-a4e86e925a2b",
   "metadata": {
    "slideshow": {
     "slide_type": "fragment"
    },
    "tags": [
     "plenum"
    ]
   },
   "source": [
    "> what are the key elements in function documentation ?"
   ]
  },
  {
   "cell_type": "code",
   "execution_count": 7,
   "id": "7b94cac1-66f9-4558-a86c-04656724ec39",
   "metadata": {
    "slideshow": {
     "slide_type": "subslide"
    },
    "tags": [
     "breakout"
    ]
   },
   "outputs": [],
   "source": [
    "def offset_mean(data, target_mean_value):\n",
    "    return (data - numpy.mean(data)) + target_mean_value"
   ]
  },
  {
   "cell_type": "markdown",
   "id": "07485a7f-797f-48f9-a75f-63da85a80bb0",
   "metadata": {
    "slideshow": {
     "slide_type": "fragment"
    },
    "tags": [
     "plenum"
    ]
   },
   "source": [
    "- how to properly test this function ?\n",
    "- how to properly document this function ?"
   ]
  },
  {
   "cell_type": "markdown",
   "id": "75b9c4de-2228-4f41-91b6-faa006a65a95",
   "metadata": {
    "slideshow": {
     "slide_type": "subslide"
    },
    "tags": [
     "plenum"
    ]
   },
   "source": [
    "write good tests\n",
    "\n",
    "- typical inputs and outputs\n",
    "- zeros (anomaly)\n",
    "- [mathematical induction](https://en.wikipedia.org/wiki/Mathematical_induction)"
   ]
  },
  {
   "cell_type": "code",
   "execution_count": 8,
   "id": "62393a48-eed2-4a59-b229-9269f892b1e8",
   "metadata": {
    "slideshow": {
     "slide_type": "subslide"
    },
    "tags": [
     "breakout"
    ]
   },
   "outputs": [
    {
     "name": "stdout",
     "output_type": "stream",
     "text": [
      "[[3. 3.]\n",
      " [3. 3.]]\n"
     ]
    }
   ],
   "source": [
    "import numpy\n",
    "z = numpy.zeros((2,2))\n",
    "print(offset_mean(z, 3))"
   ]
  },
  {
   "cell_type": "code",
   "execution_count": 9,
   "id": "17c937fa-2896-4757-977b-243a43efce70",
   "metadata": {
    "slideshow": {
     "slide_type": "subslide"
    },
    "tags": [
     "breakout"
    ]
   },
   "outputs": [
    {
     "name": "stdout",
     "output_type": "stream",
     "text": [
      "[ 7.37197482  4.53046699  1.65815119  8.34885875  9.88557394 -0.19459353\n",
      "  2.1489854   1.51151754] 4.407616888715739\n",
      "[12.96435794 10.12285011  7.25053431 13.94124186 15.47795705  5.39778958\n",
      "  7.74136851  7.10390065] 10.0\n"
     ]
    }
   ],
   "source": [
    "z2 = numpy.random.normal(3, 5, 8)\n",
    "offset_mean_z2 = offset_mean(z2, 10)\n",
    "print(z2, z2.mean())\n",
    "print(offset_mean_z2, offset_mean_z2.mean())"
   ]
  },
  {
   "cell_type": "code",
   "execution_count": 10,
   "id": "f6d3c2e6-55ba-4d46-9ca7-ff25279a93c8",
   "metadata": {
    "slideshow": {
     "slide_type": "subslide"
    },
    "tags": [
     "breakout"
    ]
   },
   "outputs": [
    {
     "name": "stdout",
     "output_type": "stream",
     "text": [
      "mean of data 6.14875\n",
      "mean of offset data 10.0\n"
     ]
    }
   ],
   "source": [
    "data = numpy.loadtxt(fname='data/inflammation-01.csv', delimiter=',')\n",
    "print('mean of data', data.mean())\n",
    "offset_data = offset_mean(data, 10)\n",
    "print('mean of offset data', offset_data.mean())"
   ]
  },
  {
   "cell_type": "markdown",
   "id": "1a17d0ce-fcf1-40ab-9d68-0f7b108ef796",
   "metadata": {
    "slideshow": {
     "slide_type": "fragment"
    },
    "tags": [
     "breakout"
    ]
   },
   "source": [
    "observe and compare the values in data and offset_data\n",
    "\n",
    "> share your code of the comparison"
   ]
  },
  {
   "cell_type": "code",
   "execution_count": 11,
   "id": "e148bc92-c15b-4248-b7b6-2fec65f967c9",
   "metadata": {
    "slideshow": {
     "slide_type": "subslide"
    },
    "tags": [
     "breakout"
    ]
   },
   "outputs": [
    {
     "name": "stdout",
     "output_type": "stream",
     "text": [
      "[[0. 0. 1.]\n",
      " [0. 1. 2.]\n",
      " [0. 1. 1.]]\n",
      "[[3.85125 3.85125 4.85125]\n",
      " [3.85125 4.85125 5.85125]\n",
      " [3.85125 4.85125 4.85125]]\n"
     ]
    }
   ],
   "source": [
    "print(data[0:3, 0:3])\n",
    "print(offset_data[0:3, 0:3])"
   ]
  },
  {
   "cell_type": "markdown",
   "id": "9b15f541-f844-4050-8ae1-143a3ed56928",
   "metadata": {
    "slideshow": {
     "slide_type": "slide"
    },
    "tags": [
     "breakout"
    ]
   },
   "source": [
    "> how to document a function"
   ]
  },
  {
   "cell_type": "markdown",
   "id": "f7801949-cf44-47b2-8c09-3cc0469e24fd",
   "metadata": {
    "slideshow": {
     "slide_type": "fragment"
    },
    "tags": [
     "breakout"
    ]
   },
   "source": [
    "- write comments ?\n",
    "- write docstring"
   ]
  },
  {
   "cell_type": "code",
   "execution_count": 12,
   "id": "f3ed2a05-1b1e-45ce-ae9d-e3fdb07fb628",
   "metadata": {
    "slideshow": {
     "slide_type": "subslide"
    },
    "tags": [
     "breakout"
    ]
   },
   "outputs": [
    {
     "name": "stdout",
     "output_type": "stream",
     "text": [
      "Help on function offset_mean in module __main__:\n",
      "\n",
      "offset_mean(data, target_mean_value)\n",
      "    Return a new array containing the original data\n",
      "       with its mean offset to match the desired value.\n",
      "    \n",
      "    Examples\n",
      "    --------\n",
      "    >>> offset_mean([1, 2, 3], 0)\n",
      "    array([-1.,  0.,  1.])\n",
      "\n"
     ]
    }
   ],
   "source": [
    "def offset_mean(data, target_mean_value):\n",
    "    \"\"\"Return a new array containing the original data\n",
    "       with its mean offset to match the desired value.\n",
    "\n",
    "    Examples\n",
    "    --------\n",
    "    >>> offset_mean([1, 2, 3], 0)\n",
    "    array([-1.,  0.,  1.])\n",
    "    \"\"\"\n",
    "    return (data - numpy.mean(data)) + target_mean_value\n",
    "\n",
    "help(offset_mean)"
   ]
  },
  {
   "cell_type": "markdown",
   "id": "29ddd511-fc68-4459-b9a4-9ef13f631827",
   "metadata": {
    "slideshow": {
     "slide_type": "subslide"
    },
    "tags": []
   },
   "source": [
    "> Python’s built-in help system"
   ]
  },
  {
   "cell_type": "markdown",
   "id": "d087eab0-48c9-438f-8807-da0dfab1c908",
   "metadata": {
    "slideshow": {
     "slide_type": "slide"
    },
    "tags": [
     "breakout"
    ]
   },
   "source": [
    "### Defining Defaults\n",
    "\n",
    "Default input parameters\n",
    "\n",
    "- observe `Parameters` in `help(numpy.loadtxt)`\n",
    "- compare the difference between `fname` and `delimiter`"
   ]
  },
  {
   "cell_type": "markdown",
   "id": "27ce99b5-7c37-4169-a6be-e33edda9d4ea",
   "metadata": {
    "slideshow": {
     "slide_type": "subslide"
    },
    "tags": []
   },
   "source": [
    "example\n",
    "\n",
    "- fname : file, str, pathlib.Path, list of str, generator\n",
    "        File, filename, list, or generator to read.  If the filename\n",
    "        extension is ``.gz`` or ``.bz2``, the file is first decompressed. Note\n",
    "        that generators must return bytes or strings. The strings\n",
    "        in a list or produced by a generator are treated as lines.\n",
    "\n",
    "- delimiter : str, optional\n",
    "        The string used to separate values. For backwards compatibility, byte\n",
    "        strings will be decoded as 'latin1'. The default is whitespace."
   ]
  },
  {
   "cell_type": "markdown",
   "id": "3dad5401-144a-4e0b-899d-67e518bb237b",
   "metadata": {
    "slideshow": {
     "slide_type": "fragment"
    },
    "tags": [
     "breakout"
    ]
   },
   "source": [
    "test with `numpy.loadtxt`"
   ]
  },
  {
   "cell_type": "code",
   "execution_count": 13,
   "id": "cf7ab7b2-2d89-46f4-af5c-1040671477dc",
   "metadata": {
    "slideshow": {
     "slide_type": "subslide"
    },
    "tags": [
     "breakout"
    ]
   },
   "outputs": [
    {
     "data": {
      "text/plain": [
       "array([[0., 0., 1., ..., 3., 0., 0.],\n",
       "       [0., 1., 2., ..., 1., 0., 1.],\n",
       "       [0., 1., 1., ..., 2., 1., 1.],\n",
       "       ...,\n",
       "       [0., 1., 1., ..., 1., 1., 1.],\n",
       "       [0., 0., 0., ..., 0., 2., 0.],\n",
       "       [0., 0., 1., ..., 1., 1., 0.]])"
      ]
     },
     "execution_count": 13,
     "metadata": {},
     "output_type": "execute_result"
    }
   ],
   "source": [
    "numpy.loadtxt('data/inflammation-01.csv', delimiter=',')"
   ]
  },
  {
   "cell_type": "code",
   "execution_count": 14,
   "id": "b70c7858-1487-45ab-9ef5-0ff20d956ad1",
   "metadata": {
    "slideshow": {
     "slide_type": "subslide"
    },
    "tags": []
   },
   "outputs": [
    {
     "ename": "SyntaxError",
     "evalue": "unexpected EOF while parsing (<unknown>, line 1)",
     "output_type": "error",
     "traceback": [
      "Traceback \u001b[0;36m(most recent call last)\u001b[0m:\n",
      "  File \u001b[1;32m~/mambaforge/lib/python3.9/site-packages/IPython/core/interactiveshell.py:3369\u001b[0m in \u001b[1;35mrun_code\u001b[0m\n    exec(code_obj, self.user_global_ns, self.user_ns)\n",
      "  Input \u001b[1;32mIn [14]\u001b[0m in \u001b[1;35m<cell line: 1>\u001b[0m\n    numpy.loadtxt('data/inflammation-01.csv', ',')\n",
      "  File \u001b[1;32m~/mambaforge/lib/python3.9/site-packages/numpy/lib/npyio.py:1032\u001b[0m in \u001b[1;35mloadtxt\u001b[0m\n    dtype = np.dtype(dtype)\n",
      "  File \u001b[1;32m~/mambaforge/lib/python3.9/site-packages/numpy/core/_internal.py:200\u001b[0m in \u001b[1;35m_commastring\u001b[0m\n    newitem = (dtype, ast.literal_eval(repeats))\n",
      "  File \u001b[1;32m~/mambaforge/lib/python3.9/ast.py:62\u001b[0m in \u001b[1;35mliteral_eval\u001b[0m\n    node_or_string = parse(node_or_string, mode='eval')\n",
      "\u001b[0;36m  File \u001b[0;32m~/mambaforge/lib/python3.9/ast.py:50\u001b[0;36m in \u001b[0;35mparse\u001b[0;36m\u001b[0m\n\u001b[0;31m    return compile(source, filename, mode, flags,\u001b[0m\n",
      "\u001b[0;36m  File \u001b[0;32m<unknown>:1\u001b[0;36m\u001b[0m\n\u001b[0;31m    ,\u001b[0m\n\u001b[0m    ^\u001b[0m\n\u001b[0;31mSyntaxError\u001b[0m\u001b[0;31m:\u001b[0m unexpected EOF while parsing\n"
     ]
    }
   ],
   "source": [
    "numpy.loadtxt('data/inflammation-01.csv', ',')"
   ]
  },
  {
   "cell_type": "markdown",
   "id": "8c30dee4-73cf-4dc5-9eed-25dbba5643f9",
   "metadata": {
    "slideshow": {
     "slide_type": "slide"
    },
    "tags": []
   },
   "source": [
    "how to define a function that takes default parameter values"
   ]
  },
  {
   "cell_type": "code",
   "execution_count": 15,
   "id": "d679e10b-11b3-4c66-afef-145df26c8523",
   "metadata": {
    "slideshow": {
     "slide_type": "subslide"
    },
    "tags": []
   },
   "outputs": [
    {
     "name": "stdout",
     "output_type": "stream",
     "text": [
      "[[3. 3.]\n",
      " [3. 3.]]\n"
     ]
    }
   ],
   "source": [
    "def offset_mean(data, target_mean_value=0.0):\n",
    "    \"\"\"Return a new array containing the original data\n",
    "       with its mean offset to match the desired value, (0 by default).\n",
    "\n",
    "    Examples\n",
    "    --------\n",
    "    >>> offset_mean([1, 2, 3])\n",
    "    array([-1.,  0.,  1.])\n",
    "    \"\"\"\n",
    "    return (data - numpy.mean(data)) + target_mean_value\n",
    "\n",
    "test_data = numpy.zeros((2, 2))\n",
    "print(offset_mean(test_data, 3))"
   ]
  },
  {
   "cell_type": "markdown",
   "id": "44c32a45-d9b8-4fa5-a071-8a5750cd411d",
   "metadata": {
    "slideshow": {
     "slide_type": "skip"
    },
    "tags": []
   },
   "source": []
  },
  {
   "cell_type": "code",
   "execution_count": 16,
   "id": "2d891000-a0ff-4952-9b16-8ae253f076ee",
   "metadata": {
    "slideshow": {
     "slide_type": "subslide"
    },
    "tags": []
   },
   "outputs": [
    {
     "name": "stdout",
     "output_type": "stream",
     "text": [
      "no parameters:\n",
      "a: 1 b: 2 c: 3\n",
      "one parameter:\n",
      "a: 55 b: 2 c: 3\n",
      "two parameters:\n",
      "a: 55 b: 66 c: 3\n"
     ]
    }
   ],
   "source": [
    "def display(a=1, b=2, c=3):\n",
    "    print('a:', a, 'b:', b, 'c:', c)\n",
    "\n",
    "print('no parameters:')\n",
    "display()\n",
    "print('one parameter:')\n",
    "display(55)\n",
    "print('two parameters:')\n",
    "display(55, 66)"
   ]
  },
  {
   "cell_type": "code",
   "execution_count": 17,
   "id": "db24797e-9017-4409-b0b9-797cee273cd9",
   "metadata": {
    "slideshow": {
     "slide_type": "subslide"
    },
    "tags": []
   },
   "outputs": [
    {
     "name": "stdout",
     "output_type": "stream",
     "text": [
      "only setting the value of c\n",
      "a: 1 b: 2 c: 77\n"
     ]
    }
   ],
   "source": [
    "print('only setting the value of c')\n",
    "display(c=77)"
   ]
  },
  {
   "cell_type": "code",
   "execution_count": null,
   "id": "d5c697b5-41fb-49fe-bbcc-d4460905a660",
   "metadata": {
    "slideshow": {
     "slide_type": "subslide"
    },
    "tags": [
     "breakout"
    ]
   },
   "outputs": [],
   "source": [
    "import matplotlib.pyplot as plt\n",
    "help(plt.plot)"
   ]
  },
  {
   "cell_type": "code",
   "execution_count": 18,
   "id": "55c464f5-2e98-4a3f-83bb-2f191e8b2bfd",
   "metadata": {
    "slideshow": {
     "slide_type": "subslide"
    },
    "tags": [
     "breakout"
    ]
   },
   "outputs": [
    {
     "name": "stdout",
     "output_type": "stream",
     "text": [
      "--------------------------------------------------\n",
      "1\n",
      "2\n",
      "3\n",
      "--------------------------------------------------\n",
      "--------------------------------------------------\n",
      "1\n",
      "2\n",
      "3\n",
      "4\n",
      "5\n",
      "6\n",
      "7\n",
      "--------------------------------------------------\n"
     ]
    }
   ],
   "source": [
    "def print_a_list(*args):\n",
    "    print('-----'*10)\n",
    "    for item in args:\n",
    "        print(item)\n",
    "    print('-----'*10)\n",
    "\n",
    "print_a_list(1,2,3)\n",
    "print_a_list(1,2,3,4,5,6,7)"
   ]
  },
  {
   "cell_type": "code",
   "execution_count": 19,
   "id": "619a154e-74ca-41bf-bda8-533062aeb6e2",
   "metadata": {
    "slideshow": {
     "slide_type": "subslide"
    },
    "tags": [
     "breakout"
    ]
   },
   "outputs": [
    {
     "name": "stdout",
     "output_type": "stream",
     "text": [
      "--------------------------------------------------\n",
      "this 1\n",
      "that 2\n",
      "--------------------------------------------------\n",
      "--------------------------------------------------\n",
      "x 1\n",
      "y 2\n",
      "z 3\n",
      "--------------------------------------------------\n"
     ]
    }
   ],
   "source": [
    "def print_a_list(**kwargs):\n",
    "    print('-----'*10)\n",
    "    for key in kwargs:\n",
    "        print(key, kwargs[key])\n",
    "    print('-----'*10)\n",
    "\n",
    "print_a_list(this=1, that=2)\n",
    "print_a_list(x=1,y=2,z=3)"
   ]
  },
  {
   "cell_type": "markdown",
   "id": "c6fd7d76-6b26-4d6e-b385-7c3b9abcd5f5",
   "metadata": {
    "slideshow": {
     "slide_type": "slide"
    },
    "tags": [
     "breakout"
    ]
   },
   "source": [
    "### exercise: Selecting Characters From Strings\n",
    "\n",
    "If the variable `s` refers to a string, then `s[0]` is the string’s first character and `s[-1]` is its last. Write a function called `outer` that returns a string made up of just the first and last characters of its input. A call to your function should look like this:\n",
    "\n",
    "``` python\n",
    "# given a function call of outer\n",
    "print(outer('helium'))\n",
    "# should output hm\n",
    "```"
   ]
  },
  {
   "cell_type": "code",
   "execution_count": 20,
   "id": "be9fb945-1eb4-41f8-a5f3-eed202b19f8f",
   "metadata": {
    "slideshow": {
     "slide_type": "subslide"
    },
    "tags": [
     "breakout"
    ]
   },
   "outputs": [
    {
     "name": "stdout",
     "output_type": "stream",
     "text": [
      "hm\n"
     ]
    }
   ],
   "source": [
    "def outer(input_string):\n",
    "    return input_string[0] + input_string[-1]\n",
    "\n",
    "# given a function call of outer\n",
    "print(outer('helium'))\n",
    "# should output hm"
   ]
  },
  {
   "cell_type": "markdown",
   "id": "1e676580-1695-415c-8227-66f8c18b2929",
   "metadata": {
    "slideshow": {
     "slide_type": "slide"
    },
    "tags": [
     "breakout"
    ]
   },
   "source": [
    "### exercise: Rescaling an Array\n",
    "\n",
    "Write a function `rescale` that takes an array as input and returns a corresponding array of values scaled to lie in the range 0.0 to 1.0. (Hint: If `L` and `H` are the lowest and highest values in the original array, then the replacement for a value `v` should be `(v-L) / (H-L)`.)"
   ]
  },
  {
   "cell_type": "code",
   "execution_count": 21,
   "id": "57c167e8-a1f2-418b-bbda-d2e9ae15296e",
   "metadata": {
    "slideshow": {
     "slide_type": "subslide"
    },
    "tags": [
     "breakout"
    ]
   },
   "outputs": [],
   "source": [
    "def rescale(input_array):\n",
    "    \"\"\"Takes an array as input, and returns a corresponding array \n",
    "    scaled so that 0 corresponds to the minimum and 1 to \n",
    "    the maximum value of the input array.\n",
    "\n",
    "    Examples:\n",
    "    >>> rescale(numpy.arange(10.0))\n",
    "    array([ 0.        ,  0.11111111,  0.22222222,  0.33333333,  \n",
    "            0.44444444,\n",
    "           0.55555556,  0.66666667,  0.77777778,  0.88888889,  \n",
    "           1.        ])\n",
    "    >>> rescale(numpy.linspace(0, 100, 5))\n",
    "    array([ 0.  ,  0.25,  0.5 ,  0.75,  1.  ])\n",
    "    \"\"\"\n",
    "    L = numpy.min(input_array)\n",
    "    H = numpy.max(input_array)\n",
    "    output_array = (input_array - L) / (H - L)\n",
    "    return output_array"
   ]
  },
  {
   "cell_type": "code",
   "execution_count": 22,
   "id": "6cc03a58-7836-4b9c-ad72-98fbb8f6320a",
   "metadata": {
    "slideshow": {
     "slide_type": "subslide"
    },
    "tags": [
     "breakout"
    ]
   },
   "outputs": [
    {
     "name": "stdout",
     "output_type": "stream",
     "text": [
      "Help on function rescale in module __main__:\n",
      "\n",
      "rescale(input_array)\n",
      "    Takes an array as input, and returns a corresponding array \n",
      "    scaled so that 0 corresponds to the minimum and 1 to \n",
      "    the maximum value of the input array.\n",
      "    \n",
      "    Examples:\n",
      "    >>> rescale(numpy.arange(10.0))\n",
      "    array([ 0.        ,  0.11111111,  0.22222222,  0.33333333,  \n",
      "            0.44444444,\n",
      "           0.55555556,  0.66666667,  0.77777778,  0.88888889,  \n",
      "           1.        ])\n",
      "    >>> rescale(numpy.linspace(0, 100, 5))\n",
      "    array([ 0.  ,  0.25,  0.5 ,  0.75,  1.  ])\n",
      "\n"
     ]
    }
   ],
   "source": [
    "help(rescale)"
   ]
  },
  {
   "cell_type": "markdown",
   "id": "2e63eaca-b738-4609-ab44-c074faa5d81a",
   "metadata": {
    "slideshow": {
     "slide_type": "slide"
    },
    "tags": [
     "breakout"
    ]
   },
   "source": [
    "### exercise: Variables Inside and Outside Functions\n",
    "\n",
    "What does the following piece of code display when run — and why?"
   ]
  },
  {
   "cell_type": "code",
   "execution_count": 23,
   "id": "fd982e10-9af4-49c1-bd0d-76412bfec910",
   "metadata": {
    "slideshow": {
     "slide_type": "subslide"
    },
    "tags": [
     "breakout"
    ]
   },
   "outputs": [
    {
     "name": "stdout",
     "output_type": "stream",
     "text": [
      "259.81666666666666\n",
      "278.15\n",
      "273.15\n",
      "0\n"
     ]
    }
   ],
   "source": [
    "f = 0\n",
    "k = 0\n",
    "\n",
    "def f2k(f):\n",
    "    k = ((f - 32) * (5.0 / 9.0)) + 273.15\n",
    "    return k\n",
    "\n",
    "print(f2k(8))\n",
    "print(f2k(41))\n",
    "print(f2k(32))\n",
    "\n",
    "print(k)"
   ]
  },
  {
   "cell_type": "markdown",
   "id": "9f02c733-7574-4698-9f1c-7a465a48dcf0",
   "metadata": {
    "slideshow": {
     "slide_type": "slide"
    },
    "tags": [
     "breakout"
    ]
   },
   "source": [
    "### exercise: Mixing Default and Non-Default Parameters"
   ]
  },
  {
   "cell_type": "code",
   "execution_count": 24,
   "id": "4160a32e-454b-4f99-a292-1831b0028f81",
   "metadata": {
    "slideshow": {
     "slide_type": "subslide"
    },
    "tags": [
     "breakout"
    ]
   },
   "outputs": [
    {
     "ename": "SyntaxError",
     "evalue": "non-default argument follows default argument (2203058596.py, line 1)",
     "output_type": "error",
     "traceback": [
      "\u001b[0;36m  Input \u001b[0;32mIn [24]\u001b[0;36m\u001b[0m\n\u001b[0;31m    def numbers(one, two=2, three, four=4):\u001b[0m\n\u001b[0m                                   ^\u001b[0m\n\u001b[0;31mSyntaxError\u001b[0m\u001b[0;31m:\u001b[0m non-default argument follows default argument\n"
     ]
    }
   ],
   "source": [
    "def numbers(one, two=2, three, four=4):\n",
    "    n = str(one) + str(two) + str(three) + str(four)\n",
    "    return n\n",
    "\n",
    "print(numbers(1, three=3))"
   ]
  }
 ],
 "metadata": {
  "kernelspec": {
   "display_name": "Python 3 (ipykernel)",
   "language": "python",
   "name": "python3"
  },
  "language_info": {
   "codemirror_mode": {
    "name": "ipython",
    "version": 3
   },
   "file_extension": ".py",
   "mimetype": "text/x-python",
   "name": "python",
   "nbconvert_exporter": "python",
   "pygments_lexer": "ipython3",
   "version": "3.9.12"
  }
 },
 "nbformat": 4,
 "nbformat_minor": 5
}
