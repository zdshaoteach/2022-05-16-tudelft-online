{
 "cells": [
  {
   "cell_type": "markdown",
   "id": "05cca176-55d8-4976-9ec1-2860580d1de5",
   "metadata": {
    "slideshow": {
     "slide_type": "slide"
    },
    "tags": [
     "plenum"
    ]
   },
   "source": [
    "# Python 08 Creating Functions"
   ]
  },
  {
   "cell_type": "markdown",
   "id": "22b7f8f5-7884-4298-8925-5dd167373d3f",
   "metadata": {
    "tags": [
     "plenum"
    ]
   },
   "source": [
    "- duration: 30 mins\n",
    "- define and call functions"
   ]
  },
  {
   "cell_type": "markdown",
   "id": "b309dba3-a39a-415c-8875-201261c3879e",
   "metadata": {
    "slideshow": {
     "slide_type": "slide"
    },
    "tags": [
     "plenum"
    ]
   },
   "source": [
    "### syntax\n",
    "\n",
    "``` python\n",
    "def function_no_return(parameter1, parameter2, ...): \n",
    "    ... # do something\n",
    "    #return None\n",
    "    \n",
    "def function_one_return(parameter1, parameter2, ...): \n",
    "    ... # do something\n",
    "    return value\n",
    "\n",
    "def function_multiple_return(parameter1, parameter2, ...): \n",
    "    ... # do something\n",
    "    return value1, value2, ...\n",
    "```"
   ]
  },
  {
   "cell_type": "code",
   "execution_count": 1,
   "id": "5eca62be-2f25-4aef-96e7-bcd63c2cbf58",
   "metadata": {
    "slideshow": {
     "slide_type": "subslide"
    },
    "tags": [
     "plenum"
    ]
   },
   "outputs": [],
   "source": [
    "### a simple example\n",
    "def fahr_to_celsius(temp):\n",
    "    return ((temp - 32) * (5/9))"
   ]
  },
  {
   "cell_type": "markdown",
   "id": "0bdc0781-03ac-4a0e-bcfa-c8eee2167a12",
   "metadata": {
    "slideshow": {
     "slide_type": "fragment"
    },
    "tags": [
     "plenum"
    ]
   },
   "source": [
    "![python-function](https://swcarpentry.github.io/python-novice-inflammation/fig/python-function.svg)"
   ]
  },
  {
   "cell_type": "markdown",
   "id": "b2f615a6-b01a-4b53-a753-cddecbe44613",
   "metadata": {
    "slideshow": {
     "slide_type": "fragment"
    },
    "tags": [
     "plenum"
    ]
   },
   "source": [
    "### question\n",
    "- what happened after we define a function?\n",
    "- what did not happen after the defination of a function?"
   ]
  },
  {
   "cell_type": "code",
   "execution_count": 2,
   "id": "38af5753-2534-4b7b-9cbb-df07c7a00d87",
   "metadata": {
    "slideshow": {
     "slide_type": "skip"
    },
    "tags": [
     "plenum"
    ]
   },
   "outputs": [
    {
     "name": "stdout",
     "output_type": "stream",
     "text": [
      "freezing point of water: 0.0 C\n",
      "boiling point of water: 100.0 C\n"
     ]
    }
   ],
   "source": [
    "print('freezing point of water:', fahr_to_celsius(32), 'C')\n",
    "print('boiling point of water:', fahr_to_celsius(212), 'C')"
   ]
  },
  {
   "cell_type": "markdown",
   "id": "4b7b2216-dd26-458b-bf78-003861718ad0",
   "metadata": {
    "slideshow": {
     "slide_type": "slide"
    },
    "tags": [
     "plenum"
    ]
   },
   "source": [
    "### example and exercise: Composing Functions\n",
    "\n",
    "convert temprature units"
   ]
  },
  {
   "cell_type": "code",
   "execution_count": 3,
   "id": "10672a49-6322-4fc1-880e-46cafb5693ca",
   "metadata": {
    "slideshow": {
     "slide_type": "fragment"
    },
    "tags": [
     "plenum"
    ]
   },
   "outputs": [
    {
     "name": "stdout",
     "output_type": "stream",
     "text": [
      "freezing point of water in Kelvin: 273.15\n"
     ]
    }
   ],
   "source": [
    "def celsius_to_kelvin(temp_c):\n",
    "    return temp_c + 273.15\n",
    "\n",
    "print('freezing point of water in Kelvin:', celsius_to_kelvin(0.))"
   ]
  },
  {
   "cell_type": "markdown",
   "id": "f71f14aa-b824-460c-a193-442bfa33408e",
   "metadata": {
    "tags": [
     "plenum"
    ]
   },
   "source": [
    "write a function to convert Fahrenheit to Kelvin"
   ]
  },
  {
   "cell_type": "markdown",
   "id": "7fec30b7-4132-4cbb-aa8e-d8d4cd475e2f",
   "metadata": {
    "slideshow": {
     "slide_type": "fragment"
    },
    "tags": []
   },
   "source": [
    "change the value of num to print out all code branches"
   ]
  },
  {
   "cell_type": "code",
   "execution_count": 4,
   "id": "355497e9-6524-425a-8dcd-8c3c3d96b188",
   "metadata": {
    "slideshow": {
     "slide_type": "subslide"
    },
    "tags": [
     "plenum"
    ]
   },
   "outputs": [
    {
     "name": "stdout",
     "output_type": "stream",
     "text": [
      "boiling point of water in Kelvin: 373.15\n"
     ]
    }
   ],
   "source": [
    "def fahr_to_kelvin(temp_f):\n",
    "    temp_c = fahr_to_celsius(temp_f)\n",
    "    temp_k = celsius_to_kelvin(temp_c)\n",
    "    return temp_k\n",
    "\n",
    "print('boiling point of water in Kelvin:', fahr_to_kelvin(212.0))"
   ]
  },
  {
   "cell_type": "markdown",
   "id": "6632da4f-5ba4-4bd3-985f-c54abd4ce92f",
   "metadata": {
    "slideshow": {
     "slide_type": "fragment"
    },
    "tags": []
   },
   "source": [
    "test this function with other choices of input parameters"
   ]
  },
  {
   "cell_type": "markdown",
   "id": "debffa35-998a-45f0-8434-3dbeb79acdd1",
   "metadata": {
    "slideshow": {
     "slide_type": "slide"
    },
    "tags": [
     "plenum"
    ]
   },
   "source": [
    "### Variable Scope"
   ]
  },
  {
   "cell_type": "code",
   "execution_count": 5,
   "id": "629445af-ea0d-464c-81b7-ad5d02f95a16",
   "metadata": {
    "slideshow": {
     "slide_type": "fragment"
    },
    "tags": [
     "plenum"
    ]
   },
   "outputs": [
    {
     "ename": "NameError",
     "evalue": "name 'temp_k' is not defined",
     "output_type": "error",
     "traceback": [
      "\u001b[0;31m---------------------------------------------------------------------------\u001b[0m",
      "\u001b[0;31mNameError\u001b[0m                                 Traceback (most recent call last)",
      "Input \u001b[0;32mIn [5]\u001b[0m, in \u001b[0;36m<cell line: 1>\u001b[0;34m()\u001b[0m\n\u001b[0;32m----> 1\u001b[0m \u001b[38;5;28mprint\u001b[39m(\u001b[38;5;124m'\u001b[39m\u001b[38;5;124mAgain, temperature in Kelvin was:\u001b[39m\u001b[38;5;124m'\u001b[39m, \u001b[43mtemp_k\u001b[49m)\n",
      "\u001b[0;31mNameError\u001b[0m: name 'temp_k' is not defined"
     ]
    }
   ],
   "source": [
    "print('Again, temperature in Kelvin was:', temp_k)"
   ]
  },
  {
   "cell_type": "code",
   "execution_count": 7,
   "id": "f3510f8c-4cc9-45cf-8a42-b3d75c5ed07e",
   "metadata": {
    "slideshow": {
     "slide_type": "fragment"
    },
    "tags": [
     "plenum"
    ]
   },
   "outputs": [
    {
     "ename": "NameError",
     "evalue": "name 'temp_f' is not defined",
     "output_type": "error",
     "traceback": [
      "\u001b[0;31m---------------------------------------------------------------------------\u001b[0m",
      "\u001b[0;31mNameError\u001b[0m                                 Traceback (most recent call last)",
      "Input \u001b[0;32mIn [7]\u001b[0m, in \u001b[0;36m<cell line: 1>\u001b[0;34m()\u001b[0m\n\u001b[0;32m----> 1\u001b[0m \u001b[38;5;28mprint\u001b[39m(\u001b[38;5;124m'\u001b[39m\u001b[38;5;124mAgain, temperature in Fahrenheit was:\u001b[39m\u001b[38;5;124m'\u001b[39m, \u001b[43mtemp_f\u001b[49m)\n",
      "\u001b[0;31mNameError\u001b[0m: name 'temp_f' is not defined"
     ]
    }
   ],
   "source": [
    "print('Again, temperature in Fahrenheit was:', temp_f)"
   ]
  },
  {
   "cell_type": "code",
   "execution_count": 6,
   "id": "d5eee634-31eb-402d-8d05-0b7009400f8e",
   "metadata": {
    "slideshow": {
     "slide_type": "fragment"
    },
    "tags": [
     "plenum"
    ]
   },
   "outputs": [
    {
     "ename": "NameError",
     "evalue": "name 'temp_c' is not defined",
     "output_type": "error",
     "traceback": [
      "\u001b[0;31m---------------------------------------------------------------------------\u001b[0m",
      "\u001b[0;31mNameError\u001b[0m                                 Traceback (most recent call last)",
      "Input \u001b[0;32mIn [6]\u001b[0m, in \u001b[0;36m<cell line: 1>\u001b[0;34m()\u001b[0m\n\u001b[0;32m----> 1\u001b[0m \u001b[38;5;28mprint\u001b[39m(\u001b[38;5;124m'\u001b[39m\u001b[38;5;124mAgain, temperature in Celsius was:\u001b[39m\u001b[38;5;124m'\u001b[39m, \u001b[43mtemp_c\u001b[49m)\n",
      "\u001b[0;31mNameError\u001b[0m: name 'temp_c' is not defined"
     ]
    }
   ],
   "source": [
    "print('Again, temperature in Celsius was:', temp_c)"
   ]
  },
  {
   "cell_type": "code",
   "execution_count": 8,
   "id": "4e342f41-03b7-43c3-aa5e-752bb04edcf8",
   "metadata": {
    "slideshow": {
     "slide_type": "fragment"
    },
    "tags": [
     "plenum"
    ]
   },
   "outputs": [
    {
     "name": "stdout",
     "output_type": "stream",
     "text": [
      "temperature in Kelvin was: 373.15\n"
     ]
    }
   ],
   "source": [
    "temp_kelvin = fahr_to_kelvin(212.0)\n",
    "print('temperature in Kelvin was:', temp_kelvin)"
   ]
  },
  {
   "cell_type": "code",
   "execution_count": 16,
   "id": "d36a98b3-fbdd-4127-8849-19377b781131",
   "metadata": {
    "slideshow": {
     "slide_type": "subslide"
    },
    "tags": [
     "plenum"
    ]
   },
   "outputs": [
    {
     "ename": "UnboundLocalError",
     "evalue": "local variable 'temp_t1_fahr' referenced before assignment",
     "output_type": "error",
     "traceback": [
      "\u001b[0;31m---------------------------------------------------------------------------\u001b[0m",
      "\u001b[0;31mUnboundLocalError\u001b[0m                         Traceback (most recent call last)",
      "Input \u001b[0;32mIn [16]\u001b[0m, in \u001b[0;36m<cell line: 12>\u001b[0;34m()\u001b[0m\n\u001b[1;32m      9\u001b[0m temp_t1_fahr \u001b[38;5;241m=\u001b[39m \u001b[38;5;241m212.0\u001b[39m\n\u001b[1;32m     10\u001b[0m temp_t1_kelvin \u001b[38;5;241m=\u001b[39m fahr_to_kelvin(temp_t1_fahr)\n\u001b[0;32m---> 12\u001b[0m \u001b[43mprint_temperatures\u001b[49m\u001b[43m(\u001b[49m\u001b[43m)\u001b[49m\n\u001b[1;32m     14\u001b[0m \u001b[38;5;28mprint\u001b[39m(\u001b[38;5;124m'\u001b[39m\u001b[38;5;124mtemperature in Fahrenheit was:\u001b[39m\u001b[38;5;124m'\u001b[39m, temp_t1_fahr)\n\u001b[1;32m     15\u001b[0m \u001b[38;5;28mprint\u001b[39m(\u001b[38;5;124m'\u001b[39m\u001b[38;5;124mtemperature in Kelvin was:\u001b[39m\u001b[38;5;124m'\u001b[39m, temp_t1_kelvin)\n",
      "Input \u001b[0;32mIn [16]\u001b[0m, in \u001b[0;36mprint_temperatures\u001b[0;34m()\u001b[0m\n\u001b[1;32m      3\u001b[0m \u001b[38;5;28;01mdef\u001b[39;00m \u001b[38;5;21mprint_temperatures\u001b[39m():\n\u001b[0;32m----> 4\u001b[0m     \u001b[38;5;28mprint\u001b[39m(\u001b[38;5;124m'\u001b[39m\u001b[38;5;124mtemperature in Fahrenheit was:\u001b[39m\u001b[38;5;124m'\u001b[39m, \u001b[43mtemp_t1_fahr\u001b[49m)\n\u001b[1;32m      5\u001b[0m     \u001b[38;5;28mprint\u001b[39m(\u001b[38;5;124m'\u001b[39m\u001b[38;5;124mtemperature in Kelvin was:\u001b[39m\u001b[38;5;124m'\u001b[39m, temp_t1_kelvin)\n\u001b[1;32m      6\u001b[0m     temp_t1_fahr \u001b[38;5;241m=\u001b[39m \u001b[38;5;241m0\u001b[39m\n",
      "\u001b[0;31mUnboundLocalError\u001b[0m: local variable 'temp_t1_fahr' referenced before assignment"
     ]
    }
   ],
   "source": [
    "# can this code block run ?\n",
    "\n",
    "def print_temperatures():\n",
    "    print('temperature in Fahrenheit was:', temp_t1_fahr)\n",
    "    print('temperature in Kelvin was:', temp_t1_kelvin)\n",
    "    temp_t1_fahr = 0\n",
    "    temp_t1_kelvin = 5\n",
    "\n",
    "temp_t1_fahr = 212.0\n",
    "temp_t1_kelvin = fahr_to_kelvin(temp_t1_fahr)\n",
    "\n",
    "print_temperatures()\n",
    "\n",
    "print('temperature in Fahrenheit was:', temp_t1_fahr)\n",
    "print('temperature in Kelvin was:', temp_t1_kelvin)"
   ]
  },
  {
   "cell_type": "code",
   "execution_count": 19,
   "id": "0028441b-1989-47bd-a136-46ba1c6b7964",
   "metadata": {
    "slideshow": {
     "slide_type": "subslide"
    },
    "tags": [
     "plenum"
    ]
   },
   "outputs": [
    {
     "ename": "UnboundLocalError",
     "evalue": "local variable 'temp_t2_fahr' referenced before assignment",
     "output_type": "error",
     "traceback": [
      "\u001b[0;31m---------------------------------------------------------------------------\u001b[0m",
      "\u001b[0;31mUnboundLocalError\u001b[0m                         Traceback (most recent call last)",
      "Input \u001b[0;32mIn [19]\u001b[0m, in \u001b[0;36m<cell line: 12>\u001b[0;34m()\u001b[0m\n\u001b[1;32m      9\u001b[0m     temp_t2_fahr \u001b[38;5;241m=\u001b[39m \u001b[38;5;241m0\u001b[39m\n\u001b[1;32m     10\u001b[0m     temp_t2_kelvin \u001b[38;5;241m=\u001b[39m \u001b[38;5;241m5\u001b[39m\n\u001b[0;32m---> 12\u001b[0m \u001b[43mprint_temperatures\u001b[49m\u001b[43m(\u001b[49m\u001b[43m)\u001b[49m\n\u001b[1;32m     14\u001b[0m \u001b[38;5;28mprint\u001b[39m(\u001b[38;5;124m'\u001b[39m\u001b[38;5;124mtemperature in Fahrenheit was:\u001b[39m\u001b[38;5;124m'\u001b[39m, temp_t2_fahr)\n\u001b[1;32m     15\u001b[0m \u001b[38;5;28mprint\u001b[39m(\u001b[38;5;124m'\u001b[39m\u001b[38;5;124mtemperature in Kelvin was:\u001b[39m\u001b[38;5;124m'\u001b[39m, temp_t2_kelvin)\n",
      "Input \u001b[0;32mIn [19]\u001b[0m, in \u001b[0;36mprint_temperatures\u001b[0;34m()\u001b[0m\n\u001b[1;32m      6\u001b[0m \u001b[38;5;28;01mdef\u001b[39;00m \u001b[38;5;21mprint_temperatures\u001b[39m():\n\u001b[0;32m----> 7\u001b[0m     \u001b[38;5;28mprint\u001b[39m(\u001b[38;5;124m'\u001b[39m\u001b[38;5;124mtemperature in Fahrenheit was:\u001b[39m\u001b[38;5;124m'\u001b[39m, \u001b[43mtemp_t2_fahr\u001b[49m)\n\u001b[1;32m      8\u001b[0m     \u001b[38;5;28mprint\u001b[39m(\u001b[38;5;124m'\u001b[39m\u001b[38;5;124mtemperature in Kelvin was:\u001b[39m\u001b[38;5;124m'\u001b[39m, temp_t2_kelvin)\n\u001b[1;32m      9\u001b[0m     temp_t2_fahr \u001b[38;5;241m=\u001b[39m \u001b[38;5;241m0\u001b[39m\n",
      "\u001b[0;31mUnboundLocalError\u001b[0m: local variable 'temp_t2_fahr' referenced before assignment"
     ]
    }
   ],
   "source": [
    "# can this code block run ?\n",
    "\n",
    "temp_t2_fahr = 212.0\n",
    "temp_t2_kelvin = fahr_to_kelvin(temp_t2_fahr)\n",
    "\n",
    "def print_temperatures():\n",
    "    print('temperature in Fahrenheit was:', temp_t2_fahr)\n",
    "    print('temperature in Kelvin was:', temp_t2_kelvin)\n",
    "    temp_t2_fahr = 0\n",
    "    temp_t2_kelvin = 5\n",
    "\n",
    "print_temperatures()\n",
    "\n",
    "print('temperature in Fahrenheit was:', temp_t2_fahr)\n",
    "print('temperature in Kelvin was:', temp_t2_kelvin)"
   ]
  },
  {
   "cell_type": "code",
   "execution_count": 21,
   "id": "3366475e-8371-4a7c-8d0c-c718312d5bc6",
   "metadata": {
    "slideshow": {
     "slide_type": "subslide"
    },
    "tags": [
     "plenum"
    ]
   },
   "outputs": [
    {
     "name": "stdout",
     "output_type": "stream",
     "text": [
      "temperature in Fahrenheit was: 212.0\n",
      "temperature in Kelvin was: 373.15\n",
      "temperature in Fahrenheit was: 0\n",
      "temperature in Kelvin was: 5\n"
     ]
    }
   ],
   "source": [
    "# can this code block run ?\n",
    "\n",
    "def print_temperatures():\n",
    "    global temp_t3_fahr\n",
    "    global temp_t3_kelvin\n",
    "    print('temperature in Fahrenheit was:', temp_t3_fahr)\n",
    "    print('temperature in Kelvin was:', temp_t3_kelvin)\n",
    "    temp_t3_fahr = 0\n",
    "    temp_t3_kelvin = 5\n",
    "\n",
    "temp_t3_fahr = 212.0\n",
    "temp_t3_kelvin = fahr_to_kelvin(temp_t3_fahr)\n",
    "\n",
    "print_temperatures()\n",
    "\n",
    "print('temperature in Fahrenheit was:', temp_t3_fahr)\n",
    "print('temperature in Kelvin was:', temp_t3_kelvin)"
   ]
  },
  {
   "cell_type": "markdown",
   "id": "8c6ba0d3-6846-425f-ba1d-c76164179c68",
   "metadata": {
    "slideshow": {
     "slide_type": "slide"
    },
    "tags": [
     "breakout"
    ]
   },
   "source": [
    "### example and exercise: Tidying up"
   ]
  },
  {
   "cell_type": "code",
   "execution_count": 22,
   "id": "dc91f08c-5ca5-44ff-8eb3-1edd3db39329",
   "metadata": {
    "slideshow": {
     "slide_type": "subslide"
    },
    "tags": [
     "breakout"
    ]
   },
   "outputs": [],
   "source": [
    "def visualize(filename):\n",
    "    data = numpy.loadtxt(fname=filename, delimiter=',')\n",
    "\n",
    "    fig = matplotlib.pyplot.figure(figsize=(10.0, 3.0))\n",
    "\n",
    "    axes1 = fig.add_subplot(1, 3, 1)\n",
    "    axes2 = fig.add_subplot(1, 3, 2)\n",
    "    axes3 = fig.add_subplot(1, 3, 3)\n",
    "\n",
    "    axes1.set_ylabel('average')\n",
    "    axes1.plot(numpy.mean(data, axis=0))\n",
    "\n",
    "    axes2.set_ylabel('max')\n",
    "    axes2.plot(numpy.max(data, axis=0))\n",
    "\n",
    "    axes3.set_ylabel('min')\n",
    "    axes3.plot(numpy.min(data, axis=0))\n",
    "\n",
    "    fig.tight_layout()\n",
    "    matplotlib.pyplot.show()"
   ]
  },
  {
   "cell_type": "code",
   "execution_count": 23,
   "id": "6b05625f-96aa-41fa-a298-2f07baa7db79",
   "metadata": {
    "slideshow": {
     "slide_type": "subslide"
    },
    "tags": [
     "breakout"
    ]
   },
   "outputs": [],
   "source": [
    "def detect_problems(filename):\n",
    "\n",
    "    data = numpy.loadtxt(fname=filename, delimiter=',')\n",
    "\n",
    "    if numpy.max(data, axis=0)[0] == 0 and numpy.max(data, axis=0)[20] == 20:\n",
    "        print('Suspicious looking maxima!')\n",
    "    elif numpy.sum(numpy.min(data, axis=0)) == 0:\n",
    "        print('Minima add up to zero!')\n",
    "    else:\n",
    "        print('Seems OK!')"
   ]
  },
  {
   "cell_type": "markdown",
   "id": "ca3b54eb-1730-4914-b6eb-b300e1eba2c3",
   "metadata": {
    "slideshow": {
     "slide_type": "fragment"
    },
    "tags": [
     "breakout"
    ]
   },
   "source": [
    "call the above functions and observe the output\n",
    "\n",
    "share your code of the function calls"
   ]
  },
  {
   "cell_type": "markdown",
   "id": "a12bf1b9-9a5c-4e5f-9fb5-ad5775df7731",
   "metadata": {
    "slideshow": {
     "slide_type": "slide"
    },
    "tags": [
     "plenum"
    ]
   },
   "source": [
    "### Testing and Documenting"
   ]
  },
  {
   "cell_type": "markdown",
   "id": "9423e1ec-a2df-487c-9fb4-5521bd36e55c",
   "metadata": {
    "slideshow": {
     "slide_type": "fragment"
    },
    "tags": [
     "plenum"
    ]
   },
   "source": [
    "> why do we need Testing and Documenting functions?"
   ]
  },
  {
   "cell_type": "markdown",
   "id": "e4984916-20db-4537-80b5-f1ae0872c0cf",
   "metadata": {
    "slideshow": {
     "slide_type": "fragment"
    },
    "tags": []
   },
   "source": [
    "> how many tests did we do for temperature conversion?"
   ]
  },
  {
   "cell_type": "code",
   "execution_count": 25,
   "id": "66c88e03-2647-4353-bdf8-6976544d3947",
   "metadata": {
    "slideshow": {
     "slide_type": "subslide"
    },
    "tags": [
     "plenum"
    ]
   },
   "outputs": [
    {
     "name": "stdout",
     "output_type": "stream",
     "text": [
      "Help on function loadtxt in module numpy:\n",
      "\n",
      "loadtxt(fname, dtype=<class 'float'>, comments='#', delimiter=None, converters=None, skiprows=0, usecols=None, unpack=False, ndmin=0, encoding='bytes', max_rows=None, *, like=None)\n",
      "    Load data from a text file.\n",
      "    \n",
      "    Each row in the text file must have the same number of values.\n",
      "    \n",
      "    Parameters\n",
      "    ----------\n",
      "    fname : file, str, pathlib.Path, list of str, generator\n",
      "        File, filename, list, or generator to read.  If the filename\n",
      "        extension is ``.gz`` or ``.bz2``, the file is first decompressed. Note\n",
      "        that generators must return bytes or strings. The strings\n",
      "        in a list or produced by a generator are treated as lines.\n",
      "    dtype : data-type, optional\n",
      "        Data-type of the resulting array; default: float.  If this is a\n",
      "        structured data-type, the resulting array will be 1-dimensional, and\n",
      "        each row will be interpreted as an element of the array.  In this\n",
      "        case, the number of columns used must match the number of fields in\n",
      "        the data-type.\n",
      "    comments : str or sequence of str, optional\n",
      "        The characters or list of characters used to indicate the start of a\n",
      "        comment. None implies no comments. For backwards compatibility, byte\n",
      "        strings will be decoded as 'latin1'. The default is '#'.\n",
      "    delimiter : str, optional\n",
      "        The string used to separate values. For backwards compatibility, byte\n",
      "        strings will be decoded as 'latin1'. The default is whitespace.\n",
      "    converters : dict, optional\n",
      "        A dictionary mapping column number to a function that will parse the\n",
      "        column string into the desired value.  E.g., if column 0 is a date\n",
      "        string: ``converters = {0: datestr2num}``.  Converters can also be\n",
      "        used to provide a default value for missing data (but see also\n",
      "        `genfromtxt`): ``converters = {3: lambda s: float(s.strip() or 0)}``.\n",
      "        Default: None.\n",
      "    skiprows : int, optional\n",
      "        Skip the first `skiprows` lines, including comments; default: 0.\n",
      "    usecols : int or sequence, optional\n",
      "        Which columns to read, with 0 being the first. For example,\n",
      "        ``usecols = (1,4,5)`` will extract the 2nd, 5th and 6th columns.\n",
      "        The default, None, results in all columns being read.\n",
      "    \n",
      "        .. versionchanged:: 1.11.0\n",
      "            When a single column has to be read it is possible to use\n",
      "            an integer instead of a tuple. E.g ``usecols = 3`` reads the\n",
      "            fourth column the same way as ``usecols = (3,)`` would.\n",
      "    unpack : bool, optional\n",
      "        If True, the returned array is transposed, so that arguments may be\n",
      "        unpacked using ``x, y, z = loadtxt(...)``.  When used with a\n",
      "        structured data-type, arrays are returned for each field.\n",
      "        Default is False.\n",
      "    ndmin : int, optional\n",
      "        The returned array will have at least `ndmin` dimensions.\n",
      "        Otherwise mono-dimensional axes will be squeezed.\n",
      "        Legal values: 0 (default), 1 or 2.\n",
      "    \n",
      "        .. versionadded:: 1.6.0\n",
      "    encoding : str, optional\n",
      "        Encoding used to decode the inputfile. Does not apply to input streams.\n",
      "        The special value 'bytes' enables backward compatibility workarounds\n",
      "        that ensures you receive byte arrays as results if possible and passes\n",
      "        'latin1' encoded strings to converters. Override this value to receive\n",
      "        unicode arrays and pass strings as input to converters.  If set to None\n",
      "        the system default is used. The default value is 'bytes'.\n",
      "    \n",
      "        .. versionadded:: 1.14.0\n",
      "    max_rows : int, optional\n",
      "        Read `max_rows` lines of content after `skiprows` lines. The default\n",
      "        is to read all the lines.\n",
      "    \n",
      "        .. versionadded:: 1.16.0\n",
      "    like : array_like\n",
      "        Reference object to allow the creation of arrays which are not\n",
      "        NumPy arrays. If an array-like passed in as ``like`` supports\n",
      "        the ``__array_function__`` protocol, the result will be defined\n",
      "        by it. In this case, it ensures the creation of an array object\n",
      "        compatible with that passed in via this argument.\n",
      "    \n",
      "        .. versionadded:: 1.20.0\n",
      "    \n",
      "    Returns\n",
      "    -------\n",
      "    out : ndarray\n",
      "        Data read from the text file.\n",
      "    \n",
      "    See Also\n",
      "    --------\n",
      "    load, fromstring, fromregex\n",
      "    genfromtxt : Load data with missing values handled as specified.\n",
      "    scipy.io.loadmat : reads MATLAB data files\n",
      "    \n",
      "    Notes\n",
      "    -----\n",
      "    This function aims to be a fast reader for simply formatted files.  The\n",
      "    `genfromtxt` function provides more sophisticated handling of, e.g.,\n",
      "    lines with missing values.\n",
      "    \n",
      "    .. versionadded:: 1.10.0\n",
      "    \n",
      "    The strings produced by the Python float.hex method can be used as\n",
      "    input for floats.\n",
      "    \n",
      "    Examples\n",
      "    --------\n",
      "    >>> from io import StringIO   # StringIO behaves like a file object\n",
      "    >>> c = StringIO(\"0 1\\n2 3\")\n",
      "    >>> np.loadtxt(c)\n",
      "    array([[0., 1.],\n",
      "           [2., 3.]])\n",
      "    \n",
      "    >>> d = StringIO(\"M 21 72\\nF 35 58\")\n",
      "    >>> np.loadtxt(d, dtype={'names': ('gender', 'age', 'weight'),\n",
      "    ...                      'formats': ('S1', 'i4', 'f4')})\n",
      "    array([(b'M', 21, 72.), (b'F', 35, 58.)],\n",
      "          dtype=[('gender', 'S1'), ('age', '<i4'), ('weight', '<f4')])\n",
      "    \n",
      "    >>> c = StringIO(\"1,0,2\\n3,0,4\")\n",
      "    >>> x, y = np.loadtxt(c, delimiter=',', usecols=(0, 2), unpack=True)\n",
      "    >>> x\n",
      "    array([1., 3.])\n",
      "    >>> y\n",
      "    array([2., 4.])\n",
      "    \n",
      "    This example shows how `converters` can be used to convert a field\n",
      "    with a trailing minus sign into a negative number.\n",
      "    \n",
      "    >>> s = StringIO('10.01 31.25-\\n19.22 64.31\\n17.57- 63.94')\n",
      "    >>> def conv(fld):\n",
      "    ...     return -float(fld[:-1]) if fld.endswith(b'-') else float(fld)\n",
      "    ...\n",
      "    >>> np.loadtxt(s, converters={0: conv, 1: conv})\n",
      "    array([[ 10.01, -31.25],\n",
      "           [ 19.22,  64.31],\n",
      "           [-17.57,  63.94]])\n",
      "\n"
     ]
    }
   ],
   "source": [
    "# example of documenting\n",
    "import numpy\n",
    "help(numpy.loadtxt)"
   ]
  },
  {
   "cell_type": "markdown",
   "id": "f545184a-5d94-43b6-9608-a4e86e925a2b",
   "metadata": {
    "slideshow": {
     "slide_type": "subslide"
    },
    "tags": []
   },
   "source": [
    "> what are the key elements in function documentation ?"
   ]
  },
  {
   "cell_type": "code",
   "execution_count": 26,
   "id": "7b94cac1-66f9-4558-a86c-04656724ec39",
   "metadata": {
    "slideshow": {
     "slide_type": "subslide"
    },
    "tags": [
     "breakout"
    ]
   },
   "outputs": [],
   "source": [
    "def offset_mean(data, target_mean_value):\n",
    "    return (data - numpy.mean(data)) + target_mean_value"
   ]
  },
  {
   "cell_type": "markdown",
   "id": "07485a7f-797f-48f9-a75f-63da85a80bb0",
   "metadata": {
    "slideshow": {
     "slide_type": "slide"
    },
    "tags": [
     "breakout"
    ]
   },
   "source": [
    "### exercise: How Many Paths?"
   ]
  },
  {
   "cell_type": "markdown",
   "id": "75b9c4de-2228-4f41-91b6-faa006a65a95",
   "metadata": {
    "slideshow": {
     "slide_type": "fragment"
    },
    "tags": [
     "breakout"
    ]
   },
   "source": [
    "Which of the following would be printed if you were to run this code? \n",
    "Why did you pick this answer?\n",
    "\n",
    "- A\n",
    "- B\n",
    "- C\n",
    "- B and C"
   ]
  },
  {
   "cell_type": "code",
   "execution_count": null,
   "id": "62393a48-eed2-4a59-b229-9269f892b1e8",
   "metadata": {
    "slideshow": {
     "slide_type": "fragment"
    },
    "tags": [
     "breakout"
    ]
   },
   "outputs": [],
   "source": [
    "if 4 > 5:\n",
    "    print('A')\n",
    "elif 4 == 5:\n",
    "    print('B')\n",
    "elif 4 < 5:\n",
    "    print('C')"
   ]
  },
  {
   "cell_type": "markdown",
   "id": "9b15f541-f844-4050-8ae1-143a3ed56928",
   "metadata": {
    "slideshow": {
     "slide_type": "slide"
    },
    "tags": [
     "breakout"
    ]
   },
   "source": [
    "### exercise: What Is True?"
   ]
  },
  {
   "cell_type": "markdown",
   "id": "f7801949-cf44-47b2-8c09-3cc0469e24fd",
   "metadata": {
    "slideshow": {
     "slide_type": "fragment"
    },
    "tags": [
     "breakout"
    ]
   },
   "source": [
    "which statement gets printed ?"
   ]
  },
  {
   "cell_type": "code",
   "execution_count": null,
   "id": "f3ed2a05-1b1e-45ce-ae9d-e3fdb07fb628",
   "metadata": {
    "slideshow": {
     "slide_type": "fragment"
    },
    "tags": [
     "breakout"
    ]
   },
   "outputs": [],
   "source": [
    "if '':\n",
    "    print('empty string is true')\n",
    "if 'word':\n",
    "    print('word is true')\n",
    "if []:\n",
    "    print('empty list is true')\n",
    "if [1, 2, 3]:\n",
    "    print('non-empty list is true')\n",
    "if 0:\n",
    "    print('zero is true')\n",
    "if 1:\n",
    "    print('one is true')"
   ]
  },
  {
   "cell_type": "markdown",
   "id": "d58f1898-83ec-407d-aebb-965f7c57fc34",
   "metadata": {
    "slideshow": {
     "slide_type": "fragment"
    },
    "tags": []
   },
   "source": []
  },
  {
   "cell_type": "markdown",
   "id": "d087eab0-48c9-438f-8807-da0dfab1c908",
   "metadata": {
    "slideshow": {
     "slide_type": "slide"
    },
    "tags": [
     "breakout"
    ]
   },
   "source": [
    "### exercise: Close Enough\n",
    "\n",
    "Write some conditions that print True if the variable `a` is within 10% of the variable `b` and False otherwise. \n",
    "\n",
    "do you get the same answer for all possible pairs of numbers?"
   ]
  },
  {
   "cell_type": "code",
   "execution_count": null,
   "id": "e7d08429-5c78-4bf7-a2c4-f1824a43d0f4",
   "metadata": {
    "slideshow": {
     "slide_type": "fragment"
    },
    "tags": []
   },
   "outputs": [],
   "source": [
    "a = 5\n",
    "b = 5.1\n",
    "\n",
    "if abs(a - b) <= 0.1 * abs(b):\n",
    "    print('True')\n",
    "else:\n",
    "    print('False')"
   ]
  },
  {
   "cell_type": "markdown",
   "id": "3dad5401-144a-4e0b-899d-67e518bb237b",
   "metadata": {
    "slideshow": {
     "slide_type": "slide"
    },
    "tags": [
     "breakout"
    ]
   },
   "source": [
    "### exercise: Counting Vowels\n",
    "\n",
    "1. Write a loop that counts the number of vowels in a character string.\n",
    "2. Test it on a few individual words and full sentences.\n",
    "3. Once you are done, compare your solution to your neighbor’s. Did you make the same decisions about how to handle the letter ‘y’ (which some people think is a vowel, and some do not)?"
   ]
  },
  {
   "cell_type": "code",
   "execution_count": null,
   "id": "cf7ab7b2-2d89-46f4-af5c-1040671477dc",
   "metadata": {
    "slideshow": {
     "slide_type": "fragment"
    },
    "tags": [
     "breakout"
    ]
   },
   "outputs": [],
   "source": [
    "vowels = 'aeiouAEIOU'\n",
    "sentence = 'Mary had a little lamb.'\n",
    "count = 0\n",
    "for char in sentence:\n",
    "    if char in vowels:\n",
    "        count += 1\n",
    "\n",
    "print('The number of vowels in this string is ' + str(count))"
   ]
  },
  {
   "cell_type": "code",
   "execution_count": null,
   "id": "b70c7858-1487-45ab-9ef5-0ff20d956ad1",
   "metadata": {},
   "outputs": [],
   "source": []
  }
 ],
 "metadata": {
  "kernelspec": {
   "display_name": "Python 3 (ipykernel)",
   "language": "python",
   "name": "python3"
  },
  "language_info": {
   "codemirror_mode": {
    "name": "ipython",
    "version": 3
   },
   "file_extension": ".py",
   "mimetype": "text/x-python",
   "name": "python",
   "nbconvert_exporter": "python",
   "pygments_lexer": "ipython3",
   "version": "3.9.12"
  }
 },
 "nbformat": 4,
 "nbformat_minor": 5
}
