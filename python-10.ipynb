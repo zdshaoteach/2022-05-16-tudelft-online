{
 "cells": [
  {
   "cell_type": "markdown",
   "id": "05cca176-55d8-4976-9ec1-2860580d1de5",
   "metadata": {
    "slideshow": {
     "slide_type": "slide"
    },
    "tags": [
     "plenum"
    ]
   },
   "source": [
    "# Python 10 Defensive Programming"
   ]
  },
  {
   "cell_type": "markdown",
   "id": "22b7f8f5-7884-4298-8925-5dd167373d3f",
   "metadata": {},
   "source": [
    "[course link](https://swcarpentry.github.io/python-novice-inflammation/)\n",
    "\n",
    "- duration: 30 mins\n",
    "- BATTLE with syntax, runtime, and logic errors"
   ]
  },
  {
   "cell_type": "markdown",
   "id": "b309dba3-a39a-415c-8875-201261c3879e",
   "metadata": {
    "slideshow": {
     "slide_type": "slide"
    },
    "tags": [
     "plenum"
    ]
   },
   "source": [
    "### syntax errors\n",
    "\n",
    "a `compile` of the code will detect syntax errors\n",
    "\n",
    "high occurrence syntax errors\n",
    "\n",
    "- :\n",
    "- indention\n",
    "- ,\n",
    "- parentheses"
   ]
  },
  {
   "cell_type": "code",
   "execution_count": 2,
   "id": "5eca62be-2f25-4aef-96e7-bcd63c2cbf58",
   "metadata": {
    "slideshow": {
     "slide_type": "fragment"
    },
    "tags": [
     "plenum"
    ]
   },
   "outputs": [
    {
     "ename": "SyntaxError",
     "evalue": "unexpected EOF while parsing (2494909498.py, line 2)",
     "output_type": "error",
     "traceback": [
      "\u001b[0;36m  Input \u001b[0;32mIn [2]\u001b[0;36m\u001b[0m\n\u001b[0;31m    print(len(input_list)\u001b[0m\n\u001b[0m                         ^\u001b[0m\n\u001b[0;31mSyntaxError\u001b[0m\u001b[0;31m:\u001b[0m unexpected EOF while parsing\n"
     ]
    }
   ],
   "source": [
    "def print_length(input_list):\n",
    "    print(len(input_list)"
   ]
  },
  {
   "cell_type": "markdown",
   "id": "b2f615a6-b01a-4b53-a753-cddecbe44613",
   "metadata": {
    "slideshow": {
     "slide_type": "slide"
    },
    "tags": [
     "plenum"
    ]
   },
   "source": [
    "### runtime error\n",
    "\n",
    "an execution of each line of the code with a fresh setup will reveal runtime error\n",
    "\n",
    "method: write test cases to execute each line of code (white-box testing)\n",
    "\n",
    "- regulate inputs, give more information\n",
    "- be careful not to rewrite keywords and functions\n",
    "    - prefer to use `from math import log` instead of `from math import *`\n",
    "- be careful with file reading and writing\n",
    "- be careful about indices (out of bounds)\n",
    "- be careful about mis-spelling"
   ]
  },
  {
   "cell_type": "code",
   "execution_count": 8,
   "id": "38af5753-2534-4b7b-9cbb-df07c7a00d87",
   "metadata": {
    "slideshow": {
     "slide_type": "subslide"
    },
    "tags": []
   },
   "outputs": [],
   "source": [
    "def get_ice_cream(index):\n",
    "    menu = [\n",
    "        'vanilla',\n",
    "        'cherry',\n",
    "        'coffee',\n",
    "        'choclate',\n",
    "        'strawberry'\n",
    "    ]\n",
    "    assert isinstance(index, int), 'index should be an integer'\n",
    "    assert index >= 0 and index < len(menu), 'index exceeds the length of menu, which is {}'.format(len(menu))\n",
    "    return menu[index]"
   ]
  },
  {
   "cell_type": "code",
   "execution_count": 9,
   "id": "1e810e8e-0bf5-44ca-a561-5f2071b8983f",
   "metadata": {
    "slideshow": {
     "slide_type": "subslide"
    },
    "tags": []
   },
   "outputs": [
    {
     "ename": "AssertionError",
     "evalue": "index should be an integer",
     "output_type": "error",
     "traceback": [
      "\u001b[0;31m---------------------------------------------------------------------------\u001b[0m",
      "\u001b[0;31mAssertionError\u001b[0m                            Traceback (most recent call last)",
      "Input \u001b[0;32mIn [9]\u001b[0m, in \u001b[0;36m<cell line: 1>\u001b[0;34m()\u001b[0m\n\u001b[0;32m----> 1\u001b[0m \u001b[43mget_ice_cream\u001b[49m\u001b[43m(\u001b[49m\u001b[38;5;124;43m'\u001b[39;49m\u001b[38;5;124;43mcoffe\u001b[39;49m\u001b[38;5;124;43m'\u001b[39;49m\u001b[43m)\u001b[49m\n",
      "Input \u001b[0;32mIn [8]\u001b[0m, in \u001b[0;36mget_ice_cream\u001b[0;34m(index)\u001b[0m\n\u001b[1;32m      1\u001b[0m \u001b[38;5;28;01mdef\u001b[39;00m \u001b[38;5;21mget_ice_cream\u001b[39m(index):\n\u001b[1;32m      2\u001b[0m     menu \u001b[38;5;241m=\u001b[39m [\n\u001b[1;32m      3\u001b[0m         \u001b[38;5;124m'\u001b[39m\u001b[38;5;124mvanilla\u001b[39m\u001b[38;5;124m'\u001b[39m,\n\u001b[1;32m      4\u001b[0m         \u001b[38;5;124m'\u001b[39m\u001b[38;5;124mcherry\u001b[39m\u001b[38;5;124m'\u001b[39m,\n\u001b[0;32m   (...)\u001b[0m\n\u001b[1;32m      7\u001b[0m         \u001b[38;5;124m'\u001b[39m\u001b[38;5;124mstrawberry\u001b[39m\u001b[38;5;124m'\u001b[39m\n\u001b[1;32m      8\u001b[0m     ]\n\u001b[0;32m----> 9\u001b[0m     \u001b[38;5;28;01massert\u001b[39;00m \u001b[38;5;28misinstance\u001b[39m(index, \u001b[38;5;28mint\u001b[39m), \u001b[38;5;124m'\u001b[39m\u001b[38;5;124mindex should be an integer\u001b[39m\u001b[38;5;124m'\u001b[39m\n\u001b[1;32m     10\u001b[0m     \u001b[38;5;28;01massert\u001b[39;00m index \u001b[38;5;241m>\u001b[39m\u001b[38;5;241m=\u001b[39m \u001b[38;5;241m0\u001b[39m \u001b[38;5;129;01mand\u001b[39;00m index \u001b[38;5;241m<\u001b[39m \u001b[38;5;28mlen\u001b[39m(menu), \u001b[38;5;124m'\u001b[39m\u001b[38;5;124mindex exceeds the length of menu, which is \u001b[39m\u001b[38;5;132;01m{}\u001b[39;00m\u001b[38;5;124m'\u001b[39m\u001b[38;5;241m.\u001b[39mformat(\u001b[38;5;28mlen\u001b[39m(menu))\n\u001b[1;32m     11\u001b[0m     \u001b[38;5;28;01mreturn\u001b[39;00m menu[index]\n",
      "\u001b[0;31mAssertionError\u001b[0m: index should be an integer"
     ]
    }
   ],
   "source": [
    "get_ice_cream('coffe')"
   ]
  },
  {
   "cell_type": "code",
   "execution_count": 10,
   "id": "dfa9e517-d823-4fa0-b284-1dca3122875d",
   "metadata": {
    "slideshow": {
     "slide_type": "subslide"
    },
    "tags": []
   },
   "outputs": [
    {
     "ename": "AssertionError",
     "evalue": "index exceeds the length of menu, which is 5",
     "output_type": "error",
     "traceback": [
      "\u001b[0;31m---------------------------------------------------------------------------\u001b[0m",
      "\u001b[0;31mAssertionError\u001b[0m                            Traceback (most recent call last)",
      "Input \u001b[0;32mIn [10]\u001b[0m, in \u001b[0;36m<cell line: 1>\u001b[0;34m()\u001b[0m\n\u001b[0;32m----> 1\u001b[0m \u001b[43mget_ice_cream\u001b[49m\u001b[43m(\u001b[49m\u001b[38;5;241;43m7\u001b[39;49m\u001b[43m)\u001b[49m\n",
      "Input \u001b[0;32mIn [8]\u001b[0m, in \u001b[0;36mget_ice_cream\u001b[0;34m(index)\u001b[0m\n\u001b[1;32m      2\u001b[0m menu \u001b[38;5;241m=\u001b[39m [\n\u001b[1;32m      3\u001b[0m     \u001b[38;5;124m'\u001b[39m\u001b[38;5;124mvanilla\u001b[39m\u001b[38;5;124m'\u001b[39m,\n\u001b[1;32m      4\u001b[0m     \u001b[38;5;124m'\u001b[39m\u001b[38;5;124mcherry\u001b[39m\u001b[38;5;124m'\u001b[39m,\n\u001b[0;32m   (...)\u001b[0m\n\u001b[1;32m      7\u001b[0m     \u001b[38;5;124m'\u001b[39m\u001b[38;5;124mstrawberry\u001b[39m\u001b[38;5;124m'\u001b[39m\n\u001b[1;32m      8\u001b[0m ]\n\u001b[1;32m      9\u001b[0m \u001b[38;5;28;01massert\u001b[39;00m \u001b[38;5;28misinstance\u001b[39m(index, \u001b[38;5;28mint\u001b[39m), \u001b[38;5;124m'\u001b[39m\u001b[38;5;124mindex should be an integer\u001b[39m\u001b[38;5;124m'\u001b[39m\n\u001b[0;32m---> 10\u001b[0m \u001b[38;5;28;01massert\u001b[39;00m index \u001b[38;5;241m>\u001b[39m\u001b[38;5;241m=\u001b[39m \u001b[38;5;241m0\u001b[39m \u001b[38;5;129;01mand\u001b[39;00m index \u001b[38;5;241m<\u001b[39m \u001b[38;5;28mlen\u001b[39m(menu), \u001b[38;5;124m'\u001b[39m\u001b[38;5;124mindex exceeds the length of menu, which is \u001b[39m\u001b[38;5;132;01m{}\u001b[39;00m\u001b[38;5;124m'\u001b[39m\u001b[38;5;241m.\u001b[39mformat(\u001b[38;5;28mlen\u001b[39m(menu))\n\u001b[1;32m     11\u001b[0m \u001b[38;5;28;01mreturn\u001b[39;00m menu[index]\n",
      "\u001b[0;31mAssertionError\u001b[0m: index exceeds the length of menu, which is 5"
     ]
    }
   ],
   "source": [
    "get_ice_cream(7)"
   ]
  },
  {
   "cell_type": "markdown",
   "id": "4b7b2216-dd26-458b-bf78-003861718ad0",
   "metadata": {
    "slideshow": {
     "slide_type": "slide"
    },
    "tags": [
     "plenum"
    ]
   },
   "source": [
    "### example and exercise\n",
    "\n",
    "go shopping, which to buy ? how much to pay ? how to test my shopping function ?"
   ]
  },
  {
   "cell_type": "code",
   "execution_count": 13,
   "id": "10672a49-6322-4fc1-880e-46cafb5693ca",
   "metadata": {
    "slideshow": {
     "slide_type": "subslide"
    },
    "tags": []
   },
   "outputs": [],
   "source": [
    "# I am going shopping with money in my wallet. I also have a shopping list.\n",
    "# what if I have a long shopping list but I do not have enough money?\n",
    "# what if I do not want to buy expensive item?\n",
    "########################################\n",
    "# exercise: count the bill\n",
    "# program efficiency\n",
    "# early quit of a for loop\n",
    "# break a for loop\n",
    "\n",
    "def shopping(wallet, shopping_list, too_expensive):\n",
    "    # how to write a loop to count the total payment?\n",
    "    total_amount = 0.0\n",
    "    buying_list = []\n",
    "    for index, item in enumerate(shopping_list):\n",
    "        payment = total_amount + item[1]\n",
    "        if item[1] > too_expensive:\n",
    "            print('I do not want to buy the #{} item {} \\n \\\n",
    "                because it is too expensive'.format(\n",
    "                index, item[0]))\n",
    "\n",
    "        elif payment <= wallet:\n",
    "            print(\"The #{} item I want to buy is {}, \\n \\\n",
    "                and it costs {} dollars.\".format(\n",
    "                index, item[0], item[1]))\n",
    "            total_amount = payment\n",
    "            buying_list.append(item[0])\n",
    "\n",
    "        else:\n",
    "            print('I do not have enough money for', item)\n",
    "            break\n",
    "    print('total amount of the bill is', total_amount, 'dollars.')\n",
    "    return total_amount"
   ]
  },
  {
   "cell_type": "code",
   "execution_count": 33,
   "id": "d0977cb5-ba8c-4602-bb47-e191140ae06a",
   "metadata": {
    "slideshow": {
     "slide_type": "subslide"
    },
    "tags": []
   },
   "outputs": [
    {
     "name": "stdout",
     "output_type": "stream",
     "text": [
      "The #0 item I want to buy is rice, \n",
      "                 and it costs 2.0 dollars.\n",
      "The #1 item I want to buy is olive oil, \n",
      "                 and it costs 5.5 dollars.\n",
      "The #2 item I want to buy is salt, \n",
      "                 and it costs 0.9 dollars.\n",
      "The #3 item I want to buy is sugar, \n",
      "                 and it costs 1.5 dollars.\n",
      "The #4 item I want to buy is apple, \n",
      "                 and it costs 2.9 dollars.\n",
      "total amount of the bill is 12.8 dollars.\n"
     ]
    }
   ],
   "source": [
    "def test_shopping():\n",
    "    # test case\n",
    "    shopping_list = [\n",
    "        ('rice', 2.0), \n",
    "        ('olive oil', 5.5), \n",
    "        ('salt', 0.9), \n",
    "        ('sugar', 1.5), \n",
    "        ('apple', 2.9)\n",
    "    ]\n",
    "    wallet = 100.0\n",
    "    too_expensive = 100.0\n",
    "    shopping(wallet, shopping_list, too_expensive)\n",
    "test_shopping()"
   ]
  },
  {
   "cell_type": "code",
   "execution_count": 34,
   "id": "af9971b0-94f0-4e66-8640-eef7074e90f5",
   "metadata": {
    "slideshow": {
     "slide_type": "subslide"
    },
    "tags": []
   },
   "outputs": [
    {
     "name": "stdout",
     "output_type": "stream",
     "text": [
      "The #0 item I want to buy is rice, \n",
      "                 and it costs 2.0 dollars.\n",
      "The #1 item I want to buy is olive oil, \n",
      "                 and it costs 5.5 dollars.\n",
      "The #2 item I want to buy is salt, \n",
      "                 and it costs 0.9 dollars.\n",
      "The #3 item I want to buy is sugar, \n",
      "                 and it costs 1.5 dollars.\n",
      "I do not have enough money for ('apple', 2.9)\n",
      "total amount of the bill is 9.9 dollars.\n"
     ]
    }
   ],
   "source": [
    "def test_shopping():\n",
    "    # test case\n",
    "    shopping_list = [\n",
    "        ('rice', 2.0), \n",
    "        ('olive oil', 5.5), \n",
    "        ('salt', 0.9), \n",
    "        ('sugar', 1.5), \n",
    "        ('apple', 2.9)\n",
    "    ]\n",
    "    wallet = 10.0\n",
    "    too_expensive = 10.0\n",
    "    shopping(wallet, shopping_list, too_expensive)\n",
    "test_shopping()"
   ]
  },
  {
   "cell_type": "code",
   "execution_count": 35,
   "id": "f82bbd14-3950-4a08-8afa-c43d54015c6e",
   "metadata": {
    "slideshow": {
     "slide_type": "subslide"
    },
    "tags": []
   },
   "outputs": [
    {
     "name": "stdout",
     "output_type": "stream",
     "text": [
      "The #0 item I want to buy is rice, \n",
      "                 and it costs 2.0 dollars.\n",
      "I do not want to buy the #1 item olive oil \n",
      "                 because it is too expensive\n",
      "The #2 item I want to buy is salt, \n",
      "                 and it costs 0.9 dollars.\n",
      "The #3 item I want to buy is sugar, \n",
      "                 and it costs 1.5 dollars.\n",
      "I do not have enough money for ('apple', 2.9)\n",
      "total amount of the bill is 4.4 dollars.\n"
     ]
    }
   ],
   "source": [
    "def test_shopping():\n",
    "    # test case\n",
    "    shopping_list = [\n",
    "        ('rice', 2.0), \n",
    "        ('olive oil', 5.5), \n",
    "        ('salt', 0.9), \n",
    "        ('sugar', 1.5), \n",
    "        ('apple', 2.9)\n",
    "    ]\n",
    "    wallet = 6.0\n",
    "    too_expensive = 5.0\n",
    "    shopping(wallet, shopping_list, too_expensive)\n",
    "test_shopping()"
   ]
  },
  {
   "cell_type": "markdown",
   "id": "7fec30b7-4132-4cbb-aa8e-d8d4cd475e2f",
   "metadata": {
    "slideshow": {
     "slide_type": "fragment"
    },
    "tags": []
   },
   "source": [
    "change the value of num to print out all code branches"
   ]
  },
  {
   "cell_type": "markdown",
   "id": "debffa35-998a-45f0-8434-3dbeb79acdd1",
   "metadata": {
    "slideshow": {
     "slide_type": "slide"
    },
    "tags": [
     "breakout"
    ]
   },
   "source": [
    "### logic error\n",
    "\n",
    "- ensure the output is desired\n",
    "- Exhaustive Testing (too much work)\n",
    "- test with **Mathematical Induction**\n",
    "- black-box tests with typical cases\n",
    "- be care of **zero** situation (special cases)"
   ]
  },
  {
   "cell_type": "markdown",
   "id": "ed1dc149-4f75-4126-851d-773d5e75b8e2",
   "metadata": {
    "slideshow": {
     "slide_type": "subslide"
    },
    "tags": [
     "plenum"
    ]
   },
   "source": [
    "### example and exercise\n",
    "\n",
    "test the function below which identifies prime numbers that are smaller than a given input. note that this function is only handling positive numbers."
   ]
  },
  {
   "cell_type": "code",
   "execution_count": 65,
   "id": "f3510f8c-4cc9-45cf-8a42-b3d75c5ed07e",
   "metadata": {
    "slideshow": {
     "slide_type": "subslide"
    },
    "tags": []
   },
   "outputs": [],
   "source": [
    "def find_prime(value):\n",
    "    prime_numbers = []\n",
    "    if isinstance(value, int): \n",
    "        value = int(value)\n",
    "        prime_numbers = [2]\n",
    "\n",
    "        if value < 2:\n",
    "            return []\n",
    "        elif value == 2:\n",
    "            return prime_numbers\n",
    "\n",
    "        for num in range(3,value+1):\n",
    "            is_prime = True\n",
    "            for div in prime_numbers:\n",
    "                if num % div == 0:\n",
    "                    is_prime = False\n",
    "\n",
    "            if is_prime:\n",
    "                prime_numbers.append(num)\n",
    "    else:\n",
    "        return 'input should be an integer'\n",
    "            \n",
    "    return prime_numbers"
   ]
  },
  {
   "cell_type": "code",
   "execution_count": 66,
   "id": "d5eee634-31eb-402d-8d05-0b7009400f8e",
   "metadata": {
    "slideshow": {
     "slide_type": "subslide"
    },
    "tags": []
   },
   "outputs": [],
   "source": [
    "def test_find_prime():\n",
    "    assert find_prime('') == 'input should be an integer'\n",
    "    assert find_prime(-1) == []\n",
    "    assert find_prime(0) == []\n",
    "    assert find_prime(10.5) == 'input should be an integer'\n",
    "    assert find_prime(1) == []\n",
    "    assert find_prime(2) == [2]\n",
    "    assert find_prime(3) == [2,3]\n",
    "    assert find_prime(4) == [2,3]\n",
    "    assert find_prime(5) == [2,3,5]\n",
    "    assert find_prime(6) == [2,3,5]\n",
    "    assert find_prime(7) == [2,3,5,7]\n",
    "    assert find_prime(8) == [2,3,5,7]\n",
    "    assert find_prime(9) == [2,3,5,7]\n",
    "    assert find_prime(10) == [2,3,5,7]\n",
    "    assert find_prime(11) == [2,3,5,7,11]\n",
    "    assert find_prime(12) == [2,3,5,7,11]\n",
    "    assert find_prime(13) == [2,3,5,7,11,13]\n",
    "    assert find_prime(14) == [2,3,5,7,11,13]\n",
    "    assert find_prime(15) == [2,3,5,7,11,13]\n",
    "    \n",
    "test_find_prime()"
   ]
  },
  {
   "cell_type": "markdown",
   "id": "c7504ed0-4fbe-4a2f-b87f-1d7076e24958",
   "metadata": {
    "slideshow": {
     "slide_type": "slide"
    },
    "tags": []
   },
   "source": [
    "### exercise\n",
    "\n",
    "- Write a function `range_overlap`.\n",
    "- Call it interactively on two or three different inputs.\n",
    "- If it produces the wrong answer, fix the function and re-run that test."
   ]
  },
  {
   "cell_type": "code",
   "execution_count": 61,
   "id": "dbc63ee7-3f08-42d5-abc1-7d372bc7ba27",
   "metadata": {},
   "outputs": [],
   "source": [
    "def range_overlap(list_of_ranges):\n",
    "    for i, item in enumerate(list_of_ranges): \n",
    "        assert len(item) == 2 and isinstance(item[0], float) and isinstance(item[1], float), \\\n",
    "        '#{} item should be a pair of float values'.format(i)\n",
    "        \n",
    "    first_elements = [item[0] for item in list_of_ranges]\n",
    "    second_elements = [item[1] for item in list_of_ranges]\n",
    "    \n",
    "    overlap = (max(first_elements), min(second_elements))\n",
    "    \n",
    "    if overlap[0] >= overlap[1]:\n",
    "        return\n",
    "    return overlap"
   ]
  },
  {
   "cell_type": "code",
   "execution_count": 62,
   "id": "cb03d756-f8ef-4def-94c2-fa6689b4c283",
   "metadata": {},
   "outputs": [],
   "source": [
    "def test_range_overlap():\n",
    "    assert range_overlap([ (0.0, 1.0), (5.0, 6.0) ]) == None\n",
    "    assert range_overlap([ (0.0, 1.0), (1.0, 2.0) ]) == None\n",
    "    assert range_overlap([ (0.0, 1.0) ]) == (0.0, 1.0)\n",
    "    assert range_overlap([ (2.0, 3.0), (2.0, 4.0) ]) == (2.0, 3.0)\n",
    "    assert range_overlap([ (0.0, 1.0), (0.0, 2.0), (-1.0, 1.0) ]) == (0.0, 1.0)\n",
    "    assert range_overlap([]) == None"
   ]
  },
  {
   "cell_type": "code",
   "execution_count": null,
   "id": "f13029e7-0cee-469f-a3c2-dc72041b8d42",
   "metadata": {},
   "outputs": [],
   "source": []
  },
  {
   "cell_type": "code",
   "execution_count": null,
   "id": "fc7a41fa-c1a0-4a9d-894b-251c62aa9d6b",
   "metadata": {},
   "outputs": [],
   "source": []
  },
  {
   "cell_type": "code",
   "execution_count": null,
   "id": "dd256656-a0fe-46ea-a3a9-e8f122eeaa22",
   "metadata": {},
   "outputs": [],
   "source": []
  },
  {
   "cell_type": "code",
   "execution_count": null,
   "id": "6ab1a56e-3ced-4ec5-a246-c00ed7e96d87",
   "metadata": {},
   "outputs": [],
   "source": []
  },
  {
   "cell_type": "code",
   "execution_count": null,
   "id": "38d697c7-a6c4-4f44-aebe-c7cee1fb0793",
   "metadata": {},
   "outputs": [],
   "source": []
  }
 ],
 "metadata": {
  "kernelspec": {
   "display_name": "Python 3 (ipykernel)",
   "language": "python",
   "name": "python3"
  },
  "language_info": {
   "codemirror_mode": {
    "name": "ipython",
    "version": 3
   },
   "file_extension": ".py",
   "mimetype": "text/x-python",
   "name": "python",
   "nbconvert_exporter": "python",
   "pygments_lexer": "ipython3",
   "version": "3.9.12"
  }
 },
 "nbformat": 4,
 "nbformat_minor": 5
}
