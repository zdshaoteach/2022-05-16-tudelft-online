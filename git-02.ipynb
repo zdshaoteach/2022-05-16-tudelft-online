{
 "cells": [
  {
   "cell_type": "markdown",
   "id": "65340e16-7e6a-4bc7-b1c7-b972e46a5851",
   "metadata": {
    "slideshow": {
     "slide_type": "slide"
    },
    "tags": []
   },
   "source": [
    "# Git 02 Setting Up Git"
   ]
  },
  {
   "cell_type": "markdown",
   "id": "1e375169-df9f-4a31-a306-b8073721d6f3",
   "metadata": {
    "slideshow": {
     "slide_type": "fragment"
    },
    "tags": []
   },
   "source": [
    "[course link](https://swcarpentry.github.io/git-novice/index.html)\n",
    "\n",
    "- duration: 5 mins\n",
    "- get familiar with `git`\n",
    "- configure `git`"
   ]
  },
  {
   "cell_type": "markdown",
   "id": "3c6f3da5-8f9b-4703-91c0-4bedf4371db6",
   "metadata": {
    "slideshow": {
     "slide_type": "slide"
    },
    "tags": []
   },
   "source": [
    "### commands overview"
   ]
  },
  {
   "cell_type": "code",
   "execution_count": 1,
   "id": "32327185-06ce-4534-a57f-1c7d3b6d7b1a",
   "metadata": {
    "slideshow": {
     "slide_type": "skip"
    },
    "tags": []
   },
   "outputs": [
    {
     "name": "stdout",
     "output_type": "stream",
     "text": [
      "git02.sh git04.sh git06.sh git08.sh git10.sh\r\n",
      "git03.sh git05.sh git07.sh git09.sh\r\n"
     ]
    }
   ],
   "source": [
    "!ls 'git'"
   ]
  },
  {
   "cell_type": "code",
   "execution_count": 2,
   "id": "b1d8c058-4f5e-4eda-adb7-decfdfd02a18",
   "metadata": {
    "slideshow": {
     "slide_type": "subslide"
    },
    "tags": []
   },
   "outputs": [
    {
     "name": "stdout",
     "output_type": "stream",
     "text": [
      "#!/bin/sh\r\n",
      "git config --global user.name \"Zongru (Doris) Shao\"\r\n",
      "git config --global user.email \"zdshao.teach@gmail.com\"\r\n",
      "git config --global core.autocrlf input\r\n",
      "git config --global init.defaultBranch main\r\n",
      "git config --list\r\n",
      "git config --help\r\n",
      "git help\r\n"
     ]
    }
   ],
   "source": [
    "!cat git/git02.sh"
   ]
  },
  {
   "cell_type": "markdown",
   "id": "9d25e0eb-2f92-4ca7-94b9-fdde26383a20",
   "metadata": {
    "slideshow": {
     "slide_type": "slide"
    },
    "tags": []
   },
   "source": [
    "### create working directory"
   ]
  },
  {
   "cell_type": "code",
   "execution_count": 3,
   "id": "adbe3d6a-ed32-485c-b8f9-d1708e4191e2",
   "metadata": {
    "slideshow": {
     "slide_type": "subslide"
    },
    "tags": []
   },
   "outputs": [],
   "source": [
    "# create directory (works under jupyter, replace this block with bash in terminal)\n",
    "import os, os.path, shutil\n",
    "target_folder = os.path.join(os.path.expanduser('~'), 'workshop/planets')\n",
    "if os.path.exists(target_folder):\n",
    "    shutil.rmtree(target_folder)\n",
    "os.makedirs(target_folder, exist_ok=True)\n",
    "os.chdir(target_folder)"
   ]
  },
  {
   "cell_type": "code",
   "execution_count": 4,
   "id": "0a524e0c-11e7-4a00-b26b-1bd502cf8b9b",
   "metadata": {
    "slideshow": {
     "slide_type": "fragment"
    },
    "tags": []
   },
   "outputs": [
    {
     "name": "stdout",
     "output_type": "stream",
     "text": [
      "/Users/doris/workshop/planets\r\n"
     ]
    }
   ],
   "source": [
    "!pwd"
   ]
  },
  {
   "cell_type": "markdown",
   "id": "8cd454ce-dca3-4a45-8521-a5764fffc8e7",
   "metadata": {
    "slideshow": {
     "slide_type": "slide"
    },
    "tags": []
   },
   "source": [
    "### set up git account"
   ]
  },
  {
   "cell_type": "code",
   "execution_count": 5,
   "id": "9f095b20-39d5-4cf5-9cec-b504c5512225",
   "metadata": {
    "slideshow": {
     "slide_type": "subslide"
    },
    "tags": []
   },
   "outputs": [],
   "source": [
    "!git config --global user.name \"Zongru (Doris) Shao\""
   ]
  },
  {
   "cell_type": "code",
   "execution_count": 6,
   "id": "2353da2e-6695-4bcc-a40b-08a781bc6784",
   "metadata": {
    "slideshow": {
     "slide_type": "fragment"
    },
    "tags": []
   },
   "outputs": [],
   "source": [
    "!git config --global user.email \"zdshao.teach@gmail.com\""
   ]
  },
  {
   "cell_type": "markdown",
   "id": "951eb9b4-3652-42d6-8104-0359fc8e23e5",
   "metadata": {
    "slideshow": {
     "slide_type": "slide"
    },
    "tags": []
   },
   "source": [
    "### set Line Endings"
   ]
  },
  {
   "cell_type": "code",
   "execution_count": 7,
   "id": "dfa2261f-14a0-4f2c-9aea-ea5cc52b4d18",
   "metadata": {
    "slideshow": {
     "slide_type": "fragment"
    },
    "tags": []
   },
   "outputs": [],
   "source": [
    "!git config --global core.autocrlf input"
   ]
  },
  {
   "cell_type": "markdown",
   "id": "e2113964-908e-41ab-bfc9-539ad700a191",
   "metadata": {
    "slideshow": {
     "slide_type": "slide"
    },
    "tags": []
   },
   "source": [
    "### set Default Git branch"
   ]
  },
  {
   "cell_type": "code",
   "execution_count": 8,
   "id": "e1e32c06-b359-4ea0-b1ae-da5c61033590",
   "metadata": {
    "slideshow": {
     "slide_type": "fragment"
    },
    "tags": []
   },
   "outputs": [],
   "source": [
    "!git config --global init.defaultBranch main"
   ]
  },
  {
   "cell_type": "markdown",
   "id": "0273b163-24e1-474d-a769-1f851dc0ffd1",
   "metadata": {
    "slideshow": {
     "slide_type": "slide"
    },
    "tags": []
   },
   "source": [
    "### review settings"
   ]
  },
  {
   "cell_type": "code",
   "execution_count": 9,
   "id": "94133a89-c5be-434b-9c0a-15dec18268d7",
   "metadata": {
    "slideshow": {
     "slide_type": "fragment"
    },
    "tags": []
   },
   "outputs": [
    {
     "name": "stdout",
     "output_type": "stream",
     "text": [
      "credential.helper=osxkeychain\r\n",
      "credential.helper=store\r\n",
      "user.email=zdshao.teach@gmail.com\r\n",
      "user.name=Zongru (Doris) Shao\r\n",
      "core.autocrlf=input\r\n",
      "core.editor=nano -w\r\n",
      "init.defaultbranch=main\r\n"
     ]
    }
   ],
   "source": [
    "!git config --list"
   ]
  },
  {
   "cell_type": "markdown",
   "id": "007d4679-0a2b-4b5a-80d4-f79c686ed1b2",
   "metadata": {
    "slideshow": {
     "slide_type": "slide"
    },
    "tags": []
   },
   "source": [
    "### help"
   ]
  },
  {
   "cell_type": "code",
   "execution_count": null,
   "id": "7095bfc6-c3d1-4348-af79-dc6405b9355c",
   "metadata": {
    "slideshow": {
     "slide_type": "fragment"
    },
    "tags": []
   },
   "outputs": [],
   "source": [
    "!git config --help"
   ]
  },
  {
   "cell_type": "code",
   "execution_count": null,
   "id": "a73bfd01-8016-4976-8a01-528bf338b092",
   "metadata": {
    "slideshow": {
     "slide_type": "fragment"
    },
    "tags": []
   },
   "outputs": [],
   "source": [
    "!git help"
   ]
  }
 ],
 "metadata": {
  "kernelspec": {
   "display_name": "Python 3 (ipykernel)",
   "language": "python",
   "name": "python3"
  },
  "language_info": {
   "codemirror_mode": {
    "name": "ipython",
    "version": 3
   },
   "file_extension": ".py",
   "mimetype": "text/x-python",
   "name": "python",
   "nbconvert_exporter": "python",
   "pygments_lexer": "ipython3",
   "version": "3.9.12"
  }
 },
 "nbformat": 4,
 "nbformat_minor": 5
}
