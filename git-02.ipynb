{
 "cells": [
  {
   "cell_type": "markdown",
   "id": "65340e16-7e6a-4bc7-b1c7-b972e46a5851",
   "metadata": {
    "slideshow": {
     "slide_type": "slide"
    },
    "tags": []
   },
   "source": [
    "# Git 02 Setting Up Git"
   ]
  },
  {
   "cell_type": "markdown",
   "id": "1e375169-df9f-4a31-a306-b8073721d6f3",
   "metadata": {
    "slideshow": {
     "slide_type": "fragment"
    },
    "tags": []
   },
   "source": [
    "[course link](https://swcarpentry.github.io/git-novice/index.html)\n",
    "\n",
    "- duration: 5 mins\n",
    "- get familiar with `git`\n",
    "- configure `git`"
   ]
  },
  {
   "cell_type": "markdown",
   "id": "3c6f3da5-8f9b-4703-91c0-4bedf4371db6",
   "metadata": {
    "slideshow": {
     "slide_type": "slide"
    },
    "tags": []
   },
   "source": [
    "### commands overview"
   ]
  },
  {
   "cell_type": "code",
   "execution_count": 1,
   "id": "32327185-06ce-4534-a57f-1c7d3b6d7b1a",
   "metadata": {
    "slideshow": {
     "slide_type": "skip"
    },
    "tags": []
   },
   "outputs": [
    {
     "name": "stdout",
     "output_type": "stream",
     "text": [
      "git02.sh git04.sh git06.sh git08.sh git10.sh\n",
      "git03.sh git05.sh git07.sh git09.sh\n"
     ]
    }
   ],
   "source": [
    "!ls 'git'"
   ]
  },
  {
   "cell_type": "code",
   "execution_count": 2,
   "id": "b1d8c058-4f5e-4eda-adb7-decfdfd02a18",
   "metadata": {
    "slideshow": {
     "slide_type": "subslide"
    },
    "tags": []
   },
   "outputs": [
    {
     "name": "stdout",
     "output_type": "stream",
     "text": [
      "#!/bin/sh\n",
      "git config --global user.name \"Zongru (Doris) Shao\"\n",
      "git config --global user.email \"zdshao.teach@gmail.com\"\n",
      "git config --global core.autocrlf input\n",
      "git config --global init.defaultBranch main\n",
      "git config --list\n",
      "git config --help\n",
      "git help\n"
     ]
    }
   ],
   "source": [
    "!cat git/git02.sh"
   ]
  },
  {
   "cell_type": "markdown",
   "id": "8cd454ce-dca3-4a45-8521-a5764fffc8e7",
   "metadata": {
    "slideshow": {
     "slide_type": "slide"
    },
    "tags": []
   },
   "source": [
    "### set up git account"
   ]
  },
  {
   "cell_type": "code",
   "execution_count": 3,
   "id": "9f095b20-39d5-4cf5-9cec-b504c5512225",
   "metadata": {
    "slideshow": {
     "slide_type": "subslide"
    },
    "tags": []
   },
   "outputs": [],
   "source": [
    "!git config --global user.name \"Zongru (Doris) Shao\""
   ]
  },
  {
   "cell_type": "code",
   "execution_count": 4,
   "id": "2353da2e-6695-4bcc-a40b-08a781bc6784",
   "metadata": {
    "slideshow": {
     "slide_type": "fragment"
    },
    "tags": []
   },
   "outputs": [],
   "source": [
    "!git config --global user.email \"zdshao.teach@gmail.com\""
   ]
  },
  {
   "cell_type": "markdown",
   "id": "951eb9b4-3652-42d6-8104-0359fc8e23e5",
   "metadata": {
    "slideshow": {
     "slide_type": "slide"
    },
    "tags": []
   },
   "source": [
    "### set Line Endings"
   ]
  },
  {
   "cell_type": "code",
   "execution_count": 5,
   "id": "dfa2261f-14a0-4f2c-9aea-ea5cc52b4d18",
   "metadata": {
    "slideshow": {
     "slide_type": "fragment"
    },
    "tags": []
   },
   "outputs": [],
   "source": [
    "!git config --global core.autocrlf input"
   ]
  },
  {
   "cell_type": "markdown",
   "id": "e2113964-908e-41ab-bfc9-539ad700a191",
   "metadata": {
    "slideshow": {
     "slide_type": "slide"
    },
    "tags": []
   },
   "source": [
    "### set Default Git branch"
   ]
  },
  {
   "cell_type": "code",
   "execution_count": 6,
   "id": "e1e32c06-b359-4ea0-b1ae-da5c61033590",
   "metadata": {
    "slideshow": {
     "slide_type": "fragment"
    },
    "tags": []
   },
   "outputs": [],
   "source": [
    "!git config --global init.defaultBranch main"
   ]
  },
  {
   "cell_type": "markdown",
   "id": "0273b163-24e1-474d-a769-1f851dc0ffd1",
   "metadata": {
    "slideshow": {
     "slide_type": "slide"
    },
    "tags": []
   },
   "source": [
    "### review settings"
   ]
  },
  {
   "cell_type": "code",
   "execution_count": 7,
   "id": "94133a89-c5be-434b-9c0a-15dec18268d7",
   "metadata": {
    "slideshow": {
     "slide_type": "fragment"
    },
    "tags": []
   },
   "outputs": [
    {
     "name": "stdout",
     "output_type": "stream",
     "text": [
      "credential.helper=osxkeychain\n",
      "credential.helper=store\n",
      "user.email=zdshao.teach@gmail.com\n",
      "user.name=Zongru (Doris) Shao\n",
      "core.autocrlf=input\n",
      "core.editor=nano -w\n",
      "init.defaultbranch=main\n",
      "core.repositoryformatversion=0\n",
      "core.filemode=true\n",
      "core.bare=false\n",
      "core.logallrefupdates=true\n",
      "core.ignorecase=true\n",
      "core.precomposeunicode=true\n",
      "remote.origin.url=https://github.com/zdshaoteach/2022-05-16-tudelft-online.git\n",
      "remote.origin.fetch=+refs/heads/*:refs/remotes/origin/*\n",
      "branch.main.remote=origin\n",
      "branch.main.merge=refs/heads/main\n",
      "user.name=zdshaoteach\n",
      "user.email=zdshao.teach@gmail.com\n"
     ]
    }
   ],
   "source": [
    "!git config --list"
   ]
  },
  {
   "cell_type": "markdown",
   "id": "007d4679-0a2b-4b5a-80d4-f79c686ed1b2",
   "metadata": {
    "slideshow": {
     "slide_type": "slide"
    },
    "tags": []
   },
   "source": [
    "### help"
   ]
  },
  {
   "cell_type": "code",
   "execution_count": null,
   "id": "7095bfc6-c3d1-4348-af79-dc6405b9355c",
   "metadata": {
    "slideshow": {
     "slide_type": "fragment"
    },
    "tags": []
   },
   "outputs": [],
   "source": [
    "!git config --help"
   ]
  },
  {
   "cell_type": "code",
   "execution_count": null,
   "id": "a73bfd01-8016-4976-8a01-528bf338b092",
   "metadata": {
    "slideshow": {
     "slide_type": "fragment"
    },
    "tags": []
   },
   "outputs": [],
   "source": [
    "!git help"
   ]
  },
  {
   "cell_type": "code",
   "execution_count": null,
   "id": "14fb0072-b560-4810-af15-d211887bb8f4",
   "metadata": {},
   "outputs": [],
   "source": []
  }
 ],
 "metadata": {
  "kernelspec": {
   "display_name": "Python 3 (ipykernel)",
   "language": "python",
   "name": "python3"
  },
  "language_info": {
   "codemirror_mode": {
    "name": "ipython",
    "version": 3
   },
   "file_extension": ".py",
   "mimetype": "text/x-python",
   "name": "python",
   "nbconvert_exporter": "python",
   "pygments_lexer": "ipython3",
   "version": "3.9.12"
  }
 },
 "nbformat": 4,
 "nbformat_minor": 5
}
